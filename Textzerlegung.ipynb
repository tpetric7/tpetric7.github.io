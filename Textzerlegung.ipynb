{
    "cells": [
        {
            "cell_type": "markdown",
            "metadata": {},
            "source": "\n"
        },
        {
            "cell_type": "code",
            "execution_count": null,
            "metadata": {},
            "outputs": [],
            "source": [
                "knitr::opts_chunk$set(echo = TRUE)\n",
                "\n"
            ]
        },
        {
            "cell_type": "markdown",
            "metadata": {},
            "source": [
                "# 0. Packages\n",
                "\n"
            ]
        },
        {
            "cell_type": "code",
            "execution_count": null,
            "metadata": {},
            "outputs": [],
            "source": [
                "library(tidyverse)\n",
                "library(tidytext)\n"
            ]
        },
        {
            "cell_type": "markdown",
            "metadata": {},
            "source": [
                "# 1. Text öffnen\n",
                "\n",
                "In der R-Umgebung haben wir mehrere Möglichkeiten, Textdateien zu öffnen. Hier verwenden wir *read_lines()*, ein Programm, das mit dem Programmbündel *tidyverse* geladen wird.\n",
                "\n",
                "Bei langen Texten vermeiden wir es, den ganzen Text in den Arbeitsspeicher (RAM) zu laden, weil das lange dauern kann. Stattdessen verwenden wir Befehle wie *substr()* oder die tidyverse-Funktion *str_sub()*, um uns einen Teil des Texte anzuschauen.\n"
            ]
        },
        {
            "cell_type": "code",
            "execution_count": null,
            "metadata": {},
            "outputs": [],
            "source": [
                "novels_r = read_lines(\"data/books/tom.txt\")\n",
                "\n",
                "substr(novels_r, start = 1, stop = 300)\n",
                "str_sub(novels_r, start = 1, end = 300)\n"
            ]
        },
        {
            "cell_type": "markdown",
            "metadata": {},
            "source": [
                "# 2. Zerlegung des Textes\n",
                "\n",
                "## Tabelle\n",
                "\n",
                "Um Texteinheiten wie z.B. Wörter, Buchstaben oder Sätze / Äußerungen zählen zu können, müssen wir den Text zuerst in kleinere Teile zerlegen, in der Fachsprache als Tokenisierung bekannt (tokens extrahieren).\n",
                "\n",
                "Für die Tokenisierung von Zeichenfolgen (Texten) gibt es in der R-Sprache viele Programme (z.B. *quanteda*, *tidytext*) und verschiedene Möglichkeiten (mit ihren Vor- und Nachteilen). Hier verwenden wir das zuletzt genannte Programm und seine Funktion *unnest_tokens()*.\n",
                "\n",
                "Im ersten Schritt wandeln wir die Textdatei in einen Datensatz um, so dass wir mit den gut verständlichen *tidyverse*-Funktionen arbeiten können. Das machen wir mit der Funktion *as_tibble()*, die in diesem Fall eine Tabelle mit einer einzigen Spalte erzeugt. Der Default-Name der Spalte \"value\" wird mit *rename()* umbenannt. Der neue (bessere) Spaltenname ist \"text\", was wir mit *colnames()* überprüfen können. Wir geben dieser Tabelle einen neuen Namen (\"novels_df\").\n"
            ]
        },
        {
            "cell_type": "code",
            "execution_count": null,
            "metadata": {},
            "outputs": [],
            "source": [
                "novels_df = as_tibble(novels_r) %>% \n",
                "  rename(text = value)\n",
                "colnames(novels_df)\n"
            ]
        },
        {
            "cell_type": "markdown",
            "metadata": {},
            "source": [
                "## Äußerungen\n",
                "\n",
                "Im zweiten Schritt verwenden wir die Tabelle \"novels_df\" als Ausgangspunkt für die Tokenisierung. Wir zerlegen die Zeichenfolge in der Spalte \"text\" in Sätze (genau genommen: Äußerungen), und zwar mit Hilfe der Funktion *unnest_tokens()* des Programms *tidytext*. Wir geben dieser Tabelle einen neuen Namen, und zwar \"novels_sents\". \n",
                "\n",
                "Die Funktion unnest_tokens verlangt die folgende Reihenfolge:\n",
                "zuerst muss der Datensatz angegeben werden (hier: \"novels_df\"), dann der Name der Tabellenspalte, die in kleinere Einheiten zerlegt werden soll (hier: \"text\"), gefolgt von der Angabe, in welche Einheit wir die Zeichenfolge umformen wollen (hier: \"sentences\").\n",
                "\n",
                "Die neue Tabelle enthält nur eine Spalte (nur die Äußerungen), da wir die Option *drop = TRUE* beibehalten (denn sonst würde die neue Tabelle eine weitere Spalte mit dem ganzen Text enthalten, und zwar in jeder Tabellenzeile - sehr belastend für den Arbeitsspeicher!). \n",
                "\n",
                "Außerdem verhindern wir mit *to_lower = FALSE*, dass alle Wörter in der Spalte klein geschrieben werden. Die im Deutschen übliche Groß- und Kleinschreibung von Wörtern soll in dieser Spalte beibehalten werden.\n",
                "\n",
                "Zuletzt entfernen wir noch die erste Zeile in der Tabelle, da sie nicht zum Text gehört. Das machen wir mit *novels_sents[-1,]*: dem Namen der Tabelle folgen eckige Klammern; die Zahl *-1* vor dem *Komma* bezieht sich auf die erste Tabellenzeile; das Minuszeichen vor der Zahl besagt, dass diese Zeile entfernt werden soll; nach dem Komma steht nichts, d.h. alle Spalten in der Tabelle bleiben unverändert.\n",
                "\n",
                "Zur Identifizierung der Reihenfolge der Äußerungen fügen wir der Tabelle noch eine Spalte hinzu: mit *mutate()* erzeugen wir die Spalte \"sentence_id\", und zwar indem wir die einzelnen Zeilenzahlen *row_number()* mit Hilfe der Anzahl der Tabellenzeilen *length()* festlegen.\n"
            ]
        },
        {
            "cell_type": "code",
            "execution_count": null,
            "metadata": {},
            "outputs": [],
            "source": [
                "novels_sents = novels_df %>% \n",
                "  unnest_tokens(sentence, text, token = \"sentences\", drop = TRUE, to_lower = FALSE)\n",
                "\n",
                "novels_sents = novels_sents[-1,]\n",
                "\n",
                "novels_sents = novels_sents %>% \n",
                "  mutate(sentence_id = row_number(1:length(novels_sents$sentence)))\n",
                "\n",
                "head(novels_sents)\n",
                "tail(novels_sents)\n"
            ]
        },
        {
            "cell_type": "markdown",
            "metadata": {},
            "source": [
                "## Wörter\n",
                "\n",
                "Unser nächstes Ziel ist die Zerlegung der Äußerungen in kleinere Einheiten: Wörter. Das können wir auf ähnliche Weise bewerkstelligen wie im vorherigen Schritt.\n",
                "\n",
                "Ausgangspunkt ist nun die Tabelle \"novels_sents\". Im *unnest_tokens()*-Befehl geben wir den Namen der hier gewünschten Einheit an (\"word\"), dann den Namen der Tabellenspalte mit den Äußerungen (\"sentence\") und die gewünschte Einheit, in die wir die Äußerungen umformen möchten (\"words\").\n",
                "\n",
                "Außerdem wollen wir die Tabellenspalte \"sentence\" beibehalten, weshalb wir *drop = FALSE* auswählen. In der neuen Tabellenspalte \"word\" sollen alle Wörter klein geschrieben werden, was wir mit *to_lower = TRUE* erreichen.\n",
                "\n",
                "Wir fügen der Tabelle (ähnlich wie im Fall der \"sentence_id\") auch eine weitere Spalte hinzu, der wir die ursprüngliche Reihenfolge der Wörter entnehmen können: \"word_id\".\n"
            ]
        },
        {
            "cell_type": "code",
            "execution_count": null,
            "metadata": {},
            "outputs": [],
            "source": [
                "novels_words = novels_sents %>% \n",
                "  unnest_tokens(word, sentence, token = \"words\", drop = FALSE, to_lower = TRUE)\n",
                "\n",
                "novels_words = novels_words %>% \n",
                "  mutate(word_id = row_number(1:length(novels_words$word)))\n"
            ]
        },
        {
            "cell_type": "markdown",
            "metadata": {},
            "source": [
                "Bei der Durchsicht des Textes oder auch der Tabelle fallen ungewohnte Wortformen mit einem Unterstrich \"-\" auf. Wir entfernen den Unterstrich am Anfang und Ende der Wortformen.\n",
                "\n"
            ]
        },
        {
            "cell_type": "code",
            "execution_count": null,
            "metadata": {},
            "outputs": [],
            "source": [
                "novels_words = novels_words %>% \n",
                "  mutate(word = str_replace_all(word, \"_\", \"\"))\n",
                "\n",
                "head(novels_words)\n"
            ]
        },
        {
            "cell_type": "markdown",
            "metadata": {},
            "source": [
                "## Buchstaben\n",
                "\n",
                "Wenn wir auch Buchstaben zählen wollen, können wir die Wörter auf ähnliche Weise zerlegen und eine \"char_id\" (ursprüngliche Reihenfolge der Buchstaben) hinzufügen.\n"
            ]
        },
        {
            "cell_type": "code",
            "execution_count": null,
            "metadata": {},
            "outputs": [],
            "source": [
                "novels_ch = novels_words %>% \n",
                "  unnest_tokens(char, word, token = \"characters\", drop = FALSE, to_lower = TRUE)\n",
                "\n",
                "novels_ch = novels_ch %>% \n",
                "  mutate(char_id = row_number(1:length(novels_ch$char)))\n",
                "\n",
                "head(novels_ch)\n"
            ]
        },
        {
            "cell_type": "markdown",
            "metadata": {},
            "source": [
                "## Ziffern umwandeln\n",
                "\n",
                "Unter den tokens (Vorkommnisse von Wortformen) sind auch Ziffern. Da sie im Text nicht wie Wörter geschrieben werden, zählen wir sie gewöhnlich nicht mit.\n",
                "\n",
                "Wir könnten die Ziffern aus der Tabelle entfernen oder als unbestimmte Ziffernfolge (z.B. \"0000\") zusammenfassen.\n",
                "\n",
                "Entfernen ist die einfachere Möglichkeit und oft auch die sinnvollere, wenn man davon ausgeht, dass die Zahlen keine wichtige Information zum Gesamtext beitragen. Wir erhalten 29 leere Zeilen.\n"
            ]
        },
        {
            "cell_type": "code",
            "execution_count": null,
            "metadata": {},
            "outputs": [],
            "source": [
                "novels_ch %>% \n",
                "  mutate(word = str_remove_all(word, \"[^a-zA-Z]\")) %>% \n",
                "  count(word)\n"
            ]
        },
        {
            "cell_type": "markdown",
            "metadata": {},
            "source": [
                "Ersetzen ist die andere Möglichkeit. \n",
                "\n",
                "Dazu verwenden wir einen *regulären Ausdruck*, nämlich *\"[\\\\d]\"*, in dem das \"d\" sich auf \"digit\" (Ziffer) bezieht. Die beiden Backslash-Zeichen vor dem \"d\" sagen dem Programm, dass nicht nach dem Buchstaben \"d\" gesucht wird, sondern nach Ziffern (digits). \n",
                "\n",
                "Als Ergebnis erhalten wir ein-, zwei- und vierstellige Zahlen in der Wortspalte. Die vierstelligen Zahlen stellen wahrscheinlich Jahreszahlen dar.\n"
            ]
        },
        {
            "cell_type": "code",
            "execution_count": null,
            "metadata": {},
            "outputs": [],
            "source": [
                "novels_ch %>% \n",
                "  mutate(word = str_replace_all(word, \"[\\\\d]\", \"0\")) %>% \n",
                "  count(word)\n"
            ]
        },
        {
            "cell_type": "markdown",
            "metadata": {},
            "source": [
                "Wir wählen die letzte Variante und speichern die Tabelle: eine oder mehrere Ziffern \"[\\\\d]+\" werden mit vier Nullen \"0000\" ersetzt. Diese \"0000\" kann als Wortform mitgezćhlt werden (oder nicht).\n",
                "\n"
            ]
        },
        {
            "cell_type": "code",
            "execution_count": null,
            "metadata": {},
            "outputs": [],
            "source": [
                "novels_ch = novels_ch %>% \n",
                "  mutate(word = str_replace(word, \"[\\\\d]+\", \"0000\"))\n"
            ]
        },
        {
            "cell_type": "markdown",
            "metadata": {},
            "source": [
                "# 3. Tabelle speichern\n",
                "\n",
                "Diese Tabelle speichern wir als Datei, falls wir ein anderes Mal mit ihr arbeiten möchten. Wir speichern die Tabelle als Excel-Datei (Programm: *writexl*) und als Tabelle im Textformat (Endung: \"csv\", comma-separated-variables).\n",
                "\n",
                "Excel hat einen Nachteil: falls die Zeilen sehr lang sind, werden sie nicht vollständig gespeichert, sondern abgekürzt. Das Dateiformat \"csv\" und andere Textformate sind daher besser. Außerdem kann man \"csv\"-Dateien, da sie nur unformatierten Text enthalten, mit jedem Programm öffnen und lesen, Excel-Dateien dagegen nicht.\n"
            ]
        },
        {
            "cell_type": "code",
            "execution_count": null,
            "metadata": {},
            "outputs": [],
            "source": [
                "write_csv(novels_ch, \"data/tom_sawyer_tabelle.csv\")\n",
                "\n",
                "# install.packages(\"writexl\")\n",
                "library(writexl)\n",
                "write_xlsx(novels_ch, \"data/tom_sawyer_tabelle.xlsx\")\n"
            ]
        },
        {
            "cell_type": "markdown",
            "metadata": {},
            "source": [
                "# 4. Tabelle öffnen\n",
                "\n",
                "Falls wir die Arbeit an einem anderen Tag fortsetzen, können wir die gespeicherte Tabelle folgendermaßen öffnen und brauchen nicht noch einmal alle oben durchgeführten Schritte durchzuführen:\n"
            ]
        },
        {
            "cell_type": "code",
            "execution_count": null,
            "metadata": {},
            "outputs": [],
            "source": [
                "# install.packages(\"readxl\")\n",
                "library(readxl)\n",
                "novels_ch = read_xlsx(\"data/tom_sawyer_tabelle.xlsx\")\n",
                "\n",
                "# oder:\n",
                "novels_ch = read_csv(\"data/tom_sawyer_tabelle.csv\")\n"
            ]
        },
        {
            "cell_type": "markdown",
            "metadata": {},
            "source": [
                "# 5. Zählen\n",
                "\n",
                "Als Ausgangspunkt für die Auszählung von Äußerungen, Wörtern und Buchstaben verwenden wir die zuletzt erstellte Tabelle \"novels_ch\".\n",
                "\n",
                "Zum Zählen einer Kategorie eignet sich die *tidyverse*-Funktion *count()*. \n",
                "\n",
                "Wie viele Äußerungen hat das Programm identifiziert? \n",
                "\n",
                "Hier müssen wir berücksichtigen, dass jede Äußerung in mehreren Zeilen wiederholt wird, da wir die Äußerungen auch in Wörter und Buchstaben zerlegt haben. Die Funktion *distinct()* berücksichtigt das.\n"
            ]
        },
        {
            "cell_type": "code",
            "execution_count": null,
            "metadata": {},
            "outputs": [],
            "source": [
                "novels_ch %>% \n",
                "  distinct(sentence) %>% \n",
                "  count(sentence)\n"
            ]
        },
        {
            "cell_type": "markdown",
            "metadata": {},
            "source": [
                "Als Antwort auf diese Abfrage erhalten wir 4647 Zeilen, d.h. dass 4647 Äußerungen (\"number_sents\") unterschieden wurden. Außerdem entsteht beim Zählen eine neue Spalte, und zwar mit dem Namen \"n\". Die Zahl ist in allen Tabellenzeilen dieselbe, nämlich \"1\". Dies zeigt uns, dass jede Äußerung nur einmal gezählt wurde (also distinkt / unterschiedlich ist), so wie wir es ja verlangt haben.\n",
                "\n"
            ]
        },
        {
            "cell_type": "code",
            "execution_count": null,
            "metadata": {},
            "outputs": [],
            "source": [
                "novels_ch %>% \n",
                "  distinct(sentence) %>% \n",
                "  count(sentence) %>% \n",
                "  summarise(number_sents = sum(n))\n"
            ]
        },
        {
            "cell_type": "markdown",
            "metadata": {},
            "source": [
                "Wenn wir distinct() weglassen, erhalten wir das folgende Ergebnis: Die Tabellenspalte \"n\" enthält nun unterschiedliche Zahlen, die sich auf die Anzahl der Buchstaben in der Spalte \"sentence\" bezieht, denn wir haben die Äußerungen vorher nicht nur in Wörter (Spalte \"word\") sondern auch in Buchstaben (Spalte \"char\") zerlegt.\n",
                "\n"
            ]
        },
        {
            "cell_type": "code",
            "execution_count": null,
            "metadata": {},
            "outputs": [],
            "source": [
                "novels_ch %>% \n",
                "  count(sentence)\n"
            ]
        },
        {
            "cell_type": "markdown",
            "metadata": {},
            "source": [
                "Auf diese Weise könnten wir die Anzahl der Buchstaben insgesamt und die Anzahl der Buchstaben pro Äußerung berechnen.\n",
                "\n",
                "\n",
                "## Buchstaben\n",
                "\n",
                "Wie lang ist der Text, gemessen in \"characters\"? \n",
                "Fast 333 Tausend alphanumerische Zeichen. \n",
                "\n",
                "Wie viele alphanumerische Zeichen (Buchstaben und Ziffern) kommen durchschnittlich pro Äußerung vor?\n",
                "Beinahe 72 Zeichen. Die Standardabweichung von diesem Mittelwert ist ziemlich groß: 71,5 +/- 61,9 Zeichen. In diesem Text kommen sehr kurze Äußerungen vor, aber auch deutlich längere.\n"
            ]
        },
        {
            "cell_type": "code",
            "execution_count": null,
            "metadata": {},
            "outputs": [],
            "source": [
                "(char_summary = novels_ch %>% \n",
                "  count(sentence) %>% \n",
                "  summarise(char_sum = sum(n),\n",
                "            char_avg = mean(n, na.rm = TRUE),\n",
                "            char_sd = sd(n, na.rm = TRUE))\n",
                ")\n"
            ]
        },
        {
            "cell_type": "markdown",
            "metadata": {},
            "source": [
                "Kurze Äußerungen (hier: mit wenigen Buchstaben) kommen sehr häufig vor, sehr lange (hier: mit vielen Buchstaben) dagegen selten. \n",
                "\n"
            ]
        },
        {
            "cell_type": "code",
            "execution_count": null,
            "metadata": {},
            "outputs": [],
            "source": [
                "novels_ch %>% \n",
                "  count(sentence) %>% \n",
                "  ggplot(aes(n)) +\n",
                "  geom_density(fill = \"magenta\", alpha = 0.7) +\n",
                "  labs(x = \"Anzahl der Buchstaben\", y = \"Dichte\")\n"
            ]
        },
        {
            "cell_type": "markdown",
            "metadata": {},
            "source": [
                "Folgt die Äußerungslänge (in Buchstaben gemessen) einer Zipf-Verteilung?\n",
                "\n"
            ]
        },
        {
            "cell_type": "code",
            "execution_count": null,
            "metadata": {},
            "outputs": [],
            "source": [
                "alpha = 1\n",
                "novels_ch %>% \n",
                "  count(sentence, sort = TRUE) %>% # Sortieren nicht vergessen!\n",
                "  mutate(rank = row_number(),\n",
                "         zipfs_freq = ifelse(rank == 1, n, dplyr::first(n) / rank^alpha)) %>% \n",
                "  ggplot(aes(rank, n)) +\n",
                "  geom_point() +\n",
                "  labs(y = \"Anzahl der Buchstaben\", x = \"Rangfolge\")\n"
            ]
        },
        {
            "cell_type": "markdown",
            "metadata": {},
            "source": [
                "Im Vergleich dazu unten: so sähe die entsprechende Zipf-Verteilung (Power-Law-Distribution) aus, die für ausreichend lange Texte gültig ist. \n",
                "\n",
                "In einer Zipfverteilung käme die zweithäufigste Äußerungslänge etwa nur noch halb so häufig vor wie die häufigste Äußerungslänge, die dritthäufigste nur noch ein Drittel der ersthäufigsten, die vierthäufigste nur noch ein Viertel der ersthäufigsten usw.\n"
            ]
        },
        {
            "cell_type": "code",
            "execution_count": null,
            "metadata": {},
            "outputs": [],
            "source": [
                "alpha = 1\n",
                "novels_ch %>% \n",
                "  count(sentence, sort = TRUE) %>% # Sortieren nicht vergessen!\n",
                "  # mutate(rank = row_number(),\n",
                "  mutate(rank = rank(row_number(), ties.method = \"average\"),\n",
                "         zipfs_freq = ifelse(rank == 1, n, dplyr::first(n) / rank^alpha)) %>% \n",
                "  ggplot(aes(rank, zipfs_freq)) +\n",
                "  geom_point() +\n",
                "  labs(y = \"Anzahl der Buchstaben\", x = \"Rangfolge\")\n"
            ]
        },
        {
            "cell_type": "markdown",
            "metadata": {},
            "source": [
                "Wenn man die beiden Variablen (Rang und Häufigkeit) in einer Zipfverteilung logarithmiert, ist das Ergebnis eine Gerade. Die Äußerungslänge (hier: Buchstabenanzahl) im Roman \"Tom Sawyer\" scheint davon abzuweichen. Die mittellangen Äußerungen kommen häufiger vor, als nach der Zipfverteilung erwartet wird.\n",
                "\n"
            ]
        },
        {
            "cell_type": "code",
            "execution_count": null,
            "metadata": {},
            "outputs": [],
            "source": [
                "library(scales)\n",
                "\n",
                "alpha = 1\n",
                "novels_ch %>% \n",
                "  count(sentence, sort = TRUE) %>% # sortieren !\n",
                "  mutate(rank = rank(row_number(), ties.method = \"first\"),\n",
                "         zipfs_freq = ifelse(rank == 1, \n",
                "                             n, \n",
                "                             dplyr::first(n) / rank^alpha)) %>% \n",
                "  ggplot(aes((n), (rank), color = \"Roman\")) +\n",
                "  geom_point() +\n",
                "  geom_point(aes(((zipfs_freq)), ((rank)), color = \"theoretisch\")) +\n",
                "  labs(x = \"Anzahl der Buchstaben\", y = \"Rangfolge\", color = \"Verteilung\") +\n",
                "  scale_x_log10() +\n",
                "  scale_y_log10()\n"
            ]
        },
        {
            "cell_type": "markdown",
            "metadata": {},
            "source": [
                "Welche Buchstaben kommen im Text häufiger / seltener vor?\n",
                "Unter den auf Vokale bezogenen Buchstaben ist das \"e\" am häufigsten, unter den auf Konsonanten bezogenen das \"n\".\n"
            ]
        },
        {
            "cell_type": "code",
            "execution_count": null,
            "metadata": {},
            "outputs": [],
            "source": [
                "alpha = 1\n",
                "novels_ch %>% \n",
                "  filter(str_detect(char, \"[:alpha:]\")) %>% \n",
                "  count(char, sort = T)\n"
            ]
        },
        {
            "cell_type": "markdown",
            "metadata": {},
            "source": [
                "\n",
                "\n"
            ]
        },
        {
            "cell_type": "code",
            "execution_count": null,
            "metadata": {},
            "outputs": [],
            "source": [
                "novels_ch %>% \n",
                "  filter(str_detect(char, \"[:alpha:]\")) %>% \n",
                "  count(char, sort = T) %>% \n",
                "  mutate(char = fct_reorder(char, n)) %>% \n",
                "  ggplot(aes(n, char, fill = char)) +\n",
                "  geom_col() +\n",
                "  theme(legend.position = \"none\")\n"
            ]
        },
        {
            "cell_type": "markdown",
            "metadata": {},
            "source": [
                "\n",
                "\n"
            ]
        },
        {
            "cell_type": "code",
            "execution_count": null,
            "metadata": {},
            "outputs": [],
            "source": [
                "novels_ch %>% \n",
                "  filter(str_detect(char, \"[:alpha:]\")) %>% \n",
                "  count(char, sort = T) %>% # sortieren !\n",
                "  mutate(rank = rank(row_number(), ties.method = \"first\"),\n",
                "         zipfs_freq = ifelse(rank == 1, \n",
                "                             n, \n",
                "                             dplyr::first(n) / rank^alpha)) %>% \n",
                "  ggplot(aes((n), (rank), color = \"Roman\")) +\n",
                "  geom_point() +\n",
                "  geom_point(aes(((zipfs_freq)), ((rank)), color = \"theoretisch\")) +\n",
                "  labs(x = \"Anzahl der Buchstaben\", y = \"Rangfolge\", color = \"Verteilung\") +\n",
                "  scale_x_log10() +\n",
                "  scale_y_log10()\n"
            ]
        },
        {
            "cell_type": "markdown",
            "metadata": {},
            "source": [
                "## Worthäufigkeiten\n",
                "\n",
                "Da wir es gewohnt sind, mit Wörtern umzugehen, machen wir lieber mit Wörtern weiter. \n",
                "\n",
                "Wie viele Wortformen wurden vom Programm unterschieden? \n",
                "Die folgende Wortauszählung zeigt, dass das Programm 9639 types (Wortformen) unterschieden hat, denn die Tabelle hat so viele Zeilen (\"0000\" sind die oben umgewandelten Ziffern). \n",
                "\n",
                "Funktionswörter (z.B. und, die, nicht, sie, der, sich, er, ich, aber, ...) kommen wie in allen Texten am häufigsten vor. Für die Inhaltsanalyse spielen sie kaum oder gar keine Rolle. Daher werden sie oft entfernt.\n",
                "\n",
                "Zu den Top-Ten gehört verständlicherweise auch der Name \"Tom\", da die Hauptperson im Roman fortwährend angesprochen oder erwähnt wird (die Gebrauchsfrequenz oder Anzahl der tokens n = 738).\n"
            ]
        },
        {
            "cell_type": "code",
            "execution_count": null,
            "metadata": {},
            "outputs": [],
            "source": [
                "novels_ch %>% \n",
                "  distinct(word_id, .keep_all = TRUE) %>% \n",
                "  count(word, sort = TRUE)\n"
            ]
        },
        {
            "cell_type": "markdown",
            "metadata": {},
            "source": [
                "Folgen die Worthäufigkeiten einer Zipfverteilung (Power-Law-Distribution)?\n",
                "In der folgenden Tabelle sind folgende Größen zu sehen:\n",
                "- die Gebrauchshäufigkeit oder Tokenfrequenz eines Wortes im Text (n)\n",
                "- die Rangfolge des Wortes (rank),\n",
                "- die berechnete Konstante (k = frequenz * rang),\n",
                "- die berechnete theoretische Tokenfrequenz eines Wortes (zips_freq).\n"
            ]
        },
        {
            "cell_type": "code",
            "execution_count": null,
            "metadata": {},
            "outputs": [],
            "source": [
                "novels_ch %>% \n",
                "  distinct(word_id, .keep_all = TRUE) %>% \n",
                "  count(word, sort = TRUE) %>% # sortieren !!!\n",
                "  mutate(rank = rank(row_number(), ties.method = \"average\"),\n",
                "         k = n * rank,\n",
                "         zipfs_freq = ifelse(rank == 1, \n",
                "                             n, \n",
                "                             dplyr::first(n) / rank^alpha),\n",
                "         zipfs_freq_k = ifelse(rank == 1, \n",
                "                             k, \n",
                "                             dplyr::first(k) / rank^alpha))\n"
            ]
        },
        {
            "cell_type": "markdown",
            "metadata": {},
            "source": [
                "Die häufigeren Wörter scheinen in \"Tom Sawyer\" häufiger vorzukommen als nach der Zipfverteilung erwartet wird. Das spricht für einen simpleren Wortschatz, einen eher umgangssprachlich formulierten Text.\n",
                "\n"
            ]
        },
        {
            "cell_type": "code",
            "execution_count": null,
            "metadata": {},
            "outputs": [],
            "source": [
                "novels_ch %>% \n",
                "  distinct(word_id, .keep_all = TRUE) %>% \n",
                "  count(word, sort = TRUE) %>% # sortieren !!!\n",
                "  mutate(rank = rank(row_number(), ties.method = \"average\"),\n",
                "         zipfs_freq = ifelse(rank == 1, \n",
                "                             n, \n",
                "                             dplyr::first(n) / rank^alpha)) %>% \n",
                "  ggplot(aes((n), (rank), color = \"Roman\")) +\n",
                "  geom_point() +\n",
                "  geom_point(aes(((zipfs_freq)), ((rank)), color = \"theoretisch\")) +\n",
                "  labs(x = \"Worthäufigkeit\", y = \"Rangfolge\", color = \"Verteilung\") +\n",
                "  scale_x_log10() +\n",
                "  scale_y_log10()\n"
            ]
        },
        {
            "cell_type": "markdown",
            "metadata": {},
            "source": [
                "## Wortschatzdichte\n",
                "\n",
                "Die *lexikalische Diversität* oder *Wortschatzdichte*, gemessen anhand des type-token-Verhältnisses (*type-token-ratio*, ttr) beträgt 0,14 Types pro Token. Ohne mit einem anderen Text vergleichen zu können, sagt uns dieser Wert nicht viel. Dieser Wert ist ansonsnten auch von der Länge eines Textes abhängig: je länger der Text, desto kleiner wird dieser Wert.\n"
            ]
        },
        {
            "cell_type": "code",
            "execution_count": null,
            "metadata": {},
            "outputs": [],
            "source": [
                "novels_ch %>% \n",
                "  distinct(word_id, .keep_all = TRUE) %>% \n",
                "  count(word, sort = TRUE) %>% \n",
                "  summarise(types = length(word),\n",
                "            tokens = sum(n),\n",
                "            ttr = length(word)/sum(n))\n"
            ]
        },
        {
            "cell_type": "markdown",
            "metadata": {},
            "source": [
                "Auch die lexikalische Diversität (Wortschatzdichte) ist relativ gering, da die Anzahl der verschiedenen Wortformen (types) im Vergleich zu ihrer Gebrauchsfrequenz (tokens) verhältnismäßig klein ist. Dies spricht wiederum für die These, dass der Roman einen recht einfachen Wortschatz aufweist, was einem eher umgangssprachlichen Stil entspricht.\n",
                "\n",
                "\n",
                "## Äußerungslänge\n",
                "\n",
                "Wie viele Wörter kommen durchschnittlich in einer Äußerung vor?\n",
                "Da wir bei der Auszählung auch einige der als \"0000\" kodierten Ziffern berücksichtigen, beträgt die durchschnittliche Länge der Äußerungen im Text 14,44 Wortformen (tokens), die Standardabweichung vom Mittelwert ist fast so groß wie der Mittelwert: 14,44 +/- 11,95 Wortformen.\n"
            ]
        },
        {
            "cell_type": "code",
            "execution_count": null,
            "metadata": {},
            "outputs": [],
            "source": [
                "novels_ch %>% \n",
                "  distinct(word_id, .keep_all = T) %>%\n",
                "  count(sentence) %>% \n",
                "  summarise(leng_sents = mean(n),\n",
                "            sd_sents = sd(n))\n",
                "  \n"
            ]
        },
        {
            "cell_type": "markdown",
            "metadata": {},
            "source": [
                "Die Häufigkeitsverteilung der Äußerungslänge im Roman:\n",
                "\n"
            ]
        },
        {
            "cell_type": "code",
            "execution_count": null,
            "metadata": {},
            "outputs": [],
            "source": [
                "novels_ch %>% \n",
                "  distinct(word_id, .keep_all = TRUE) %>% \n",
                "  count(sentence, sort = TRUE) %>% # sortieren !!!\n",
                "  mutate(rank = as.integer(length(sentence) - rank(n, ties.method = \"average\") + 1),\n",
                "         rank2 = rank(row_number(), ties.method = \"average\"),\n",
                "         zipfs_freq = ifelse(rank == 1, \n",
                "                             n, \n",
                "                             dplyr::first(n) / rank^alpha)) %>% \n",
                "  ggplot(aes(n)) +\n",
                "  geom_histogram(fill = \"darkgreen\", alpha = 0.7, binwidth = 2) +\n",
                "  labs(x = \"Anzahl der Wörter\", y = \"Anzahl der Äußerungen\")\n"
            ]
        },
        {
            "cell_type": "markdown",
            "metadata": {},
            "source": [
                "Logarithmiert:\n",
                "\n"
            ]
        },
        {
            "cell_type": "code",
            "execution_count": null,
            "metadata": {},
            "outputs": [],
            "source": [
                "novels_ch %>% \n",
                "  distinct(word_id, .keep_all = TRUE) %>% \n",
                "  count(sentence, sort = TRUE) %>% # sortieren !!!\n",
                "  mutate(rank = as.integer(length(sentence) - rank(n, ties.method = \"average\") + 1),\n",
                "         rank2 = rank(row_number(), ties.method = \"average\"),\n",
                "         zipfs_freq = ifelse(rank == 1, \n",
                "                             n, \n",
                "                             dplyr::first(n) / rank^alpha)) %>% \n",
                "  ggplot(aes(n)) +\n",
                "  geom_histogram(fill = \"darkgreen\", alpha = 0.7, binwidth = 0.05) +\n",
                "  scale_x_log10() +\n",
                "  labs(x = \"Anzahl der Wörter\", y = \"Anzahl der Äußerungen\")\n"
            ]
        },
        {
            "cell_type": "markdown",
            "metadata": {},
            "source": [
                "Tabelle mit Anzahl der Wörter pro Äußerung (n), Rangfolge (rank) und die theoretische Frequenz gemäß Zipfverteilung (zipfs_freq). \n",
                "\n"
            ]
        },
        {
            "cell_type": "code",
            "execution_count": null,
            "metadata": {},
            "outputs": [],
            "source": [
                "novels_ch %>% \n",
                "  distinct(word_id, .keep_all = TRUE) %>% \n",
                "  count(sentence, sort = TRUE) %>% # sortieren !!!\n",
                "  mutate(rank = as.integer(length(sentence) - rank(n, ties.method = \"average\") + 1),\n",
                "         rank2 = rank(row_number(), ties.method = \"average\"),\n",
                "         zipfs_freq = ifelse(rank == 1, \n",
                "                             n, \n",
                "                             dplyr::first(n) / rank^alpha)) %>% \n",
                "  arrange(rank)\n"
            ]
        },
        {
            "cell_type": "markdown",
            "metadata": {},
            "source": [
                "Die Verteilung der Äußerungslängen unterscheidet sich von der Zipfverteilung.\n",
                "\n"
            ]
        },
        {
            "cell_type": "code",
            "execution_count": null,
            "metadata": {},
            "outputs": [],
            "source": [
                "alpha = 1\n",
                "novels_ch %>% \n",
                "  distinct(word_id, .keep_all = TRUE) %>% \n",
                "  count(sentence, sort = F) %>% # sortieren !!!\n",
                "  mutate(rank = as.integer(length(sentence) - rank(n, ties.method = \"average\") + 1),\n",
                "         zipfs_freq = ifelse(rank == 1, \n",
                "                             n, \n",
                "                             dplyr::first(n) / rank^alpha)) %>% \n",
                "  ggplot(aes((n), (rank), color = \"Roman\")) +\n",
                "  geom_point() +\n",
                "  geom_point(aes(((zipfs_freq)), ((rank)), color = \"theoretisch\")) +\n",
                "  geom_jitter() +\n",
                "  labs(x = \"WAnzahl der Wörter\", y = \"Rangfolge\", color = \"Verteilung\") +\n",
                "  scale_x_log10() +\n",
                "  scale_y_log10()\n"
            ]
        },
        {
            "cell_type": "markdown",
            "metadata": {},
            "source": [
                "## Vergleich mit quanteda\n",
                "\n"
            ]
        },
        {
            "cell_type": "code",
            "execution_count": null,
            "metadata": {},
            "outputs": [],
            "source": [
                "library(quanteda)\n",
                "library(quanteda.textstats)\n"
            ]
        },
        {
            "cell_type": "markdown",
            "metadata": {},
            "source": [
                "Die Zahlenwerte, die wir mit dem Program *quanteda* (ohne genauere Bearbeitung) erhalten, sind höher. Das liegt daran, dass Interpunktionszeichen, Symbole und Ziffern noch nicht herausgefiltert sind.\n",
                "\n"
            ]
        },
        {
            "cell_type": "code",
            "execution_count": null,
            "metadata": {},
            "outputs": [],
            "source": [
                "# ohne Filterung\n",
                "corp = corpus(novels_r)\n",
                "textstat_summary(corp)\n"
            ]
        },
        {
            "cell_type": "markdown",
            "metadata": {},
            "source": [
                "Gefiltert sind die Werte mit den Werten vergleichbar, die wir mit den tidyverse-Funktionen berechnet haben.\n",
                "\n"
            ]
        },
        {
            "cell_type": "code",
            "execution_count": null,
            "metadata": {},
            "outputs": [],
            "source": [
                "# gefiltert\n",
                "tok = tokens(corp, remove_punct = T, remove_symbols = T, remove_numbers = T, remove_url = T, remove_separators = T)\n",
                "textstat_summary(tok)\n"
            ]
        },
        {
            "cell_type": "markdown",
            "metadata": {},
            "source": [
                "Zahlenwerte für die einzelnen Äußerungen:\n",
                "\n"
            ]
        },
        {
            "cell_type": "code",
            "execution_count": null,
            "metadata": {},
            "outputs": [],
            "source": [
                "# ungefiltert\n",
                "corps = corpus_reshape(corp, to = \"sentences\")\n",
                "textstat_summary(corps)\n",
                "\n",
                "# gefiltert\n",
                "toks = tokens(corps, remove_punct = T, remove_symbols = T, remove_numbers = T, remove_url = T, remove_separators = T)\n",
                "textstat_summary(toks)\n"
            ]
        },
        {
            "cell_type": "markdown",
            "metadata": {},
            "source": [
                "Die von quanteda berechnete durchschnittliche Äußerungslänge und ihre Standardabweichung weisen ähnliche Werte auf (Mittelwert = 14,41, Standardabweichung = 11,998) wie die zuvor berechneten mit den tidyverse-Funktionen.\n",
                "\n"
            ]
        },
        {
            "cell_type": "code",
            "execution_count": null,
            "metadata": {},
            "outputs": [],
            "source": [
                "textstat_summary(toks) %>% \n",
                "  summarise(len_sents_q = mean(tokens),\n",
                "            len_sents_q_sd = sd(tokens))\n"
            ]
        },
        {
            "cell_type": "markdown",
            "metadata": {},
            "source": [
                "Lexikalische Diversität (Wortschatzdichte) des gesamten Texts liegt bei 0,1467 (ähnlich wie mit den tidyverse-Funktionen).\n",
                "\n"
            ]
        },
        {
            "cell_type": "code",
            "execution_count": null,
            "metadata": {},
            "outputs": [],
            "source": [
                "textstat_lexdiv(tok)\n",
                "\n"
            ]
        },
        {
            "cell_type": "markdown",
            "metadata": {},
            "source": [
                "Wortschatzdichte in einzelnen Äußerungen:\n",
                "\n"
            ]
        },
        {
            "cell_type": "code",
            "execution_count": null,
            "metadata": {},
            "outputs": [],
            "source": [
                "textstat_lexdiv(toks)\n",
                "\n"
            ]
        },
        {
            "cell_type": "markdown",
            "metadata": {},
            "source": [
                "\n",
                "\n"
            ]
        },
        {
            "cell_type": "code",
            "execution_count": null,
            "metadata": {},
            "outputs": [],
            "source": [
                "corp_dfm <- dfm(tok, verbose = FALSE)\n",
                "\n"
            ]
        },
        {
            "cell_type": "markdown",
            "metadata": {},
            "source": [
                "\n",
                "\n"
            ]
        },
        {
            "cell_type": "code",
            "execution_count": null,
            "metadata": {},
            "outputs": [],
            "source": [
                "term_count <- tidy(corp_dfm) %>%\n",
                "  group_by(document) %>%\n",
                "  arrange(desc(count)) # sortieren !!!\n",
                "\n",
                "term_count\n"
            ]
        },
        {
            "cell_type": "markdown",
            "metadata": {},
            "source": [
                "\n",
                "\n"
            ]
        },
        {
            "cell_type": "code",
            "execution_count": null,
            "metadata": {},
            "outputs": [],
            "source": [
                "term_count_rank <- tidy(corp_dfm) %>%\n",
                "  group_by(document) %>%\n",
                "  arrange(desc(count)) %>%\n",
                "  mutate(rank = row_number(),\n",
                "         total = sum(count),\n",
                "         `term frequency` = count / total)\n",
                "\n",
                "term_count_rank\n"
            ]
        },
        {
            "cell_type": "markdown",
            "metadata": {},
            "source": [
                "\n",
                "\n"
            ]
        },
        {
            "cell_type": "code",
            "execution_count": null,
            "metadata": {},
            "outputs": [],
            "source": [
                "term_count_rank %>%\n",
                "  ggplot(aes(rank, `term frequency`, color = document)) +\n",
                "  geom_line(alpha = 0.8, show.legend = FALSE) + \n",
                "  scale_x_log10() +\n",
                "  scale_y_log10()\n"
            ]
        },
        {
            "cell_type": "markdown",
            "metadata": {},
            "source": "\n"
        },
        {
            "cell_type": "code",
            "execution_count": null,
            "metadata": {},
            "outputs": [],
            "source": [
                "alpha = 1\n",
                "term_count_rank %>%\n",
                "    mutate(rank = as.integer(rank(length(term) - `term frequency` + 1, ties.method = \"average\")), \n",
                "           zipfs_freq = ifelse(rank == 1, `term frequency`, \n",
                "                               dplyr::first(`term frequency`) / rank^alpha)) %>% \n",
                "  ggplot(aes(rank, `term frequency`, color = document)) +\n",
                "  geom_line(alpha = 0.8, show.legend = FALSE) + \n",
                "  geom_point(aes((rank), (zipfs_freq), color = \"theoretisch\")) +\n",
                "  geom_jitter() +\n",
                "  labs(y = \"Termfrequenz\", x = \"Rangfolge\", color = \"Verteilung\") +\n",
                "  scale_x_log10() +\n",
                "  scale_y_log10()\n"
            ]
        },
        {
            "cell_type": "markdown",
            "metadata": {},
            "source": [
                "## Vergleich mit Voyant Tools\n",
                "\n",
                "Ein empfehlenwertes Werkzeug, schnell und einfach, um einen Überblick und verständliche graphische Darstellungen zu erhalten - solange man es nur mit einem Text oder wenigen zu tun hat.\n",
                "\n",
                "Die deutsche Übersetzung des Tools ist stellenweise ungenau: z.B. wird in der deutschen Übersetzung nicht zwischen types (einzigartigen Wortformen / unique word forms) und tokens (total words) unterschieden. \n",
                "https://voyant-tools.org/\n",
                "\n",
                "Falsch: Dieser Korpus hat 1 Dokument mit 67,137 einzigartige Wortformen. \n",
                "Richtig ist: Dieses Korpus hat 67,137 tokens (Vorkommnisse von Wortformen) und 9828 types (unique word forms).\n",
                "Wortschatzdichte: 0.146\n",
                "Durchschnittliche Wörter pro Satz: 15.5 (höher als mit tidyverse und quanteda berechnet)\n",
                "Die häufigsten Begriffe im Korpustom (739); s (296); huck (237); na (175); joe (150)\n",
                "\n",
                "This corpus has 1 document with 67,137 total words and 9,828 unique word forms. Created about 8 hours ago.\n",
                "Vocabulary Density: 0.146\n",
                "Average Words Per Sentence: 15.5\n",
                "Most frequent words in the corpus: tom (739); s (296); huck (237); na (175); joe (150)\n"
            ]
        }
    ],
    "metadata": {
        "anaconda-cloud": "",
        "kernelspec": {
            "display_name": "R",
            "langauge": "R",
            "name": "ir"
        },
        "language_info": {
            "codemirror_mode": "r",
            "file_extension": ".r",
            "mimetype": "text/x-r-source",
            "name": "R",
            "pygments_lexer": "r",
            "version": "3.4.1"
        }
    },
    "nbformat": 4,
    "nbformat_minor": 1
}
