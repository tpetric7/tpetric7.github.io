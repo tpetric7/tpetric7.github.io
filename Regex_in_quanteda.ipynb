{
    "cells": [
        {
            "cell_type": "markdown",
            "metadata": {},
            "source": "\n"
        },
        {
            "cell_type": "code",
            "execution_count": null,
            "metadata": {},
            "outputs": [],
            "source": [
                "knitr::opts_chunk$set(echo = TRUE)\n",
                "\n"
            ]
        },
        {
            "cell_type": "markdown",
            "metadata": {},
            "source": [
                "# 0. Programi\n",
                "\n",
                "Najprej moramo zagnati programe, ki jih potrebujemo za načrtovano delo.\n"
            ]
        },
        {
            "cell_type": "code",
            "execution_count": null,
            "metadata": {},
            "outputs": [],
            "source": [
                "library(readtext)\n",
                "library(quanteda)\n",
                "library(quanteda.textstats)\n",
                "library(quanteda.textplots)\n",
                "library(tidyverse)\n"
            ]
        },
        {
            "cell_type": "markdown",
            "metadata": {},
            "source": [
                "# 1. Preberemo besedila\n",
                "\n"
            ]
        },
        {
            "cell_type": "code",
            "execution_count": null,
            "metadata": {},
            "outputs": [],
            "source": [
                "txt = readtext(\"data/books/*.txt\", encoding = \"UTF-8\")\n",
                "txt\n"
            ]
        },
        {
            "cell_type": "markdown",
            "metadata": {},
            "source": [
                "# 2. Ustvarimo korpus\n",
                "\n",
                "Ustvarimo korpus ali jezikovno gradivo. Ukaz v programu \"quanteda\" je corpus().\n"
            ]
        },
        {
            "cell_type": "code",
            "execution_count": null,
            "metadata": {},
            "outputs": [],
            "source": [
                "romane = corpus(txt)\n",
                "\n"
            ]
        },
        {
            "cell_type": "markdown",
            "metadata": {},
            "source": [
                "# 3. Tokenizacija\n",
                "\n"
            ]
        },
        {
            "cell_type": "code",
            "execution_count": null,
            "metadata": {},
            "outputs": [],
            "source": [
                "woerter = tokens(romane)\n",
                "\n"
            ]
        },
        {
            "cell_type": "markdown",
            "metadata": {},
            "source": [
                "# 4. Kwic\n",
                "\n",
                "Za sestavo konkordanc ima program quanteda funkcijo *kwic()* (keyword in context).\n",
                "\n",
                "Možno je iskati posamezne besede, besedne zveze, uporabljamo pa lahko tudi nadomestne znake (npr. *).\n",
                "\n",
                "## Frau, Mann\n"
            ]
        },
        {
            "cell_type": "code",
            "execution_count": null,
            "metadata": {},
            "outputs": [],
            "source": [
                "kwic(woerter, pattern = c(\"Frau\", \"Herr\"))\n",
                "\n"
            ]
        },
        {
            "cell_type": "markdown",
            "metadata": {},
            "source": [
                "Konkordanco bomo pretvorili v podatkovno zbirko, tj. *data.frame* ali *tibble()*. Prednost je npr., da tako pridobimo imena stolpcev (tj. spremenljivk).\n",
                "\n",
                "*kwic()* ima več možnosti, npr. \"case_insensitive = FALSE\" razlikuje med velikimi in malimi črkami. Privzeta vrednost je \"TRUE\", tj. da tega ne razlikuje (tako kot Excel).\n"
            ]
        },
        {
            "cell_type": "code",
            "execution_count": null,
            "metadata": {},
            "outputs": [],
            "source": [
                "(konkordanca = kwic(woerter, pattern = c(\"Frau\", \"Herr\"), case_insensitive = FALSE) %>% \n",
                "  as_tibble()\n",
                ")\n"
            ]
        },
        {
            "cell_type": "markdown",
            "metadata": {},
            "source": [
                "Z ukazom *count()* lahko preštejemo, koliko pojavnic je *kwic()* našel v jezikovnem gradivu.\n",
                "\n"
            ]
        },
        {
            "cell_type": "code",
            "execution_count": null,
            "metadata": {},
            "outputs": [],
            "source": [
                "konkordanca %>% \n",
                "  count(keyword)\n"
            ]
        },
        {
            "cell_type": "markdown",
            "metadata": {},
            "source": [
                "## Pripona -in\n",
                "\n",
                "Poiskati želimo besede s pripono \"-in\" za samostalnike, ki označujejo ženska osebna imena (npr. Ärztin, Köchin, ...).\n"
            ]
        },
        {
            "cell_type": "code",
            "execution_count": null,
            "metadata": {},
            "outputs": [],
            "source": [
                "(konkordanca2 <- kwic(woerter, pattern = c(\"*in\"), case_insensitive = FALSE) %>% \n",
                "  as_tibble()\n",
                ")\n"
            ]
        },
        {
            "cell_type": "markdown",
            "metadata": {},
            "source": [
                "Med ključnimi besedami (keywords) so tudi besedne oblike, ki jih nismo želeli (npr. ein, in, ...).\n",
                "Na seznamu želimo imeti samo samostalnike s pripono -in (npr. Köchin, Zimmervermieterin, ...).\n",
                "\n",
                "Regularni izrazi (regular expressions, na kratko: regex) nam bodo pomagali izločiti nezaželene zadetke. Po navadi je to postopen proces, dokler ne najdemo najustreznejšega regularnega izraza.\n",
                "\n",
                "\\\\A   na začetku črkovnega niza\n",
                "\\\\Z   na koncu črkovnega niza\n",
                "^   na začetku črkovnega niza ali na začetku vrstice v večvrstičnem vzorcu\n",
                "$   na koncu vrstice\n",
                "\n",
                "\\\\b   besedni rob\n",
                "\\\\w   beseda\n",
                "\\\\<   začetek besede\n",
                "\\\\>   konec besede\n",
                "\n",
                "\\\\s   presledek\n",
                "\\\\d   števka\n",
                "[A-Z]   samo abecedo (velike črke)\n",
                "[a-z]   samo abecedo (male črke)\n",
                "[^Eae]    teh znakov želimo izločiti\n",
                "\n",
                "*   nič ali več znakov\n",
                "+   en ali več znakov\n",
                ".   poljuben znak (razen: nova vrstica \\n)\n"
            ]
        },
        {
            "cell_type": "code",
            "execution_count": null,
            "metadata": {},
            "outputs": [],
            "source": [
                "(konkordanca2 = as_tibble(kwic(woerter, pattern = \"\\\\b[A-Z].+[^ae]in\\\\b\",\n",
                "                      valuetype = \"regex\", case_insensitive = FALSE)) %>% \n",
                "    filter(keyword != \"Immerhin\", \n",
                "         keyword != \"Darin\",\n",
                "         keyword != \"Termin\",\n",
                "         keyword != \"Worin\",\n",
                "         keyword != \"Robin\",\n",
                "         keyword != \"Medizin\",\n",
                "         keyword != \"Disziplin\",\n",
                "         keyword != \"Austin\",\n",
                "         keyword != \"Musselin\",\n",
                "         keyword != \"Benjamin\",\n",
                "         keyword != \"Franklin\")\n",
                ")\n"
            ]
        },
        {
            "cell_type": "markdown",
            "metadata": {},
            "source": [
                "Od 4100 zadetkov je ostalo le 46 zadetkov, ki vsebujejo samostalnik s pripono -in, ki označuje žensko. Večino napačnih besed smo s seznama odstranili z izbranim regularnim izrazom. Okrog deset smo morali posamično izločiti s funkcijo *filter()*.\n",
                "\n",
                "\n",
                "## Pripona -er\n",
                "\n",
                "V naslednji nalogi želimo poiskati samostalnike s pripono -er, ki se pogosto nanašajo na osebe moškega spola. \n",
                "\n",
                "Glede na to, da se pripona -er uporablja v mnoge druge namene, bo najbolje, če \n",
                "- najprej odstranimo funkcijske in druge pogoste besede (seznam stopwords)\n",
                "- in šele potem poizvedujemo s funkcijo kwic()\n"
            ]
        },
        {
            "cell_type": "code",
            "execution_count": null,
            "metadata": {},
            "outputs": [],
            "source": [
                "wortformen = tokens_select(woerter, pattern = c(stopwords(\"de\"), \"bisher\",\"immer\"), \n",
                "                           selection = \"remove\")\n"
            ]
        },
        {
            "cell_type": "markdown",
            "metadata": {},
            "source": [
                "Približno 500 besednih oblik manj, kot če ne bi izločili \"stopwords\".\n",
                "\n"
            ]
        },
        {
            "cell_type": "code",
            "execution_count": null,
            "metadata": {},
            "outputs": [],
            "source": [
                "(nomen_er = as_tibble(kwic(wortformen, pattern = \"\\\\b[A-Z].+er\\\\b\",\n",
                "                      valuetype = \"regex\", case_insensitive = FALSE))\n",
                ")\n"
            ]
        },
        {
            "cell_type": "markdown",
            "metadata": {},
            "source": [
                "462 je besednih oblik, ki se konča na -er, vendar med njimi niso samo samostalniki, ki bi se nanašali na osebe moškega spola.\n",
                "\n"
            ]
        },
        {
            "cell_type": "code",
            "execution_count": null,
            "metadata": {},
            "outputs": [],
            "source": [
                "nomen_er %>% \n",
                "  count(keyword, sort = T)\n"
            ]
        },
        {
            "cell_type": "markdown",
            "metadata": {},
            "source": [
                "Še vedno je potrebno posamično filtriranje: bodisi zaradi pomena bodisi zaradi besedotvornega vzorca. Zaradi prej izločenih nezaželenih besed (stopwords) je filtrirni seznam nekoliko krajši.\n",
                "\n"
            ]
        },
        {
            "cell_type": "code",
            "execution_count": null,
            "metadata": {},
            "outputs": [],
            "source": [
                "(nomina_er = nomen_er %>%\n",
                "  filter(!str_detect(keyword, \n",
                "                     c(\"[Z|z]immer|[P|p]apier|[F|f]inger|[W|w]asser|[H|h]äuser|[B|b]ücher|spritzer|[G|g]itter|[K|k]ammer|[W|w]etter\")),\n",
                "         !keyword %in% c(\"Kinder\",\"Messer\",\"Blätter\",\"Kleider\",\"Bilder\",\"Nummer\",\"Koffer\",\"Fenster\",\n",
                "                         \"Feuer\",\"Körper\",\"Gesichter\",\"Kummer\",\"Abenteuer\",\"Schulter\",\"Tier\",\n",
                "                         \"Theater\",\"Fehler\",\"Gelächter\",\"Mutter\",\"Seufzer\",\"Vater\",\"Wunder\",\"Atelier\",\n",
                "                         \"Geister\",\"Mauer\",\"Ufer\",\"Bruder\",\"Hunger\",\"Lichter\",\"Eimer\",\"Lager\",\n",
                "                         \"Meter\",\"Trauer\",\"Polster\",\"Manier\"))\n",
                ")\n"
            ]
        },
        {
            "cell_type": "markdown",
            "metadata": {},
            "source": [
                "\n",
                "\n"
            ]
        },
        {
            "cell_type": "code",
            "execution_count": null,
            "metadata": {},
            "outputs": [],
            "source": [
                "nomina_er %>% \n",
                "  group_by(docname) %>% \n",
                "  count(keyword, sort = T)\n"
            ]
        },
        {
            "cell_type": "markdown",
            "metadata": {},
            "source": [
                "Za grafični prikaz obdržimo samo po 20 najpogostnejših izrazov iz vsakega besedila.\n",
                "\n"
            ]
        },
        {
            "cell_type": "code",
            "execution_count": null,
            "metadata": {},
            "outputs": [],
            "source": [
                "nomina_er %>% \n",
                "  group_by(docname) %>% \n",
                "  count(keyword, sort = T) %>% \n",
                "  slice_head(n=20)\n"
            ]
        },
        {
            "cell_type": "markdown",
            "metadata": {},
            "source": [
                "V romanu Tom Sawyer so priimki na -er na vrhu lestvice, roman Prozess vsebuje bistvenih več splošnih samostalnikov, ki se končajo s pripono -er in se nanašajo na moške osebe. Edini Priimek je Bürstner.\n",
                "\n"
            ]
        },
        {
            "cell_type": "code",
            "execution_count": null,
            "metadata": {},
            "outputs": [],
            "source": [
                "library(tidytext)\n",
                "nomina_er %>% \n",
                "  group_by(docname) %>% \n",
                "  count(keyword, sort = T) %>% \n",
                "  slice_head(n=20) %>% \n",
                "  mutate(keyword = reorder_within(keyword, n, n, sep = \": \")) %>% \n",
                "  ggplot(aes(n, keyword, fill = keyword)) +\n",
                "  geom_col() +\n",
                "  theme(legend.position = \"none\") +\n",
                "  facet_wrap(~ docname, scales = \"free\") +\n",
                "  labs(x = \"Frequenz\", y = \"\")\n"
            ]
        },
        {
            "cell_type": "markdown",
            "metadata": {},
            "source": [
                "## Pripona -ung\n",
                "\n"
            ]
        },
        {
            "cell_type": "code",
            "execution_count": null,
            "metadata": {},
            "outputs": [],
            "source": [
                "(nomen_ung = as_tibble(kwic(woerter, pattern = \"\\\\b[A-Z].+ung\\\\b\",\n",
                "                      valuetype = \"regex\", case_insensitive = FALSE))\n",
                ")\n"
            ]
        },
        {
            "cell_type": "markdown",
            "metadata": {},
            "source": [
                "V romanu Prozess je število pojavnic samostalnikov na -ung skoraj enkrat večje kot v Tomu.\n",
                "Mnogi samostalniki s pripono -ung so abstraktni in težje razumljivi kot konkretni samostalniki.\n"
            ]
        },
        {
            "cell_type": "code",
            "execution_count": null,
            "metadata": {},
            "outputs": [],
            "source": [
                "nomen_ung %>% \n",
                "  group_by(docname) %>%\n",
                "  count(keyword, sort = T) %>% \n",
                "  summarise(Freq = sum(n))\n"
            ]
        },
        {
            "cell_type": "markdown",
            "metadata": {},
            "source": "\n"
        },
        {
            "cell_type": "code",
            "execution_count": null,
            "metadata": {},
            "outputs": [],
            "source": [
                "kwic_ung = kwic(woerter, pattern = \"\\\\b[A-Z].+ung\\\\b\",\n",
                "                      valuetype = \"regex\", case_insensitive = FALSE)\n",
                "textplot_xray(kwic_ung)\n"
            ]
        },
        {
            "cell_type": "markdown",
            "metadata": {},
            "source": [
                "Najpogostnejši samostalniki s pripono -ung odražajo osrednjo tematiko obeh besedil. V romanu Prozess se pogosteje pojavljajo samostalniki s pripono -ung, ki spadajo v pomensko polje \"(kriminalno) pravo\", v romanu Tom Sawyer pa je na vrhu lestvice več takih samostalnikov, ki se nanašajo na geografski prostor in razpoloženje.\n",
                "\n"
            ]
        },
        {
            "cell_type": "code",
            "execution_count": null,
            "metadata": {},
            "outputs": [],
            "source": [
                "library(tidytext)\n",
                "(nomina_ung = nomen_ung %>% \n",
                "  group_by(docname) %>% \n",
                "  count(keyword, sort = T) %>% \n",
                "  slice_head(n=20) %>% \n",
                "  mutate(keyword = reorder_within(keyword, n, n, sep = \": \"))\n",
                ")\n",
                "\n",
                "nomina_ung %>% \n",
                "  ggplot(aes(n, keyword, fill = keyword)) +\n",
                "  geom_col() +\n",
                "  theme(legend.position = \"none\") +\n",
                "  facet_wrap(~ docname, scales = \"free\") +\n",
                "  labs(x = \"Frequenz\", y = \"\")\n"
            ]
        },
        {
            "cell_type": "markdown",
            "metadata": {},
            "source": [
                "Iskanje besednih zvez s funkcijo *kwic()* in *phrase()* - funkcijske glagolske zveze (Funktionsverbgefüge) in frazemi:\n",
                "\n"
            ]
        },
        {
            "cell_type": "code",
            "execution_count": null,
            "metadata": {},
            "outputs": [],
            "source": [
                "(fvg1 =  as_tibble(kwic(woerter, pattern = phrase(\n",
                "  c(\"zur|in .+ung (ge)komm.+|(ge)brach.+|bring.+\")),\n",
                "                 valuetype = \"regex\", case_insensitive = FALSE))\n",
                ")\n"
            ]
        },
        {
            "cell_type": "markdown",
            "metadata": {},
            "source": [
                "Če so med sestavnimi deli besedne zveze drugi izrazi, lahko tudi postopoma filtriramo:\n",
                "\n"
            ]
        },
        {
            "cell_type": "code",
            "execution_count": null,
            "metadata": {},
            "outputs": [],
            "source": [
                "phrase1 = \"\\\\bstand.*|\\\\bsteh.*\"\n",
                "\n",
                "(fvg2 = as_tibble(kwic(woerter, pattern = phrase(phrase1), window = 10,\n",
                "                 valuetype = \"regex\", case_insensitive = FALSE)) %>% \n",
                "  filter(str_detect(post, \"zur\")) %>% \n",
                "  filter(str_detect(post, \".+ung\\\\b\"))\n",
                ")\n"
            ]
        },
        {
            "cell_type": "markdown",
            "metadata": {},
            "source": [
                "# 5. tidytext\n",
                "\n",
                "Pretvorba besedil v povedi s programom tidytext, funkcija *unnest_tokens()*:\n"
            ]
        },
        {
            "cell_type": "code",
            "execution_count": null,
            "metadata": {},
            "outputs": [],
            "source": [
                "romantexte = txt %>% \n",
                "  as_tibble() %>% \n",
                "  unnest_tokens(sentence, text, token = \"sentences\")\n"
            ]
        },
        {
            "cell_type": "markdown",
            "metadata": {},
            "source": [
                "Izvleci samostalniške zveze:\n",
                "\n"
            ]
        },
        {
            "cell_type": "code",
            "execution_count": null,
            "metadata": {},
            "outputs": [],
            "source": [
                "np = \"(der|die|das|des|dem|den) ([^ ]+)\"\n",
                "\n",
                "romantexte %>%\n",
                "  str_extract_all(np)\n",
                "\n",
                "# romantexte %>%\n",
                "#   str_match_all(np)\n"
            ]
        },
        {
            "cell_type": "markdown",
            "metadata": {},
            "source": [
                "Izvleci FVG:\n",
                "\n"
            ]
        },
        {
            "cell_type": "code",
            "execution_count": null,
            "metadata": {},
            "outputs": [],
            "source": [
                "nomphrase = \"stand.*\\\\W(\\\\w+){1,3}\\\\szur\\\\s.+ung\"\n",
                "nomphrase = \"stand.* (zur .+ung)\"\n",
                "\n",
                "romantexte %>%\n",
                "  select(sentence) %>% \n",
                "  str_extract_all(nomphrase) %>% \n",
                "  head(10)\n"
            ]
        },
        {
            "cell_type": "markdown",
            "metadata": {},
            "source": "\n"
        }
    ],
    "metadata": {
        "anaconda-cloud": "",
        "kernelspec": {
            "display_name": "R",
            "langauge": "R",
            "name": "ir"
        },
        "language_info": {
            "codemirror_mode": "r",
            "file_extension": ".r",
            "mimetype": "text/x-r-source",
            "name": "R",
            "pygments_lexer": "r",
            "version": "3.4.1"
        }
    },
    "nbformat": 4,
    "nbformat_minor": 1
}
