{
    "cells": [
        {
            "cell_type": "markdown",
            "metadata": {},
            "source": "\n"
        },
        {
            "cell_type": "code",
            "execution_count": null,
            "metadata": {},
            "outputs": [],
            "source": [
                "knitr::opts_chunk$set(echo = TRUE)\n",
                "library(tidyverse)\n",
                "library(scales)\n",
                "# detach(\"package:rlang\", unload=TRUE)\n"
            ]
        },
        {
            "cell_type": "markdown",
            "metadata": {},
            "source": [
                "Datensatz von: Bodo Winter Thema: Politeness and Pitch (F0)\n",
                "\n",
                "(cf. <http://www.bodowinter.com/tutorial/bw_LME_tutorial1.pdf>)\n",
                "\n",
                "(cf. <https://bodowinter.com/tutorial/bw_LME_tutorial.pdf>)\n",
                "\n",
                "Gliederung unserer quantitativen Analyse\n",
                "\n",
                "1\\. Laden der Datei\n",
                "\n",
                "2\\. Kennenlernen der Daten und Säubern\n",
                "\n",
                "3\\. Hypothesen\n",
                "\n",
                "4\\. Test und Ergebnisse\n",
                "\n",
                "5\\. Schluss\n",
                "\n",
                "## 1. Datei laden\n"
            ]
        },
        {
            "cell_type": "code",
            "execution_count": null,
            "metadata": {},
            "outputs": [],
            "source": [
                "# politeness <- read.csv(\"/cloud/project/data/politeness_data.csv\")\n",
                "politeness <- read.csv(\"data/politeness_data.csv\")\n"
            ]
        },
        {
            "cell_type": "markdown",
            "metadata": {},
            "source": [
                "## 2. Kennenlernen der Daten und Säubern\n",
                "\n",
                "Welche Variablen enthält die Datei?\n"
            ]
        },
        {
            "cell_type": "code",
            "execution_count": null,
            "metadata": {},
            "outputs": [],
            "source": [
                "head(politeness)\n",
                "  \n"
            ]
        },
        {
            "cell_type": "markdown",
            "metadata": {},
            "source": "\n"
        },
        {
            "cell_type": "code",
            "execution_count": null,
            "metadata": {},
            "outputs": [],
            "source": [
                "glimpse(politeness)\n",
                "\n"
            ]
        },
        {
            "cell_type": "markdown",
            "metadata": {},
            "source": [
                "Am Experiment nahmen 6 Versuchspersonen teil (F1, ..., M7). Von jeder\n",
                "Versuchsperson (subject) haben wir 14 Messpunkte (n = 14).\n"
            ]
        },
        {
            "cell_type": "code",
            "execution_count": null,
            "metadata": {},
            "outputs": [],
            "source": [
                "politeness %>% \n",
                "  count(subject)\n"
            ]
        },
        {
            "cell_type": "markdown",
            "metadata": {},
            "source": [
                "Versuchspersonen: je 3 sind weiblich bzw. männlich.\n",
                "\n"
            ]
        },
        {
            "cell_type": "code",
            "execution_count": null,
            "metadata": {},
            "outputs": [],
            "source": [
                "politeness %>% \n",
                "  count(subject, gender)\n"
            ]
        },
        {
            "cell_type": "markdown",
            "metadata": {},
            "source": [
                "Pro Verhaltensweise stehen uns 42 Messpunkte zur Verfügung, um unsere (unten\n",
                "folgende) Hypothese zu überprüfen.\n"
            ]
        },
        {
            "cell_type": "code",
            "execution_count": null,
            "metadata": {},
            "outputs": [],
            "source": [
                "politeness %>% \n",
                "  count(attitude)\n"
            ]
        },
        {
            "cell_type": "markdown",
            "metadata": {},
            "source": [
                "Berechnen wir mal die Grundfrequenz!\n",
                "\n"
            ]
        },
        {
            "cell_type": "code",
            "execution_count": null,
            "metadata": {},
            "outputs": [],
            "source": [
                "politeness %>% \n",
                "  mean(frequency)\n"
            ]
        },
        {
            "cell_type": "markdown",
            "metadata": {},
            "source": [
                "\"NA\": In unserer Datenreihe fehlt eine Frequenz. Wir entfernen diese Datenzeile,\n",
                "um die durchschnittliche Frequenz (mean) zu berechnen.\n"
            ]
        },
        {
            "cell_type": "code",
            "execution_count": null,
            "metadata": {},
            "outputs": [],
            "source": [
                "politeness %>% \n",
                "  drop_na(frequency) %>%\n",
                "  summarise(av_freq = mean(frequency))\n"
            ]
        },
        {
            "cell_type": "markdown",
            "metadata": {},
            "source": [
                "Wir haben gerade die Durchschnittsfrequenz für alle Versuchspersonen berechnet.\n",
                "Berechnen wir sie nun getrennt nach weiblichen und männlichen Versuchspersonen!\n"
            ]
        },
        {
            "cell_type": "code",
            "execution_count": null,
            "metadata": {},
            "outputs": [],
            "source": [
                "politeness %>% \n",
                "  drop_na(frequency) %>%\n",
                "  group_by(gender) %>% \n",
                "  summarise(av_freq = mean(frequency))\n"
            ]
        },
        {
            "cell_type": "markdown",
            "metadata": {},
            "source": [
                "Erwartungsgemäß ist der Durchschnittswert bei Frauen höher als bei Männern:\n",
                "Frauen haben meist eine höhere Stimme als Männer.\n",
                "\n",
                "Ein Blick auf die Durchschnittsfrequenzen bei höflicher und informeller\n",
                "Sprechweise: In unserer Stichprobe mit 6 Versuchspersonen (je 14\n",
                "Frequenzmessungen) zeigt sich ein Unterschied von etwa 18,2 Hz, und zwar 202,59\n",
                "- 184,36.\n"
            ]
        },
        {
            "cell_type": "code",
            "execution_count": null,
            "metadata": {},
            "outputs": [],
            "source": [
                "politeness %>% \n",
                "  drop_na() %>% \n",
                "  group_by(attitude) %>% \n",
                "  summarise(avg_freq = mean(frequency),\n",
                "            sd_freq = sd(frequency))\n"
            ]
        },
        {
            "cell_type": "markdown",
            "metadata": {},
            "source": "\n"
        },
        {
            "cell_type": "code",
            "execution_count": null,
            "metadata": {},
            "outputs": [],
            "source": [
                "# politeness %>% \n",
                "#   drop_na %>% \n",
                "#   transmute(attitude, frequency) %>% \n",
                "#   mutate(attitude = str_replace(attitude, \"pol\", \"1\"),\n",
                "#          attitude = str_replace(attitude, \"inf\", \"0\")) %>% \n",
                "#   mutate(attitude = parse_number(attitude))\n"
            ]
        },
        {
            "cell_type": "markdown",
            "metadata": {},
            "source": [
                "## 3. Hypothesen\n",
                "\n",
                "H0: Der durchschnittliche Grundfrequenzverlauf (F0) bei höflichem oder\n",
                "informellem Sprechverhalten (attitude) ist gleich.\n",
                "\n",
                "H1: Der durchschnittliche Grundfrequenzverlauf (F0) bei höflichem\n",
                "Sprechverhalten unterscheidet sich vom informellen.\n",
                "\n",
                "Nach unserem bisherigen Wissen erwarten wir, dass unsere Daten die Hypothese H1\n",
                "bestätigen werden.\n",
                "\n",
                "Das überprüfen wir zunächst mit einem t-Test, anschließend mit einer linearen\n",
                "Regression.\n",
                "\n",
                "## 4. Test\n",
                "\n",
                "t-Test\n",
                "\n",
                "Zunächst ein Blick auf die Durchschnittsfrequenzen bei höflicher und informeller\n",
                "Sprechweise. In unserer Stichprobe mit 6 Versuchspersonen (je 14\n",
                "Frequenzmessungen) zeigt sich ein Unterschied von etwa 18,2 Hz.\n",
                "\n",
                "Gemäß Hypothese H1 ist der Unterschied nicht zufällig entstanden, sondern kann\n",
                "auf die Gesamtpopulation deutscher Sprecher verallgemeinert werden.\n",
                "\n",
                "Nicht so gemäß Hypothese H0: Der Mittelwertunterschied zwischen den Stichproben\n",
                "kann zufällig entstanden sein, denn wenn wir eine andere Stichprobe genommen\n",
                "hätten, wäre der Unterschied vielleicht gleich Null gewesen.\n",
                "\n",
                "Mit statistischen Tests können wir diese beiden Hypothesen überprüfen. Einer\n",
                "davon ist der t-Test.\n"
            ]
        },
        {
            "cell_type": "code",
            "execution_count": null,
            "metadata": {},
            "outputs": [],
            "source": [
                "politeness %>% \n",
                "  drop_na() %>% \n",
                "  group_by(attitude) %>% \n",
                "  summarise(avg_freq = mean(frequency),\n",
                "            sd_freq = sd(frequency))\n"
            ]
        },
        {
            "cell_type": "markdown",
            "metadata": {},
            "source": [
                "Der t-Test bestätigt H1 nicht (p \\> 0,05):\n",
                "\n"
            ]
        },
        {
            "cell_type": "code",
            "execution_count": null,
            "metadata": {},
            "outputs": [],
            "source": [
                "t.test(frequency ~ attitude, data = politeness, paired = F, var.equal = T)\n",
                "\n"
            ]
        },
        {
            "cell_type": "markdown",
            "metadata": {},
            "source": "\n"
        },
        {
            "cell_type": "code",
            "execution_count": null,
            "metadata": {},
            "outputs": [],
            "source": [
                "pol = politeness$frequency[politeness$attitude == \"pol\"]\n",
                "inf = politeness$frequency[politeness$attitude == \"inf\"]\n",
                "t.test(pol, inf)\n"
            ]
        },
        {
            "cell_type": "markdown",
            "metadata": {},
            "source": "\n"
        },
        {
            "cell_type": "code",
            "execution_count": null,
            "metadata": {},
            "outputs": [],
            "source": [
                "polite <- politeness %>% \n",
                "  select(attitude, frequency) %>% \n",
                "  filter(attitude == \"pol\") %>% \n",
                "  select(-attitude)\n",
                "\n",
                "informal <- politeness %>% \n",
                "  select(attitude, frequency) %>% \n",
                "  filter(attitude == \"inf\") %>% \n",
                "  select(-attitude)\n",
                "\n",
                "t.test(polite, informal)\n"
            ]
        },
        {
            "cell_type": "markdown",
            "metadata": {},
            "source": [
                "Die lineare Regression hat den großen Vorteil, dass man mehr als eine\n",
                "unabhängige Variable (Prädiktor) verwenden kann, um die Hypothese zu testen. Wir\n",
                "wählen Geschlecht (gender) und Sprechverhalten (attitude) als unabhängige\n",
                "Variablen, der Grundfrequenzverlauf (frequency) ist die abhängige Variable.\n"
            ]
        },
        {
            "cell_type": "code",
            "execution_count": null,
            "metadata": {},
            "outputs": [],
            "source": [
                "politeness %>% \n",
                "  drop_na %>% \n",
                "  lm(frequency ~ attitude + gender, data = .) %>% \n",
                "  summary()\n"
            ]
        },
        {
            "cell_type": "markdown",
            "metadata": {},
            "source": [
                "Die lineare Regression bestätigt die Hypothese H1: F(2;80 = 98,38; p \\< 0,001).\n",
                "Die Versuchspersonen sprechen demnach in einer anderen Tonlage, wenn sie höflich\n",
                "sprechen, und zwar um ca. 19,5 Hz tiefer als wenn sie informell sprechen (p =\n",
                "0,0146). Außerdem bestätigt die lineare Regression (erwartungsgemäß) auch, dass\n",
                "die männlichen Versuchspersonen mit einer tieferen Stimme sprechen als die\n",
                "weiblichen, und zwar um durchschnittlich 108 Hz. Der R\\^2-Wert beträgt 0,71\n",
                "(d.h. etwa 71%). Das bedeutet, dass mit dem Regressionsergebnis ca. 71% der\n",
                "Variabilität unserer Daten erklärt wird.\n"
            ]
        },
        {
            "cell_type": "code",
            "execution_count": null,
            "metadata": {},
            "outputs": [],
            "source": [
                "politeness %>% \n",
                "  ggplot(aes(attitude, frequency, group = attitude, fill = attitude)) +\n",
                "  geom_boxplot() +\n",
                "  facet_wrap(~ gender) +\n",
                "  geom_hline(yintercept = c(202.5), lty = 3) +\n",
                "  geom_hline(yintercept = c(184.3), lty = 2) +\n",
                "  geom_jitter(width = 0.2)\n"
            ]
        },
        {
            "cell_type": "markdown",
            "metadata": {},
            "source": "\n"
        },
        {
            "cell_type": "code",
            "execution_count": null,
            "metadata": {},
            "outputs": [],
            "source": [
                "m <- lm(frequency ~ attitude*gender, data = politeness)\n",
                "library(effects)\n",
                "allEffects(m)\n",
                "plot(allEffects(m), multiline=TRUE, grid=TRUE, rug=FALSE, as.table=TRUE)\n"
            ]
        },
        {
            "cell_type": "markdown",
            "metadata": {},
            "source": [
                "## 5. Schluss\n",
                "\n",
                "Die Regressionsanalyse hat H1 bestätigt, d.h. die Grundfrequenz beim höflichen\n",
                "Sprechen unterscheidet sich vom informellen Sprechen. Beim höflichen Sprechen\n",
                "sprachen die Versuchspersonen mit einer durchschnittlich 19,5 Hz tieferen Stimme\n",
                "(bei den weiblichen Versuchspersonen ca. 27 Hz, bei den männlichen mehr als 11\n",
                "Hz).\n"
            ]
        }
    ],
    "metadata": {
        "anaconda-cloud": "",
        "kernelspec": {
            "display_name": "R",
            "langauge": "R",
            "name": "ir"
        },
        "language_info": {
            "codemirror_mode": "r",
            "file_extension": ".r",
            "mimetype": "text/x-r-source",
            "name": "R",
            "pygments_lexer": "r",
            "version": "3.4.1"
        }
    },
    "nbformat": 4,
    "nbformat_minor": 1
}
