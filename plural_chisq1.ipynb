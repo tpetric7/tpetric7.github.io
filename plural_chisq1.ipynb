{
    "cells": [
        {
            "cell_type": "markdown",
            "metadata": {},
            "source": "\n"
        },
        {
            "cell_type": "code",
            "execution_count": null,
            "metadata": {},
            "outputs": [],
            "source": [
                "knitr::opts_chunk$set(echo = TRUE)\n",
                "\n"
            ]
        },
        {
            "cell_type": "markdown",
            "metadata": {},
            "source": [
                "# Naložimo programe\n",
                "\n"
            ]
        },
        {
            "cell_type": "code",
            "execution_count": null,
            "metadata": {},
            "outputs": [],
            "source": [
                "library(tidyverse)\n",
                "library(scales)\n"
            ]
        },
        {
            "cell_type": "markdown",
            "metadata": {},
            "source": [
                "# Preberemo podatkovni niz z diska\n",
                "\n"
            ]
        },
        {
            "cell_type": "code",
            "execution_count": null,
            "metadata": {},
            "outputs": [],
            "source": [
                "# Branje datoteke je možno na več načinov\n",
                "plural_subj1 = read.csv(\"data/plural_Subj_sum.csv\", sep = \";\")\n",
                "plural_subj1 = read.csv2(\"data/plural_Subj_sum.csv\")\n",
                "plural_subj1 = read_csv2(\"data/plural_Subj_sum.csv\")\n",
                "\n",
                "# Pokaži prvih šest vrstic\n",
                "head(plural_subj1)\n"
            ]
        },
        {
            "cell_type": "markdown",
            "metadata": {},
            "source": [
                "# Povzetek in Hi-kvadrat test\n",
                "\n",
                "Podatkovni niz preoblikujemo in povzemamo (agregacija). \n",
                "Za preizkus ustvarimo tabelo 2 x 2 z opazovanimi pogostnostmi (frekvencami).\n",
                "Program izračuna pričakovane pogstnosti in zatem še ocenjuje, ali je razlika med vzorcema statistično značilna.\n",
                "\n",
                "H0: Preizkusne osebe uporabljajo množinske pripone ne glede na besedni tip (Rhyme / Non-Rhyme).\n",
                "H1: Preizkusne osebe uporabljajo množinske pripone z ozirom na besedni tip (Rhyme / Non-Rhyme).\n",
                "\n",
                "Če je p-vrednost < 0,05 (tj. 5%), potem obvelja H1: razlika med opazovanimi in pričakovanimi pogostnostmi je statistično značilna (tj. da ni naključna in dovolj velika ob upoštevanju napake). \n",
                "\n",
                "Če p > 0,05, potem obdržimo H0: razlika med opazovanimi pogostnostmi je naključna.\n"
            ]
        },
        {
            "cell_type": "code",
            "execution_count": null,
            "metadata": {},
            "outputs": [],
            "source": [
                "# Povzemamo (\"aggregate\")\n",
                "(p = plural_subj1 %>% \n",
                "  group_by(WordType) %>% \n",
                "  summarise(Sigstark = mean(Sigstark),\n",
                "            En = sum(En), E = sum(E), Er = sum(Er), S = sum(S), Z = sum(Z)) \n",
                ")\n",
                "\n",
                "# Izberemo tri stolpce\n",
                "q = p %>% select(WordType, E, S)\n",
                "\n",
                "# Razlika med deleži množinskih pripon E in S (npr. Bal-e oder Bal-s)\n",
                "chisq.test(q[,-1]) # prvi stolpec naj se ne upošteva, zato [, -1]\n"
            ]
        },
        {
            "cell_type": "markdown",
            "metadata": {},
            "source": [
                "## Naslednji preizkus(i)\n",
                "\n"
            ]
        },
        {
            "cell_type": "code",
            "execution_count": null,
            "metadata": {},
            "outputs": [],
            "source": [
                "# Izberemo tri stolpce za naslednji preizkus\n",
                "q = p %>% select(WordType, E, Er)\n",
                "\n",
                "# Razlika med deleži množinskih pripon E in Er (npr. Bal-e oder Bal-er)\n",
                "chisq.test(q[,-1]) # prvi stolpec naj se ne upošteva, zato [, -1]\n"
            ]
        },
        {
            "cell_type": "markdown",
            "metadata": {},
            "source": [
                "## Tabela 2 x 3\n",
                "\n",
                "Možno je tudi testiranje treh ali več vzorcev, vendar nam test ne pove, kateri vzorec je različen od drugega.\n"
            ]
        },
        {
            "cell_type": "code",
            "execution_count": null,
            "metadata": {},
            "outputs": [],
            "source": [
                "# Izberemo tri stolpce za naslednji preizkus\n",
                "q = p %>% select(WordType, Er, E, S)\n",
                "\n",
                "# Razlika med deleži množinskih pripon E in Er (npr. Bal-e oder Bal-er)\n",
                "chisq.test(q[,-1]) # prvi stolpec naj se ne upošteva, zato [, -1]\n"
            ]
        },
        {
            "cell_type": "markdown",
            "metadata": {},
            "source": "\n"
        }
    ],
    "metadata": {
        "anaconda-cloud": "",
        "kernelspec": {
            "display_name": "R",
            "langauge": "R",
            "name": "ir"
        },
        "language_info": {
            "codemirror_mode": "r",
            "file_extension": ".r",
            "mimetype": "text/x-r-source",
            "name": "R",
            "pygments_lexer": "r",
            "version": "3.4.1"
        }
    },
    "nbformat": 4,
    "nbformat_minor": 1
}
