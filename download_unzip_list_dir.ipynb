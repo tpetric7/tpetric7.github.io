{
    "cells": [
        {
            "cell_type": "markdown",
            "metadata": {},
            "source": "\n"
        },
        {
            "cell_type": "code",
            "execution_count": null,
            "metadata": {},
            "outputs": [],
            "source": [
                "knitr::opts_chunk$set(echo = TRUE)\n",
                "\n"
            ]
        },
        {
            "cell_type": "markdown",
            "metadata": {},
            "source": [
                "Basic operations in R:\n",
                "- Download (zip) files\n",
                "- Extract compressed files to a folder\n",
                "- Check & Create a folder or subfolders\n",
                "- List & Read files in a folder\n",
                "\n",
                "\n",
                "# Download\n"
            ]
        },
        {
            "cell_type": "code",
            "execution_count": null,
            "metadata": {},
            "outputs": [],
            "source": [
                "download.file(\"https://github.com/tpetric7/tpetric7.github.io/archive/refs/heads/main.zip\",\n",
                "              \"d:/Users/teodo/Downloads/tpetric7-master.zip\")\n"
            ]
        },
        {
            "cell_type": "markdown",
            "metadata": {},
            "source": [
                "# Check & create directory\n",
                "\n"
            ]
        },
        {
            "cell_type": "code",
            "execution_count": null,
            "metadata": {},
            "outputs": [],
            "source": [
                "pot <- \"d:/Users/teodo/Downloads/tpetric7-master\"\n",
                "exist <- dir.exists(pot)\n",
                "exist\n"
            ]
        },
        {
            "cell_type": "markdown",
            "metadata": {},
            "source": "\n"
        },
        {
            "cell_type": "code",
            "execution_count": null,
            "metadata": {},
            "outputs": [],
            "source": [
                "ifelse(exist == FALSE, \n",
                "       dir.create(pot, showWarnings = TRUE, recursive = TRUE), \n",
                "       \"directory already exists\")\n"
            ]
        },
        {
            "cell_type": "markdown",
            "metadata": {},
            "source": [
                "# Unzip\n",
                "\n"
            ]
        },
        {
            "cell_type": "code",
            "execution_count": null,
            "metadata": {},
            "outputs": [],
            "source": [
                "unzip(\"d:/Users/teodo/Downloads/tpetric7-master.zip\", exdir = pot)\n",
                "\n"
            ]
        },
        {
            "cell_type": "markdown",
            "metadata": {},
            "source": [
                "# Create subfolders\n",
                "\n"
            ]
        },
        {
            "cell_type": "code",
            "execution_count": null,
            "metadata": {},
            "outputs": [],
            "source": [
                "subfolder_names <- c(\"a\",\"b\",\"c\",\"d\") \n",
                "for (i in 1:length(subfolder_names)){\n",
                "  folder <- dir.create(paste0(pot, \"/\", subfolder_names[i]))\n",
                "}\n"
            ]
        },
        {
            "cell_type": "markdown",
            "metadata": {},
            "source": [
                "# List files\n",
                "\n"
            ]
        },
        {
            "cell_type": "code",
            "execution_count": null,
            "metadata": {},
            "outputs": [],
            "source": [
                "seznam <- list.files(pot, pattern = \"\\\\.txt$\", recursive = TRUE, full.names = TRUE)\n",
                "seznam\n"
            ]
        },
        {
            "cell_type": "markdown",
            "metadata": {},
            "source": [
                "# Read files\n",
                "\n"
            ]
        },
        {
            "cell_type": "code",
            "execution_count": null,
            "metadata": {},
            "outputs": [],
            "source": [
                "library(tidyverse)\n",
                "alltxt <- seznam %>% map(read_lines)\n",
                "\n",
                "head(alltxt[[5]], 12)\n",
                "cat(head(alltxt[[5]], 12))\n"
            ]
        },
        {
            "cell_type": "markdown",
            "metadata": {},
            "source": [
                "Base R:\n",
                "\n"
            ]
        },
        {
            "cell_type": "code",
            "execution_count": null,
            "metadata": {},
            "outputs": [],
            "source": [
                "alltxt <- lapply(seznam, readLines)\n",
                "\n",
                "head(alltxt[[5]], 12)\n",
                "cat(head(alltxt[[5]], 12))\n"
            ]
        },
        {
            "cell_type": "markdown",
            "metadata": {},
            "source": "\n"
        }
    ],
    "metadata": {
        "anaconda-cloud": "",
        "kernelspec": {
            "display_name": "R",
            "langauge": "R",
            "name": "ir"
        },
        "language_info": {
            "codemirror_mode": "r",
            "file_extension": ".r",
            "mimetype": "text/x-r-source",
            "name": "R",
            "pygments_lexer": "r",
            "version": "3.4.1"
        }
    },
    "nbformat": 4,
    "nbformat_minor": 1
}
