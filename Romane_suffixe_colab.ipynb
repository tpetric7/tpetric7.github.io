{
  "nbformat": 4,
  "nbformat_minor": 0,
  "metadata": {
    "anaconda-cloud": "",
    "kernelspec": {
      "display_name": "R",
      "langauge": "R",
      "name": "ir"
    },
    "language_info": {
      "codemirror_mode": "r",
      "file_extension": ".r",
      "mimetype": "text/x-r-source",
      "name": "R",
      "pygments_lexer": "r",
      "version": "3.4.1"
    },
    "colab": {
      "name": "Romane_suffixe.ipynb",
      "provenance": [],
      "collapsed_sections": [
        "ejuAW1Lrjoqy",
        "89wW0GRSjoq0",
        "dkW7vrmkjoq6"
      ]
    }
  },
  "cells": [
    {
      "cell_type": "markdown",
      "metadata": {
        "id": "OAFpFm5tjoqn"
      },
      "source": [
        "\n"
      ]
    },
    {
      "cell_type": "markdown",
      "metadata": {
        "id": "l_BIKPezD3OG"
      },
      "source": [
        "<a href=\"https://colab.research.google.com/github/tpetric7/tpetric7.github.io/blob/main/Romane_suffixe.ipynb\" target=\"_parent\"><img src=\"https://colab.research.google.com/assets/colab-badge.svg\" alt=\"Open In Colab\"/></a>"
      ]
    },
    {
      "cell_type": "code",
      "metadata": {
        "id": "enI2xLP6joqp"
      },
      "source": [
        "knitr::opts_chunk$set(echo = TRUE)\n",
        "\n"
      ],
      "execution_count": null,
      "outputs": []
    },
    {
      "cell_type": "markdown",
      "metadata": {
        "id": "HnkCWu49ku46"
      },
      "source": [
        "# Install"
      ]
    },
    {
      "cell_type": "code",
      "metadata": {
        "id": "e_pluTHoktO9"
      },
      "source": [
        "install.packages(c(\"tidytext\", \"SnowballC\", \"rmarkdown\", \"scales\", \"udpipe\", \"vecsets\"))"
      ],
      "execution_count": null,
      "outputs": []
    },
    {
      "cell_type": "code",
      "metadata": {
        "id": "kBafUYgSmnHx"
      },
      "source": [
        "# devtools::install_github(\"quanteda/readtext\")"
      ],
      "execution_count": null,
      "outputs": []
    },
    {
      "cell_type": "markdown",
      "metadata": {
        "id": "fy4E9lJEjoqq"
      },
      "source": [
        "# 0. Packages\n",
        "\n"
      ]
    },
    {
      "cell_type": "code",
      "metadata": {
        "id": "UHZpax9ojoqr"
      },
      "source": [
        "library(tidyverse)\n",
        "library(tidytext)\n",
        "library(SnowballC)\n",
        "# library(readtext)\n",
        "library(rmarkdown)\n",
        "library(scales)\n",
        "library(udpipe)\n",
        "library(vecsets)\n"
      ],
      "execution_count": null,
      "outputs": []
    },
    {
      "cell_type": "markdown",
      "metadata": {
        "id": "SxgaMySsjoqs"
      },
      "source": [
        "# 1. Dateien einlesen\n",
        "\n"
      ]
    },
    {
      "cell_type": "code",
      "metadata": {
        "id": "HSDRrRu5joqs"
      },
      "source": [
        "github = \"https://raw.githubusercontent.com/tpetric7/tpetric7.github.io/main/data/books/\"\n",
        "# novels_txt = readtext(paste0(github, \"*.txt\"), docvarsfrom = \"filenames\", encoding = \"UTF-8\") %>% \n",
        "#  rename(title = docvar1)\n",
        "# novels_txt\n",
        "# novels = as.data.frame(novels_txt)\n"
      ],
      "execution_count": null,
      "outputs": []
    },
    {
      "cell_type": "code",
      "metadata": {
        "id": "BPrv9kyJtQYL"
      },
      "source": [
        "github = \"https://raw.githubusercontent.com/tpetric7/tpetric7.github.io/main/data/books/\"\n",
        "prozess = read_lines(paste0(github, \"prozess.txt\"))\n",
        "tom = read_lines(paste0(github, \"tom.txt\"))"
      ],
      "execution_count": null,
      "outputs": []
    },
    {
      "cell_type": "markdown",
      "metadata": {
        "id": "EJyEzPXrjoqt"
      },
      "source": [
        "Wir wandeln die Datei in eine Tabelle um.\n",
        "\n"
      ]
    },
    {
      "cell_type": "code",
      "metadata": {
        "id": "SmPbmGlut2B_"
      },
      "source": [
        "prozess = as_tibble(prozess) %>% rename(text = value) %>% mutate(doc_id = \"prozess\")\n",
        "tom = as_tibble(tom) %>% rename(text = value) %>% mutate(doc_id = \"tom\")\n",
        "novels = rbind(prozess, tom)"
      ],
      "execution_count": null,
      "outputs": []
    },
    {
      "cell_type": "code",
      "metadata": {
        "colab": {
          "base_uri": "https://localhost:8080/"
        },
        "id": "jWJksW6fs9kK",
        "outputId": "d7278f72-1d37-4ebd-b15b-696d3bc109a6"
      },
      "source": [
        "str(novels)"
      ],
      "execution_count": null,
      "outputs": [
        {
          "output_type": "stream",
          "text": [
            "tibble [2 × 2] (S3: tbl_df/tbl/data.frame)\n",
            " $ text  : chr [1:2] \"Der Prozess by Franz Kafka Aligned by : bilingual-texts.com ( fully reviewed )   Der Prozess      Franz Kafka  \"| __truncated__ \"Tom Sawyer by Mark Twain Aligned by : András Farkas ( autoalignment )   Source : Project Gutenberg      Die Abe\"| __truncated__\n",
            " $ doc_id: chr [1:2] \"prozess\" \"tom\"\n"
          ],
          "name": "stdout"
        }
      ]
    },
    {
      "cell_type": "markdown",
      "metadata": {
        "id": "5X9Z2_1ajoqu"
      },
      "source": [
        "# 2. Lemmatisierung\n",
        "\n",
        "Unser Ziel ist die Extrahierung von Wortbildungsmorphemen. Daher führen wir mit dem Program *udpipe* zuerst eine Analyse der Wortformen durch, die auch eine Lemmatisierung der Wortformen einschließt. Durch die Lemmatisierung können wir auf die Grundformen von Wörtern zurückgreifen und Flexionsmorpheme ausschließen.\n"
      ]
    },
    {
      "cell_type": "code",
      "metadata": {
        "id": "V4DiEgnQjoqv"
      },
      "source": [
        "library(udpipe)\n",
        "model = udpipe_download_model(language = \"german\")\n",
        "demodel = udpipe_load_model(model$file_model)\n"
      ],
      "execution_count": null,
      "outputs": []
    },
    {
      "cell_type": "markdown",
      "metadata": {
        "id": "WBrmhJokjoqv"
      },
      "source": [
        "Die Annotation der Wortformen kann mehrere Minuten dauern, falls es sich um längere Texte handelt.\n",
        "\n"
      ]
    },
    {
      "cell_type": "code",
      "metadata": {
        "colab": {
          "base_uri": "https://localhost:8080/"
        },
        "id": "axu-Kzmhjoqw",
        "outputId": "76d50dbe-81c0-42c5-bf7b-e86209439136"
      },
      "source": [
        "# x = udpipe_annotate(demodel, novels_txt$text, trace = TRUE)\n",
        "x = udpipe_annotate(demodel, novels$text, trace = TRUE)\n",
        "x = as.data.frame(x)\n"
      ],
      "execution_count": null,
      "outputs": [
        {
          "output_type": "stream",
          "text": [
            "2021-08-06 09:11:12 Annotating text fragment 1/2\n",
            "2021-08-06 09:13:57 Annotating text fragment 2/2\n"
          ],
          "name": "stdout"
        }
      ]
    },
    {
      "cell_type": "markdown",
      "metadata": {
        "id": "61T2b7uljoqw"
      },
      "source": [
        "Wir filtern Interpunktionszeichen heraus, die für unser Ziel nicht relevant sind. Die Spalte \"upos\" enthält die dafür relevante Kategorie (\"PUNCT\").\n",
        "\n",
        "In einem weiteren Schritt fügen wir mit *mutate* eine neue Spalte (\"word\") hinzu, welche die tokens der Texte enthält, aber kleingeschrieben gewerden sollen, was mit *tolower()* erreicht werden kann.\n"
      ]
    },
    {
      "cell_type": "code",
      "metadata": {
        "id": "ZcxfqsSgjoqx"
      },
      "source": [
        "udpipe = x %>% \n",
        "  filter(upos != \"PUNCT\") %>% \n",
        "  mutate(word = tolower(token))\n"
      ],
      "execution_count": null,
      "outputs": []
    },
    {
      "cell_type": "markdown",
      "metadata": {
        "id": "OItlvySyjoqx"
      },
      "source": [
        "Für die Entfernung von Ziffern und Symbolen aus der Tabelle verwenden wir einen regulären Ausdruck (regex). Außerdem sollen alle Lemmas mit Kleinbuchstaben beginnen.\n",
        "\n"
      ]
    },
    {
      "cell_type": "code",
      "metadata": {
        "id": "y80QxHFnjoqx"
      },
      "source": [
        "novels_words = udpipe %>% \n",
        "  filter(str_detect(lemma, \"[:alpha:]\")) %>% # keine Ziffern oder Interpunktionszeichen oder Symbole\n",
        "  mutate(lemma = tolower(lemma))\n"
      ],
      "execution_count": null,
      "outputs": []
    },
    {
      "cell_type": "markdown",
      "metadata": {
        "id": "qzpKWtkvjoqx"
      },
      "source": [
        "Da wir vor allem an Wörtern interessiert sind, die aus mehr als einem Morphem bestehen, filtern wir u.a. Funktionswörter heraus, und zwar mit der Funktion *anti_join()* und einer Stoppwortliste aus dem Programm *stopwords*. \n",
        "\n",
        "Da die Stoppwortliste im Format einer Liste vorliegt, müssen wir sie in eine Tabelle umwandeln, und zwar mit der Funktion *as_tibble()*. Der Name der Tabellenspalte muss mit dem Namen der entsprechende Spalte in \"novels_words\" (also: \"word\") übereinstimmen, damit wir die beiden Tabellen entsprechend vereinen können. Den Namen von Tabellenspalten verändern wir mit *rename()*.\n",
        "\n",
        "Außerdem wollen wir gleichzeitig auch einige Wörter herausfiltern, die nicht zu den Romantexten gehören: englische Wörter, die Namen der Autoren, eventuell noch nicht entfernte Ziffern, Interpunktionszeichen und Symbole. Zur Vereinigung der Wortformen in einen Vektor bzw. Tabellenspalte verwenden wir die concatenate-Funktion *c()*.\n",
        "\n",
        "In einem weiteren Schritt sollen die Kategorien der \"doc_id\" bessere Namen erhalten: die allgemeineren Namen \"doc1\" und \"doc2\" ersetzen wir mit den eindeutigeren Namen \"prozess\" und \"tom\".\n"
      ]
    },
    {
      "cell_type": "code",
      "metadata": {
        "id": "mgAowACNwW4n"
      },
      "source": [
        "install.packages(\"stopwords\")"
      ],
      "execution_count": null,
      "outputs": []
    },
    {
      "cell_type": "code",
      "metadata": {
        "colab": {
          "base_uri": "https://localhost:8080/"
        },
        "id": "aPzfF0O9xJup",
        "outputId": "1b1fe5eb-8be1-437d-91d9-f788206814c9"
      },
      "source": [
        "install.packages(\"kableExtra\")"
      ],
      "execution_count": null,
      "outputs": [
        {
          "output_type": "stream",
          "text": [
            "Installing package into ‘/usr/local/lib/R/site-library’\n",
            "(as ‘lib’ is unspecified)\n",
            "\n",
            "also installing the dependency ‘webshot’\n",
            "\n",
            "\n"
          ],
          "name": "stderr"
        }
      ]
    },
    {
      "cell_type": "code",
      "metadata": {
        "colab": {
          "base_uri": "https://localhost:8080/",
          "height": 1000
        },
        "id": "f7nRIUSujoqx",
        "outputId": "3edbd8c3-b980-4d3e-eb21-17e982d58c76"
      },
      "source": [
        "library(kableExtra)\n",
        "stoplist_de = c(stopwords::stopwords(language = \"german\"), \"franz\",\"kafka\",\"mark\",\"twain\",\n",
        "                \"by\",\"aligned\",\"Aligned\",\"\",\"bilingual-texts.com\",\"fully\",\"reviewed\") %>% \n",
        "  as_tibble() %>% \n",
        "  rename(word = value)\n",
        "\n",
        "novels_words = novels_words %>% \n",
        "  mutate(doc_id = str_replace(doc_id, \"doc1\", \"prozess\"),\n",
        "         doc_id = str_replace(doc_id, \"doc2\", \"tom\")) %>% \n",
        "  anti_join(stoplist_de, novels_words, by = \"word\") # möglichst keine Funktionswörter\n",
        "head(novels_words, 10) %>% paged_table()\n",
        "tail(novels_words, 10) %>% paged_table()\n"
      ],
      "execution_count": null,
      "outputs": [
        {
          "output_type": "display_data",
          "data": {
            "text/plain": [
              "   doc_id  paragraph_id sentence_id\n",
              "1  prozess 1            1          \n",
              "2  prozess 1            1          \n",
              "3  prozess 1            1          \n",
              "4  prozess 1            1          \n",
              "5  prozess 1            1          \n",
              "6  prozess 1            1          \n",
              "7  prozess 1            1          \n",
              "8  prozess 1            1          \n",
              "9  prozess 1            1          \n",
              "10 prozess 1            1          \n",
              "   sentence                                                                                                                                                                                                                                                                                                                                                                                                                                                                                                                                                                                                                                                                                                                                                                                                                                                                                                                                                                                                                                                                                                                                                                                                                                                                                                                                                                                                                                                                                                                                                                                                                                                                                                                                                                                                                                                                                                                                                                                                                                                                                                                                                                                                                     \n",
              "1  Der Prozess by Franz Kafka Aligned by : bilingual-texts.com ( fully reviewed ) Der Prozess Franz Kafka 1 Verhaftung , Gespräch mit Frau Grubach , dann Fräulein Brüstner Jemand mußte Josef K. verleumdet haben , denn ohne daß er etwas Böses getan hätte , wurde er eines Morgens verhaftet . Die Köchin der Frau Grubach , seiner Zimmervermieterin , die ihm jeden Tag gegen acht Uhr früh das Frühstück brachte , kam diesmal nicht . Das war noch niemals geschehen . K. wartete noch ein Weilchen , sah von seinem Kopfkissen aus die alte Frau , die ihm gegenüber wohnte und die ihn mit einer an ihr ganz ungewöhnlichen Neugierde beobachtete , dann aber , gleichzeitig befremdet und hungrig , läutete er . Sofort klopfte es und ein Mann , den er in dieser Wohnung noch niemals gesehen hatte , trat ein . Er war schlank und doch fest gebaut , er trug ein anliegendes schwarzes Kleid , das , ähnlich den Reiseanzügen , mit verschiedenen Falten , Taschen , Schnallen , Knöpfen und einem Gürtel versehen war und infolgedessen , ohne daß man sich darüber klar wurde , wozu es dienen sollte , besonders praktisch erschien . » Wer sind Sie ? « fragte K. und saß gleich halb aufrecht im Bett . Der Mann aber ging über die Frage hinweg , als müsse man seine Erscheinung hinnehmen , und sagte bloß seinerseits : » Sie haben geläutet ? « » Anna soll mir das Frühstück bringen « , sagte K. und versuchte , zunächst stillschweigend , durch Aufmerksamkeit und Überlegung festzustellen , wer der Mann eigentlich war . Aber dieser setzte sich nicht allzulange seinen Blicken aus , sondern wandte sich zur Tür , die er ein wenig öffnete , um jemandem , der offenbar knapp hinter der Tür stand , zu sagen : » Er will , daß Anna ihm das Frühstück bringt . « Ein kleines Gelächter im Nebenzimmer folgte , es war nach dem Klang nicht sicher , ob nicht mehrere Personen daran beteiligt waren . Obwohl der fremde Mann dadurch nichts erfahren haben konnte , was er nicht schon früher gewußt hätte , sagte er nun doch zu K. im Tone einer Meldung : » Es ist unmöglich . « » Das wäre neu « , sagte K. , sprang aus dem Bett und zog rasch seine Hosen an . » Ich will doch sehen ,\n",
              "2  Der Prozess by Franz Kafka Aligned by : bilingual-texts.com ( fully reviewed ) Der Prozess Franz Kafka 1 Verhaftung , Gespräch mit Frau Grubach , dann Fräulein Brüstner Jemand mußte Josef K. verleumdet haben , denn ohne daß er etwas Böses getan hätte , wurde er eines Morgens verhaftet . Die Köchin der Frau Grubach , seiner Zimmervermieterin , die ihm jeden Tag gegen acht Uhr früh das Frühstück brachte , kam diesmal nicht . Das war noch niemals geschehen . K. wartete noch ein Weilchen , sah von seinem Kopfkissen aus die alte Frau , die ihm gegenüber wohnte und die ihn mit einer an ihr ganz ungewöhnlichen Neugierde beobachtete , dann aber , gleichzeitig befremdet und hungrig , läutete er . Sofort klopfte es und ein Mann , den er in dieser Wohnung noch niemals gesehen hatte , trat ein . Er war schlank und doch fest gebaut , er trug ein anliegendes schwarzes Kleid , das , ähnlich den Reiseanzügen , mit verschiedenen Falten , Taschen , Schnallen , Knöpfen und einem Gürtel versehen war und infolgedessen , ohne daß man sich darüber klar wurde , wozu es dienen sollte , besonders praktisch erschien . » Wer sind Sie ? « fragte K. und saß gleich halb aufrecht im Bett . Der Mann aber ging über die Frage hinweg , als müsse man seine Erscheinung hinnehmen , und sagte bloß seinerseits : » Sie haben geläutet ? « » Anna soll mir das Frühstück bringen « , sagte K. und versuchte , zunächst stillschweigend , durch Aufmerksamkeit und Überlegung festzustellen , wer der Mann eigentlich war . Aber dieser setzte sich nicht allzulange seinen Blicken aus , sondern wandte sich zur Tür , die er ein wenig öffnete , um jemandem , der offenbar knapp hinter der Tür stand , zu sagen : » Er will , daß Anna ihm das Frühstück bringt . « Ein kleines Gelächter im Nebenzimmer folgte , es war nach dem Klang nicht sicher , ob nicht mehrere Personen daran beteiligt waren . Obwohl der fremde Mann dadurch nichts erfahren haben konnte , was er nicht schon früher gewußt hätte , sagte er nun doch zu K. im Tone einer Meldung : » Es ist unmöglich . « » Das wäre neu « , sagte K. , sprang aus dem Bett und zog rasch seine Hosen an . » Ich will doch sehen ,\n",
              "3  Der Prozess by Franz Kafka Aligned by : bilingual-texts.com ( fully reviewed ) Der Prozess Franz Kafka 1 Verhaftung , Gespräch mit Frau Grubach , dann Fräulein Brüstner Jemand mußte Josef K. verleumdet haben , denn ohne daß er etwas Böses getan hätte , wurde er eines Morgens verhaftet . Die Köchin der Frau Grubach , seiner Zimmervermieterin , die ihm jeden Tag gegen acht Uhr früh das Frühstück brachte , kam diesmal nicht . Das war noch niemals geschehen . K. wartete noch ein Weilchen , sah von seinem Kopfkissen aus die alte Frau , die ihm gegenüber wohnte und die ihn mit einer an ihr ganz ungewöhnlichen Neugierde beobachtete , dann aber , gleichzeitig befremdet und hungrig , läutete er . Sofort klopfte es und ein Mann , den er in dieser Wohnung noch niemals gesehen hatte , trat ein . Er war schlank und doch fest gebaut , er trug ein anliegendes schwarzes Kleid , das , ähnlich den Reiseanzügen , mit verschiedenen Falten , Taschen , Schnallen , Knöpfen und einem Gürtel versehen war und infolgedessen , ohne daß man sich darüber klar wurde , wozu es dienen sollte , besonders praktisch erschien . » Wer sind Sie ? « fragte K. und saß gleich halb aufrecht im Bett . Der Mann aber ging über die Frage hinweg , als müsse man seine Erscheinung hinnehmen , und sagte bloß seinerseits : » Sie haben geläutet ? « » Anna soll mir das Frühstück bringen « , sagte K. und versuchte , zunächst stillschweigend , durch Aufmerksamkeit und Überlegung festzustellen , wer der Mann eigentlich war . Aber dieser setzte sich nicht allzulange seinen Blicken aus , sondern wandte sich zur Tür , die er ein wenig öffnete , um jemandem , der offenbar knapp hinter der Tür stand , zu sagen : » Er will , daß Anna ihm das Frühstück bringt . « Ein kleines Gelächter im Nebenzimmer folgte , es war nach dem Klang nicht sicher , ob nicht mehrere Personen daran beteiligt waren . Obwohl der fremde Mann dadurch nichts erfahren haben konnte , was er nicht schon früher gewußt hätte , sagte er nun doch zu K. im Tone einer Meldung : » Es ist unmöglich . « » Das wäre neu « , sagte K. , sprang aus dem Bett und zog rasch seine Hosen an . » Ich will doch sehen ,\n",
              "4  Der Prozess by Franz Kafka Aligned by : bilingual-texts.com ( fully reviewed ) Der Prozess Franz Kafka 1 Verhaftung , Gespräch mit Frau Grubach , dann Fräulein Brüstner Jemand mußte Josef K. verleumdet haben , denn ohne daß er etwas Böses getan hätte , wurde er eines Morgens verhaftet . Die Köchin der Frau Grubach , seiner Zimmervermieterin , die ihm jeden Tag gegen acht Uhr früh das Frühstück brachte , kam diesmal nicht . Das war noch niemals geschehen . K. wartete noch ein Weilchen , sah von seinem Kopfkissen aus die alte Frau , die ihm gegenüber wohnte und die ihn mit einer an ihr ganz ungewöhnlichen Neugierde beobachtete , dann aber , gleichzeitig befremdet und hungrig , läutete er . Sofort klopfte es und ein Mann , den er in dieser Wohnung noch niemals gesehen hatte , trat ein . Er war schlank und doch fest gebaut , er trug ein anliegendes schwarzes Kleid , das , ähnlich den Reiseanzügen , mit verschiedenen Falten , Taschen , Schnallen , Knöpfen und einem Gürtel versehen war und infolgedessen , ohne daß man sich darüber klar wurde , wozu es dienen sollte , besonders praktisch erschien . » Wer sind Sie ? « fragte K. und saß gleich halb aufrecht im Bett . Der Mann aber ging über die Frage hinweg , als müsse man seine Erscheinung hinnehmen , und sagte bloß seinerseits : » Sie haben geläutet ? « » Anna soll mir das Frühstück bringen « , sagte K. und versuchte , zunächst stillschweigend , durch Aufmerksamkeit und Überlegung festzustellen , wer der Mann eigentlich war . Aber dieser setzte sich nicht allzulange seinen Blicken aus , sondern wandte sich zur Tür , die er ein wenig öffnete , um jemandem , der offenbar knapp hinter der Tür stand , zu sagen : » Er will , daß Anna ihm das Frühstück bringt . « Ein kleines Gelächter im Nebenzimmer folgte , es war nach dem Klang nicht sicher , ob nicht mehrere Personen daran beteiligt waren . Obwohl der fremde Mann dadurch nichts erfahren haben konnte , was er nicht schon früher gewußt hätte , sagte er nun doch zu K. im Tone einer Meldung : » Es ist unmöglich . « » Das wäre neu « , sagte K. , sprang aus dem Bett und zog rasch seine Hosen an . » Ich will doch sehen ,\n",
              "5  Der Prozess by Franz Kafka Aligned by : bilingual-texts.com ( fully reviewed ) Der Prozess Franz Kafka 1 Verhaftung , Gespräch mit Frau Grubach , dann Fräulein Brüstner Jemand mußte Josef K. verleumdet haben , denn ohne daß er etwas Böses getan hätte , wurde er eines Morgens verhaftet . Die Köchin der Frau Grubach , seiner Zimmervermieterin , die ihm jeden Tag gegen acht Uhr früh das Frühstück brachte , kam diesmal nicht . Das war noch niemals geschehen . K. wartete noch ein Weilchen , sah von seinem Kopfkissen aus die alte Frau , die ihm gegenüber wohnte und die ihn mit einer an ihr ganz ungewöhnlichen Neugierde beobachtete , dann aber , gleichzeitig befremdet und hungrig , läutete er . Sofort klopfte es und ein Mann , den er in dieser Wohnung noch niemals gesehen hatte , trat ein . Er war schlank und doch fest gebaut , er trug ein anliegendes schwarzes Kleid , das , ähnlich den Reiseanzügen , mit verschiedenen Falten , Taschen , Schnallen , Knöpfen und einem Gürtel versehen war und infolgedessen , ohne daß man sich darüber klar wurde , wozu es dienen sollte , besonders praktisch erschien . » Wer sind Sie ? « fragte K. und saß gleich halb aufrecht im Bett . Der Mann aber ging über die Frage hinweg , als müsse man seine Erscheinung hinnehmen , und sagte bloß seinerseits : » Sie haben geläutet ? « » Anna soll mir das Frühstück bringen « , sagte K. und versuchte , zunächst stillschweigend , durch Aufmerksamkeit und Überlegung festzustellen , wer der Mann eigentlich war . Aber dieser setzte sich nicht allzulange seinen Blicken aus , sondern wandte sich zur Tür , die er ein wenig öffnete , um jemandem , der offenbar knapp hinter der Tür stand , zu sagen : » Er will , daß Anna ihm das Frühstück bringt . « Ein kleines Gelächter im Nebenzimmer folgte , es war nach dem Klang nicht sicher , ob nicht mehrere Personen daran beteiligt waren . Obwohl der fremde Mann dadurch nichts erfahren haben konnte , was er nicht schon früher gewußt hätte , sagte er nun doch zu K. im Tone einer Meldung : » Es ist unmöglich . « » Das wäre neu « , sagte K. , sprang aus dem Bett und zog rasch seine Hosen an . » Ich will doch sehen ,\n",
              "6  Der Prozess by Franz Kafka Aligned by : bilingual-texts.com ( fully reviewed ) Der Prozess Franz Kafka 1 Verhaftung , Gespräch mit Frau Grubach , dann Fräulein Brüstner Jemand mußte Josef K. verleumdet haben , denn ohne daß er etwas Böses getan hätte , wurde er eines Morgens verhaftet . Die Köchin der Frau Grubach , seiner Zimmervermieterin , die ihm jeden Tag gegen acht Uhr früh das Frühstück brachte , kam diesmal nicht . Das war noch niemals geschehen . K. wartete noch ein Weilchen , sah von seinem Kopfkissen aus die alte Frau , die ihm gegenüber wohnte und die ihn mit einer an ihr ganz ungewöhnlichen Neugierde beobachtete , dann aber , gleichzeitig befremdet und hungrig , läutete er . Sofort klopfte es und ein Mann , den er in dieser Wohnung noch niemals gesehen hatte , trat ein . Er war schlank und doch fest gebaut , er trug ein anliegendes schwarzes Kleid , das , ähnlich den Reiseanzügen , mit verschiedenen Falten , Taschen , Schnallen , Knöpfen und einem Gürtel versehen war und infolgedessen , ohne daß man sich darüber klar wurde , wozu es dienen sollte , besonders praktisch erschien . » Wer sind Sie ? « fragte K. und saß gleich halb aufrecht im Bett . Der Mann aber ging über die Frage hinweg , als müsse man seine Erscheinung hinnehmen , und sagte bloß seinerseits : » Sie haben geläutet ? « » Anna soll mir das Frühstück bringen « , sagte K. und versuchte , zunächst stillschweigend , durch Aufmerksamkeit und Überlegung festzustellen , wer der Mann eigentlich war . Aber dieser setzte sich nicht allzulange seinen Blicken aus , sondern wandte sich zur Tür , die er ein wenig öffnete , um jemandem , der offenbar knapp hinter der Tür stand , zu sagen : » Er will , daß Anna ihm das Frühstück bringt . « Ein kleines Gelächter im Nebenzimmer folgte , es war nach dem Klang nicht sicher , ob nicht mehrere Personen daran beteiligt waren . Obwohl der fremde Mann dadurch nichts erfahren haben konnte , was er nicht schon früher gewußt hätte , sagte er nun doch zu K. im Tone einer Meldung : » Es ist unmöglich . « » Das wäre neu « , sagte K. , sprang aus dem Bett und zog rasch seine Hosen an . » Ich will doch sehen ,\n",
              "7  Der Prozess by Franz Kafka Aligned by : bilingual-texts.com ( fully reviewed ) Der Prozess Franz Kafka 1 Verhaftung , Gespräch mit Frau Grubach , dann Fräulein Brüstner Jemand mußte Josef K. verleumdet haben , denn ohne daß er etwas Böses getan hätte , wurde er eines Morgens verhaftet . Die Köchin der Frau Grubach , seiner Zimmervermieterin , die ihm jeden Tag gegen acht Uhr früh das Frühstück brachte , kam diesmal nicht . Das war noch niemals geschehen . K. wartete noch ein Weilchen , sah von seinem Kopfkissen aus die alte Frau , die ihm gegenüber wohnte und die ihn mit einer an ihr ganz ungewöhnlichen Neugierde beobachtete , dann aber , gleichzeitig befremdet und hungrig , läutete er . Sofort klopfte es und ein Mann , den er in dieser Wohnung noch niemals gesehen hatte , trat ein . Er war schlank und doch fest gebaut , er trug ein anliegendes schwarzes Kleid , das , ähnlich den Reiseanzügen , mit verschiedenen Falten , Taschen , Schnallen , Knöpfen und einem Gürtel versehen war und infolgedessen , ohne daß man sich darüber klar wurde , wozu es dienen sollte , besonders praktisch erschien . » Wer sind Sie ? « fragte K. und saß gleich halb aufrecht im Bett . Der Mann aber ging über die Frage hinweg , als müsse man seine Erscheinung hinnehmen , und sagte bloß seinerseits : » Sie haben geläutet ? « » Anna soll mir das Frühstück bringen « , sagte K. und versuchte , zunächst stillschweigend , durch Aufmerksamkeit und Überlegung festzustellen , wer der Mann eigentlich war . Aber dieser setzte sich nicht allzulange seinen Blicken aus , sondern wandte sich zur Tür , die er ein wenig öffnete , um jemandem , der offenbar knapp hinter der Tür stand , zu sagen : » Er will , daß Anna ihm das Frühstück bringt . « Ein kleines Gelächter im Nebenzimmer folgte , es war nach dem Klang nicht sicher , ob nicht mehrere Personen daran beteiligt waren . Obwohl der fremde Mann dadurch nichts erfahren haben konnte , was er nicht schon früher gewußt hätte , sagte er nun doch zu K. im Tone einer Meldung : » Es ist unmöglich . « » Das wäre neu « , sagte K. , sprang aus dem Bett und zog rasch seine Hosen an . » Ich will doch sehen ,\n",
              "8  Der Prozess by Franz Kafka Aligned by : bilingual-texts.com ( fully reviewed ) Der Prozess Franz Kafka 1 Verhaftung , Gespräch mit Frau Grubach , dann Fräulein Brüstner Jemand mußte Josef K. verleumdet haben , denn ohne daß er etwas Böses getan hätte , wurde er eines Morgens verhaftet . Die Köchin der Frau Grubach , seiner Zimmervermieterin , die ihm jeden Tag gegen acht Uhr früh das Frühstück brachte , kam diesmal nicht . Das war noch niemals geschehen . K. wartete noch ein Weilchen , sah von seinem Kopfkissen aus die alte Frau , die ihm gegenüber wohnte und die ihn mit einer an ihr ganz ungewöhnlichen Neugierde beobachtete , dann aber , gleichzeitig befremdet und hungrig , läutete er . Sofort klopfte es und ein Mann , den er in dieser Wohnung noch niemals gesehen hatte , trat ein . Er war schlank und doch fest gebaut , er trug ein anliegendes schwarzes Kleid , das , ähnlich den Reiseanzügen , mit verschiedenen Falten , Taschen , Schnallen , Knöpfen und einem Gürtel versehen war und infolgedessen , ohne daß man sich darüber klar wurde , wozu es dienen sollte , besonders praktisch erschien . » Wer sind Sie ? « fragte K. und saß gleich halb aufrecht im Bett . Der Mann aber ging über die Frage hinweg , als müsse man seine Erscheinung hinnehmen , und sagte bloß seinerseits : » Sie haben geläutet ? « » Anna soll mir das Frühstück bringen « , sagte K. und versuchte , zunächst stillschweigend , durch Aufmerksamkeit und Überlegung festzustellen , wer der Mann eigentlich war . Aber dieser setzte sich nicht allzulange seinen Blicken aus , sondern wandte sich zur Tür , die er ein wenig öffnete , um jemandem , der offenbar knapp hinter der Tür stand , zu sagen : » Er will , daß Anna ihm das Frühstück bringt . « Ein kleines Gelächter im Nebenzimmer folgte , es war nach dem Klang nicht sicher , ob nicht mehrere Personen daran beteiligt waren . Obwohl der fremde Mann dadurch nichts erfahren haben konnte , was er nicht schon früher gewußt hätte , sagte er nun doch zu K. im Tone einer Meldung : » Es ist unmöglich . « » Das wäre neu « , sagte K. , sprang aus dem Bett und zog rasch seine Hosen an . » Ich will doch sehen ,\n",
              "9  Der Prozess by Franz Kafka Aligned by : bilingual-texts.com ( fully reviewed ) Der Prozess Franz Kafka 1 Verhaftung , Gespräch mit Frau Grubach , dann Fräulein Brüstner Jemand mußte Josef K. verleumdet haben , denn ohne daß er etwas Böses getan hätte , wurde er eines Morgens verhaftet . Die Köchin der Frau Grubach , seiner Zimmervermieterin , die ihm jeden Tag gegen acht Uhr früh das Frühstück brachte , kam diesmal nicht . Das war noch niemals geschehen . K. wartete noch ein Weilchen , sah von seinem Kopfkissen aus die alte Frau , die ihm gegenüber wohnte und die ihn mit einer an ihr ganz ungewöhnlichen Neugierde beobachtete , dann aber , gleichzeitig befremdet und hungrig , läutete er . Sofort klopfte es und ein Mann , den er in dieser Wohnung noch niemals gesehen hatte , trat ein . Er war schlank und doch fest gebaut , er trug ein anliegendes schwarzes Kleid , das , ähnlich den Reiseanzügen , mit verschiedenen Falten , Taschen , Schnallen , Knöpfen und einem Gürtel versehen war und infolgedessen , ohne daß man sich darüber klar wurde , wozu es dienen sollte , besonders praktisch erschien . » Wer sind Sie ? « fragte K. und saß gleich halb aufrecht im Bett . Der Mann aber ging über die Frage hinweg , als müsse man seine Erscheinung hinnehmen , und sagte bloß seinerseits : » Sie haben geläutet ? « » Anna soll mir das Frühstück bringen « , sagte K. und versuchte , zunächst stillschweigend , durch Aufmerksamkeit und Überlegung festzustellen , wer der Mann eigentlich war . Aber dieser setzte sich nicht allzulange seinen Blicken aus , sondern wandte sich zur Tür , die er ein wenig öffnete , um jemandem , der offenbar knapp hinter der Tür stand , zu sagen : » Er will , daß Anna ihm das Frühstück bringt . « Ein kleines Gelächter im Nebenzimmer folgte , es war nach dem Klang nicht sicher , ob nicht mehrere Personen daran beteiligt waren . Obwohl der fremde Mann dadurch nichts erfahren haben konnte , was er nicht schon früher gewußt hätte , sagte er nun doch zu K. im Tone einer Meldung : » Es ist unmöglich . « » Das wäre neu « , sagte K. , sprang aus dem Bett und zog rasch seine Hosen an . » Ich will doch sehen ,\n",
              "10 Der Prozess by Franz Kafka Aligned by : bilingual-texts.com ( fully reviewed ) Der Prozess Franz Kafka 1 Verhaftung , Gespräch mit Frau Grubach , dann Fräulein Brüstner Jemand mußte Josef K. verleumdet haben , denn ohne daß er etwas Böses getan hätte , wurde er eines Morgens verhaftet . Die Köchin der Frau Grubach , seiner Zimmervermieterin , die ihm jeden Tag gegen acht Uhr früh das Frühstück brachte , kam diesmal nicht . Das war noch niemals geschehen . K. wartete noch ein Weilchen , sah von seinem Kopfkissen aus die alte Frau , die ihm gegenüber wohnte und die ihn mit einer an ihr ganz ungewöhnlichen Neugierde beobachtete , dann aber , gleichzeitig befremdet und hungrig , läutete er . Sofort klopfte es und ein Mann , den er in dieser Wohnung noch niemals gesehen hatte , trat ein . Er war schlank und doch fest gebaut , er trug ein anliegendes schwarzes Kleid , das , ähnlich den Reiseanzügen , mit verschiedenen Falten , Taschen , Schnallen , Knöpfen und einem Gürtel versehen war und infolgedessen , ohne daß man sich darüber klar wurde , wozu es dienen sollte , besonders praktisch erschien . » Wer sind Sie ? « fragte K. und saß gleich halb aufrecht im Bett . Der Mann aber ging über die Frage hinweg , als müsse man seine Erscheinung hinnehmen , und sagte bloß seinerseits : » Sie haben geläutet ? « » Anna soll mir das Frühstück bringen « , sagte K. und versuchte , zunächst stillschweigend , durch Aufmerksamkeit und Überlegung festzustellen , wer der Mann eigentlich war . Aber dieser setzte sich nicht allzulange seinen Blicken aus , sondern wandte sich zur Tür , die er ein wenig öffnete , um jemandem , der offenbar knapp hinter der Tür stand , zu sagen : » Er will , daß Anna ihm das Frühstück bringt . « Ein kleines Gelächter im Nebenzimmer folgte , es war nach dem Klang nicht sicher , ob nicht mehrere Personen daran beteiligt waren . Obwohl der fremde Mann dadurch nichts erfahren haben konnte , was er nicht schon früher gewußt hätte , sagte er nun doch zu K. im Tone einer Meldung : » Es ist unmöglich . « » Das wäre neu « , sagte K. , sprang aus dem Bett und zog rasch seine Hosen an . » Ich will doch sehen ,\n",
              "   token_id token      lemma      upos  xpos \n",
              "1  2        Prozess    prozeß     NOUN  NN   \n",
              "2  15       Prozess    prozeß     PROPN NN   \n",
              "3  19       Verhaftung verhaftung NOUN  NN   \n",
              "4  21       Gespräch   gespräch   NOUN  NN   \n",
              "5  23       Frau       frau       NOUN  NN   \n",
              "6  24       Grubach    grubach    PROPN NN   \n",
              "7  27       Fräulein   fräulein   PROPN NE   \n",
              "8  28       Brüstner   brüstner   PROPN NE   \n",
              "9  29       Jemand     jemand     PROPN NE   \n",
              "10 30       mußte      müssen     AUX   VVFIN\n",
              "   feats                                                 head_token_id dep_rel\n",
              "1  Case=Nom|Gender=Masc|Number=Sing                      72            nsubj  \n",
              "2  Case=Nom|Gender=Masc|Number=Sing                      19            amod   \n",
              "3  Case=Nom|Gender=Fem|Number=Sing                       2             nmod   \n",
              "4  Case=Dat|Gender=Neut|Number=Sing                      19            appos  \n",
              "5  Case=Dat|Gender=Fem|Number=Sing                       21            nmod   \n",
              "6  Case=Dat|Gender=Neut|Number=Sing                      23            appos  \n",
              "7  Case=Nom|Gender=Masc|Number=Sing                      33            nsubj  \n",
              "8  Case=Nom|Gender=Masc|Number=Sing                      27            flat   \n",
              "9  Case=Nom|Definite=Ind|Number=Sing|PronType=Ind        27            flat   \n",
              "10 Mood=Ind|Number=Sing|Person=3|Tense=Past|VerbForm=Fin 33            aux    \n",
              "   deps misc                           word      \n",
              "1  NA   NA                             prozess   \n",
              "2  NA   SpacesAfter=\\\\s\\\\s\\\\s\\\\s\\\\s\\\\s prozess   \n",
              "3  NA   NA                             verhaftung\n",
              "4  NA   NA                             gespräch  \n",
              "5  NA   NA                             frau      \n",
              "6  NA   NA                             grubach   \n",
              "7  NA   NA                             fräulein  \n",
              "8  NA   SpacesAfter=\\\\s\\\\s\\\\s          brüstner  \n",
              "9  NA   NA                             jemand    \n",
              "10 NA   NA                             mußte     "
            ],
            "text/latex": "A paged\\_df: 10 × 15\n\\begin{tabular}{r|lllllllllllllll}\n  & doc\\_id & paragraph\\_id & sentence\\_id & sentence & token\\_id & token & lemma & upos & xpos & feats & head\\_token\\_id & dep\\_rel & deps & misc & word\\\\\n  & <chr> & <int> & <int> & <chr> & <chr> & <chr> & <chr> & <chr> & <chr> & <chr> & <chr> & <chr> & <chr> & <chr> & <chr>\\\\\n\\hline\n\t1 & prozess & 1 & 1 & Der Prozess by Franz Kafka Aligned by : bilingual-texts.com ( fully reviewed ) Der Prozess Franz Kafka 1 Verhaftung , Gespräch mit Frau Grubach , dann Fräulein Brüstner Jemand mußte Josef K. verleumdet haben , denn ohne daß er etwas Böses getan hätte , wurde er eines Morgens verhaftet . Die Köchin der Frau Grubach , seiner Zimmervermieterin , die ihm jeden Tag gegen acht Uhr früh das Frühstück brachte , kam diesmal nicht . Das war noch niemals geschehen . K. wartete noch ein Weilchen , sah von seinem Kopfkissen aus die alte Frau , die ihm gegenüber wohnte und die ihn mit einer an ihr ganz ungewöhnlichen Neugierde beobachtete , dann aber , gleichzeitig befremdet und hungrig , läutete er . Sofort klopfte es und ein Mann , den er in dieser Wohnung noch niemals gesehen hatte , trat ein . Er war schlank und doch fest gebaut , er trug ein anliegendes schwarzes Kleid , das , ähnlich den Reiseanzügen , mit verschiedenen Falten , Taschen , Schnallen , Knöpfen und einem Gürtel versehen war und infolgedessen , ohne daß man sich darüber klar wurde , wozu es dienen sollte , besonders praktisch erschien . » Wer sind Sie ? « fragte K. und saß gleich halb aufrecht im Bett . Der Mann aber ging über die Frage hinweg , als müsse man seine Erscheinung hinnehmen , und sagte bloß seinerseits : » Sie haben geläutet ? « » Anna soll mir das Frühstück bringen « , sagte K. und versuchte , zunächst stillschweigend , durch Aufmerksamkeit und Überlegung festzustellen , wer der Mann eigentlich war . Aber dieser setzte sich nicht allzulange seinen Blicken aus , sondern wandte sich zur Tür , die er ein wenig öffnete , um jemandem , der offenbar knapp hinter der Tür stand , zu sagen : » Er will , daß Anna ihm das Frühstück bringt . « Ein kleines Gelächter im Nebenzimmer folgte , es war nach dem Klang nicht sicher , ob nicht mehrere Personen daran beteiligt waren . Obwohl der fremde Mann dadurch nichts erfahren haben konnte , was er nicht schon früher gewußt hätte , sagte er nun doch zu K. im Tone einer Meldung : » Es ist unmöglich . « » Das wäre neu « , sagte K. , sprang aus dem Bett und zog rasch seine Hosen an . » Ich will doch sehen , & 2  & Prozess    & prozeß     & NOUN  & NN    & Case=Nom\\textbar{}Gender=Masc\\textbar{}Number=Sing                      & 72 & nsubj & NA & NA                             & prozess   \\\\\n\t2 & prozess & 1 & 1 & Der Prozess by Franz Kafka Aligned by : bilingual-texts.com ( fully reviewed ) Der Prozess Franz Kafka 1 Verhaftung , Gespräch mit Frau Grubach , dann Fräulein Brüstner Jemand mußte Josef K. verleumdet haben , denn ohne daß er etwas Böses getan hätte , wurde er eines Morgens verhaftet . Die Köchin der Frau Grubach , seiner Zimmervermieterin , die ihm jeden Tag gegen acht Uhr früh das Frühstück brachte , kam diesmal nicht . Das war noch niemals geschehen . K. wartete noch ein Weilchen , sah von seinem Kopfkissen aus die alte Frau , die ihm gegenüber wohnte und die ihn mit einer an ihr ganz ungewöhnlichen Neugierde beobachtete , dann aber , gleichzeitig befremdet und hungrig , läutete er . Sofort klopfte es und ein Mann , den er in dieser Wohnung noch niemals gesehen hatte , trat ein . Er war schlank und doch fest gebaut , er trug ein anliegendes schwarzes Kleid , das , ähnlich den Reiseanzügen , mit verschiedenen Falten , Taschen , Schnallen , Knöpfen und einem Gürtel versehen war und infolgedessen , ohne daß man sich darüber klar wurde , wozu es dienen sollte , besonders praktisch erschien . » Wer sind Sie ? « fragte K. und saß gleich halb aufrecht im Bett . Der Mann aber ging über die Frage hinweg , als müsse man seine Erscheinung hinnehmen , und sagte bloß seinerseits : » Sie haben geläutet ? « » Anna soll mir das Frühstück bringen « , sagte K. und versuchte , zunächst stillschweigend , durch Aufmerksamkeit und Überlegung festzustellen , wer der Mann eigentlich war . Aber dieser setzte sich nicht allzulange seinen Blicken aus , sondern wandte sich zur Tür , die er ein wenig öffnete , um jemandem , der offenbar knapp hinter der Tür stand , zu sagen : » Er will , daß Anna ihm das Frühstück bringt . « Ein kleines Gelächter im Nebenzimmer folgte , es war nach dem Klang nicht sicher , ob nicht mehrere Personen daran beteiligt waren . Obwohl der fremde Mann dadurch nichts erfahren haben konnte , was er nicht schon früher gewußt hätte , sagte er nun doch zu K. im Tone einer Meldung : » Es ist unmöglich . « » Das wäre neu « , sagte K. , sprang aus dem Bett und zog rasch seine Hosen an . » Ich will doch sehen , & 15 & Prozess    & prozeß     & PROPN & NN    & Case=Nom\\textbar{}Gender=Masc\\textbar{}Number=Sing                      & 19 & amod  & NA & SpacesAfter=\\textbackslash{}s\\textbackslash{}s\\textbackslash{}s\\textbackslash{}s\\textbackslash{}s\\textbackslash{}s & prozess   \\\\\n\t3 & prozess & 1 & 1 & Der Prozess by Franz Kafka Aligned by : bilingual-texts.com ( fully reviewed ) Der Prozess Franz Kafka 1 Verhaftung , Gespräch mit Frau Grubach , dann Fräulein Brüstner Jemand mußte Josef K. verleumdet haben , denn ohne daß er etwas Böses getan hätte , wurde er eines Morgens verhaftet . Die Köchin der Frau Grubach , seiner Zimmervermieterin , die ihm jeden Tag gegen acht Uhr früh das Frühstück brachte , kam diesmal nicht . Das war noch niemals geschehen . K. wartete noch ein Weilchen , sah von seinem Kopfkissen aus die alte Frau , die ihm gegenüber wohnte und die ihn mit einer an ihr ganz ungewöhnlichen Neugierde beobachtete , dann aber , gleichzeitig befremdet und hungrig , läutete er . Sofort klopfte es und ein Mann , den er in dieser Wohnung noch niemals gesehen hatte , trat ein . Er war schlank und doch fest gebaut , er trug ein anliegendes schwarzes Kleid , das , ähnlich den Reiseanzügen , mit verschiedenen Falten , Taschen , Schnallen , Knöpfen und einem Gürtel versehen war und infolgedessen , ohne daß man sich darüber klar wurde , wozu es dienen sollte , besonders praktisch erschien . » Wer sind Sie ? « fragte K. und saß gleich halb aufrecht im Bett . Der Mann aber ging über die Frage hinweg , als müsse man seine Erscheinung hinnehmen , und sagte bloß seinerseits : » Sie haben geläutet ? « » Anna soll mir das Frühstück bringen « , sagte K. und versuchte , zunächst stillschweigend , durch Aufmerksamkeit und Überlegung festzustellen , wer der Mann eigentlich war . Aber dieser setzte sich nicht allzulange seinen Blicken aus , sondern wandte sich zur Tür , die er ein wenig öffnete , um jemandem , der offenbar knapp hinter der Tür stand , zu sagen : » Er will , daß Anna ihm das Frühstück bringt . « Ein kleines Gelächter im Nebenzimmer folgte , es war nach dem Klang nicht sicher , ob nicht mehrere Personen daran beteiligt waren . Obwohl der fremde Mann dadurch nichts erfahren haben konnte , was er nicht schon früher gewußt hätte , sagte er nun doch zu K. im Tone einer Meldung : » Es ist unmöglich . « » Das wäre neu « , sagte K. , sprang aus dem Bett und zog rasch seine Hosen an . » Ich will doch sehen , & 19 & Verhaftung & verhaftung & NOUN  & NN    & Case=Nom\\textbar{}Gender=Fem\\textbar{}Number=Sing                       & 2  & nmod  & NA & NA                             & verhaftung\\\\\n\t4 & prozess & 1 & 1 & Der Prozess by Franz Kafka Aligned by : bilingual-texts.com ( fully reviewed ) Der Prozess Franz Kafka 1 Verhaftung , Gespräch mit Frau Grubach , dann Fräulein Brüstner Jemand mußte Josef K. verleumdet haben , denn ohne daß er etwas Böses getan hätte , wurde er eines Morgens verhaftet . Die Köchin der Frau Grubach , seiner Zimmervermieterin , die ihm jeden Tag gegen acht Uhr früh das Frühstück brachte , kam diesmal nicht . Das war noch niemals geschehen . K. wartete noch ein Weilchen , sah von seinem Kopfkissen aus die alte Frau , die ihm gegenüber wohnte und die ihn mit einer an ihr ganz ungewöhnlichen Neugierde beobachtete , dann aber , gleichzeitig befremdet und hungrig , läutete er . Sofort klopfte es und ein Mann , den er in dieser Wohnung noch niemals gesehen hatte , trat ein . Er war schlank und doch fest gebaut , er trug ein anliegendes schwarzes Kleid , das , ähnlich den Reiseanzügen , mit verschiedenen Falten , Taschen , Schnallen , Knöpfen und einem Gürtel versehen war und infolgedessen , ohne daß man sich darüber klar wurde , wozu es dienen sollte , besonders praktisch erschien . » Wer sind Sie ? « fragte K. und saß gleich halb aufrecht im Bett . Der Mann aber ging über die Frage hinweg , als müsse man seine Erscheinung hinnehmen , und sagte bloß seinerseits : » Sie haben geläutet ? « » Anna soll mir das Frühstück bringen « , sagte K. und versuchte , zunächst stillschweigend , durch Aufmerksamkeit und Überlegung festzustellen , wer der Mann eigentlich war . Aber dieser setzte sich nicht allzulange seinen Blicken aus , sondern wandte sich zur Tür , die er ein wenig öffnete , um jemandem , der offenbar knapp hinter der Tür stand , zu sagen : » Er will , daß Anna ihm das Frühstück bringt . « Ein kleines Gelächter im Nebenzimmer folgte , es war nach dem Klang nicht sicher , ob nicht mehrere Personen daran beteiligt waren . Obwohl der fremde Mann dadurch nichts erfahren haben konnte , was er nicht schon früher gewußt hätte , sagte er nun doch zu K. im Tone einer Meldung : » Es ist unmöglich . « » Das wäre neu « , sagte K. , sprang aus dem Bett und zog rasch seine Hosen an . » Ich will doch sehen , & 21 & Gespräch   & gespräch   & NOUN  & NN    & Case=Dat\\textbar{}Gender=Neut\\textbar{}Number=Sing                      & 19 & appos & NA & NA                             & gespräch  \\\\\n\t5 & prozess & 1 & 1 & Der Prozess by Franz Kafka Aligned by : bilingual-texts.com ( fully reviewed ) Der Prozess Franz Kafka 1 Verhaftung , Gespräch mit Frau Grubach , dann Fräulein Brüstner Jemand mußte Josef K. verleumdet haben , denn ohne daß er etwas Böses getan hätte , wurde er eines Morgens verhaftet . Die Köchin der Frau Grubach , seiner Zimmervermieterin , die ihm jeden Tag gegen acht Uhr früh das Frühstück brachte , kam diesmal nicht . Das war noch niemals geschehen . K. wartete noch ein Weilchen , sah von seinem Kopfkissen aus die alte Frau , die ihm gegenüber wohnte und die ihn mit einer an ihr ganz ungewöhnlichen Neugierde beobachtete , dann aber , gleichzeitig befremdet und hungrig , läutete er . Sofort klopfte es und ein Mann , den er in dieser Wohnung noch niemals gesehen hatte , trat ein . Er war schlank und doch fest gebaut , er trug ein anliegendes schwarzes Kleid , das , ähnlich den Reiseanzügen , mit verschiedenen Falten , Taschen , Schnallen , Knöpfen und einem Gürtel versehen war und infolgedessen , ohne daß man sich darüber klar wurde , wozu es dienen sollte , besonders praktisch erschien . » Wer sind Sie ? « fragte K. und saß gleich halb aufrecht im Bett . Der Mann aber ging über die Frage hinweg , als müsse man seine Erscheinung hinnehmen , und sagte bloß seinerseits : » Sie haben geläutet ? « » Anna soll mir das Frühstück bringen « , sagte K. und versuchte , zunächst stillschweigend , durch Aufmerksamkeit und Überlegung festzustellen , wer der Mann eigentlich war . Aber dieser setzte sich nicht allzulange seinen Blicken aus , sondern wandte sich zur Tür , die er ein wenig öffnete , um jemandem , der offenbar knapp hinter der Tür stand , zu sagen : » Er will , daß Anna ihm das Frühstück bringt . « Ein kleines Gelächter im Nebenzimmer folgte , es war nach dem Klang nicht sicher , ob nicht mehrere Personen daran beteiligt waren . Obwohl der fremde Mann dadurch nichts erfahren haben konnte , was er nicht schon früher gewußt hätte , sagte er nun doch zu K. im Tone einer Meldung : » Es ist unmöglich . « » Das wäre neu « , sagte K. , sprang aus dem Bett und zog rasch seine Hosen an . » Ich will doch sehen , & 23 & Frau       & frau       & NOUN  & NN    & Case=Dat\\textbar{}Gender=Fem\\textbar{}Number=Sing                       & 21 & nmod  & NA & NA                             & frau      \\\\\n\t6 & prozess & 1 & 1 & Der Prozess by Franz Kafka Aligned by : bilingual-texts.com ( fully reviewed ) Der Prozess Franz Kafka 1 Verhaftung , Gespräch mit Frau Grubach , dann Fräulein Brüstner Jemand mußte Josef K. verleumdet haben , denn ohne daß er etwas Böses getan hätte , wurde er eines Morgens verhaftet . Die Köchin der Frau Grubach , seiner Zimmervermieterin , die ihm jeden Tag gegen acht Uhr früh das Frühstück brachte , kam diesmal nicht . Das war noch niemals geschehen . K. wartete noch ein Weilchen , sah von seinem Kopfkissen aus die alte Frau , die ihm gegenüber wohnte und die ihn mit einer an ihr ganz ungewöhnlichen Neugierde beobachtete , dann aber , gleichzeitig befremdet und hungrig , läutete er . Sofort klopfte es und ein Mann , den er in dieser Wohnung noch niemals gesehen hatte , trat ein . Er war schlank und doch fest gebaut , er trug ein anliegendes schwarzes Kleid , das , ähnlich den Reiseanzügen , mit verschiedenen Falten , Taschen , Schnallen , Knöpfen und einem Gürtel versehen war und infolgedessen , ohne daß man sich darüber klar wurde , wozu es dienen sollte , besonders praktisch erschien . » Wer sind Sie ? « fragte K. und saß gleich halb aufrecht im Bett . Der Mann aber ging über die Frage hinweg , als müsse man seine Erscheinung hinnehmen , und sagte bloß seinerseits : » Sie haben geläutet ? « » Anna soll mir das Frühstück bringen « , sagte K. und versuchte , zunächst stillschweigend , durch Aufmerksamkeit und Überlegung festzustellen , wer der Mann eigentlich war . Aber dieser setzte sich nicht allzulange seinen Blicken aus , sondern wandte sich zur Tür , die er ein wenig öffnete , um jemandem , der offenbar knapp hinter der Tür stand , zu sagen : » Er will , daß Anna ihm das Frühstück bringt . « Ein kleines Gelächter im Nebenzimmer folgte , es war nach dem Klang nicht sicher , ob nicht mehrere Personen daran beteiligt waren . Obwohl der fremde Mann dadurch nichts erfahren haben konnte , was er nicht schon früher gewußt hätte , sagte er nun doch zu K. im Tone einer Meldung : » Es ist unmöglich . « » Das wäre neu « , sagte K. , sprang aus dem Bett und zog rasch seine Hosen an . » Ich will doch sehen , & 24 & Grubach    & grubach    & PROPN & NN    & Case=Dat\\textbar{}Gender=Neut\\textbar{}Number=Sing                      & 23 & appos & NA & NA                             & grubach   \\\\\n\t7 & prozess & 1 & 1 & Der Prozess by Franz Kafka Aligned by : bilingual-texts.com ( fully reviewed ) Der Prozess Franz Kafka 1 Verhaftung , Gespräch mit Frau Grubach , dann Fräulein Brüstner Jemand mußte Josef K. verleumdet haben , denn ohne daß er etwas Böses getan hätte , wurde er eines Morgens verhaftet . Die Köchin der Frau Grubach , seiner Zimmervermieterin , die ihm jeden Tag gegen acht Uhr früh das Frühstück brachte , kam diesmal nicht . Das war noch niemals geschehen . K. wartete noch ein Weilchen , sah von seinem Kopfkissen aus die alte Frau , die ihm gegenüber wohnte und die ihn mit einer an ihr ganz ungewöhnlichen Neugierde beobachtete , dann aber , gleichzeitig befremdet und hungrig , läutete er . Sofort klopfte es und ein Mann , den er in dieser Wohnung noch niemals gesehen hatte , trat ein . Er war schlank und doch fest gebaut , er trug ein anliegendes schwarzes Kleid , das , ähnlich den Reiseanzügen , mit verschiedenen Falten , Taschen , Schnallen , Knöpfen und einem Gürtel versehen war und infolgedessen , ohne daß man sich darüber klar wurde , wozu es dienen sollte , besonders praktisch erschien . » Wer sind Sie ? « fragte K. und saß gleich halb aufrecht im Bett . Der Mann aber ging über die Frage hinweg , als müsse man seine Erscheinung hinnehmen , und sagte bloß seinerseits : » Sie haben geläutet ? « » Anna soll mir das Frühstück bringen « , sagte K. und versuchte , zunächst stillschweigend , durch Aufmerksamkeit und Überlegung festzustellen , wer der Mann eigentlich war . Aber dieser setzte sich nicht allzulange seinen Blicken aus , sondern wandte sich zur Tür , die er ein wenig öffnete , um jemandem , der offenbar knapp hinter der Tür stand , zu sagen : » Er will , daß Anna ihm das Frühstück bringt . « Ein kleines Gelächter im Nebenzimmer folgte , es war nach dem Klang nicht sicher , ob nicht mehrere Personen daran beteiligt waren . Obwohl der fremde Mann dadurch nichts erfahren haben konnte , was er nicht schon früher gewußt hätte , sagte er nun doch zu K. im Tone einer Meldung : » Es ist unmöglich . « » Das wäre neu « , sagte K. , sprang aus dem Bett und zog rasch seine Hosen an . » Ich will doch sehen , & 27 & Fräulein   & fräulein   & PROPN & NE    & Case=Nom\\textbar{}Gender=Masc\\textbar{}Number=Sing                      & 33 & nsubj & NA & NA                             & fräulein  \\\\\n\t8 & prozess & 1 & 1 & Der Prozess by Franz Kafka Aligned by : bilingual-texts.com ( fully reviewed ) Der Prozess Franz Kafka 1 Verhaftung , Gespräch mit Frau Grubach , dann Fräulein Brüstner Jemand mußte Josef K. verleumdet haben , denn ohne daß er etwas Böses getan hätte , wurde er eines Morgens verhaftet . Die Köchin der Frau Grubach , seiner Zimmervermieterin , die ihm jeden Tag gegen acht Uhr früh das Frühstück brachte , kam diesmal nicht . Das war noch niemals geschehen . K. wartete noch ein Weilchen , sah von seinem Kopfkissen aus die alte Frau , die ihm gegenüber wohnte und die ihn mit einer an ihr ganz ungewöhnlichen Neugierde beobachtete , dann aber , gleichzeitig befremdet und hungrig , läutete er . Sofort klopfte es und ein Mann , den er in dieser Wohnung noch niemals gesehen hatte , trat ein . Er war schlank und doch fest gebaut , er trug ein anliegendes schwarzes Kleid , das , ähnlich den Reiseanzügen , mit verschiedenen Falten , Taschen , Schnallen , Knöpfen und einem Gürtel versehen war und infolgedessen , ohne daß man sich darüber klar wurde , wozu es dienen sollte , besonders praktisch erschien . » Wer sind Sie ? « fragte K. und saß gleich halb aufrecht im Bett . Der Mann aber ging über die Frage hinweg , als müsse man seine Erscheinung hinnehmen , und sagte bloß seinerseits : » Sie haben geläutet ? « » Anna soll mir das Frühstück bringen « , sagte K. und versuchte , zunächst stillschweigend , durch Aufmerksamkeit und Überlegung festzustellen , wer der Mann eigentlich war . Aber dieser setzte sich nicht allzulange seinen Blicken aus , sondern wandte sich zur Tür , die er ein wenig öffnete , um jemandem , der offenbar knapp hinter der Tür stand , zu sagen : » Er will , daß Anna ihm das Frühstück bringt . « Ein kleines Gelächter im Nebenzimmer folgte , es war nach dem Klang nicht sicher , ob nicht mehrere Personen daran beteiligt waren . Obwohl der fremde Mann dadurch nichts erfahren haben konnte , was er nicht schon früher gewußt hätte , sagte er nun doch zu K. im Tone einer Meldung : » Es ist unmöglich . « » Das wäre neu « , sagte K. , sprang aus dem Bett und zog rasch seine Hosen an . » Ich will doch sehen , & 28 & Brüstner   & brüstner   & PROPN & NE    & Case=Nom\\textbar{}Gender=Masc\\textbar{}Number=Sing                      & 27 & flat  & NA & SpacesAfter=\\textbackslash{}s\\textbackslash{}s\\textbackslash{}s          & brüstner  \\\\\n\t9 & prozess & 1 & 1 & Der Prozess by Franz Kafka Aligned by : bilingual-texts.com ( fully reviewed ) Der Prozess Franz Kafka 1 Verhaftung , Gespräch mit Frau Grubach , dann Fräulein Brüstner Jemand mußte Josef K. verleumdet haben , denn ohne daß er etwas Böses getan hätte , wurde er eines Morgens verhaftet . Die Köchin der Frau Grubach , seiner Zimmervermieterin , die ihm jeden Tag gegen acht Uhr früh das Frühstück brachte , kam diesmal nicht . Das war noch niemals geschehen . K. wartete noch ein Weilchen , sah von seinem Kopfkissen aus die alte Frau , die ihm gegenüber wohnte und die ihn mit einer an ihr ganz ungewöhnlichen Neugierde beobachtete , dann aber , gleichzeitig befremdet und hungrig , läutete er . Sofort klopfte es und ein Mann , den er in dieser Wohnung noch niemals gesehen hatte , trat ein . Er war schlank und doch fest gebaut , er trug ein anliegendes schwarzes Kleid , das , ähnlich den Reiseanzügen , mit verschiedenen Falten , Taschen , Schnallen , Knöpfen und einem Gürtel versehen war und infolgedessen , ohne daß man sich darüber klar wurde , wozu es dienen sollte , besonders praktisch erschien . » Wer sind Sie ? « fragte K. und saß gleich halb aufrecht im Bett . Der Mann aber ging über die Frage hinweg , als müsse man seine Erscheinung hinnehmen , und sagte bloß seinerseits : » Sie haben geläutet ? « » Anna soll mir das Frühstück bringen « , sagte K. und versuchte , zunächst stillschweigend , durch Aufmerksamkeit und Überlegung festzustellen , wer der Mann eigentlich war . Aber dieser setzte sich nicht allzulange seinen Blicken aus , sondern wandte sich zur Tür , die er ein wenig öffnete , um jemandem , der offenbar knapp hinter der Tür stand , zu sagen : » Er will , daß Anna ihm das Frühstück bringt . « Ein kleines Gelächter im Nebenzimmer folgte , es war nach dem Klang nicht sicher , ob nicht mehrere Personen daran beteiligt waren . Obwohl der fremde Mann dadurch nichts erfahren haben konnte , was er nicht schon früher gewußt hätte , sagte er nun doch zu K. im Tone einer Meldung : » Es ist unmöglich . « » Das wäre neu « , sagte K. , sprang aus dem Bett und zog rasch seine Hosen an . » Ich will doch sehen , & 29 & Jemand     & jemand     & PROPN & NE    & Case=Nom\\textbar{}Definite=Ind\\textbar{}Number=Sing\\textbar{}PronType=Ind        & 27 & flat  & NA & NA                             & jemand    \\\\\n\t10 & prozess & 1 & 1 & Der Prozess by Franz Kafka Aligned by : bilingual-texts.com ( fully reviewed ) Der Prozess Franz Kafka 1 Verhaftung , Gespräch mit Frau Grubach , dann Fräulein Brüstner Jemand mußte Josef K. verleumdet haben , denn ohne daß er etwas Böses getan hätte , wurde er eines Morgens verhaftet . Die Köchin der Frau Grubach , seiner Zimmervermieterin , die ihm jeden Tag gegen acht Uhr früh das Frühstück brachte , kam diesmal nicht . Das war noch niemals geschehen . K. wartete noch ein Weilchen , sah von seinem Kopfkissen aus die alte Frau , die ihm gegenüber wohnte und die ihn mit einer an ihr ganz ungewöhnlichen Neugierde beobachtete , dann aber , gleichzeitig befremdet und hungrig , läutete er . Sofort klopfte es und ein Mann , den er in dieser Wohnung noch niemals gesehen hatte , trat ein . Er war schlank und doch fest gebaut , er trug ein anliegendes schwarzes Kleid , das , ähnlich den Reiseanzügen , mit verschiedenen Falten , Taschen , Schnallen , Knöpfen und einem Gürtel versehen war und infolgedessen , ohne daß man sich darüber klar wurde , wozu es dienen sollte , besonders praktisch erschien . » Wer sind Sie ? « fragte K. und saß gleich halb aufrecht im Bett . Der Mann aber ging über die Frage hinweg , als müsse man seine Erscheinung hinnehmen , und sagte bloß seinerseits : » Sie haben geläutet ? « » Anna soll mir das Frühstück bringen « , sagte K. und versuchte , zunächst stillschweigend , durch Aufmerksamkeit und Überlegung festzustellen , wer der Mann eigentlich war . Aber dieser setzte sich nicht allzulange seinen Blicken aus , sondern wandte sich zur Tür , die er ein wenig öffnete , um jemandem , der offenbar knapp hinter der Tür stand , zu sagen : » Er will , daß Anna ihm das Frühstück bringt . « Ein kleines Gelächter im Nebenzimmer folgte , es war nach dem Klang nicht sicher , ob nicht mehrere Personen daran beteiligt waren . Obwohl der fremde Mann dadurch nichts erfahren haben konnte , was er nicht schon früher gewußt hätte , sagte er nun doch zu K. im Tone einer Meldung : » Es ist unmöglich . « » Das wäre neu « , sagte K. , sprang aus dem Bett und zog rasch seine Hosen an . » Ich will doch sehen , & 30 & mußte      & müssen     & AUX   & VVFIN & Mood=Ind\\textbar{}Number=Sing\\textbar{}Person=3\\textbar{}Tense=Past\\textbar{}VerbForm=Fin & 33 & aux   & NA & NA                             & mußte     \\\\\n\\end{tabular}\n",
            "text/markdown": "\nA paged_df: 10 × 15\n\n| <!--/--> | doc_id &lt;chr&gt; | paragraph_id &lt;int&gt; | sentence_id &lt;int&gt; | sentence &lt;chr&gt; | token_id &lt;chr&gt; | token &lt;chr&gt; | lemma &lt;chr&gt; | upos &lt;chr&gt; | xpos &lt;chr&gt; | feats &lt;chr&gt; | head_token_id &lt;chr&gt; | dep_rel &lt;chr&gt; | deps &lt;chr&gt; | misc &lt;chr&gt; | word &lt;chr&gt; |\n|---|---|---|---|---|---|---|---|---|---|---|---|---|---|---|---|\n| 1 | prozess | 1 | 1 | Der Prozess by Franz Kafka Aligned by : bilingual-texts.com ( fully reviewed ) Der Prozess Franz Kafka 1 Verhaftung , Gespräch mit Frau Grubach , dann Fräulein Brüstner Jemand mußte Josef K. verleumdet haben , denn ohne daß er etwas Böses getan hätte , wurde er eines Morgens verhaftet . Die Köchin der Frau Grubach , seiner Zimmervermieterin , die ihm jeden Tag gegen acht Uhr früh das Frühstück brachte , kam diesmal nicht . Das war noch niemals geschehen . K. wartete noch ein Weilchen , sah von seinem Kopfkissen aus die alte Frau , die ihm gegenüber wohnte und die ihn mit einer an ihr ganz ungewöhnlichen Neugierde beobachtete , dann aber , gleichzeitig befremdet und hungrig , läutete er . Sofort klopfte es und ein Mann , den er in dieser Wohnung noch niemals gesehen hatte , trat ein . Er war schlank und doch fest gebaut , er trug ein anliegendes schwarzes Kleid , das , ähnlich den Reiseanzügen , mit verschiedenen Falten , Taschen , Schnallen , Knöpfen und einem Gürtel versehen war und infolgedessen , ohne daß man sich darüber klar wurde , wozu es dienen sollte , besonders praktisch erschien . » Wer sind Sie ? « fragte K. und saß gleich halb aufrecht im Bett . Der Mann aber ging über die Frage hinweg , als müsse man seine Erscheinung hinnehmen , und sagte bloß seinerseits : » Sie haben geläutet ? « » Anna soll mir das Frühstück bringen « , sagte K. und versuchte , zunächst stillschweigend , durch Aufmerksamkeit und Überlegung festzustellen , wer der Mann eigentlich war . Aber dieser setzte sich nicht allzulange seinen Blicken aus , sondern wandte sich zur Tür , die er ein wenig öffnete , um jemandem , der offenbar knapp hinter der Tür stand , zu sagen : » Er will , daß Anna ihm das Frühstück bringt . « Ein kleines Gelächter im Nebenzimmer folgte , es war nach dem Klang nicht sicher , ob nicht mehrere Personen daran beteiligt waren . Obwohl der fremde Mann dadurch nichts erfahren haben konnte , was er nicht schon früher gewußt hätte , sagte er nun doch zu K. im Tone einer Meldung : » Es ist unmöglich . « » Das wäre neu « , sagte K. , sprang aus dem Bett und zog rasch seine Hosen an . » Ich will doch sehen , | 2  | Prozess    | prozeß     | NOUN  | NN    | Case=Nom|Gender=Masc|Number=Sing                      | 72 | nsubj | NA | NA                             | prozess    |\n| 2 | prozess | 1 | 1 | Der Prozess by Franz Kafka Aligned by : bilingual-texts.com ( fully reviewed ) Der Prozess Franz Kafka 1 Verhaftung , Gespräch mit Frau Grubach , dann Fräulein Brüstner Jemand mußte Josef K. verleumdet haben , denn ohne daß er etwas Böses getan hätte , wurde er eines Morgens verhaftet . Die Köchin der Frau Grubach , seiner Zimmervermieterin , die ihm jeden Tag gegen acht Uhr früh das Frühstück brachte , kam diesmal nicht . Das war noch niemals geschehen . K. wartete noch ein Weilchen , sah von seinem Kopfkissen aus die alte Frau , die ihm gegenüber wohnte und die ihn mit einer an ihr ganz ungewöhnlichen Neugierde beobachtete , dann aber , gleichzeitig befremdet und hungrig , läutete er . Sofort klopfte es und ein Mann , den er in dieser Wohnung noch niemals gesehen hatte , trat ein . Er war schlank und doch fest gebaut , er trug ein anliegendes schwarzes Kleid , das , ähnlich den Reiseanzügen , mit verschiedenen Falten , Taschen , Schnallen , Knöpfen und einem Gürtel versehen war und infolgedessen , ohne daß man sich darüber klar wurde , wozu es dienen sollte , besonders praktisch erschien . » Wer sind Sie ? « fragte K. und saß gleich halb aufrecht im Bett . Der Mann aber ging über die Frage hinweg , als müsse man seine Erscheinung hinnehmen , und sagte bloß seinerseits : » Sie haben geläutet ? « » Anna soll mir das Frühstück bringen « , sagte K. und versuchte , zunächst stillschweigend , durch Aufmerksamkeit und Überlegung festzustellen , wer der Mann eigentlich war . Aber dieser setzte sich nicht allzulange seinen Blicken aus , sondern wandte sich zur Tür , die er ein wenig öffnete , um jemandem , der offenbar knapp hinter der Tür stand , zu sagen : » Er will , daß Anna ihm das Frühstück bringt . « Ein kleines Gelächter im Nebenzimmer folgte , es war nach dem Klang nicht sicher , ob nicht mehrere Personen daran beteiligt waren . Obwohl der fremde Mann dadurch nichts erfahren haben konnte , was er nicht schon früher gewußt hätte , sagte er nun doch zu K. im Tone einer Meldung : » Es ist unmöglich . « » Das wäre neu « , sagte K. , sprang aus dem Bett und zog rasch seine Hosen an . » Ich will doch sehen , | 15 | Prozess    | prozeß     | PROPN | NN    | Case=Nom|Gender=Masc|Number=Sing                      | 19 | amod  | NA | SpacesAfter=\\s\\s\\s\\s\\s\\s | prozess    |\n| 3 | prozess | 1 | 1 | Der Prozess by Franz Kafka Aligned by : bilingual-texts.com ( fully reviewed ) Der Prozess Franz Kafka 1 Verhaftung , Gespräch mit Frau Grubach , dann Fräulein Brüstner Jemand mußte Josef K. verleumdet haben , denn ohne daß er etwas Böses getan hätte , wurde er eines Morgens verhaftet . Die Köchin der Frau Grubach , seiner Zimmervermieterin , die ihm jeden Tag gegen acht Uhr früh das Frühstück brachte , kam diesmal nicht . Das war noch niemals geschehen . K. wartete noch ein Weilchen , sah von seinem Kopfkissen aus die alte Frau , die ihm gegenüber wohnte und die ihn mit einer an ihr ganz ungewöhnlichen Neugierde beobachtete , dann aber , gleichzeitig befremdet und hungrig , läutete er . Sofort klopfte es und ein Mann , den er in dieser Wohnung noch niemals gesehen hatte , trat ein . Er war schlank und doch fest gebaut , er trug ein anliegendes schwarzes Kleid , das , ähnlich den Reiseanzügen , mit verschiedenen Falten , Taschen , Schnallen , Knöpfen und einem Gürtel versehen war und infolgedessen , ohne daß man sich darüber klar wurde , wozu es dienen sollte , besonders praktisch erschien . » Wer sind Sie ? « fragte K. und saß gleich halb aufrecht im Bett . Der Mann aber ging über die Frage hinweg , als müsse man seine Erscheinung hinnehmen , und sagte bloß seinerseits : » Sie haben geläutet ? « » Anna soll mir das Frühstück bringen « , sagte K. und versuchte , zunächst stillschweigend , durch Aufmerksamkeit und Überlegung festzustellen , wer der Mann eigentlich war . Aber dieser setzte sich nicht allzulange seinen Blicken aus , sondern wandte sich zur Tür , die er ein wenig öffnete , um jemandem , der offenbar knapp hinter der Tür stand , zu sagen : » Er will , daß Anna ihm das Frühstück bringt . « Ein kleines Gelächter im Nebenzimmer folgte , es war nach dem Klang nicht sicher , ob nicht mehrere Personen daran beteiligt waren . Obwohl der fremde Mann dadurch nichts erfahren haben konnte , was er nicht schon früher gewußt hätte , sagte er nun doch zu K. im Tone einer Meldung : » Es ist unmöglich . « » Das wäre neu « , sagte K. , sprang aus dem Bett und zog rasch seine Hosen an . » Ich will doch sehen , | 19 | Verhaftung | verhaftung | NOUN  | NN    | Case=Nom|Gender=Fem|Number=Sing                       | 2  | nmod  | NA | NA                             | verhaftung |\n| 4 | prozess | 1 | 1 | Der Prozess by Franz Kafka Aligned by : bilingual-texts.com ( fully reviewed ) Der Prozess Franz Kafka 1 Verhaftung , Gespräch mit Frau Grubach , dann Fräulein Brüstner Jemand mußte Josef K. verleumdet haben , denn ohne daß er etwas Böses getan hätte , wurde er eines Morgens verhaftet . Die Köchin der Frau Grubach , seiner Zimmervermieterin , die ihm jeden Tag gegen acht Uhr früh das Frühstück brachte , kam diesmal nicht . Das war noch niemals geschehen . K. wartete noch ein Weilchen , sah von seinem Kopfkissen aus die alte Frau , die ihm gegenüber wohnte und die ihn mit einer an ihr ganz ungewöhnlichen Neugierde beobachtete , dann aber , gleichzeitig befremdet und hungrig , läutete er . Sofort klopfte es und ein Mann , den er in dieser Wohnung noch niemals gesehen hatte , trat ein . Er war schlank und doch fest gebaut , er trug ein anliegendes schwarzes Kleid , das , ähnlich den Reiseanzügen , mit verschiedenen Falten , Taschen , Schnallen , Knöpfen und einem Gürtel versehen war und infolgedessen , ohne daß man sich darüber klar wurde , wozu es dienen sollte , besonders praktisch erschien . » Wer sind Sie ? « fragte K. und saß gleich halb aufrecht im Bett . Der Mann aber ging über die Frage hinweg , als müsse man seine Erscheinung hinnehmen , und sagte bloß seinerseits : » Sie haben geläutet ? « » Anna soll mir das Frühstück bringen « , sagte K. und versuchte , zunächst stillschweigend , durch Aufmerksamkeit und Überlegung festzustellen , wer der Mann eigentlich war . Aber dieser setzte sich nicht allzulange seinen Blicken aus , sondern wandte sich zur Tür , die er ein wenig öffnete , um jemandem , der offenbar knapp hinter der Tür stand , zu sagen : » Er will , daß Anna ihm das Frühstück bringt . « Ein kleines Gelächter im Nebenzimmer folgte , es war nach dem Klang nicht sicher , ob nicht mehrere Personen daran beteiligt waren . Obwohl der fremde Mann dadurch nichts erfahren haben konnte , was er nicht schon früher gewußt hätte , sagte er nun doch zu K. im Tone einer Meldung : » Es ist unmöglich . « » Das wäre neu « , sagte K. , sprang aus dem Bett und zog rasch seine Hosen an . » Ich will doch sehen , | 21 | Gespräch   | gespräch   | NOUN  | NN    | Case=Dat|Gender=Neut|Number=Sing                      | 19 | appos | NA | NA                             | gespräch   |\n| 5 | prozess | 1 | 1 | Der Prozess by Franz Kafka Aligned by : bilingual-texts.com ( fully reviewed ) Der Prozess Franz Kafka 1 Verhaftung , Gespräch mit Frau Grubach , dann Fräulein Brüstner Jemand mußte Josef K. verleumdet haben , denn ohne daß er etwas Böses getan hätte , wurde er eines Morgens verhaftet . Die Köchin der Frau Grubach , seiner Zimmervermieterin , die ihm jeden Tag gegen acht Uhr früh das Frühstück brachte , kam diesmal nicht . Das war noch niemals geschehen . K. wartete noch ein Weilchen , sah von seinem Kopfkissen aus die alte Frau , die ihm gegenüber wohnte und die ihn mit einer an ihr ganz ungewöhnlichen Neugierde beobachtete , dann aber , gleichzeitig befremdet und hungrig , läutete er . Sofort klopfte es und ein Mann , den er in dieser Wohnung noch niemals gesehen hatte , trat ein . Er war schlank und doch fest gebaut , er trug ein anliegendes schwarzes Kleid , das , ähnlich den Reiseanzügen , mit verschiedenen Falten , Taschen , Schnallen , Knöpfen und einem Gürtel versehen war und infolgedessen , ohne daß man sich darüber klar wurde , wozu es dienen sollte , besonders praktisch erschien . » Wer sind Sie ? « fragte K. und saß gleich halb aufrecht im Bett . Der Mann aber ging über die Frage hinweg , als müsse man seine Erscheinung hinnehmen , und sagte bloß seinerseits : » Sie haben geläutet ? « » Anna soll mir das Frühstück bringen « , sagte K. und versuchte , zunächst stillschweigend , durch Aufmerksamkeit und Überlegung festzustellen , wer der Mann eigentlich war . Aber dieser setzte sich nicht allzulange seinen Blicken aus , sondern wandte sich zur Tür , die er ein wenig öffnete , um jemandem , der offenbar knapp hinter der Tür stand , zu sagen : » Er will , daß Anna ihm das Frühstück bringt . « Ein kleines Gelächter im Nebenzimmer folgte , es war nach dem Klang nicht sicher , ob nicht mehrere Personen daran beteiligt waren . Obwohl der fremde Mann dadurch nichts erfahren haben konnte , was er nicht schon früher gewußt hätte , sagte er nun doch zu K. im Tone einer Meldung : » Es ist unmöglich . « » Das wäre neu « , sagte K. , sprang aus dem Bett und zog rasch seine Hosen an . » Ich will doch sehen , | 23 | Frau       | frau       | NOUN  | NN    | Case=Dat|Gender=Fem|Number=Sing                       | 21 | nmod  | NA | NA                             | frau       |\n| 6 | prozess | 1 | 1 | Der Prozess by Franz Kafka Aligned by : bilingual-texts.com ( fully reviewed ) Der Prozess Franz Kafka 1 Verhaftung , Gespräch mit Frau Grubach , dann Fräulein Brüstner Jemand mußte Josef K. verleumdet haben , denn ohne daß er etwas Böses getan hätte , wurde er eines Morgens verhaftet . Die Köchin der Frau Grubach , seiner Zimmervermieterin , die ihm jeden Tag gegen acht Uhr früh das Frühstück brachte , kam diesmal nicht . Das war noch niemals geschehen . K. wartete noch ein Weilchen , sah von seinem Kopfkissen aus die alte Frau , die ihm gegenüber wohnte und die ihn mit einer an ihr ganz ungewöhnlichen Neugierde beobachtete , dann aber , gleichzeitig befremdet und hungrig , läutete er . Sofort klopfte es und ein Mann , den er in dieser Wohnung noch niemals gesehen hatte , trat ein . Er war schlank und doch fest gebaut , er trug ein anliegendes schwarzes Kleid , das , ähnlich den Reiseanzügen , mit verschiedenen Falten , Taschen , Schnallen , Knöpfen und einem Gürtel versehen war und infolgedessen , ohne daß man sich darüber klar wurde , wozu es dienen sollte , besonders praktisch erschien . » Wer sind Sie ? « fragte K. und saß gleich halb aufrecht im Bett . Der Mann aber ging über die Frage hinweg , als müsse man seine Erscheinung hinnehmen , und sagte bloß seinerseits : » Sie haben geläutet ? « » Anna soll mir das Frühstück bringen « , sagte K. und versuchte , zunächst stillschweigend , durch Aufmerksamkeit und Überlegung festzustellen , wer der Mann eigentlich war . Aber dieser setzte sich nicht allzulange seinen Blicken aus , sondern wandte sich zur Tür , die er ein wenig öffnete , um jemandem , der offenbar knapp hinter der Tür stand , zu sagen : » Er will , daß Anna ihm das Frühstück bringt . « Ein kleines Gelächter im Nebenzimmer folgte , es war nach dem Klang nicht sicher , ob nicht mehrere Personen daran beteiligt waren . Obwohl der fremde Mann dadurch nichts erfahren haben konnte , was er nicht schon früher gewußt hätte , sagte er nun doch zu K. im Tone einer Meldung : » Es ist unmöglich . « » Das wäre neu « , sagte K. , sprang aus dem Bett und zog rasch seine Hosen an . » Ich will doch sehen , | 24 | Grubach    | grubach    | PROPN | NN    | Case=Dat|Gender=Neut|Number=Sing                      | 23 | appos | NA | NA                             | grubach    |\n| 7 | prozess | 1 | 1 | Der Prozess by Franz Kafka Aligned by : bilingual-texts.com ( fully reviewed ) Der Prozess Franz Kafka 1 Verhaftung , Gespräch mit Frau Grubach , dann Fräulein Brüstner Jemand mußte Josef K. verleumdet haben , denn ohne daß er etwas Böses getan hätte , wurde er eines Morgens verhaftet . Die Köchin der Frau Grubach , seiner Zimmervermieterin , die ihm jeden Tag gegen acht Uhr früh das Frühstück brachte , kam diesmal nicht . Das war noch niemals geschehen . K. wartete noch ein Weilchen , sah von seinem Kopfkissen aus die alte Frau , die ihm gegenüber wohnte und die ihn mit einer an ihr ganz ungewöhnlichen Neugierde beobachtete , dann aber , gleichzeitig befremdet und hungrig , läutete er . Sofort klopfte es und ein Mann , den er in dieser Wohnung noch niemals gesehen hatte , trat ein . Er war schlank und doch fest gebaut , er trug ein anliegendes schwarzes Kleid , das , ähnlich den Reiseanzügen , mit verschiedenen Falten , Taschen , Schnallen , Knöpfen und einem Gürtel versehen war und infolgedessen , ohne daß man sich darüber klar wurde , wozu es dienen sollte , besonders praktisch erschien . » Wer sind Sie ? « fragte K. und saß gleich halb aufrecht im Bett . Der Mann aber ging über die Frage hinweg , als müsse man seine Erscheinung hinnehmen , und sagte bloß seinerseits : » Sie haben geläutet ? « » Anna soll mir das Frühstück bringen « , sagte K. und versuchte , zunächst stillschweigend , durch Aufmerksamkeit und Überlegung festzustellen , wer der Mann eigentlich war . Aber dieser setzte sich nicht allzulange seinen Blicken aus , sondern wandte sich zur Tür , die er ein wenig öffnete , um jemandem , der offenbar knapp hinter der Tür stand , zu sagen : » Er will , daß Anna ihm das Frühstück bringt . « Ein kleines Gelächter im Nebenzimmer folgte , es war nach dem Klang nicht sicher , ob nicht mehrere Personen daran beteiligt waren . Obwohl der fremde Mann dadurch nichts erfahren haben konnte , was er nicht schon früher gewußt hätte , sagte er nun doch zu K. im Tone einer Meldung : » Es ist unmöglich . « » Das wäre neu « , sagte K. , sprang aus dem Bett und zog rasch seine Hosen an . » Ich will doch sehen , | 27 | Fräulein   | fräulein   | PROPN | NE    | Case=Nom|Gender=Masc|Number=Sing                      | 33 | nsubj | NA | NA                             | fräulein   |\n| 8 | prozess | 1 | 1 | Der Prozess by Franz Kafka Aligned by : bilingual-texts.com ( fully reviewed ) Der Prozess Franz Kafka 1 Verhaftung , Gespräch mit Frau Grubach , dann Fräulein Brüstner Jemand mußte Josef K. verleumdet haben , denn ohne daß er etwas Böses getan hätte , wurde er eines Morgens verhaftet . Die Köchin der Frau Grubach , seiner Zimmervermieterin , die ihm jeden Tag gegen acht Uhr früh das Frühstück brachte , kam diesmal nicht . Das war noch niemals geschehen . K. wartete noch ein Weilchen , sah von seinem Kopfkissen aus die alte Frau , die ihm gegenüber wohnte und die ihn mit einer an ihr ganz ungewöhnlichen Neugierde beobachtete , dann aber , gleichzeitig befremdet und hungrig , läutete er . Sofort klopfte es und ein Mann , den er in dieser Wohnung noch niemals gesehen hatte , trat ein . Er war schlank und doch fest gebaut , er trug ein anliegendes schwarzes Kleid , das , ähnlich den Reiseanzügen , mit verschiedenen Falten , Taschen , Schnallen , Knöpfen und einem Gürtel versehen war und infolgedessen , ohne daß man sich darüber klar wurde , wozu es dienen sollte , besonders praktisch erschien . » Wer sind Sie ? « fragte K. und saß gleich halb aufrecht im Bett . Der Mann aber ging über die Frage hinweg , als müsse man seine Erscheinung hinnehmen , und sagte bloß seinerseits : » Sie haben geläutet ? « » Anna soll mir das Frühstück bringen « , sagte K. und versuchte , zunächst stillschweigend , durch Aufmerksamkeit und Überlegung festzustellen , wer der Mann eigentlich war . Aber dieser setzte sich nicht allzulange seinen Blicken aus , sondern wandte sich zur Tür , die er ein wenig öffnete , um jemandem , der offenbar knapp hinter der Tür stand , zu sagen : » Er will , daß Anna ihm das Frühstück bringt . « Ein kleines Gelächter im Nebenzimmer folgte , es war nach dem Klang nicht sicher , ob nicht mehrere Personen daran beteiligt waren . Obwohl der fremde Mann dadurch nichts erfahren haben konnte , was er nicht schon früher gewußt hätte , sagte er nun doch zu K. im Tone einer Meldung : » Es ist unmöglich . « » Das wäre neu « , sagte K. , sprang aus dem Bett und zog rasch seine Hosen an . » Ich will doch sehen , | 28 | Brüstner   | brüstner   | PROPN | NE    | Case=Nom|Gender=Masc|Number=Sing                      | 27 | flat  | NA | SpacesAfter=\\s\\s\\s          | brüstner   |\n| 9 | prozess | 1 | 1 | Der Prozess by Franz Kafka Aligned by : bilingual-texts.com ( fully reviewed ) Der Prozess Franz Kafka 1 Verhaftung , Gespräch mit Frau Grubach , dann Fräulein Brüstner Jemand mußte Josef K. verleumdet haben , denn ohne daß er etwas Böses getan hätte , wurde er eines Morgens verhaftet . Die Köchin der Frau Grubach , seiner Zimmervermieterin , die ihm jeden Tag gegen acht Uhr früh das Frühstück brachte , kam diesmal nicht . Das war noch niemals geschehen . K. wartete noch ein Weilchen , sah von seinem Kopfkissen aus die alte Frau , die ihm gegenüber wohnte und die ihn mit einer an ihr ganz ungewöhnlichen Neugierde beobachtete , dann aber , gleichzeitig befremdet und hungrig , läutete er . Sofort klopfte es und ein Mann , den er in dieser Wohnung noch niemals gesehen hatte , trat ein . Er war schlank und doch fest gebaut , er trug ein anliegendes schwarzes Kleid , das , ähnlich den Reiseanzügen , mit verschiedenen Falten , Taschen , Schnallen , Knöpfen und einem Gürtel versehen war und infolgedessen , ohne daß man sich darüber klar wurde , wozu es dienen sollte , besonders praktisch erschien . » Wer sind Sie ? « fragte K. und saß gleich halb aufrecht im Bett . Der Mann aber ging über die Frage hinweg , als müsse man seine Erscheinung hinnehmen , und sagte bloß seinerseits : » Sie haben geläutet ? « » Anna soll mir das Frühstück bringen « , sagte K. und versuchte , zunächst stillschweigend , durch Aufmerksamkeit und Überlegung festzustellen , wer der Mann eigentlich war . Aber dieser setzte sich nicht allzulange seinen Blicken aus , sondern wandte sich zur Tür , die er ein wenig öffnete , um jemandem , der offenbar knapp hinter der Tür stand , zu sagen : » Er will , daß Anna ihm das Frühstück bringt . « Ein kleines Gelächter im Nebenzimmer folgte , es war nach dem Klang nicht sicher , ob nicht mehrere Personen daran beteiligt waren . Obwohl der fremde Mann dadurch nichts erfahren haben konnte , was er nicht schon früher gewußt hätte , sagte er nun doch zu K. im Tone einer Meldung : » Es ist unmöglich . « » Das wäre neu « , sagte K. , sprang aus dem Bett und zog rasch seine Hosen an . » Ich will doch sehen , | 29 | Jemand     | jemand     | PROPN | NE    | Case=Nom|Definite=Ind|Number=Sing|PronType=Ind        | 27 | flat  | NA | NA                             | jemand     |\n| 10 | prozess | 1 | 1 | Der Prozess by Franz Kafka Aligned by : bilingual-texts.com ( fully reviewed ) Der Prozess Franz Kafka 1 Verhaftung , Gespräch mit Frau Grubach , dann Fräulein Brüstner Jemand mußte Josef K. verleumdet haben , denn ohne daß er etwas Böses getan hätte , wurde er eines Morgens verhaftet . Die Köchin der Frau Grubach , seiner Zimmervermieterin , die ihm jeden Tag gegen acht Uhr früh das Frühstück brachte , kam diesmal nicht . Das war noch niemals geschehen . K. wartete noch ein Weilchen , sah von seinem Kopfkissen aus die alte Frau , die ihm gegenüber wohnte und die ihn mit einer an ihr ganz ungewöhnlichen Neugierde beobachtete , dann aber , gleichzeitig befremdet und hungrig , läutete er . Sofort klopfte es und ein Mann , den er in dieser Wohnung noch niemals gesehen hatte , trat ein . Er war schlank und doch fest gebaut , er trug ein anliegendes schwarzes Kleid , das , ähnlich den Reiseanzügen , mit verschiedenen Falten , Taschen , Schnallen , Knöpfen und einem Gürtel versehen war und infolgedessen , ohne daß man sich darüber klar wurde , wozu es dienen sollte , besonders praktisch erschien . » Wer sind Sie ? « fragte K. und saß gleich halb aufrecht im Bett . Der Mann aber ging über die Frage hinweg , als müsse man seine Erscheinung hinnehmen , und sagte bloß seinerseits : » Sie haben geläutet ? « » Anna soll mir das Frühstück bringen « , sagte K. und versuchte , zunächst stillschweigend , durch Aufmerksamkeit und Überlegung festzustellen , wer der Mann eigentlich war . Aber dieser setzte sich nicht allzulange seinen Blicken aus , sondern wandte sich zur Tür , die er ein wenig öffnete , um jemandem , der offenbar knapp hinter der Tür stand , zu sagen : » Er will , daß Anna ihm das Frühstück bringt . « Ein kleines Gelächter im Nebenzimmer folgte , es war nach dem Klang nicht sicher , ob nicht mehrere Personen daran beteiligt waren . Obwohl der fremde Mann dadurch nichts erfahren haben konnte , was er nicht schon früher gewußt hätte , sagte er nun doch zu K. im Tone einer Meldung : » Es ist unmöglich . « » Das wäre neu « , sagte K. , sprang aus dem Bett und zog rasch seine Hosen an . » Ich will doch sehen , | 30 | mußte      | müssen     | AUX   | VVFIN | Mood=Ind|Number=Sing|Person=3|Tense=Past|VerbForm=Fin | 33 | aux   | NA | NA                             | mußte      |\n\n",
            "text/html": [
              "<table class=\"dataframe\">\n",
              "<caption>A paged_df: 10 × 15</caption>\n",
              "<thead>\n",
              "\t<tr><th></th><th scope=col>doc_id</th><th scope=col>paragraph_id</th><th scope=col>sentence_id</th><th scope=col>sentence</th><th scope=col>token_id</th><th scope=col>token</th><th scope=col>lemma</th><th scope=col>upos</th><th scope=col>xpos</th><th scope=col>feats</th><th scope=col>head_token_id</th><th scope=col>dep_rel</th><th scope=col>deps</th><th scope=col>misc</th><th scope=col>word</th></tr>\n",
              "\t<tr><th></th><th scope=col>&lt;chr&gt;</th><th scope=col>&lt;int&gt;</th><th scope=col>&lt;int&gt;</th><th scope=col>&lt;chr&gt;</th><th scope=col>&lt;chr&gt;</th><th scope=col>&lt;chr&gt;</th><th scope=col>&lt;chr&gt;</th><th scope=col>&lt;chr&gt;</th><th scope=col>&lt;chr&gt;</th><th scope=col>&lt;chr&gt;</th><th scope=col>&lt;chr&gt;</th><th scope=col>&lt;chr&gt;</th><th scope=col>&lt;chr&gt;</th><th scope=col>&lt;chr&gt;</th><th scope=col>&lt;chr&gt;</th></tr>\n",
              "</thead>\n",
              "<tbody>\n",
              "\t<tr><th scope=row>1</th><td>prozess</td><td>1</td><td>1</td><td>Der Prozess by Franz Kafka Aligned by : bilingual-texts.com ( fully reviewed ) Der Prozess Franz Kafka 1 Verhaftung , Gespräch mit Frau Grubach , dann Fräulein Brüstner Jemand mußte Josef K. verleumdet haben , denn ohne daß er etwas Böses getan hätte , wurde er eines Morgens verhaftet . Die Köchin der Frau Grubach , seiner Zimmervermieterin , die ihm jeden Tag gegen acht Uhr früh das Frühstück brachte , kam diesmal nicht . Das war noch niemals geschehen . K. wartete noch ein Weilchen , sah von seinem Kopfkissen aus die alte Frau , die ihm gegenüber wohnte und die ihn mit einer an ihr ganz ungewöhnlichen Neugierde beobachtete , dann aber , gleichzeitig befremdet und hungrig , läutete er . Sofort klopfte es und ein Mann , den er in dieser Wohnung noch niemals gesehen hatte , trat ein . Er war schlank und doch fest gebaut , er trug ein anliegendes schwarzes Kleid , das , ähnlich den Reiseanzügen , mit verschiedenen Falten , Taschen , Schnallen , Knöpfen und einem Gürtel versehen war und infolgedessen , ohne daß man sich darüber klar wurde , wozu es dienen sollte , besonders praktisch erschien . » Wer sind Sie ? « fragte K. und saß gleich halb aufrecht im Bett . Der Mann aber ging über die Frage hinweg , als müsse man seine Erscheinung hinnehmen , und sagte bloß seinerseits : » Sie haben geläutet ? « » Anna soll mir das Frühstück bringen « , sagte K. und versuchte , zunächst stillschweigend , durch Aufmerksamkeit und Überlegung festzustellen , wer der Mann eigentlich war . Aber dieser setzte sich nicht allzulange seinen Blicken aus , sondern wandte sich zur Tür , die er ein wenig öffnete , um jemandem , der offenbar knapp hinter der Tür stand , zu sagen : » Er will , daß Anna ihm das Frühstück bringt . « Ein kleines Gelächter im Nebenzimmer folgte , es war nach dem Klang nicht sicher , ob nicht mehrere Personen daran beteiligt waren . Obwohl der fremde Mann dadurch nichts erfahren haben konnte , was er nicht schon früher gewußt hätte , sagte er nun doch zu K. im Tone einer Meldung : » Es ist unmöglich . « » Das wäre neu « , sagte K. , sprang aus dem Bett und zog rasch seine Hosen an . » Ich will doch sehen ,</td><td>2 </td><td>Prozess   </td><td>prozeß    </td><td>NOUN </td><td>NN   </td><td>Case=Nom|Gender=Masc|Number=Sing                     </td><td>72</td><td>nsubj</td><td>NA</td><td>NA                            </td><td>prozess   </td></tr>\n",
              "\t<tr><th scope=row>2</th><td>prozess</td><td>1</td><td>1</td><td>Der Prozess by Franz Kafka Aligned by : bilingual-texts.com ( fully reviewed ) Der Prozess Franz Kafka 1 Verhaftung , Gespräch mit Frau Grubach , dann Fräulein Brüstner Jemand mußte Josef K. verleumdet haben , denn ohne daß er etwas Böses getan hätte , wurde er eines Morgens verhaftet . Die Köchin der Frau Grubach , seiner Zimmervermieterin , die ihm jeden Tag gegen acht Uhr früh das Frühstück brachte , kam diesmal nicht . Das war noch niemals geschehen . K. wartete noch ein Weilchen , sah von seinem Kopfkissen aus die alte Frau , die ihm gegenüber wohnte und die ihn mit einer an ihr ganz ungewöhnlichen Neugierde beobachtete , dann aber , gleichzeitig befremdet und hungrig , läutete er . Sofort klopfte es und ein Mann , den er in dieser Wohnung noch niemals gesehen hatte , trat ein . Er war schlank und doch fest gebaut , er trug ein anliegendes schwarzes Kleid , das , ähnlich den Reiseanzügen , mit verschiedenen Falten , Taschen , Schnallen , Knöpfen und einem Gürtel versehen war und infolgedessen , ohne daß man sich darüber klar wurde , wozu es dienen sollte , besonders praktisch erschien . » Wer sind Sie ? « fragte K. und saß gleich halb aufrecht im Bett . Der Mann aber ging über die Frage hinweg , als müsse man seine Erscheinung hinnehmen , und sagte bloß seinerseits : » Sie haben geläutet ? « » Anna soll mir das Frühstück bringen « , sagte K. und versuchte , zunächst stillschweigend , durch Aufmerksamkeit und Überlegung festzustellen , wer der Mann eigentlich war . Aber dieser setzte sich nicht allzulange seinen Blicken aus , sondern wandte sich zur Tür , die er ein wenig öffnete , um jemandem , der offenbar knapp hinter der Tür stand , zu sagen : » Er will , daß Anna ihm das Frühstück bringt . « Ein kleines Gelächter im Nebenzimmer folgte , es war nach dem Klang nicht sicher , ob nicht mehrere Personen daran beteiligt waren . Obwohl der fremde Mann dadurch nichts erfahren haben konnte , was er nicht schon früher gewußt hätte , sagte er nun doch zu K. im Tone einer Meldung : » Es ist unmöglich . « » Das wäre neu « , sagte K. , sprang aus dem Bett und zog rasch seine Hosen an . » Ich will doch sehen ,</td><td>15</td><td>Prozess   </td><td>prozeß    </td><td>PROPN</td><td>NN   </td><td>Case=Nom|Gender=Masc|Number=Sing                     </td><td>19</td><td>amod </td><td>NA</td><td>SpacesAfter=\\s\\s\\s\\s\\s\\s</td><td>prozess   </td></tr>\n",
              "\t<tr><th scope=row>3</th><td>prozess</td><td>1</td><td>1</td><td>Der Prozess by Franz Kafka Aligned by : bilingual-texts.com ( fully reviewed ) Der Prozess Franz Kafka 1 Verhaftung , Gespräch mit Frau Grubach , dann Fräulein Brüstner Jemand mußte Josef K. verleumdet haben , denn ohne daß er etwas Böses getan hätte , wurde er eines Morgens verhaftet . Die Köchin der Frau Grubach , seiner Zimmervermieterin , die ihm jeden Tag gegen acht Uhr früh das Frühstück brachte , kam diesmal nicht . Das war noch niemals geschehen . K. wartete noch ein Weilchen , sah von seinem Kopfkissen aus die alte Frau , die ihm gegenüber wohnte und die ihn mit einer an ihr ganz ungewöhnlichen Neugierde beobachtete , dann aber , gleichzeitig befremdet und hungrig , läutete er . Sofort klopfte es und ein Mann , den er in dieser Wohnung noch niemals gesehen hatte , trat ein . Er war schlank und doch fest gebaut , er trug ein anliegendes schwarzes Kleid , das , ähnlich den Reiseanzügen , mit verschiedenen Falten , Taschen , Schnallen , Knöpfen und einem Gürtel versehen war und infolgedessen , ohne daß man sich darüber klar wurde , wozu es dienen sollte , besonders praktisch erschien . » Wer sind Sie ? « fragte K. und saß gleich halb aufrecht im Bett . Der Mann aber ging über die Frage hinweg , als müsse man seine Erscheinung hinnehmen , und sagte bloß seinerseits : » Sie haben geläutet ? « » Anna soll mir das Frühstück bringen « , sagte K. und versuchte , zunächst stillschweigend , durch Aufmerksamkeit und Überlegung festzustellen , wer der Mann eigentlich war . Aber dieser setzte sich nicht allzulange seinen Blicken aus , sondern wandte sich zur Tür , die er ein wenig öffnete , um jemandem , der offenbar knapp hinter der Tür stand , zu sagen : » Er will , daß Anna ihm das Frühstück bringt . « Ein kleines Gelächter im Nebenzimmer folgte , es war nach dem Klang nicht sicher , ob nicht mehrere Personen daran beteiligt waren . Obwohl der fremde Mann dadurch nichts erfahren haben konnte , was er nicht schon früher gewußt hätte , sagte er nun doch zu K. im Tone einer Meldung : » Es ist unmöglich . « » Das wäre neu « , sagte K. , sprang aus dem Bett und zog rasch seine Hosen an . » Ich will doch sehen ,</td><td>19</td><td>Verhaftung</td><td>verhaftung</td><td>NOUN </td><td>NN   </td><td>Case=Nom|Gender=Fem|Number=Sing                      </td><td>2 </td><td>nmod </td><td>NA</td><td>NA                            </td><td>verhaftung</td></tr>\n",
              "\t<tr><th scope=row>4</th><td>prozess</td><td>1</td><td>1</td><td>Der Prozess by Franz Kafka Aligned by : bilingual-texts.com ( fully reviewed ) Der Prozess Franz Kafka 1 Verhaftung , Gespräch mit Frau Grubach , dann Fräulein Brüstner Jemand mußte Josef K. verleumdet haben , denn ohne daß er etwas Böses getan hätte , wurde er eines Morgens verhaftet . Die Köchin der Frau Grubach , seiner Zimmervermieterin , die ihm jeden Tag gegen acht Uhr früh das Frühstück brachte , kam diesmal nicht . Das war noch niemals geschehen . K. wartete noch ein Weilchen , sah von seinem Kopfkissen aus die alte Frau , die ihm gegenüber wohnte und die ihn mit einer an ihr ganz ungewöhnlichen Neugierde beobachtete , dann aber , gleichzeitig befremdet und hungrig , läutete er . Sofort klopfte es und ein Mann , den er in dieser Wohnung noch niemals gesehen hatte , trat ein . Er war schlank und doch fest gebaut , er trug ein anliegendes schwarzes Kleid , das , ähnlich den Reiseanzügen , mit verschiedenen Falten , Taschen , Schnallen , Knöpfen und einem Gürtel versehen war und infolgedessen , ohne daß man sich darüber klar wurde , wozu es dienen sollte , besonders praktisch erschien . » Wer sind Sie ? « fragte K. und saß gleich halb aufrecht im Bett . Der Mann aber ging über die Frage hinweg , als müsse man seine Erscheinung hinnehmen , und sagte bloß seinerseits : » Sie haben geläutet ? « » Anna soll mir das Frühstück bringen « , sagte K. und versuchte , zunächst stillschweigend , durch Aufmerksamkeit und Überlegung festzustellen , wer der Mann eigentlich war . Aber dieser setzte sich nicht allzulange seinen Blicken aus , sondern wandte sich zur Tür , die er ein wenig öffnete , um jemandem , der offenbar knapp hinter der Tür stand , zu sagen : » Er will , daß Anna ihm das Frühstück bringt . « Ein kleines Gelächter im Nebenzimmer folgte , es war nach dem Klang nicht sicher , ob nicht mehrere Personen daran beteiligt waren . Obwohl der fremde Mann dadurch nichts erfahren haben konnte , was er nicht schon früher gewußt hätte , sagte er nun doch zu K. im Tone einer Meldung : » Es ist unmöglich . « » Das wäre neu « , sagte K. , sprang aus dem Bett und zog rasch seine Hosen an . » Ich will doch sehen ,</td><td>21</td><td>Gespräch  </td><td>gespräch  </td><td>NOUN </td><td>NN   </td><td>Case=Dat|Gender=Neut|Number=Sing                     </td><td>19</td><td>appos</td><td>NA</td><td>NA                            </td><td>gespräch  </td></tr>\n",
              "\t<tr><th scope=row>5</th><td>prozess</td><td>1</td><td>1</td><td>Der Prozess by Franz Kafka Aligned by : bilingual-texts.com ( fully reviewed ) Der Prozess Franz Kafka 1 Verhaftung , Gespräch mit Frau Grubach , dann Fräulein Brüstner Jemand mußte Josef K. verleumdet haben , denn ohne daß er etwas Böses getan hätte , wurde er eines Morgens verhaftet . Die Köchin der Frau Grubach , seiner Zimmervermieterin , die ihm jeden Tag gegen acht Uhr früh das Frühstück brachte , kam diesmal nicht . Das war noch niemals geschehen . K. wartete noch ein Weilchen , sah von seinem Kopfkissen aus die alte Frau , die ihm gegenüber wohnte und die ihn mit einer an ihr ganz ungewöhnlichen Neugierde beobachtete , dann aber , gleichzeitig befremdet und hungrig , läutete er . Sofort klopfte es und ein Mann , den er in dieser Wohnung noch niemals gesehen hatte , trat ein . Er war schlank und doch fest gebaut , er trug ein anliegendes schwarzes Kleid , das , ähnlich den Reiseanzügen , mit verschiedenen Falten , Taschen , Schnallen , Knöpfen und einem Gürtel versehen war und infolgedessen , ohne daß man sich darüber klar wurde , wozu es dienen sollte , besonders praktisch erschien . » Wer sind Sie ? « fragte K. und saß gleich halb aufrecht im Bett . Der Mann aber ging über die Frage hinweg , als müsse man seine Erscheinung hinnehmen , und sagte bloß seinerseits : » Sie haben geläutet ? « » Anna soll mir das Frühstück bringen « , sagte K. und versuchte , zunächst stillschweigend , durch Aufmerksamkeit und Überlegung festzustellen , wer der Mann eigentlich war . Aber dieser setzte sich nicht allzulange seinen Blicken aus , sondern wandte sich zur Tür , die er ein wenig öffnete , um jemandem , der offenbar knapp hinter der Tür stand , zu sagen : » Er will , daß Anna ihm das Frühstück bringt . « Ein kleines Gelächter im Nebenzimmer folgte , es war nach dem Klang nicht sicher , ob nicht mehrere Personen daran beteiligt waren . Obwohl der fremde Mann dadurch nichts erfahren haben konnte , was er nicht schon früher gewußt hätte , sagte er nun doch zu K. im Tone einer Meldung : » Es ist unmöglich . « » Das wäre neu « , sagte K. , sprang aus dem Bett und zog rasch seine Hosen an . » Ich will doch sehen ,</td><td>23</td><td>Frau      </td><td>frau      </td><td>NOUN </td><td>NN   </td><td>Case=Dat|Gender=Fem|Number=Sing                      </td><td>21</td><td>nmod </td><td>NA</td><td>NA                            </td><td>frau      </td></tr>\n",
              "\t<tr><th scope=row>6</th><td>prozess</td><td>1</td><td>1</td><td>Der Prozess by Franz Kafka Aligned by : bilingual-texts.com ( fully reviewed ) Der Prozess Franz Kafka 1 Verhaftung , Gespräch mit Frau Grubach , dann Fräulein Brüstner Jemand mußte Josef K. verleumdet haben , denn ohne daß er etwas Böses getan hätte , wurde er eines Morgens verhaftet . Die Köchin der Frau Grubach , seiner Zimmervermieterin , die ihm jeden Tag gegen acht Uhr früh das Frühstück brachte , kam diesmal nicht . Das war noch niemals geschehen . K. wartete noch ein Weilchen , sah von seinem Kopfkissen aus die alte Frau , die ihm gegenüber wohnte und die ihn mit einer an ihr ganz ungewöhnlichen Neugierde beobachtete , dann aber , gleichzeitig befremdet und hungrig , läutete er . Sofort klopfte es und ein Mann , den er in dieser Wohnung noch niemals gesehen hatte , trat ein . Er war schlank und doch fest gebaut , er trug ein anliegendes schwarzes Kleid , das , ähnlich den Reiseanzügen , mit verschiedenen Falten , Taschen , Schnallen , Knöpfen und einem Gürtel versehen war und infolgedessen , ohne daß man sich darüber klar wurde , wozu es dienen sollte , besonders praktisch erschien . » Wer sind Sie ? « fragte K. und saß gleich halb aufrecht im Bett . Der Mann aber ging über die Frage hinweg , als müsse man seine Erscheinung hinnehmen , und sagte bloß seinerseits : » Sie haben geläutet ? « » Anna soll mir das Frühstück bringen « , sagte K. und versuchte , zunächst stillschweigend , durch Aufmerksamkeit und Überlegung festzustellen , wer der Mann eigentlich war . Aber dieser setzte sich nicht allzulange seinen Blicken aus , sondern wandte sich zur Tür , die er ein wenig öffnete , um jemandem , der offenbar knapp hinter der Tür stand , zu sagen : » Er will , daß Anna ihm das Frühstück bringt . « Ein kleines Gelächter im Nebenzimmer folgte , es war nach dem Klang nicht sicher , ob nicht mehrere Personen daran beteiligt waren . Obwohl der fremde Mann dadurch nichts erfahren haben konnte , was er nicht schon früher gewußt hätte , sagte er nun doch zu K. im Tone einer Meldung : » Es ist unmöglich . « » Das wäre neu « , sagte K. , sprang aus dem Bett und zog rasch seine Hosen an . » Ich will doch sehen ,</td><td>24</td><td>Grubach   </td><td>grubach   </td><td>PROPN</td><td>NN   </td><td>Case=Dat|Gender=Neut|Number=Sing                     </td><td>23</td><td>appos</td><td>NA</td><td>NA                            </td><td>grubach   </td></tr>\n",
              "\t<tr><th scope=row>7</th><td>prozess</td><td>1</td><td>1</td><td>Der Prozess by Franz Kafka Aligned by : bilingual-texts.com ( fully reviewed ) Der Prozess Franz Kafka 1 Verhaftung , Gespräch mit Frau Grubach , dann Fräulein Brüstner Jemand mußte Josef K. verleumdet haben , denn ohne daß er etwas Böses getan hätte , wurde er eines Morgens verhaftet . Die Köchin der Frau Grubach , seiner Zimmervermieterin , die ihm jeden Tag gegen acht Uhr früh das Frühstück brachte , kam diesmal nicht . Das war noch niemals geschehen . K. wartete noch ein Weilchen , sah von seinem Kopfkissen aus die alte Frau , die ihm gegenüber wohnte und die ihn mit einer an ihr ganz ungewöhnlichen Neugierde beobachtete , dann aber , gleichzeitig befremdet und hungrig , läutete er . Sofort klopfte es und ein Mann , den er in dieser Wohnung noch niemals gesehen hatte , trat ein . Er war schlank und doch fest gebaut , er trug ein anliegendes schwarzes Kleid , das , ähnlich den Reiseanzügen , mit verschiedenen Falten , Taschen , Schnallen , Knöpfen und einem Gürtel versehen war und infolgedessen , ohne daß man sich darüber klar wurde , wozu es dienen sollte , besonders praktisch erschien . » Wer sind Sie ? « fragte K. und saß gleich halb aufrecht im Bett . Der Mann aber ging über die Frage hinweg , als müsse man seine Erscheinung hinnehmen , und sagte bloß seinerseits : » Sie haben geläutet ? « » Anna soll mir das Frühstück bringen « , sagte K. und versuchte , zunächst stillschweigend , durch Aufmerksamkeit und Überlegung festzustellen , wer der Mann eigentlich war . Aber dieser setzte sich nicht allzulange seinen Blicken aus , sondern wandte sich zur Tür , die er ein wenig öffnete , um jemandem , der offenbar knapp hinter der Tür stand , zu sagen : » Er will , daß Anna ihm das Frühstück bringt . « Ein kleines Gelächter im Nebenzimmer folgte , es war nach dem Klang nicht sicher , ob nicht mehrere Personen daran beteiligt waren . Obwohl der fremde Mann dadurch nichts erfahren haben konnte , was er nicht schon früher gewußt hätte , sagte er nun doch zu K. im Tone einer Meldung : » Es ist unmöglich . « » Das wäre neu « , sagte K. , sprang aus dem Bett und zog rasch seine Hosen an . » Ich will doch sehen ,</td><td>27</td><td>Fräulein  </td><td>fräulein  </td><td>PROPN</td><td>NE   </td><td>Case=Nom|Gender=Masc|Number=Sing                     </td><td>33</td><td>nsubj</td><td>NA</td><td>NA                            </td><td>fräulein  </td></tr>\n",
              "\t<tr><th scope=row>8</th><td>prozess</td><td>1</td><td>1</td><td>Der Prozess by Franz Kafka Aligned by : bilingual-texts.com ( fully reviewed ) Der Prozess Franz Kafka 1 Verhaftung , Gespräch mit Frau Grubach , dann Fräulein Brüstner Jemand mußte Josef K. verleumdet haben , denn ohne daß er etwas Böses getan hätte , wurde er eines Morgens verhaftet . Die Köchin der Frau Grubach , seiner Zimmervermieterin , die ihm jeden Tag gegen acht Uhr früh das Frühstück brachte , kam diesmal nicht . Das war noch niemals geschehen . K. wartete noch ein Weilchen , sah von seinem Kopfkissen aus die alte Frau , die ihm gegenüber wohnte und die ihn mit einer an ihr ganz ungewöhnlichen Neugierde beobachtete , dann aber , gleichzeitig befremdet und hungrig , läutete er . Sofort klopfte es und ein Mann , den er in dieser Wohnung noch niemals gesehen hatte , trat ein . Er war schlank und doch fest gebaut , er trug ein anliegendes schwarzes Kleid , das , ähnlich den Reiseanzügen , mit verschiedenen Falten , Taschen , Schnallen , Knöpfen und einem Gürtel versehen war und infolgedessen , ohne daß man sich darüber klar wurde , wozu es dienen sollte , besonders praktisch erschien . » Wer sind Sie ? « fragte K. und saß gleich halb aufrecht im Bett . Der Mann aber ging über die Frage hinweg , als müsse man seine Erscheinung hinnehmen , und sagte bloß seinerseits : » Sie haben geläutet ? « » Anna soll mir das Frühstück bringen « , sagte K. und versuchte , zunächst stillschweigend , durch Aufmerksamkeit und Überlegung festzustellen , wer der Mann eigentlich war . Aber dieser setzte sich nicht allzulange seinen Blicken aus , sondern wandte sich zur Tür , die er ein wenig öffnete , um jemandem , der offenbar knapp hinter der Tür stand , zu sagen : » Er will , daß Anna ihm das Frühstück bringt . « Ein kleines Gelächter im Nebenzimmer folgte , es war nach dem Klang nicht sicher , ob nicht mehrere Personen daran beteiligt waren . Obwohl der fremde Mann dadurch nichts erfahren haben konnte , was er nicht schon früher gewußt hätte , sagte er nun doch zu K. im Tone einer Meldung : » Es ist unmöglich . « » Das wäre neu « , sagte K. , sprang aus dem Bett und zog rasch seine Hosen an . » Ich will doch sehen ,</td><td>28</td><td>Brüstner  </td><td>brüstner  </td><td>PROPN</td><td>NE   </td><td>Case=Nom|Gender=Masc|Number=Sing                     </td><td>27</td><td>flat </td><td>NA</td><td>SpacesAfter=\\s\\s\\s         </td><td>brüstner  </td></tr>\n",
              "\t<tr><th scope=row>9</th><td>prozess</td><td>1</td><td>1</td><td>Der Prozess by Franz Kafka Aligned by : bilingual-texts.com ( fully reviewed ) Der Prozess Franz Kafka 1 Verhaftung , Gespräch mit Frau Grubach , dann Fräulein Brüstner Jemand mußte Josef K. verleumdet haben , denn ohne daß er etwas Böses getan hätte , wurde er eines Morgens verhaftet . Die Köchin der Frau Grubach , seiner Zimmervermieterin , die ihm jeden Tag gegen acht Uhr früh das Frühstück brachte , kam diesmal nicht . Das war noch niemals geschehen . K. wartete noch ein Weilchen , sah von seinem Kopfkissen aus die alte Frau , die ihm gegenüber wohnte und die ihn mit einer an ihr ganz ungewöhnlichen Neugierde beobachtete , dann aber , gleichzeitig befremdet und hungrig , läutete er . Sofort klopfte es und ein Mann , den er in dieser Wohnung noch niemals gesehen hatte , trat ein . Er war schlank und doch fest gebaut , er trug ein anliegendes schwarzes Kleid , das , ähnlich den Reiseanzügen , mit verschiedenen Falten , Taschen , Schnallen , Knöpfen und einem Gürtel versehen war und infolgedessen , ohne daß man sich darüber klar wurde , wozu es dienen sollte , besonders praktisch erschien . » Wer sind Sie ? « fragte K. und saß gleich halb aufrecht im Bett . Der Mann aber ging über die Frage hinweg , als müsse man seine Erscheinung hinnehmen , und sagte bloß seinerseits : » Sie haben geläutet ? « » Anna soll mir das Frühstück bringen « , sagte K. und versuchte , zunächst stillschweigend , durch Aufmerksamkeit und Überlegung festzustellen , wer der Mann eigentlich war . Aber dieser setzte sich nicht allzulange seinen Blicken aus , sondern wandte sich zur Tür , die er ein wenig öffnete , um jemandem , der offenbar knapp hinter der Tür stand , zu sagen : » Er will , daß Anna ihm das Frühstück bringt . « Ein kleines Gelächter im Nebenzimmer folgte , es war nach dem Klang nicht sicher , ob nicht mehrere Personen daran beteiligt waren . Obwohl der fremde Mann dadurch nichts erfahren haben konnte , was er nicht schon früher gewußt hätte , sagte er nun doch zu K. im Tone einer Meldung : » Es ist unmöglich . « » Das wäre neu « , sagte K. , sprang aus dem Bett und zog rasch seine Hosen an . » Ich will doch sehen ,</td><td>29</td><td>Jemand    </td><td>jemand    </td><td>PROPN</td><td>NE   </td><td>Case=Nom|Definite=Ind|Number=Sing|PronType=Ind       </td><td>27</td><td>flat </td><td>NA</td><td>NA                            </td><td>jemand    </td></tr>\n",
              "\t<tr><th scope=row>10</th><td>prozess</td><td>1</td><td>1</td><td>Der Prozess by Franz Kafka Aligned by : bilingual-texts.com ( fully reviewed ) Der Prozess Franz Kafka 1 Verhaftung , Gespräch mit Frau Grubach , dann Fräulein Brüstner Jemand mußte Josef K. verleumdet haben , denn ohne daß er etwas Böses getan hätte , wurde er eines Morgens verhaftet . Die Köchin der Frau Grubach , seiner Zimmervermieterin , die ihm jeden Tag gegen acht Uhr früh das Frühstück brachte , kam diesmal nicht . Das war noch niemals geschehen . K. wartete noch ein Weilchen , sah von seinem Kopfkissen aus die alte Frau , die ihm gegenüber wohnte und die ihn mit einer an ihr ganz ungewöhnlichen Neugierde beobachtete , dann aber , gleichzeitig befremdet und hungrig , läutete er . Sofort klopfte es und ein Mann , den er in dieser Wohnung noch niemals gesehen hatte , trat ein . Er war schlank und doch fest gebaut , er trug ein anliegendes schwarzes Kleid , das , ähnlich den Reiseanzügen , mit verschiedenen Falten , Taschen , Schnallen , Knöpfen und einem Gürtel versehen war und infolgedessen , ohne daß man sich darüber klar wurde , wozu es dienen sollte , besonders praktisch erschien . » Wer sind Sie ? « fragte K. und saß gleich halb aufrecht im Bett . Der Mann aber ging über die Frage hinweg , als müsse man seine Erscheinung hinnehmen , und sagte bloß seinerseits : » Sie haben geläutet ? « » Anna soll mir das Frühstück bringen « , sagte K. und versuchte , zunächst stillschweigend , durch Aufmerksamkeit und Überlegung festzustellen , wer der Mann eigentlich war . Aber dieser setzte sich nicht allzulange seinen Blicken aus , sondern wandte sich zur Tür , die er ein wenig öffnete , um jemandem , der offenbar knapp hinter der Tür stand , zu sagen : » Er will , daß Anna ihm das Frühstück bringt . « Ein kleines Gelächter im Nebenzimmer folgte , es war nach dem Klang nicht sicher , ob nicht mehrere Personen daran beteiligt waren . Obwohl der fremde Mann dadurch nichts erfahren haben konnte , was er nicht schon früher gewußt hätte , sagte er nun doch zu K. im Tone einer Meldung : » Es ist unmöglich . « » Das wäre neu « , sagte K. , sprang aus dem Bett und zog rasch seine Hosen an . » Ich will doch sehen ,</td><td>30</td><td>mußte     </td><td>müssen    </td><td>AUX  </td><td>VVFIN</td><td>Mood=Ind|Number=Sing|Person=3|Tense=Past|VerbForm=Fin</td><td>33</td><td>aux  </td><td>NA</td><td>NA                            </td><td>mußte     </td></tr>\n",
              "</tbody>\n",
              "</table>\n"
            ]
          },
          "metadata": {
            "tags": []
          }
        },
        {
          "output_type": "display_data",
          "data": {
            "text/plain": [
              "      doc_id paragraph_id sentence_id\n",
              "67723 tom    1            293        \n",
              "67724 tom    1            293        \n",
              "67725 tom    1            293        \n",
              "67726 tom    1            293        \n",
              "67727 tom    1            293        \n",
              "67728 tom    1            293        \n",
              "67729 tom    1            293        \n",
              "67730 tom    1            293        \n",
              "67731 tom    1            293        \n",
              "67732 tom    1            293        \n",
              "      sentence                                                                                                                                                                                                                                                                                                                                                                                                                                                                                                                                                                                                      \n",
              "67723 ohne die eines Mannes zu werden . Wenn jemand eine Erzählung über erwachsene Leute schreibt , weiß er genau , wo er aufzuhören hat -- bei der Heirat ; schreibt er aber über ein unreifes Kind , so muß er aufhören , wo er's für passend hält . Die meisten der in diesem Buch vorkommenden Personen leben noch , sind glücklich und mehren sich . Vielleicht erscheint es eines Tages als angebracht , die Geschichte der Jugend wieder aufzunehmen und zu sehen , was für Männer und Frauen aus ihnen geworden sind ; darum wird's am besten sein , von ihrem jetzigen Leben hier nichts mehr zu verraten .\n",
              "67724 ohne die eines Mannes zu werden . Wenn jemand eine Erzählung über erwachsene Leute schreibt , weiß er genau , wo er aufzuhören hat -- bei der Heirat ; schreibt er aber über ein unreifes Kind , so muß er aufhören , wo er's für passend hält . Die meisten der in diesem Buch vorkommenden Personen leben noch , sind glücklich und mehren sich . Vielleicht erscheint es eines Tages als angebracht , die Geschichte der Jugend wieder aufzunehmen und zu sehen , was für Männer und Frauen aus ihnen geworden sind ; darum wird's am besten sein , von ihrem jetzigen Leben hier nichts mehr zu verraten .\n",
              "67725 ohne die eines Mannes zu werden . Wenn jemand eine Erzählung über erwachsene Leute schreibt , weiß er genau , wo er aufzuhören hat -- bei der Heirat ; schreibt er aber über ein unreifes Kind , so muß er aufhören , wo er's für passend hält . Die meisten der in diesem Buch vorkommenden Personen leben noch , sind glücklich und mehren sich . Vielleicht erscheint es eines Tages als angebracht , die Geschichte der Jugend wieder aufzunehmen und zu sehen , was für Männer und Frauen aus ihnen geworden sind ; darum wird's am besten sein , von ihrem jetzigen Leben hier nichts mehr zu verraten .\n",
              "67726 ohne die eines Mannes zu werden . Wenn jemand eine Erzählung über erwachsene Leute schreibt , weiß er genau , wo er aufzuhören hat -- bei der Heirat ; schreibt er aber über ein unreifes Kind , so muß er aufhören , wo er's für passend hält . Die meisten der in diesem Buch vorkommenden Personen leben noch , sind glücklich und mehren sich . Vielleicht erscheint es eines Tages als angebracht , die Geschichte der Jugend wieder aufzunehmen und zu sehen , was für Männer und Frauen aus ihnen geworden sind ; darum wird's am besten sein , von ihrem jetzigen Leben hier nichts mehr zu verraten .\n",
              "67727 ohne die eines Mannes zu werden . Wenn jemand eine Erzählung über erwachsene Leute schreibt , weiß er genau , wo er aufzuhören hat -- bei der Heirat ; schreibt er aber über ein unreifes Kind , so muß er aufhören , wo er's für passend hält . Die meisten der in diesem Buch vorkommenden Personen leben noch , sind glücklich und mehren sich . Vielleicht erscheint es eines Tages als angebracht , die Geschichte der Jugend wieder aufzunehmen und zu sehen , was für Männer und Frauen aus ihnen geworden sind ; darum wird's am besten sein , von ihrem jetzigen Leben hier nichts mehr zu verraten .\n",
              "67728 ohne die eines Mannes zu werden . Wenn jemand eine Erzählung über erwachsene Leute schreibt , weiß er genau , wo er aufzuhören hat -- bei der Heirat ; schreibt er aber über ein unreifes Kind , so muß er aufhören , wo er's für passend hält . Die meisten der in diesem Buch vorkommenden Personen leben noch , sind glücklich und mehren sich . Vielleicht erscheint es eines Tages als angebracht , die Geschichte der Jugend wieder aufzunehmen und zu sehen , was für Männer und Frauen aus ihnen geworden sind ; darum wird's am besten sein , von ihrem jetzigen Leben hier nichts mehr zu verraten .\n",
              "67729 ohne die eines Mannes zu werden . Wenn jemand eine Erzählung über erwachsene Leute schreibt , weiß er genau , wo er aufzuhören hat -- bei der Heirat ; schreibt er aber über ein unreifes Kind , so muß er aufhören , wo er's für passend hält . Die meisten der in diesem Buch vorkommenden Personen leben noch , sind glücklich und mehren sich . Vielleicht erscheint es eines Tages als angebracht , die Geschichte der Jugend wieder aufzunehmen und zu sehen , was für Männer und Frauen aus ihnen geworden sind ; darum wird's am besten sein , von ihrem jetzigen Leben hier nichts mehr zu verraten .\n",
              "67730 ohne die eines Mannes zu werden . Wenn jemand eine Erzählung über erwachsene Leute schreibt , weiß er genau , wo er aufzuhören hat -- bei der Heirat ; schreibt er aber über ein unreifes Kind , so muß er aufhören , wo er's für passend hält . Die meisten der in diesem Buch vorkommenden Personen leben noch , sind glücklich und mehren sich . Vielleicht erscheint es eines Tages als angebracht , die Geschichte der Jugend wieder aufzunehmen und zu sehen , was für Männer und Frauen aus ihnen geworden sind ; darum wird's am besten sein , von ihrem jetzigen Leben hier nichts mehr zu verraten .\n",
              "67731 ohne die eines Mannes zu werden . Wenn jemand eine Erzählung über erwachsene Leute schreibt , weiß er genau , wo er aufzuhören hat -- bei der Heirat ; schreibt er aber über ein unreifes Kind , so muß er aufhören , wo er's für passend hält . Die meisten der in diesem Buch vorkommenden Personen leben noch , sind glücklich und mehren sich . Vielleicht erscheint es eines Tages als angebracht , die Geschichte der Jugend wieder aufzunehmen und zu sehen , was für Männer und Frauen aus ihnen geworden sind ; darum wird's am besten sein , von ihrem jetzigen Leben hier nichts mehr zu verraten .\n",
              "67732 ohne die eines Mannes zu werden . Wenn jemand eine Erzählung über erwachsene Leute schreibt , weiß er genau , wo er aufzuhören hat -- bei der Heirat ; schreibt er aber über ein unreifes Kind , so muß er aufhören , wo er's für passend hält . Die meisten der in diesem Buch vorkommenden Personen leben noch , sind glücklich und mehren sich . Vielleicht erscheint es eines Tages als angebracht , die Geschichte der Jugend wieder aufzunehmen und zu sehen , was für Männer und Frauen aus ihnen geworden sind ; darum wird's am besten sein , von ihrem jetzigen Leben hier nichts mehr zu verraten .\n",
              "      token_id token    lemma    upos xpos  feats                           \n",
              "67723 86       Männer   mann     NOUN NN    Case=Acc|Gender=Masc|Number=Plur\n",
              "67724 88       Frauen   frau     NOUN NN    Case=Acc|Gender=Fem|Number=Plur \n",
              "67725 91       geworden werden   VERB ADJA  Case=Acc|Gender=Fem|Number=Sing \n",
              "67726 94       darum    darum    ADV  PAV   NA                              \n",
              "67727 95       wird's   wird's   X    PPER  Foreign=Yes                     \n",
              "67728 98       besten   gut      ADJ  ADJA  Case=Dat|Gender=Neut|Number=Sing\n",
              "67729 103      jetzigen jetzig   ADJ  ADJA  Case=Acc|Gender=Masc|Number=Sing\n",
              "67730 104      Leben    leben    NOUN NN    Case=Acc|Gender=Neut|Number=Sing\n",
              "67731 107      mehr     mehr     ADV  ADV   NA                              \n",
              "67732 109      verraten verraten VERB VVINF VerbForm=Inf                    \n",
              "      head_token_id dep_rel deps misc word    \n",
              "67723 91            obl     NA   NA   männer  \n",
              "67724 86            conj    NA   NA   frauen  \n",
              "67725 82            acl     NA   NA   geworden\n",
              "67726 95            advmod  NA   NA   darum   \n",
              "67727 98            nsubj   NA   NA   wird's  \n",
              "67728 67            xcomp   NA   NA   besten  \n",
              "67729 104           amod    NA   NA   jetzigen\n",
              "67730 109           obl     NA   NA   leben   \n",
              "67731 109           advmod  NA   NA   mehr    \n",
              "67732 67            xcomp   NA   NA   verraten"
            ],
            "text/latex": "A paged\\_df: 10 × 15\n\\begin{tabular}{r|lllllllllllllll}\n  & doc\\_id & paragraph\\_id & sentence\\_id & sentence & token\\_id & token & lemma & upos & xpos & feats & head\\_token\\_id & dep\\_rel & deps & misc & word\\\\\n  & <chr> & <int> & <int> & <chr> & <chr> & <chr> & <chr> & <chr> & <chr> & <chr> & <chr> & <chr> & <chr> & <chr> & <chr>\\\\\n\\hline\n\t67723 & tom & 1 & 293 & ohne die eines Mannes zu werden . Wenn jemand eine Erzählung über erwachsene Leute schreibt , weiß er genau , wo er aufzuhören hat -- bei der Heirat ; schreibt er aber über ein unreifes Kind , so muß er aufhören , wo er's für passend hält . Die meisten der in diesem Buch vorkommenden Personen leben noch , sind glücklich und mehren sich . Vielleicht erscheint es eines Tages als angebracht , die Geschichte der Jugend wieder aufzunehmen und zu sehen , was für Männer und Frauen aus ihnen geworden sind ; darum wird's am besten sein , von ihrem jetzigen Leben hier nichts mehr zu verraten . & 86  & Männer   & mann     & NOUN & NN    & Case=Acc\\textbar{}Gender=Masc\\textbar{}Number=Plur & 91  & obl    & NA & NA & männer  \\\\\n\t67724 & tom & 1 & 293 & ohne die eines Mannes zu werden . Wenn jemand eine Erzählung über erwachsene Leute schreibt , weiß er genau , wo er aufzuhören hat -- bei der Heirat ; schreibt er aber über ein unreifes Kind , so muß er aufhören , wo er's für passend hält . Die meisten der in diesem Buch vorkommenden Personen leben noch , sind glücklich und mehren sich . Vielleicht erscheint es eines Tages als angebracht , die Geschichte der Jugend wieder aufzunehmen und zu sehen , was für Männer und Frauen aus ihnen geworden sind ; darum wird's am besten sein , von ihrem jetzigen Leben hier nichts mehr zu verraten . & 88  & Frauen   & frau     & NOUN & NN    & Case=Acc\\textbar{}Gender=Fem\\textbar{}Number=Plur  & 86  & conj   & NA & NA & frauen  \\\\\n\t67725 & tom & 1 & 293 & ohne die eines Mannes zu werden . Wenn jemand eine Erzählung über erwachsene Leute schreibt , weiß er genau , wo er aufzuhören hat -- bei der Heirat ; schreibt er aber über ein unreifes Kind , so muß er aufhören , wo er's für passend hält . Die meisten der in diesem Buch vorkommenden Personen leben noch , sind glücklich und mehren sich . Vielleicht erscheint es eines Tages als angebracht , die Geschichte der Jugend wieder aufzunehmen und zu sehen , was für Männer und Frauen aus ihnen geworden sind ; darum wird's am besten sein , von ihrem jetzigen Leben hier nichts mehr zu verraten . & 91  & geworden & werden   & VERB & ADJA  & Case=Acc\\textbar{}Gender=Fem\\textbar{}Number=Sing  & 82  & acl    & NA & NA & geworden\\\\\n\t67726 & tom & 1 & 293 & ohne die eines Mannes zu werden . Wenn jemand eine Erzählung über erwachsene Leute schreibt , weiß er genau , wo er aufzuhören hat -- bei der Heirat ; schreibt er aber über ein unreifes Kind , so muß er aufhören , wo er's für passend hält . Die meisten der in diesem Buch vorkommenden Personen leben noch , sind glücklich und mehren sich . Vielleicht erscheint es eines Tages als angebracht , die Geschichte der Jugend wieder aufzunehmen und zu sehen , was für Männer und Frauen aus ihnen geworden sind ; darum wird's am besten sein , von ihrem jetzigen Leben hier nichts mehr zu verraten . & 94  & darum    & darum    & ADV  & PAV   & NA                               & 95  & advmod & NA & NA & darum   \\\\\n\t67727 & tom & 1 & 293 & ohne die eines Mannes zu werden . Wenn jemand eine Erzählung über erwachsene Leute schreibt , weiß er genau , wo er aufzuhören hat -- bei der Heirat ; schreibt er aber über ein unreifes Kind , so muß er aufhören , wo er's für passend hält . Die meisten der in diesem Buch vorkommenden Personen leben noch , sind glücklich und mehren sich . Vielleicht erscheint es eines Tages als angebracht , die Geschichte der Jugend wieder aufzunehmen und zu sehen , was für Männer und Frauen aus ihnen geworden sind ; darum wird's am besten sein , von ihrem jetzigen Leben hier nichts mehr zu verraten . & 95  & wird's   & wird's   & X    & PPER  & Foreign=Yes                      & 98  & nsubj  & NA & NA & wird's  \\\\\n\t67728 & tom & 1 & 293 & ohne die eines Mannes zu werden . Wenn jemand eine Erzählung über erwachsene Leute schreibt , weiß er genau , wo er aufzuhören hat -- bei der Heirat ; schreibt er aber über ein unreifes Kind , so muß er aufhören , wo er's für passend hält . Die meisten der in diesem Buch vorkommenden Personen leben noch , sind glücklich und mehren sich . Vielleicht erscheint es eines Tages als angebracht , die Geschichte der Jugend wieder aufzunehmen und zu sehen , was für Männer und Frauen aus ihnen geworden sind ; darum wird's am besten sein , von ihrem jetzigen Leben hier nichts mehr zu verraten . & 98  & besten   & gut      & ADJ  & ADJA  & Case=Dat\\textbar{}Gender=Neut\\textbar{}Number=Sing & 67  & xcomp  & NA & NA & besten  \\\\\n\t67729 & tom & 1 & 293 & ohne die eines Mannes zu werden . Wenn jemand eine Erzählung über erwachsene Leute schreibt , weiß er genau , wo er aufzuhören hat -- bei der Heirat ; schreibt er aber über ein unreifes Kind , so muß er aufhören , wo er's für passend hält . Die meisten der in diesem Buch vorkommenden Personen leben noch , sind glücklich und mehren sich . Vielleicht erscheint es eines Tages als angebracht , die Geschichte der Jugend wieder aufzunehmen und zu sehen , was für Männer und Frauen aus ihnen geworden sind ; darum wird's am besten sein , von ihrem jetzigen Leben hier nichts mehr zu verraten . & 103 & jetzigen & jetzig   & ADJ  & ADJA  & Case=Acc\\textbar{}Gender=Masc\\textbar{}Number=Sing & 104 & amod   & NA & NA & jetzigen\\\\\n\t67730 & tom & 1 & 293 & ohne die eines Mannes zu werden . Wenn jemand eine Erzählung über erwachsene Leute schreibt , weiß er genau , wo er aufzuhören hat -- bei der Heirat ; schreibt er aber über ein unreifes Kind , so muß er aufhören , wo er's für passend hält . Die meisten der in diesem Buch vorkommenden Personen leben noch , sind glücklich und mehren sich . Vielleicht erscheint es eines Tages als angebracht , die Geschichte der Jugend wieder aufzunehmen und zu sehen , was für Männer und Frauen aus ihnen geworden sind ; darum wird's am besten sein , von ihrem jetzigen Leben hier nichts mehr zu verraten . & 104 & Leben    & leben    & NOUN & NN    & Case=Acc\\textbar{}Gender=Neut\\textbar{}Number=Sing & 109 & obl    & NA & NA & leben   \\\\\n\t67731 & tom & 1 & 293 & ohne die eines Mannes zu werden . Wenn jemand eine Erzählung über erwachsene Leute schreibt , weiß er genau , wo er aufzuhören hat -- bei der Heirat ; schreibt er aber über ein unreifes Kind , so muß er aufhören , wo er's für passend hält . Die meisten der in diesem Buch vorkommenden Personen leben noch , sind glücklich und mehren sich . Vielleicht erscheint es eines Tages als angebracht , die Geschichte der Jugend wieder aufzunehmen und zu sehen , was für Männer und Frauen aus ihnen geworden sind ; darum wird's am besten sein , von ihrem jetzigen Leben hier nichts mehr zu verraten . & 107 & mehr     & mehr     & ADV  & ADV   & NA                               & 109 & advmod & NA & NA & mehr    \\\\\n\t67732 & tom & 1 & 293 & ohne die eines Mannes zu werden . Wenn jemand eine Erzählung über erwachsene Leute schreibt , weiß er genau , wo er aufzuhören hat -- bei der Heirat ; schreibt er aber über ein unreifes Kind , so muß er aufhören , wo er's für passend hält . Die meisten der in diesem Buch vorkommenden Personen leben noch , sind glücklich und mehren sich . Vielleicht erscheint es eines Tages als angebracht , die Geschichte der Jugend wieder aufzunehmen und zu sehen , was für Männer und Frauen aus ihnen geworden sind ; darum wird's am besten sein , von ihrem jetzigen Leben hier nichts mehr zu verraten . & 109 & verraten & verraten & VERB & VVINF & VerbForm=Inf                     & 67  & xcomp  & NA & NA & verraten\\\\\n\\end{tabular}\n",
            "text/markdown": "\nA paged_df: 10 × 15\n\n| <!--/--> | doc_id &lt;chr&gt; | paragraph_id &lt;int&gt; | sentence_id &lt;int&gt; | sentence &lt;chr&gt; | token_id &lt;chr&gt; | token &lt;chr&gt; | lemma &lt;chr&gt; | upos &lt;chr&gt; | xpos &lt;chr&gt; | feats &lt;chr&gt; | head_token_id &lt;chr&gt; | dep_rel &lt;chr&gt; | deps &lt;chr&gt; | misc &lt;chr&gt; | word &lt;chr&gt; |\n|---|---|---|---|---|---|---|---|---|---|---|---|---|---|---|---|\n| 67723 | tom | 1 | 293 | ohne die eines Mannes zu werden . Wenn jemand eine Erzählung über erwachsene Leute schreibt , weiß er genau , wo er aufzuhören hat -- bei der Heirat ; schreibt er aber über ein unreifes Kind , so muß er aufhören , wo er's für passend hält . Die meisten der in diesem Buch vorkommenden Personen leben noch , sind glücklich und mehren sich . Vielleicht erscheint es eines Tages als angebracht , die Geschichte der Jugend wieder aufzunehmen und zu sehen , was für Männer und Frauen aus ihnen geworden sind ; darum wird's am besten sein , von ihrem jetzigen Leben hier nichts mehr zu verraten . | 86  | Männer   | mann     | NOUN | NN    | Case=Acc|Gender=Masc|Number=Plur | 91  | obl    | NA | NA | männer   |\n| 67724 | tom | 1 | 293 | ohne die eines Mannes zu werden . Wenn jemand eine Erzählung über erwachsene Leute schreibt , weiß er genau , wo er aufzuhören hat -- bei der Heirat ; schreibt er aber über ein unreifes Kind , so muß er aufhören , wo er's für passend hält . Die meisten der in diesem Buch vorkommenden Personen leben noch , sind glücklich und mehren sich . Vielleicht erscheint es eines Tages als angebracht , die Geschichte der Jugend wieder aufzunehmen und zu sehen , was für Männer und Frauen aus ihnen geworden sind ; darum wird's am besten sein , von ihrem jetzigen Leben hier nichts mehr zu verraten . | 88  | Frauen   | frau     | NOUN | NN    | Case=Acc|Gender=Fem|Number=Plur  | 86  | conj   | NA | NA | frauen   |\n| 67725 | tom | 1 | 293 | ohne die eines Mannes zu werden . Wenn jemand eine Erzählung über erwachsene Leute schreibt , weiß er genau , wo er aufzuhören hat -- bei der Heirat ; schreibt er aber über ein unreifes Kind , so muß er aufhören , wo er's für passend hält . Die meisten der in diesem Buch vorkommenden Personen leben noch , sind glücklich und mehren sich . Vielleicht erscheint es eines Tages als angebracht , die Geschichte der Jugend wieder aufzunehmen und zu sehen , was für Männer und Frauen aus ihnen geworden sind ; darum wird's am besten sein , von ihrem jetzigen Leben hier nichts mehr zu verraten . | 91  | geworden | werden   | VERB | ADJA  | Case=Acc|Gender=Fem|Number=Sing  | 82  | acl    | NA | NA | geworden |\n| 67726 | tom | 1 | 293 | ohne die eines Mannes zu werden . Wenn jemand eine Erzählung über erwachsene Leute schreibt , weiß er genau , wo er aufzuhören hat -- bei der Heirat ; schreibt er aber über ein unreifes Kind , so muß er aufhören , wo er's für passend hält . Die meisten der in diesem Buch vorkommenden Personen leben noch , sind glücklich und mehren sich . Vielleicht erscheint es eines Tages als angebracht , die Geschichte der Jugend wieder aufzunehmen und zu sehen , was für Männer und Frauen aus ihnen geworden sind ; darum wird's am besten sein , von ihrem jetzigen Leben hier nichts mehr zu verraten . | 94  | darum    | darum    | ADV  | PAV   | NA                               | 95  | advmod | NA | NA | darum    |\n| 67727 | tom | 1 | 293 | ohne die eines Mannes zu werden . Wenn jemand eine Erzählung über erwachsene Leute schreibt , weiß er genau , wo er aufzuhören hat -- bei der Heirat ; schreibt er aber über ein unreifes Kind , so muß er aufhören , wo er's für passend hält . Die meisten der in diesem Buch vorkommenden Personen leben noch , sind glücklich und mehren sich . Vielleicht erscheint es eines Tages als angebracht , die Geschichte der Jugend wieder aufzunehmen und zu sehen , was für Männer und Frauen aus ihnen geworden sind ; darum wird's am besten sein , von ihrem jetzigen Leben hier nichts mehr zu verraten . | 95  | wird's   | wird's   | X    | PPER  | Foreign=Yes                      | 98  | nsubj  | NA | NA | wird's   |\n| 67728 | tom | 1 | 293 | ohne die eines Mannes zu werden . Wenn jemand eine Erzählung über erwachsene Leute schreibt , weiß er genau , wo er aufzuhören hat -- bei der Heirat ; schreibt er aber über ein unreifes Kind , so muß er aufhören , wo er's für passend hält . Die meisten der in diesem Buch vorkommenden Personen leben noch , sind glücklich und mehren sich . Vielleicht erscheint es eines Tages als angebracht , die Geschichte der Jugend wieder aufzunehmen und zu sehen , was für Männer und Frauen aus ihnen geworden sind ; darum wird's am besten sein , von ihrem jetzigen Leben hier nichts mehr zu verraten . | 98  | besten   | gut      | ADJ  | ADJA  | Case=Dat|Gender=Neut|Number=Sing | 67  | xcomp  | NA | NA | besten   |\n| 67729 | tom | 1 | 293 | ohne die eines Mannes zu werden . Wenn jemand eine Erzählung über erwachsene Leute schreibt , weiß er genau , wo er aufzuhören hat -- bei der Heirat ; schreibt er aber über ein unreifes Kind , so muß er aufhören , wo er's für passend hält . Die meisten der in diesem Buch vorkommenden Personen leben noch , sind glücklich und mehren sich . Vielleicht erscheint es eines Tages als angebracht , die Geschichte der Jugend wieder aufzunehmen und zu sehen , was für Männer und Frauen aus ihnen geworden sind ; darum wird's am besten sein , von ihrem jetzigen Leben hier nichts mehr zu verraten . | 103 | jetzigen | jetzig   | ADJ  | ADJA  | Case=Acc|Gender=Masc|Number=Sing | 104 | amod   | NA | NA | jetzigen |\n| 67730 | tom | 1 | 293 | ohne die eines Mannes zu werden . Wenn jemand eine Erzählung über erwachsene Leute schreibt , weiß er genau , wo er aufzuhören hat -- bei der Heirat ; schreibt er aber über ein unreifes Kind , so muß er aufhören , wo er's für passend hält . Die meisten der in diesem Buch vorkommenden Personen leben noch , sind glücklich und mehren sich . Vielleicht erscheint es eines Tages als angebracht , die Geschichte der Jugend wieder aufzunehmen und zu sehen , was für Männer und Frauen aus ihnen geworden sind ; darum wird's am besten sein , von ihrem jetzigen Leben hier nichts mehr zu verraten . | 104 | Leben    | leben    | NOUN | NN    | Case=Acc|Gender=Neut|Number=Sing | 109 | obl    | NA | NA | leben    |\n| 67731 | tom | 1 | 293 | ohne die eines Mannes zu werden . Wenn jemand eine Erzählung über erwachsene Leute schreibt , weiß er genau , wo er aufzuhören hat -- bei der Heirat ; schreibt er aber über ein unreifes Kind , so muß er aufhören , wo er's für passend hält . Die meisten der in diesem Buch vorkommenden Personen leben noch , sind glücklich und mehren sich . Vielleicht erscheint es eines Tages als angebracht , die Geschichte der Jugend wieder aufzunehmen und zu sehen , was für Männer und Frauen aus ihnen geworden sind ; darum wird's am besten sein , von ihrem jetzigen Leben hier nichts mehr zu verraten . | 107 | mehr     | mehr     | ADV  | ADV   | NA                               | 109 | advmod | NA | NA | mehr     |\n| 67732 | tom | 1 | 293 | ohne die eines Mannes zu werden . Wenn jemand eine Erzählung über erwachsene Leute schreibt , weiß er genau , wo er aufzuhören hat -- bei der Heirat ; schreibt er aber über ein unreifes Kind , so muß er aufhören , wo er's für passend hält . Die meisten der in diesem Buch vorkommenden Personen leben noch , sind glücklich und mehren sich . Vielleicht erscheint es eines Tages als angebracht , die Geschichte der Jugend wieder aufzunehmen und zu sehen , was für Männer und Frauen aus ihnen geworden sind ; darum wird's am besten sein , von ihrem jetzigen Leben hier nichts mehr zu verraten . | 109 | verraten | verraten | VERB | VVINF | VerbForm=Inf                     | 67  | xcomp  | NA | NA | verraten |\n\n",
            "text/html": [
              "<table class=\"dataframe\">\n",
              "<caption>A paged_df: 10 × 15</caption>\n",
              "<thead>\n",
              "\t<tr><th></th><th scope=col>doc_id</th><th scope=col>paragraph_id</th><th scope=col>sentence_id</th><th scope=col>sentence</th><th scope=col>token_id</th><th scope=col>token</th><th scope=col>lemma</th><th scope=col>upos</th><th scope=col>xpos</th><th scope=col>feats</th><th scope=col>head_token_id</th><th scope=col>dep_rel</th><th scope=col>deps</th><th scope=col>misc</th><th scope=col>word</th></tr>\n",
              "\t<tr><th></th><th scope=col>&lt;chr&gt;</th><th scope=col>&lt;int&gt;</th><th scope=col>&lt;int&gt;</th><th scope=col>&lt;chr&gt;</th><th scope=col>&lt;chr&gt;</th><th scope=col>&lt;chr&gt;</th><th scope=col>&lt;chr&gt;</th><th scope=col>&lt;chr&gt;</th><th scope=col>&lt;chr&gt;</th><th scope=col>&lt;chr&gt;</th><th scope=col>&lt;chr&gt;</th><th scope=col>&lt;chr&gt;</th><th scope=col>&lt;chr&gt;</th><th scope=col>&lt;chr&gt;</th><th scope=col>&lt;chr&gt;</th></tr>\n",
              "</thead>\n",
              "<tbody>\n",
              "\t<tr><th scope=row>67723</th><td>tom</td><td>1</td><td>293</td><td>ohne die eines Mannes zu werden . Wenn jemand eine Erzählung über erwachsene Leute schreibt , weiß er genau , wo er aufzuhören hat -- bei der Heirat ; schreibt er aber über ein unreifes Kind , so muß er aufhören , wo er's für passend hält . Die meisten der in diesem Buch vorkommenden Personen leben noch , sind glücklich und mehren sich . Vielleicht erscheint es eines Tages als angebracht , die Geschichte der Jugend wieder aufzunehmen und zu sehen , was für Männer und Frauen aus ihnen geworden sind ; darum wird's am besten sein , von ihrem jetzigen Leben hier nichts mehr zu verraten .</td><td>86 </td><td>Männer  </td><td>mann    </td><td>NOUN</td><td>NN   </td><td>Case=Acc|Gender=Masc|Number=Plur</td><td>91 </td><td>obl   </td><td>NA</td><td>NA</td><td>männer  </td></tr>\n",
              "\t<tr><th scope=row>67724</th><td>tom</td><td>1</td><td>293</td><td>ohne die eines Mannes zu werden . Wenn jemand eine Erzählung über erwachsene Leute schreibt , weiß er genau , wo er aufzuhören hat -- bei der Heirat ; schreibt er aber über ein unreifes Kind , so muß er aufhören , wo er's für passend hält . Die meisten der in diesem Buch vorkommenden Personen leben noch , sind glücklich und mehren sich . Vielleicht erscheint es eines Tages als angebracht , die Geschichte der Jugend wieder aufzunehmen und zu sehen , was für Männer und Frauen aus ihnen geworden sind ; darum wird's am besten sein , von ihrem jetzigen Leben hier nichts mehr zu verraten .</td><td>88 </td><td>Frauen  </td><td>frau    </td><td>NOUN</td><td>NN   </td><td>Case=Acc|Gender=Fem|Number=Plur </td><td>86 </td><td>conj  </td><td>NA</td><td>NA</td><td>frauen  </td></tr>\n",
              "\t<tr><th scope=row>67725</th><td>tom</td><td>1</td><td>293</td><td>ohne die eines Mannes zu werden . Wenn jemand eine Erzählung über erwachsene Leute schreibt , weiß er genau , wo er aufzuhören hat -- bei der Heirat ; schreibt er aber über ein unreifes Kind , so muß er aufhören , wo er's für passend hält . Die meisten der in diesem Buch vorkommenden Personen leben noch , sind glücklich und mehren sich . Vielleicht erscheint es eines Tages als angebracht , die Geschichte der Jugend wieder aufzunehmen und zu sehen , was für Männer und Frauen aus ihnen geworden sind ; darum wird's am besten sein , von ihrem jetzigen Leben hier nichts mehr zu verraten .</td><td>91 </td><td>geworden</td><td>werden  </td><td>VERB</td><td>ADJA </td><td>Case=Acc|Gender=Fem|Number=Sing </td><td>82 </td><td>acl   </td><td>NA</td><td>NA</td><td>geworden</td></tr>\n",
              "\t<tr><th scope=row>67726</th><td>tom</td><td>1</td><td>293</td><td>ohne die eines Mannes zu werden . Wenn jemand eine Erzählung über erwachsene Leute schreibt , weiß er genau , wo er aufzuhören hat -- bei der Heirat ; schreibt er aber über ein unreifes Kind , so muß er aufhören , wo er's für passend hält . Die meisten der in diesem Buch vorkommenden Personen leben noch , sind glücklich und mehren sich . Vielleicht erscheint es eines Tages als angebracht , die Geschichte der Jugend wieder aufzunehmen und zu sehen , was für Männer und Frauen aus ihnen geworden sind ; darum wird's am besten sein , von ihrem jetzigen Leben hier nichts mehr zu verraten .</td><td>94 </td><td>darum   </td><td>darum   </td><td>ADV </td><td>PAV  </td><td>NA                              </td><td>95 </td><td>advmod</td><td>NA</td><td>NA</td><td>darum   </td></tr>\n",
              "\t<tr><th scope=row>67727</th><td>tom</td><td>1</td><td>293</td><td>ohne die eines Mannes zu werden . Wenn jemand eine Erzählung über erwachsene Leute schreibt , weiß er genau , wo er aufzuhören hat -- bei der Heirat ; schreibt er aber über ein unreifes Kind , so muß er aufhören , wo er's für passend hält . Die meisten der in diesem Buch vorkommenden Personen leben noch , sind glücklich und mehren sich . Vielleicht erscheint es eines Tages als angebracht , die Geschichte der Jugend wieder aufzunehmen und zu sehen , was für Männer und Frauen aus ihnen geworden sind ; darum wird's am besten sein , von ihrem jetzigen Leben hier nichts mehr zu verraten .</td><td>95 </td><td>wird's  </td><td>wird's  </td><td>X   </td><td>PPER </td><td>Foreign=Yes                     </td><td>98 </td><td>nsubj </td><td>NA</td><td>NA</td><td>wird's  </td></tr>\n",
              "\t<tr><th scope=row>67728</th><td>tom</td><td>1</td><td>293</td><td>ohne die eines Mannes zu werden . Wenn jemand eine Erzählung über erwachsene Leute schreibt , weiß er genau , wo er aufzuhören hat -- bei der Heirat ; schreibt er aber über ein unreifes Kind , so muß er aufhören , wo er's für passend hält . Die meisten der in diesem Buch vorkommenden Personen leben noch , sind glücklich und mehren sich . Vielleicht erscheint es eines Tages als angebracht , die Geschichte der Jugend wieder aufzunehmen und zu sehen , was für Männer und Frauen aus ihnen geworden sind ; darum wird's am besten sein , von ihrem jetzigen Leben hier nichts mehr zu verraten .</td><td>98 </td><td>besten  </td><td>gut     </td><td>ADJ </td><td>ADJA </td><td>Case=Dat|Gender=Neut|Number=Sing</td><td>67 </td><td>xcomp </td><td>NA</td><td>NA</td><td>besten  </td></tr>\n",
              "\t<tr><th scope=row>67729</th><td>tom</td><td>1</td><td>293</td><td>ohne die eines Mannes zu werden . Wenn jemand eine Erzählung über erwachsene Leute schreibt , weiß er genau , wo er aufzuhören hat -- bei der Heirat ; schreibt er aber über ein unreifes Kind , so muß er aufhören , wo er's für passend hält . Die meisten der in diesem Buch vorkommenden Personen leben noch , sind glücklich und mehren sich . Vielleicht erscheint es eines Tages als angebracht , die Geschichte der Jugend wieder aufzunehmen und zu sehen , was für Männer und Frauen aus ihnen geworden sind ; darum wird's am besten sein , von ihrem jetzigen Leben hier nichts mehr zu verraten .</td><td>103</td><td>jetzigen</td><td>jetzig  </td><td>ADJ </td><td>ADJA </td><td>Case=Acc|Gender=Masc|Number=Sing</td><td>104</td><td>amod  </td><td>NA</td><td>NA</td><td>jetzigen</td></tr>\n",
              "\t<tr><th scope=row>67730</th><td>tom</td><td>1</td><td>293</td><td>ohne die eines Mannes zu werden . Wenn jemand eine Erzählung über erwachsene Leute schreibt , weiß er genau , wo er aufzuhören hat -- bei der Heirat ; schreibt er aber über ein unreifes Kind , so muß er aufhören , wo er's für passend hält . Die meisten der in diesem Buch vorkommenden Personen leben noch , sind glücklich und mehren sich . Vielleicht erscheint es eines Tages als angebracht , die Geschichte der Jugend wieder aufzunehmen und zu sehen , was für Männer und Frauen aus ihnen geworden sind ; darum wird's am besten sein , von ihrem jetzigen Leben hier nichts mehr zu verraten .</td><td>104</td><td>Leben   </td><td>leben   </td><td>NOUN</td><td>NN   </td><td>Case=Acc|Gender=Neut|Number=Sing</td><td>109</td><td>obl   </td><td>NA</td><td>NA</td><td>leben   </td></tr>\n",
              "\t<tr><th scope=row>67731</th><td>tom</td><td>1</td><td>293</td><td>ohne die eines Mannes zu werden . Wenn jemand eine Erzählung über erwachsene Leute schreibt , weiß er genau , wo er aufzuhören hat -- bei der Heirat ; schreibt er aber über ein unreifes Kind , so muß er aufhören , wo er's für passend hält . Die meisten der in diesem Buch vorkommenden Personen leben noch , sind glücklich und mehren sich . Vielleicht erscheint es eines Tages als angebracht , die Geschichte der Jugend wieder aufzunehmen und zu sehen , was für Männer und Frauen aus ihnen geworden sind ; darum wird's am besten sein , von ihrem jetzigen Leben hier nichts mehr zu verraten .</td><td>107</td><td>mehr    </td><td>mehr    </td><td>ADV </td><td>ADV  </td><td>NA                              </td><td>109</td><td>advmod</td><td>NA</td><td>NA</td><td>mehr    </td></tr>\n",
              "\t<tr><th scope=row>67732</th><td>tom</td><td>1</td><td>293</td><td>ohne die eines Mannes zu werden . Wenn jemand eine Erzählung über erwachsene Leute schreibt , weiß er genau , wo er aufzuhören hat -- bei der Heirat ; schreibt er aber über ein unreifes Kind , so muß er aufhören , wo er's für passend hält . Die meisten der in diesem Buch vorkommenden Personen leben noch , sind glücklich und mehren sich . Vielleicht erscheint es eines Tages als angebracht , die Geschichte der Jugend wieder aufzunehmen und zu sehen , was für Männer und Frauen aus ihnen geworden sind ; darum wird's am besten sein , von ihrem jetzigen Leben hier nichts mehr zu verraten .</td><td>109</td><td>verraten</td><td>verraten</td><td>VERB</td><td>VVINF</td><td>VerbForm=Inf                    </td><td>67 </td><td>xcomp </td><td>NA</td><td>NA</td><td>verraten</td></tr>\n",
              "</tbody>\n",
              "</table>\n"
            ]
          },
          "metadata": {
            "tags": []
          }
        }
      ]
    },
    {
      "cell_type": "markdown",
      "metadata": {
        "id": "ejuAW1Lrjoqy"
      },
      "source": [
        "# 3. Stemming\n",
        "\n",
        "Beim Stemming werden die Stämme von Wortformen extrahiert. In flexionsarmen Sprachen (z.B. Englisch) sind die Ergebnisse gewöhnlich nützlicher als in morphologisch reichen Sprachen (z.B. Deutsch, Slowenisch).\n",
        "\n",
        "Hier verwenden wir die Stemming-Funktion *wordStem()* des Programms *SnowballC*, um potentielle Suffixe und Suffixoide komplexer Wörter zu extrahieren. Das Ziel ist eine morphologische Vergleichsanalyse, und zwar von Wortbildungsmorphemen in den Romaen.\n",
        "\n",
        "Mit *mutate()* und der *wordStem()*-Funktion fügen wir der Tabelle eine weitere Spalte hinzu, der wir den Namen \"stamm\" geben. \n"
      ]
    },
    {
      "cell_type": "code",
      "metadata": {
        "colab": {
          "base_uri": "https://localhost:8080/",
          "height": 1000
        },
        "id": "xv6lnmaejoqy",
        "outputId": "5eee9f33-c571-4364-c37e-288f8e96c288"
      },
      "source": [
        "novels_words = novels_words %>% \n",
        "  mutate(stamm = wordStem(lemma, language = \"de\"))\n",
        "head(novels_words) %>% paged_table()\n"
      ],
      "execution_count": null,
      "outputs": [
        {
          "output_type": "display_data",
          "data": {
            "text/plain": [
              "  doc_id  paragraph_id sentence_id\n",
              "1 prozess 1            1          \n",
              "2 prozess 1            1          \n",
              "3 prozess 1            1          \n",
              "4 prozess 1            1          \n",
              "5 prozess 1            1          \n",
              "6 prozess 1            1          \n",
              "  sentence                                                                                                                                                                                                                                                                                                                                                                                                                                                                                                                                                                                                                                                                                                                                                                                                                                                                                                                                                                                                                                                                                                                                                                                                                                                                                                                                                                                                                                                                                                                                                                                                                                                                                                                                                                                                                                                                                                                                                                                                                                                                                                                                                                                                                     \n",
              "1 Der Prozess by Franz Kafka Aligned by : bilingual-texts.com ( fully reviewed ) Der Prozess Franz Kafka 1 Verhaftung , Gespräch mit Frau Grubach , dann Fräulein Brüstner Jemand mußte Josef K. verleumdet haben , denn ohne daß er etwas Böses getan hätte , wurde er eines Morgens verhaftet . Die Köchin der Frau Grubach , seiner Zimmervermieterin , die ihm jeden Tag gegen acht Uhr früh das Frühstück brachte , kam diesmal nicht . Das war noch niemals geschehen . K. wartete noch ein Weilchen , sah von seinem Kopfkissen aus die alte Frau , die ihm gegenüber wohnte und die ihn mit einer an ihr ganz ungewöhnlichen Neugierde beobachtete , dann aber , gleichzeitig befremdet und hungrig , läutete er . Sofort klopfte es und ein Mann , den er in dieser Wohnung noch niemals gesehen hatte , trat ein . Er war schlank und doch fest gebaut , er trug ein anliegendes schwarzes Kleid , das , ähnlich den Reiseanzügen , mit verschiedenen Falten , Taschen , Schnallen , Knöpfen und einem Gürtel versehen war und infolgedessen , ohne daß man sich darüber klar wurde , wozu es dienen sollte , besonders praktisch erschien . » Wer sind Sie ? « fragte K. und saß gleich halb aufrecht im Bett . Der Mann aber ging über die Frage hinweg , als müsse man seine Erscheinung hinnehmen , und sagte bloß seinerseits : » Sie haben geläutet ? « » Anna soll mir das Frühstück bringen « , sagte K. und versuchte , zunächst stillschweigend , durch Aufmerksamkeit und Überlegung festzustellen , wer der Mann eigentlich war . Aber dieser setzte sich nicht allzulange seinen Blicken aus , sondern wandte sich zur Tür , die er ein wenig öffnete , um jemandem , der offenbar knapp hinter der Tür stand , zu sagen : » Er will , daß Anna ihm das Frühstück bringt . « Ein kleines Gelächter im Nebenzimmer folgte , es war nach dem Klang nicht sicher , ob nicht mehrere Personen daran beteiligt waren . Obwohl der fremde Mann dadurch nichts erfahren haben konnte , was er nicht schon früher gewußt hätte , sagte er nun doch zu K. im Tone einer Meldung : » Es ist unmöglich . « » Das wäre neu « , sagte K. , sprang aus dem Bett und zog rasch seine Hosen an . » Ich will doch sehen ,\n",
              "2 Der Prozess by Franz Kafka Aligned by : bilingual-texts.com ( fully reviewed ) Der Prozess Franz Kafka 1 Verhaftung , Gespräch mit Frau Grubach , dann Fräulein Brüstner Jemand mußte Josef K. verleumdet haben , denn ohne daß er etwas Böses getan hätte , wurde er eines Morgens verhaftet . Die Köchin der Frau Grubach , seiner Zimmervermieterin , die ihm jeden Tag gegen acht Uhr früh das Frühstück brachte , kam diesmal nicht . Das war noch niemals geschehen . K. wartete noch ein Weilchen , sah von seinem Kopfkissen aus die alte Frau , die ihm gegenüber wohnte und die ihn mit einer an ihr ganz ungewöhnlichen Neugierde beobachtete , dann aber , gleichzeitig befremdet und hungrig , läutete er . Sofort klopfte es und ein Mann , den er in dieser Wohnung noch niemals gesehen hatte , trat ein . Er war schlank und doch fest gebaut , er trug ein anliegendes schwarzes Kleid , das , ähnlich den Reiseanzügen , mit verschiedenen Falten , Taschen , Schnallen , Knöpfen und einem Gürtel versehen war und infolgedessen , ohne daß man sich darüber klar wurde , wozu es dienen sollte , besonders praktisch erschien . » Wer sind Sie ? « fragte K. und saß gleich halb aufrecht im Bett . Der Mann aber ging über die Frage hinweg , als müsse man seine Erscheinung hinnehmen , und sagte bloß seinerseits : » Sie haben geläutet ? « » Anna soll mir das Frühstück bringen « , sagte K. und versuchte , zunächst stillschweigend , durch Aufmerksamkeit und Überlegung festzustellen , wer der Mann eigentlich war . Aber dieser setzte sich nicht allzulange seinen Blicken aus , sondern wandte sich zur Tür , die er ein wenig öffnete , um jemandem , der offenbar knapp hinter der Tür stand , zu sagen : » Er will , daß Anna ihm das Frühstück bringt . « Ein kleines Gelächter im Nebenzimmer folgte , es war nach dem Klang nicht sicher , ob nicht mehrere Personen daran beteiligt waren . Obwohl der fremde Mann dadurch nichts erfahren haben konnte , was er nicht schon früher gewußt hätte , sagte er nun doch zu K. im Tone einer Meldung : » Es ist unmöglich . « » Das wäre neu « , sagte K. , sprang aus dem Bett und zog rasch seine Hosen an . » Ich will doch sehen ,\n",
              "3 Der Prozess by Franz Kafka Aligned by : bilingual-texts.com ( fully reviewed ) Der Prozess Franz Kafka 1 Verhaftung , Gespräch mit Frau Grubach , dann Fräulein Brüstner Jemand mußte Josef K. verleumdet haben , denn ohne daß er etwas Böses getan hätte , wurde er eines Morgens verhaftet . Die Köchin der Frau Grubach , seiner Zimmervermieterin , die ihm jeden Tag gegen acht Uhr früh das Frühstück brachte , kam diesmal nicht . Das war noch niemals geschehen . K. wartete noch ein Weilchen , sah von seinem Kopfkissen aus die alte Frau , die ihm gegenüber wohnte und die ihn mit einer an ihr ganz ungewöhnlichen Neugierde beobachtete , dann aber , gleichzeitig befremdet und hungrig , läutete er . Sofort klopfte es und ein Mann , den er in dieser Wohnung noch niemals gesehen hatte , trat ein . Er war schlank und doch fest gebaut , er trug ein anliegendes schwarzes Kleid , das , ähnlich den Reiseanzügen , mit verschiedenen Falten , Taschen , Schnallen , Knöpfen und einem Gürtel versehen war und infolgedessen , ohne daß man sich darüber klar wurde , wozu es dienen sollte , besonders praktisch erschien . » Wer sind Sie ? « fragte K. und saß gleich halb aufrecht im Bett . Der Mann aber ging über die Frage hinweg , als müsse man seine Erscheinung hinnehmen , und sagte bloß seinerseits : » Sie haben geläutet ? « » Anna soll mir das Frühstück bringen « , sagte K. und versuchte , zunächst stillschweigend , durch Aufmerksamkeit und Überlegung festzustellen , wer der Mann eigentlich war . Aber dieser setzte sich nicht allzulange seinen Blicken aus , sondern wandte sich zur Tür , die er ein wenig öffnete , um jemandem , der offenbar knapp hinter der Tür stand , zu sagen : » Er will , daß Anna ihm das Frühstück bringt . « Ein kleines Gelächter im Nebenzimmer folgte , es war nach dem Klang nicht sicher , ob nicht mehrere Personen daran beteiligt waren . Obwohl der fremde Mann dadurch nichts erfahren haben konnte , was er nicht schon früher gewußt hätte , sagte er nun doch zu K. im Tone einer Meldung : » Es ist unmöglich . « » Das wäre neu « , sagte K. , sprang aus dem Bett und zog rasch seine Hosen an . » Ich will doch sehen ,\n",
              "4 Der Prozess by Franz Kafka Aligned by : bilingual-texts.com ( fully reviewed ) Der Prozess Franz Kafka 1 Verhaftung , Gespräch mit Frau Grubach , dann Fräulein Brüstner Jemand mußte Josef K. verleumdet haben , denn ohne daß er etwas Böses getan hätte , wurde er eines Morgens verhaftet . Die Köchin der Frau Grubach , seiner Zimmervermieterin , die ihm jeden Tag gegen acht Uhr früh das Frühstück brachte , kam diesmal nicht . Das war noch niemals geschehen . K. wartete noch ein Weilchen , sah von seinem Kopfkissen aus die alte Frau , die ihm gegenüber wohnte und die ihn mit einer an ihr ganz ungewöhnlichen Neugierde beobachtete , dann aber , gleichzeitig befremdet und hungrig , läutete er . Sofort klopfte es und ein Mann , den er in dieser Wohnung noch niemals gesehen hatte , trat ein . Er war schlank und doch fest gebaut , er trug ein anliegendes schwarzes Kleid , das , ähnlich den Reiseanzügen , mit verschiedenen Falten , Taschen , Schnallen , Knöpfen und einem Gürtel versehen war und infolgedessen , ohne daß man sich darüber klar wurde , wozu es dienen sollte , besonders praktisch erschien . » Wer sind Sie ? « fragte K. und saß gleich halb aufrecht im Bett . Der Mann aber ging über die Frage hinweg , als müsse man seine Erscheinung hinnehmen , und sagte bloß seinerseits : » Sie haben geläutet ? « » Anna soll mir das Frühstück bringen « , sagte K. und versuchte , zunächst stillschweigend , durch Aufmerksamkeit und Überlegung festzustellen , wer der Mann eigentlich war . Aber dieser setzte sich nicht allzulange seinen Blicken aus , sondern wandte sich zur Tür , die er ein wenig öffnete , um jemandem , der offenbar knapp hinter der Tür stand , zu sagen : » Er will , daß Anna ihm das Frühstück bringt . « Ein kleines Gelächter im Nebenzimmer folgte , es war nach dem Klang nicht sicher , ob nicht mehrere Personen daran beteiligt waren . Obwohl der fremde Mann dadurch nichts erfahren haben konnte , was er nicht schon früher gewußt hätte , sagte er nun doch zu K. im Tone einer Meldung : » Es ist unmöglich . « » Das wäre neu « , sagte K. , sprang aus dem Bett und zog rasch seine Hosen an . » Ich will doch sehen ,\n",
              "5 Der Prozess by Franz Kafka Aligned by : bilingual-texts.com ( fully reviewed ) Der Prozess Franz Kafka 1 Verhaftung , Gespräch mit Frau Grubach , dann Fräulein Brüstner Jemand mußte Josef K. verleumdet haben , denn ohne daß er etwas Böses getan hätte , wurde er eines Morgens verhaftet . Die Köchin der Frau Grubach , seiner Zimmervermieterin , die ihm jeden Tag gegen acht Uhr früh das Frühstück brachte , kam diesmal nicht . Das war noch niemals geschehen . K. wartete noch ein Weilchen , sah von seinem Kopfkissen aus die alte Frau , die ihm gegenüber wohnte und die ihn mit einer an ihr ganz ungewöhnlichen Neugierde beobachtete , dann aber , gleichzeitig befremdet und hungrig , läutete er . Sofort klopfte es und ein Mann , den er in dieser Wohnung noch niemals gesehen hatte , trat ein . Er war schlank und doch fest gebaut , er trug ein anliegendes schwarzes Kleid , das , ähnlich den Reiseanzügen , mit verschiedenen Falten , Taschen , Schnallen , Knöpfen und einem Gürtel versehen war und infolgedessen , ohne daß man sich darüber klar wurde , wozu es dienen sollte , besonders praktisch erschien . » Wer sind Sie ? « fragte K. und saß gleich halb aufrecht im Bett . Der Mann aber ging über die Frage hinweg , als müsse man seine Erscheinung hinnehmen , und sagte bloß seinerseits : » Sie haben geläutet ? « » Anna soll mir das Frühstück bringen « , sagte K. und versuchte , zunächst stillschweigend , durch Aufmerksamkeit und Überlegung festzustellen , wer der Mann eigentlich war . Aber dieser setzte sich nicht allzulange seinen Blicken aus , sondern wandte sich zur Tür , die er ein wenig öffnete , um jemandem , der offenbar knapp hinter der Tür stand , zu sagen : » Er will , daß Anna ihm das Frühstück bringt . « Ein kleines Gelächter im Nebenzimmer folgte , es war nach dem Klang nicht sicher , ob nicht mehrere Personen daran beteiligt waren . Obwohl der fremde Mann dadurch nichts erfahren haben konnte , was er nicht schon früher gewußt hätte , sagte er nun doch zu K. im Tone einer Meldung : » Es ist unmöglich . « » Das wäre neu « , sagte K. , sprang aus dem Bett und zog rasch seine Hosen an . » Ich will doch sehen ,\n",
              "6 Der Prozess by Franz Kafka Aligned by : bilingual-texts.com ( fully reviewed ) Der Prozess Franz Kafka 1 Verhaftung , Gespräch mit Frau Grubach , dann Fräulein Brüstner Jemand mußte Josef K. verleumdet haben , denn ohne daß er etwas Böses getan hätte , wurde er eines Morgens verhaftet . Die Köchin der Frau Grubach , seiner Zimmervermieterin , die ihm jeden Tag gegen acht Uhr früh das Frühstück brachte , kam diesmal nicht . Das war noch niemals geschehen . K. wartete noch ein Weilchen , sah von seinem Kopfkissen aus die alte Frau , die ihm gegenüber wohnte und die ihn mit einer an ihr ganz ungewöhnlichen Neugierde beobachtete , dann aber , gleichzeitig befremdet und hungrig , läutete er . Sofort klopfte es und ein Mann , den er in dieser Wohnung noch niemals gesehen hatte , trat ein . Er war schlank und doch fest gebaut , er trug ein anliegendes schwarzes Kleid , das , ähnlich den Reiseanzügen , mit verschiedenen Falten , Taschen , Schnallen , Knöpfen und einem Gürtel versehen war und infolgedessen , ohne daß man sich darüber klar wurde , wozu es dienen sollte , besonders praktisch erschien . » Wer sind Sie ? « fragte K. und saß gleich halb aufrecht im Bett . Der Mann aber ging über die Frage hinweg , als müsse man seine Erscheinung hinnehmen , und sagte bloß seinerseits : » Sie haben geläutet ? « » Anna soll mir das Frühstück bringen « , sagte K. und versuchte , zunächst stillschweigend , durch Aufmerksamkeit und Überlegung festzustellen , wer der Mann eigentlich war . Aber dieser setzte sich nicht allzulange seinen Blicken aus , sondern wandte sich zur Tür , die er ein wenig öffnete , um jemandem , der offenbar knapp hinter der Tür stand , zu sagen : » Er will , daß Anna ihm das Frühstück bringt . « Ein kleines Gelächter im Nebenzimmer folgte , es war nach dem Klang nicht sicher , ob nicht mehrere Personen daran beteiligt waren . Obwohl der fremde Mann dadurch nichts erfahren haben konnte , was er nicht schon früher gewußt hätte , sagte er nun doch zu K. im Tone einer Meldung : » Es ist unmöglich . « » Das wäre neu « , sagte K. , sprang aus dem Bett und zog rasch seine Hosen an . » Ich will doch sehen ,\n",
              "  token_id token      lemma      upos  xpos feats                           \n",
              "1 2        Prozess    prozeß     NOUN  NN   Case=Nom|Gender=Masc|Number=Sing\n",
              "2 15       Prozess    prozeß     PROPN NN   Case=Nom|Gender=Masc|Number=Sing\n",
              "3 19       Verhaftung verhaftung NOUN  NN   Case=Nom|Gender=Fem|Number=Sing \n",
              "4 21       Gespräch   gespräch   NOUN  NN   Case=Dat|Gender=Neut|Number=Sing\n",
              "5 23       Frau       frau       NOUN  NN   Case=Dat|Gender=Fem|Number=Sing \n",
              "6 24       Grubach    grubach    PROPN NN   Case=Dat|Gender=Neut|Number=Sing\n",
              "  head_token_id dep_rel deps misc                           word       stamm   \n",
              "1 72            nsubj   NA   NA                             prozess    prozess \n",
              "2 19            amod    NA   SpacesAfter=\\\\s\\\\s\\\\s\\\\s\\\\s\\\\s prozess    prozess \n",
              "3 2             nmod    NA   NA                             verhaftung verhaft \n",
              "4 19            appos   NA   NA                             gespräch   gesprach\n",
              "5 21            nmod    NA   NA                             frau       frau    \n",
              "6 23            appos   NA   NA                             grubach    grubach "
            ],
            "text/latex": "A paged\\_df: 6 × 16\n\\begin{tabular}{r|llllllllllllllll}\n  & doc\\_id & paragraph\\_id & sentence\\_id & sentence & token\\_id & token & lemma & upos & xpos & feats & head\\_token\\_id & dep\\_rel & deps & misc & word & stamm\\\\\n  & <chr> & <int> & <int> & <chr> & <chr> & <chr> & <chr> & <chr> & <chr> & <chr> & <chr> & <chr> & <chr> & <chr> & <chr> & <chr>\\\\\n\\hline\n\t1 & prozess & 1 & 1 & Der Prozess by Franz Kafka Aligned by : bilingual-texts.com ( fully reviewed ) Der Prozess Franz Kafka 1 Verhaftung , Gespräch mit Frau Grubach , dann Fräulein Brüstner Jemand mußte Josef K. verleumdet haben , denn ohne daß er etwas Böses getan hätte , wurde er eines Morgens verhaftet . Die Köchin der Frau Grubach , seiner Zimmervermieterin , die ihm jeden Tag gegen acht Uhr früh das Frühstück brachte , kam diesmal nicht . Das war noch niemals geschehen . K. wartete noch ein Weilchen , sah von seinem Kopfkissen aus die alte Frau , die ihm gegenüber wohnte und die ihn mit einer an ihr ganz ungewöhnlichen Neugierde beobachtete , dann aber , gleichzeitig befremdet und hungrig , läutete er . Sofort klopfte es und ein Mann , den er in dieser Wohnung noch niemals gesehen hatte , trat ein . Er war schlank und doch fest gebaut , er trug ein anliegendes schwarzes Kleid , das , ähnlich den Reiseanzügen , mit verschiedenen Falten , Taschen , Schnallen , Knöpfen und einem Gürtel versehen war und infolgedessen , ohne daß man sich darüber klar wurde , wozu es dienen sollte , besonders praktisch erschien . » Wer sind Sie ? « fragte K. und saß gleich halb aufrecht im Bett . Der Mann aber ging über die Frage hinweg , als müsse man seine Erscheinung hinnehmen , und sagte bloß seinerseits : » Sie haben geläutet ? « » Anna soll mir das Frühstück bringen « , sagte K. und versuchte , zunächst stillschweigend , durch Aufmerksamkeit und Überlegung festzustellen , wer der Mann eigentlich war . Aber dieser setzte sich nicht allzulange seinen Blicken aus , sondern wandte sich zur Tür , die er ein wenig öffnete , um jemandem , der offenbar knapp hinter der Tür stand , zu sagen : » Er will , daß Anna ihm das Frühstück bringt . « Ein kleines Gelächter im Nebenzimmer folgte , es war nach dem Klang nicht sicher , ob nicht mehrere Personen daran beteiligt waren . Obwohl der fremde Mann dadurch nichts erfahren haben konnte , was er nicht schon früher gewußt hätte , sagte er nun doch zu K. im Tone einer Meldung : » Es ist unmöglich . « » Das wäre neu « , sagte K. , sprang aus dem Bett und zog rasch seine Hosen an . » Ich will doch sehen , & 2  & Prozess    & prozeß     & NOUN  & NN & Case=Nom\\textbar{}Gender=Masc\\textbar{}Number=Sing & 72 & nsubj & NA & NA                             & prozess    & prozess \\\\\n\t2 & prozess & 1 & 1 & Der Prozess by Franz Kafka Aligned by : bilingual-texts.com ( fully reviewed ) Der Prozess Franz Kafka 1 Verhaftung , Gespräch mit Frau Grubach , dann Fräulein Brüstner Jemand mußte Josef K. verleumdet haben , denn ohne daß er etwas Böses getan hätte , wurde er eines Morgens verhaftet . Die Köchin der Frau Grubach , seiner Zimmervermieterin , die ihm jeden Tag gegen acht Uhr früh das Frühstück brachte , kam diesmal nicht . Das war noch niemals geschehen . K. wartete noch ein Weilchen , sah von seinem Kopfkissen aus die alte Frau , die ihm gegenüber wohnte und die ihn mit einer an ihr ganz ungewöhnlichen Neugierde beobachtete , dann aber , gleichzeitig befremdet und hungrig , läutete er . Sofort klopfte es und ein Mann , den er in dieser Wohnung noch niemals gesehen hatte , trat ein . Er war schlank und doch fest gebaut , er trug ein anliegendes schwarzes Kleid , das , ähnlich den Reiseanzügen , mit verschiedenen Falten , Taschen , Schnallen , Knöpfen und einem Gürtel versehen war und infolgedessen , ohne daß man sich darüber klar wurde , wozu es dienen sollte , besonders praktisch erschien . » Wer sind Sie ? « fragte K. und saß gleich halb aufrecht im Bett . Der Mann aber ging über die Frage hinweg , als müsse man seine Erscheinung hinnehmen , und sagte bloß seinerseits : » Sie haben geläutet ? « » Anna soll mir das Frühstück bringen « , sagte K. und versuchte , zunächst stillschweigend , durch Aufmerksamkeit und Überlegung festzustellen , wer der Mann eigentlich war . Aber dieser setzte sich nicht allzulange seinen Blicken aus , sondern wandte sich zur Tür , die er ein wenig öffnete , um jemandem , der offenbar knapp hinter der Tür stand , zu sagen : » Er will , daß Anna ihm das Frühstück bringt . « Ein kleines Gelächter im Nebenzimmer folgte , es war nach dem Klang nicht sicher , ob nicht mehrere Personen daran beteiligt waren . Obwohl der fremde Mann dadurch nichts erfahren haben konnte , was er nicht schon früher gewußt hätte , sagte er nun doch zu K. im Tone einer Meldung : » Es ist unmöglich . « » Das wäre neu « , sagte K. , sprang aus dem Bett und zog rasch seine Hosen an . » Ich will doch sehen , & 15 & Prozess    & prozeß     & PROPN & NN & Case=Nom\\textbar{}Gender=Masc\\textbar{}Number=Sing & 19 & amod  & NA & SpacesAfter=\\textbackslash{}s\\textbackslash{}s\\textbackslash{}s\\textbackslash{}s\\textbackslash{}s\\textbackslash{}s & prozess    & prozess \\\\\n\t3 & prozess & 1 & 1 & Der Prozess by Franz Kafka Aligned by : bilingual-texts.com ( fully reviewed ) Der Prozess Franz Kafka 1 Verhaftung , Gespräch mit Frau Grubach , dann Fräulein Brüstner Jemand mußte Josef K. verleumdet haben , denn ohne daß er etwas Böses getan hätte , wurde er eines Morgens verhaftet . Die Köchin der Frau Grubach , seiner Zimmervermieterin , die ihm jeden Tag gegen acht Uhr früh das Frühstück brachte , kam diesmal nicht . Das war noch niemals geschehen . K. wartete noch ein Weilchen , sah von seinem Kopfkissen aus die alte Frau , die ihm gegenüber wohnte und die ihn mit einer an ihr ganz ungewöhnlichen Neugierde beobachtete , dann aber , gleichzeitig befremdet und hungrig , läutete er . Sofort klopfte es und ein Mann , den er in dieser Wohnung noch niemals gesehen hatte , trat ein . Er war schlank und doch fest gebaut , er trug ein anliegendes schwarzes Kleid , das , ähnlich den Reiseanzügen , mit verschiedenen Falten , Taschen , Schnallen , Knöpfen und einem Gürtel versehen war und infolgedessen , ohne daß man sich darüber klar wurde , wozu es dienen sollte , besonders praktisch erschien . » Wer sind Sie ? « fragte K. und saß gleich halb aufrecht im Bett . Der Mann aber ging über die Frage hinweg , als müsse man seine Erscheinung hinnehmen , und sagte bloß seinerseits : » Sie haben geläutet ? « » Anna soll mir das Frühstück bringen « , sagte K. und versuchte , zunächst stillschweigend , durch Aufmerksamkeit und Überlegung festzustellen , wer der Mann eigentlich war . Aber dieser setzte sich nicht allzulange seinen Blicken aus , sondern wandte sich zur Tür , die er ein wenig öffnete , um jemandem , der offenbar knapp hinter der Tür stand , zu sagen : » Er will , daß Anna ihm das Frühstück bringt . « Ein kleines Gelächter im Nebenzimmer folgte , es war nach dem Klang nicht sicher , ob nicht mehrere Personen daran beteiligt waren . Obwohl der fremde Mann dadurch nichts erfahren haben konnte , was er nicht schon früher gewußt hätte , sagte er nun doch zu K. im Tone einer Meldung : » Es ist unmöglich . « » Das wäre neu « , sagte K. , sprang aus dem Bett und zog rasch seine Hosen an . » Ich will doch sehen , & 19 & Verhaftung & verhaftung & NOUN  & NN & Case=Nom\\textbar{}Gender=Fem\\textbar{}Number=Sing  & 2  & nmod  & NA & NA                             & verhaftung & verhaft \\\\\n\t4 & prozess & 1 & 1 & Der Prozess by Franz Kafka Aligned by : bilingual-texts.com ( fully reviewed ) Der Prozess Franz Kafka 1 Verhaftung , Gespräch mit Frau Grubach , dann Fräulein Brüstner Jemand mußte Josef K. verleumdet haben , denn ohne daß er etwas Böses getan hätte , wurde er eines Morgens verhaftet . Die Köchin der Frau Grubach , seiner Zimmervermieterin , die ihm jeden Tag gegen acht Uhr früh das Frühstück brachte , kam diesmal nicht . Das war noch niemals geschehen . K. wartete noch ein Weilchen , sah von seinem Kopfkissen aus die alte Frau , die ihm gegenüber wohnte und die ihn mit einer an ihr ganz ungewöhnlichen Neugierde beobachtete , dann aber , gleichzeitig befremdet und hungrig , läutete er . Sofort klopfte es und ein Mann , den er in dieser Wohnung noch niemals gesehen hatte , trat ein . Er war schlank und doch fest gebaut , er trug ein anliegendes schwarzes Kleid , das , ähnlich den Reiseanzügen , mit verschiedenen Falten , Taschen , Schnallen , Knöpfen und einem Gürtel versehen war und infolgedessen , ohne daß man sich darüber klar wurde , wozu es dienen sollte , besonders praktisch erschien . » Wer sind Sie ? « fragte K. und saß gleich halb aufrecht im Bett . Der Mann aber ging über die Frage hinweg , als müsse man seine Erscheinung hinnehmen , und sagte bloß seinerseits : » Sie haben geläutet ? « » Anna soll mir das Frühstück bringen « , sagte K. und versuchte , zunächst stillschweigend , durch Aufmerksamkeit und Überlegung festzustellen , wer der Mann eigentlich war . Aber dieser setzte sich nicht allzulange seinen Blicken aus , sondern wandte sich zur Tür , die er ein wenig öffnete , um jemandem , der offenbar knapp hinter der Tür stand , zu sagen : » Er will , daß Anna ihm das Frühstück bringt . « Ein kleines Gelächter im Nebenzimmer folgte , es war nach dem Klang nicht sicher , ob nicht mehrere Personen daran beteiligt waren . Obwohl der fremde Mann dadurch nichts erfahren haben konnte , was er nicht schon früher gewußt hätte , sagte er nun doch zu K. im Tone einer Meldung : » Es ist unmöglich . « » Das wäre neu « , sagte K. , sprang aus dem Bett und zog rasch seine Hosen an . » Ich will doch sehen , & 21 & Gespräch   & gespräch   & NOUN  & NN & Case=Dat\\textbar{}Gender=Neut\\textbar{}Number=Sing & 19 & appos & NA & NA                             & gespräch   & gesprach\\\\\n\t5 & prozess & 1 & 1 & Der Prozess by Franz Kafka Aligned by : bilingual-texts.com ( fully reviewed ) Der Prozess Franz Kafka 1 Verhaftung , Gespräch mit Frau Grubach , dann Fräulein Brüstner Jemand mußte Josef K. verleumdet haben , denn ohne daß er etwas Böses getan hätte , wurde er eines Morgens verhaftet . Die Köchin der Frau Grubach , seiner Zimmervermieterin , die ihm jeden Tag gegen acht Uhr früh das Frühstück brachte , kam diesmal nicht . Das war noch niemals geschehen . K. wartete noch ein Weilchen , sah von seinem Kopfkissen aus die alte Frau , die ihm gegenüber wohnte und die ihn mit einer an ihr ganz ungewöhnlichen Neugierde beobachtete , dann aber , gleichzeitig befremdet und hungrig , läutete er . Sofort klopfte es und ein Mann , den er in dieser Wohnung noch niemals gesehen hatte , trat ein . Er war schlank und doch fest gebaut , er trug ein anliegendes schwarzes Kleid , das , ähnlich den Reiseanzügen , mit verschiedenen Falten , Taschen , Schnallen , Knöpfen und einem Gürtel versehen war und infolgedessen , ohne daß man sich darüber klar wurde , wozu es dienen sollte , besonders praktisch erschien . » Wer sind Sie ? « fragte K. und saß gleich halb aufrecht im Bett . Der Mann aber ging über die Frage hinweg , als müsse man seine Erscheinung hinnehmen , und sagte bloß seinerseits : » Sie haben geläutet ? « » Anna soll mir das Frühstück bringen « , sagte K. und versuchte , zunächst stillschweigend , durch Aufmerksamkeit und Überlegung festzustellen , wer der Mann eigentlich war . Aber dieser setzte sich nicht allzulange seinen Blicken aus , sondern wandte sich zur Tür , die er ein wenig öffnete , um jemandem , der offenbar knapp hinter der Tür stand , zu sagen : » Er will , daß Anna ihm das Frühstück bringt . « Ein kleines Gelächter im Nebenzimmer folgte , es war nach dem Klang nicht sicher , ob nicht mehrere Personen daran beteiligt waren . Obwohl der fremde Mann dadurch nichts erfahren haben konnte , was er nicht schon früher gewußt hätte , sagte er nun doch zu K. im Tone einer Meldung : » Es ist unmöglich . « » Das wäre neu « , sagte K. , sprang aus dem Bett und zog rasch seine Hosen an . » Ich will doch sehen , & 23 & Frau       & frau       & NOUN  & NN & Case=Dat\\textbar{}Gender=Fem\\textbar{}Number=Sing  & 21 & nmod  & NA & NA                             & frau       & frau    \\\\\n\t6 & prozess & 1 & 1 & Der Prozess by Franz Kafka Aligned by : bilingual-texts.com ( fully reviewed ) Der Prozess Franz Kafka 1 Verhaftung , Gespräch mit Frau Grubach , dann Fräulein Brüstner Jemand mußte Josef K. verleumdet haben , denn ohne daß er etwas Böses getan hätte , wurde er eines Morgens verhaftet . Die Köchin der Frau Grubach , seiner Zimmervermieterin , die ihm jeden Tag gegen acht Uhr früh das Frühstück brachte , kam diesmal nicht . Das war noch niemals geschehen . K. wartete noch ein Weilchen , sah von seinem Kopfkissen aus die alte Frau , die ihm gegenüber wohnte und die ihn mit einer an ihr ganz ungewöhnlichen Neugierde beobachtete , dann aber , gleichzeitig befremdet und hungrig , läutete er . Sofort klopfte es und ein Mann , den er in dieser Wohnung noch niemals gesehen hatte , trat ein . Er war schlank und doch fest gebaut , er trug ein anliegendes schwarzes Kleid , das , ähnlich den Reiseanzügen , mit verschiedenen Falten , Taschen , Schnallen , Knöpfen und einem Gürtel versehen war und infolgedessen , ohne daß man sich darüber klar wurde , wozu es dienen sollte , besonders praktisch erschien . » Wer sind Sie ? « fragte K. und saß gleich halb aufrecht im Bett . Der Mann aber ging über die Frage hinweg , als müsse man seine Erscheinung hinnehmen , und sagte bloß seinerseits : » Sie haben geläutet ? « » Anna soll mir das Frühstück bringen « , sagte K. und versuchte , zunächst stillschweigend , durch Aufmerksamkeit und Überlegung festzustellen , wer der Mann eigentlich war . Aber dieser setzte sich nicht allzulange seinen Blicken aus , sondern wandte sich zur Tür , die er ein wenig öffnete , um jemandem , der offenbar knapp hinter der Tür stand , zu sagen : » Er will , daß Anna ihm das Frühstück bringt . « Ein kleines Gelächter im Nebenzimmer folgte , es war nach dem Klang nicht sicher , ob nicht mehrere Personen daran beteiligt waren . Obwohl der fremde Mann dadurch nichts erfahren haben konnte , was er nicht schon früher gewußt hätte , sagte er nun doch zu K. im Tone einer Meldung : » Es ist unmöglich . « » Das wäre neu « , sagte K. , sprang aus dem Bett und zog rasch seine Hosen an . » Ich will doch sehen , & 24 & Grubach    & grubach    & PROPN & NN & Case=Dat\\textbar{}Gender=Neut\\textbar{}Number=Sing & 23 & appos & NA & NA                             & grubach    & grubach \\\\\n\\end{tabular}\n",
            "text/markdown": "\nA paged_df: 6 × 16\n\n| <!--/--> | doc_id &lt;chr&gt; | paragraph_id &lt;int&gt; | sentence_id &lt;int&gt; | sentence &lt;chr&gt; | token_id &lt;chr&gt; | token &lt;chr&gt; | lemma &lt;chr&gt; | upos &lt;chr&gt; | xpos &lt;chr&gt; | feats &lt;chr&gt; | head_token_id &lt;chr&gt; | dep_rel &lt;chr&gt; | deps &lt;chr&gt; | misc &lt;chr&gt; | word &lt;chr&gt; | stamm &lt;chr&gt; |\n|---|---|---|---|---|---|---|---|---|---|---|---|---|---|---|---|---|\n| 1 | prozess | 1 | 1 | Der Prozess by Franz Kafka Aligned by : bilingual-texts.com ( fully reviewed ) Der Prozess Franz Kafka 1 Verhaftung , Gespräch mit Frau Grubach , dann Fräulein Brüstner Jemand mußte Josef K. verleumdet haben , denn ohne daß er etwas Böses getan hätte , wurde er eines Morgens verhaftet . Die Köchin der Frau Grubach , seiner Zimmervermieterin , die ihm jeden Tag gegen acht Uhr früh das Frühstück brachte , kam diesmal nicht . Das war noch niemals geschehen . K. wartete noch ein Weilchen , sah von seinem Kopfkissen aus die alte Frau , die ihm gegenüber wohnte und die ihn mit einer an ihr ganz ungewöhnlichen Neugierde beobachtete , dann aber , gleichzeitig befremdet und hungrig , läutete er . Sofort klopfte es und ein Mann , den er in dieser Wohnung noch niemals gesehen hatte , trat ein . Er war schlank und doch fest gebaut , er trug ein anliegendes schwarzes Kleid , das , ähnlich den Reiseanzügen , mit verschiedenen Falten , Taschen , Schnallen , Knöpfen und einem Gürtel versehen war und infolgedessen , ohne daß man sich darüber klar wurde , wozu es dienen sollte , besonders praktisch erschien . » Wer sind Sie ? « fragte K. und saß gleich halb aufrecht im Bett . Der Mann aber ging über die Frage hinweg , als müsse man seine Erscheinung hinnehmen , und sagte bloß seinerseits : » Sie haben geläutet ? « » Anna soll mir das Frühstück bringen « , sagte K. und versuchte , zunächst stillschweigend , durch Aufmerksamkeit und Überlegung festzustellen , wer der Mann eigentlich war . Aber dieser setzte sich nicht allzulange seinen Blicken aus , sondern wandte sich zur Tür , die er ein wenig öffnete , um jemandem , der offenbar knapp hinter der Tür stand , zu sagen : » Er will , daß Anna ihm das Frühstück bringt . « Ein kleines Gelächter im Nebenzimmer folgte , es war nach dem Klang nicht sicher , ob nicht mehrere Personen daran beteiligt waren . Obwohl der fremde Mann dadurch nichts erfahren haben konnte , was er nicht schon früher gewußt hätte , sagte er nun doch zu K. im Tone einer Meldung : » Es ist unmöglich . « » Das wäre neu « , sagte K. , sprang aus dem Bett und zog rasch seine Hosen an . » Ich will doch sehen , | 2  | Prozess    | prozeß     | NOUN  | NN | Case=Nom|Gender=Masc|Number=Sing | 72 | nsubj | NA | NA                             | prozess    | prozess  |\n| 2 | prozess | 1 | 1 | Der Prozess by Franz Kafka Aligned by : bilingual-texts.com ( fully reviewed ) Der Prozess Franz Kafka 1 Verhaftung , Gespräch mit Frau Grubach , dann Fräulein Brüstner Jemand mußte Josef K. verleumdet haben , denn ohne daß er etwas Böses getan hätte , wurde er eines Morgens verhaftet . Die Köchin der Frau Grubach , seiner Zimmervermieterin , die ihm jeden Tag gegen acht Uhr früh das Frühstück brachte , kam diesmal nicht . Das war noch niemals geschehen . K. wartete noch ein Weilchen , sah von seinem Kopfkissen aus die alte Frau , die ihm gegenüber wohnte und die ihn mit einer an ihr ganz ungewöhnlichen Neugierde beobachtete , dann aber , gleichzeitig befremdet und hungrig , läutete er . Sofort klopfte es und ein Mann , den er in dieser Wohnung noch niemals gesehen hatte , trat ein . Er war schlank und doch fest gebaut , er trug ein anliegendes schwarzes Kleid , das , ähnlich den Reiseanzügen , mit verschiedenen Falten , Taschen , Schnallen , Knöpfen und einem Gürtel versehen war und infolgedessen , ohne daß man sich darüber klar wurde , wozu es dienen sollte , besonders praktisch erschien . » Wer sind Sie ? « fragte K. und saß gleich halb aufrecht im Bett . Der Mann aber ging über die Frage hinweg , als müsse man seine Erscheinung hinnehmen , und sagte bloß seinerseits : » Sie haben geläutet ? « » Anna soll mir das Frühstück bringen « , sagte K. und versuchte , zunächst stillschweigend , durch Aufmerksamkeit und Überlegung festzustellen , wer der Mann eigentlich war . Aber dieser setzte sich nicht allzulange seinen Blicken aus , sondern wandte sich zur Tür , die er ein wenig öffnete , um jemandem , der offenbar knapp hinter der Tür stand , zu sagen : » Er will , daß Anna ihm das Frühstück bringt . « Ein kleines Gelächter im Nebenzimmer folgte , es war nach dem Klang nicht sicher , ob nicht mehrere Personen daran beteiligt waren . Obwohl der fremde Mann dadurch nichts erfahren haben konnte , was er nicht schon früher gewußt hätte , sagte er nun doch zu K. im Tone einer Meldung : » Es ist unmöglich . « » Das wäre neu « , sagte K. , sprang aus dem Bett und zog rasch seine Hosen an . » Ich will doch sehen , | 15 | Prozess    | prozeß     | PROPN | NN | Case=Nom|Gender=Masc|Number=Sing | 19 | amod  | NA | SpacesAfter=\\s\\s\\s\\s\\s\\s | prozess    | prozess  |\n| 3 | prozess | 1 | 1 | Der Prozess by Franz Kafka Aligned by : bilingual-texts.com ( fully reviewed ) Der Prozess Franz Kafka 1 Verhaftung , Gespräch mit Frau Grubach , dann Fräulein Brüstner Jemand mußte Josef K. verleumdet haben , denn ohne daß er etwas Böses getan hätte , wurde er eines Morgens verhaftet . Die Köchin der Frau Grubach , seiner Zimmervermieterin , die ihm jeden Tag gegen acht Uhr früh das Frühstück brachte , kam diesmal nicht . Das war noch niemals geschehen . K. wartete noch ein Weilchen , sah von seinem Kopfkissen aus die alte Frau , die ihm gegenüber wohnte und die ihn mit einer an ihr ganz ungewöhnlichen Neugierde beobachtete , dann aber , gleichzeitig befremdet und hungrig , läutete er . Sofort klopfte es und ein Mann , den er in dieser Wohnung noch niemals gesehen hatte , trat ein . Er war schlank und doch fest gebaut , er trug ein anliegendes schwarzes Kleid , das , ähnlich den Reiseanzügen , mit verschiedenen Falten , Taschen , Schnallen , Knöpfen und einem Gürtel versehen war und infolgedessen , ohne daß man sich darüber klar wurde , wozu es dienen sollte , besonders praktisch erschien . » Wer sind Sie ? « fragte K. und saß gleich halb aufrecht im Bett . Der Mann aber ging über die Frage hinweg , als müsse man seine Erscheinung hinnehmen , und sagte bloß seinerseits : » Sie haben geläutet ? « » Anna soll mir das Frühstück bringen « , sagte K. und versuchte , zunächst stillschweigend , durch Aufmerksamkeit und Überlegung festzustellen , wer der Mann eigentlich war . Aber dieser setzte sich nicht allzulange seinen Blicken aus , sondern wandte sich zur Tür , die er ein wenig öffnete , um jemandem , der offenbar knapp hinter der Tür stand , zu sagen : » Er will , daß Anna ihm das Frühstück bringt . « Ein kleines Gelächter im Nebenzimmer folgte , es war nach dem Klang nicht sicher , ob nicht mehrere Personen daran beteiligt waren . Obwohl der fremde Mann dadurch nichts erfahren haben konnte , was er nicht schon früher gewußt hätte , sagte er nun doch zu K. im Tone einer Meldung : » Es ist unmöglich . « » Das wäre neu « , sagte K. , sprang aus dem Bett und zog rasch seine Hosen an . » Ich will doch sehen , | 19 | Verhaftung | verhaftung | NOUN  | NN | Case=Nom|Gender=Fem|Number=Sing  | 2  | nmod  | NA | NA                             | verhaftung | verhaft  |\n| 4 | prozess | 1 | 1 | Der Prozess by Franz Kafka Aligned by : bilingual-texts.com ( fully reviewed ) Der Prozess Franz Kafka 1 Verhaftung , Gespräch mit Frau Grubach , dann Fräulein Brüstner Jemand mußte Josef K. verleumdet haben , denn ohne daß er etwas Böses getan hätte , wurde er eines Morgens verhaftet . Die Köchin der Frau Grubach , seiner Zimmervermieterin , die ihm jeden Tag gegen acht Uhr früh das Frühstück brachte , kam diesmal nicht . Das war noch niemals geschehen . K. wartete noch ein Weilchen , sah von seinem Kopfkissen aus die alte Frau , die ihm gegenüber wohnte und die ihn mit einer an ihr ganz ungewöhnlichen Neugierde beobachtete , dann aber , gleichzeitig befremdet und hungrig , läutete er . Sofort klopfte es und ein Mann , den er in dieser Wohnung noch niemals gesehen hatte , trat ein . Er war schlank und doch fest gebaut , er trug ein anliegendes schwarzes Kleid , das , ähnlich den Reiseanzügen , mit verschiedenen Falten , Taschen , Schnallen , Knöpfen und einem Gürtel versehen war und infolgedessen , ohne daß man sich darüber klar wurde , wozu es dienen sollte , besonders praktisch erschien . » Wer sind Sie ? « fragte K. und saß gleich halb aufrecht im Bett . Der Mann aber ging über die Frage hinweg , als müsse man seine Erscheinung hinnehmen , und sagte bloß seinerseits : » Sie haben geläutet ? « » Anna soll mir das Frühstück bringen « , sagte K. und versuchte , zunächst stillschweigend , durch Aufmerksamkeit und Überlegung festzustellen , wer der Mann eigentlich war . Aber dieser setzte sich nicht allzulange seinen Blicken aus , sondern wandte sich zur Tür , die er ein wenig öffnete , um jemandem , der offenbar knapp hinter der Tür stand , zu sagen : » Er will , daß Anna ihm das Frühstück bringt . « Ein kleines Gelächter im Nebenzimmer folgte , es war nach dem Klang nicht sicher , ob nicht mehrere Personen daran beteiligt waren . Obwohl der fremde Mann dadurch nichts erfahren haben konnte , was er nicht schon früher gewußt hätte , sagte er nun doch zu K. im Tone einer Meldung : » Es ist unmöglich . « » Das wäre neu « , sagte K. , sprang aus dem Bett und zog rasch seine Hosen an . » Ich will doch sehen , | 21 | Gespräch   | gespräch   | NOUN  | NN | Case=Dat|Gender=Neut|Number=Sing | 19 | appos | NA | NA                             | gespräch   | gesprach |\n| 5 | prozess | 1 | 1 | Der Prozess by Franz Kafka Aligned by : bilingual-texts.com ( fully reviewed ) Der Prozess Franz Kafka 1 Verhaftung , Gespräch mit Frau Grubach , dann Fräulein Brüstner Jemand mußte Josef K. verleumdet haben , denn ohne daß er etwas Böses getan hätte , wurde er eines Morgens verhaftet . Die Köchin der Frau Grubach , seiner Zimmervermieterin , die ihm jeden Tag gegen acht Uhr früh das Frühstück brachte , kam diesmal nicht . Das war noch niemals geschehen . K. wartete noch ein Weilchen , sah von seinem Kopfkissen aus die alte Frau , die ihm gegenüber wohnte und die ihn mit einer an ihr ganz ungewöhnlichen Neugierde beobachtete , dann aber , gleichzeitig befremdet und hungrig , läutete er . Sofort klopfte es und ein Mann , den er in dieser Wohnung noch niemals gesehen hatte , trat ein . Er war schlank und doch fest gebaut , er trug ein anliegendes schwarzes Kleid , das , ähnlich den Reiseanzügen , mit verschiedenen Falten , Taschen , Schnallen , Knöpfen und einem Gürtel versehen war und infolgedessen , ohne daß man sich darüber klar wurde , wozu es dienen sollte , besonders praktisch erschien . » Wer sind Sie ? « fragte K. und saß gleich halb aufrecht im Bett . Der Mann aber ging über die Frage hinweg , als müsse man seine Erscheinung hinnehmen , und sagte bloß seinerseits : » Sie haben geläutet ? « » Anna soll mir das Frühstück bringen « , sagte K. und versuchte , zunächst stillschweigend , durch Aufmerksamkeit und Überlegung festzustellen , wer der Mann eigentlich war . Aber dieser setzte sich nicht allzulange seinen Blicken aus , sondern wandte sich zur Tür , die er ein wenig öffnete , um jemandem , der offenbar knapp hinter der Tür stand , zu sagen : » Er will , daß Anna ihm das Frühstück bringt . « Ein kleines Gelächter im Nebenzimmer folgte , es war nach dem Klang nicht sicher , ob nicht mehrere Personen daran beteiligt waren . Obwohl der fremde Mann dadurch nichts erfahren haben konnte , was er nicht schon früher gewußt hätte , sagte er nun doch zu K. im Tone einer Meldung : » Es ist unmöglich . « » Das wäre neu « , sagte K. , sprang aus dem Bett und zog rasch seine Hosen an . » Ich will doch sehen , | 23 | Frau       | frau       | NOUN  | NN | Case=Dat|Gender=Fem|Number=Sing  | 21 | nmod  | NA | NA                             | frau       | frau     |\n| 6 | prozess | 1 | 1 | Der Prozess by Franz Kafka Aligned by : bilingual-texts.com ( fully reviewed ) Der Prozess Franz Kafka 1 Verhaftung , Gespräch mit Frau Grubach , dann Fräulein Brüstner Jemand mußte Josef K. verleumdet haben , denn ohne daß er etwas Böses getan hätte , wurde er eines Morgens verhaftet . Die Köchin der Frau Grubach , seiner Zimmervermieterin , die ihm jeden Tag gegen acht Uhr früh das Frühstück brachte , kam diesmal nicht . Das war noch niemals geschehen . K. wartete noch ein Weilchen , sah von seinem Kopfkissen aus die alte Frau , die ihm gegenüber wohnte und die ihn mit einer an ihr ganz ungewöhnlichen Neugierde beobachtete , dann aber , gleichzeitig befremdet und hungrig , läutete er . Sofort klopfte es und ein Mann , den er in dieser Wohnung noch niemals gesehen hatte , trat ein . Er war schlank und doch fest gebaut , er trug ein anliegendes schwarzes Kleid , das , ähnlich den Reiseanzügen , mit verschiedenen Falten , Taschen , Schnallen , Knöpfen und einem Gürtel versehen war und infolgedessen , ohne daß man sich darüber klar wurde , wozu es dienen sollte , besonders praktisch erschien . » Wer sind Sie ? « fragte K. und saß gleich halb aufrecht im Bett . Der Mann aber ging über die Frage hinweg , als müsse man seine Erscheinung hinnehmen , und sagte bloß seinerseits : » Sie haben geläutet ? « » Anna soll mir das Frühstück bringen « , sagte K. und versuchte , zunächst stillschweigend , durch Aufmerksamkeit und Überlegung festzustellen , wer der Mann eigentlich war . Aber dieser setzte sich nicht allzulange seinen Blicken aus , sondern wandte sich zur Tür , die er ein wenig öffnete , um jemandem , der offenbar knapp hinter der Tür stand , zu sagen : » Er will , daß Anna ihm das Frühstück bringt . « Ein kleines Gelächter im Nebenzimmer folgte , es war nach dem Klang nicht sicher , ob nicht mehrere Personen daran beteiligt waren . Obwohl der fremde Mann dadurch nichts erfahren haben konnte , was er nicht schon früher gewußt hätte , sagte er nun doch zu K. im Tone einer Meldung : » Es ist unmöglich . « » Das wäre neu « , sagte K. , sprang aus dem Bett und zog rasch seine Hosen an . » Ich will doch sehen , | 24 | Grubach    | grubach    | PROPN | NN | Case=Dat|Gender=Neut|Number=Sing | 23 | appos | NA | NA                             | grubach    | grubach  |\n\n",
            "text/html": [
              "<table class=\"dataframe\">\n",
              "<caption>A paged_df: 6 × 16</caption>\n",
              "<thead>\n",
              "\t<tr><th></th><th scope=col>doc_id</th><th scope=col>paragraph_id</th><th scope=col>sentence_id</th><th scope=col>sentence</th><th scope=col>token_id</th><th scope=col>token</th><th scope=col>lemma</th><th scope=col>upos</th><th scope=col>xpos</th><th scope=col>feats</th><th scope=col>head_token_id</th><th scope=col>dep_rel</th><th scope=col>deps</th><th scope=col>misc</th><th scope=col>word</th><th scope=col>stamm</th></tr>\n",
              "\t<tr><th></th><th scope=col>&lt;chr&gt;</th><th scope=col>&lt;int&gt;</th><th scope=col>&lt;int&gt;</th><th scope=col>&lt;chr&gt;</th><th scope=col>&lt;chr&gt;</th><th scope=col>&lt;chr&gt;</th><th scope=col>&lt;chr&gt;</th><th scope=col>&lt;chr&gt;</th><th scope=col>&lt;chr&gt;</th><th scope=col>&lt;chr&gt;</th><th scope=col>&lt;chr&gt;</th><th scope=col>&lt;chr&gt;</th><th scope=col>&lt;chr&gt;</th><th scope=col>&lt;chr&gt;</th><th scope=col>&lt;chr&gt;</th><th scope=col>&lt;chr&gt;</th></tr>\n",
              "</thead>\n",
              "<tbody>\n",
              "\t<tr><th scope=row>1</th><td>prozess</td><td>1</td><td>1</td><td>Der Prozess by Franz Kafka Aligned by : bilingual-texts.com ( fully reviewed ) Der Prozess Franz Kafka 1 Verhaftung , Gespräch mit Frau Grubach , dann Fräulein Brüstner Jemand mußte Josef K. verleumdet haben , denn ohne daß er etwas Böses getan hätte , wurde er eines Morgens verhaftet . Die Köchin der Frau Grubach , seiner Zimmervermieterin , die ihm jeden Tag gegen acht Uhr früh das Frühstück brachte , kam diesmal nicht . Das war noch niemals geschehen . K. wartete noch ein Weilchen , sah von seinem Kopfkissen aus die alte Frau , die ihm gegenüber wohnte und die ihn mit einer an ihr ganz ungewöhnlichen Neugierde beobachtete , dann aber , gleichzeitig befremdet und hungrig , läutete er . Sofort klopfte es und ein Mann , den er in dieser Wohnung noch niemals gesehen hatte , trat ein . Er war schlank und doch fest gebaut , er trug ein anliegendes schwarzes Kleid , das , ähnlich den Reiseanzügen , mit verschiedenen Falten , Taschen , Schnallen , Knöpfen und einem Gürtel versehen war und infolgedessen , ohne daß man sich darüber klar wurde , wozu es dienen sollte , besonders praktisch erschien . » Wer sind Sie ? « fragte K. und saß gleich halb aufrecht im Bett . Der Mann aber ging über die Frage hinweg , als müsse man seine Erscheinung hinnehmen , und sagte bloß seinerseits : » Sie haben geläutet ? « » Anna soll mir das Frühstück bringen « , sagte K. und versuchte , zunächst stillschweigend , durch Aufmerksamkeit und Überlegung festzustellen , wer der Mann eigentlich war . Aber dieser setzte sich nicht allzulange seinen Blicken aus , sondern wandte sich zur Tür , die er ein wenig öffnete , um jemandem , der offenbar knapp hinter der Tür stand , zu sagen : » Er will , daß Anna ihm das Frühstück bringt . « Ein kleines Gelächter im Nebenzimmer folgte , es war nach dem Klang nicht sicher , ob nicht mehrere Personen daran beteiligt waren . Obwohl der fremde Mann dadurch nichts erfahren haben konnte , was er nicht schon früher gewußt hätte , sagte er nun doch zu K. im Tone einer Meldung : » Es ist unmöglich . « » Das wäre neu « , sagte K. , sprang aus dem Bett und zog rasch seine Hosen an . » Ich will doch sehen ,</td><td>2 </td><td>Prozess   </td><td>prozeß    </td><td>NOUN </td><td>NN</td><td>Case=Nom|Gender=Masc|Number=Sing</td><td>72</td><td>nsubj</td><td>NA</td><td>NA                            </td><td>prozess   </td><td>prozess </td></tr>\n",
              "\t<tr><th scope=row>2</th><td>prozess</td><td>1</td><td>1</td><td>Der Prozess by Franz Kafka Aligned by : bilingual-texts.com ( fully reviewed ) Der Prozess Franz Kafka 1 Verhaftung , Gespräch mit Frau Grubach , dann Fräulein Brüstner Jemand mußte Josef K. verleumdet haben , denn ohne daß er etwas Böses getan hätte , wurde er eines Morgens verhaftet . Die Köchin der Frau Grubach , seiner Zimmervermieterin , die ihm jeden Tag gegen acht Uhr früh das Frühstück brachte , kam diesmal nicht . Das war noch niemals geschehen . K. wartete noch ein Weilchen , sah von seinem Kopfkissen aus die alte Frau , die ihm gegenüber wohnte und die ihn mit einer an ihr ganz ungewöhnlichen Neugierde beobachtete , dann aber , gleichzeitig befremdet und hungrig , läutete er . Sofort klopfte es und ein Mann , den er in dieser Wohnung noch niemals gesehen hatte , trat ein . Er war schlank und doch fest gebaut , er trug ein anliegendes schwarzes Kleid , das , ähnlich den Reiseanzügen , mit verschiedenen Falten , Taschen , Schnallen , Knöpfen und einem Gürtel versehen war und infolgedessen , ohne daß man sich darüber klar wurde , wozu es dienen sollte , besonders praktisch erschien . » Wer sind Sie ? « fragte K. und saß gleich halb aufrecht im Bett . Der Mann aber ging über die Frage hinweg , als müsse man seine Erscheinung hinnehmen , und sagte bloß seinerseits : » Sie haben geläutet ? « » Anna soll mir das Frühstück bringen « , sagte K. und versuchte , zunächst stillschweigend , durch Aufmerksamkeit und Überlegung festzustellen , wer der Mann eigentlich war . Aber dieser setzte sich nicht allzulange seinen Blicken aus , sondern wandte sich zur Tür , die er ein wenig öffnete , um jemandem , der offenbar knapp hinter der Tür stand , zu sagen : » Er will , daß Anna ihm das Frühstück bringt . « Ein kleines Gelächter im Nebenzimmer folgte , es war nach dem Klang nicht sicher , ob nicht mehrere Personen daran beteiligt waren . Obwohl der fremde Mann dadurch nichts erfahren haben konnte , was er nicht schon früher gewußt hätte , sagte er nun doch zu K. im Tone einer Meldung : » Es ist unmöglich . « » Das wäre neu « , sagte K. , sprang aus dem Bett und zog rasch seine Hosen an . » Ich will doch sehen ,</td><td>15</td><td>Prozess   </td><td>prozeß    </td><td>PROPN</td><td>NN</td><td>Case=Nom|Gender=Masc|Number=Sing</td><td>19</td><td>amod </td><td>NA</td><td>SpacesAfter=\\s\\s\\s\\s\\s\\s</td><td>prozess   </td><td>prozess </td></tr>\n",
              "\t<tr><th scope=row>3</th><td>prozess</td><td>1</td><td>1</td><td>Der Prozess by Franz Kafka Aligned by : bilingual-texts.com ( fully reviewed ) Der Prozess Franz Kafka 1 Verhaftung , Gespräch mit Frau Grubach , dann Fräulein Brüstner Jemand mußte Josef K. verleumdet haben , denn ohne daß er etwas Böses getan hätte , wurde er eines Morgens verhaftet . Die Köchin der Frau Grubach , seiner Zimmervermieterin , die ihm jeden Tag gegen acht Uhr früh das Frühstück brachte , kam diesmal nicht . Das war noch niemals geschehen . K. wartete noch ein Weilchen , sah von seinem Kopfkissen aus die alte Frau , die ihm gegenüber wohnte und die ihn mit einer an ihr ganz ungewöhnlichen Neugierde beobachtete , dann aber , gleichzeitig befremdet und hungrig , läutete er . Sofort klopfte es und ein Mann , den er in dieser Wohnung noch niemals gesehen hatte , trat ein . Er war schlank und doch fest gebaut , er trug ein anliegendes schwarzes Kleid , das , ähnlich den Reiseanzügen , mit verschiedenen Falten , Taschen , Schnallen , Knöpfen und einem Gürtel versehen war und infolgedessen , ohne daß man sich darüber klar wurde , wozu es dienen sollte , besonders praktisch erschien . » Wer sind Sie ? « fragte K. und saß gleich halb aufrecht im Bett . Der Mann aber ging über die Frage hinweg , als müsse man seine Erscheinung hinnehmen , und sagte bloß seinerseits : » Sie haben geläutet ? « » Anna soll mir das Frühstück bringen « , sagte K. und versuchte , zunächst stillschweigend , durch Aufmerksamkeit und Überlegung festzustellen , wer der Mann eigentlich war . Aber dieser setzte sich nicht allzulange seinen Blicken aus , sondern wandte sich zur Tür , die er ein wenig öffnete , um jemandem , der offenbar knapp hinter der Tür stand , zu sagen : » Er will , daß Anna ihm das Frühstück bringt . « Ein kleines Gelächter im Nebenzimmer folgte , es war nach dem Klang nicht sicher , ob nicht mehrere Personen daran beteiligt waren . Obwohl der fremde Mann dadurch nichts erfahren haben konnte , was er nicht schon früher gewußt hätte , sagte er nun doch zu K. im Tone einer Meldung : » Es ist unmöglich . « » Das wäre neu « , sagte K. , sprang aus dem Bett und zog rasch seine Hosen an . » Ich will doch sehen ,</td><td>19</td><td>Verhaftung</td><td>verhaftung</td><td>NOUN </td><td>NN</td><td>Case=Nom|Gender=Fem|Number=Sing </td><td>2 </td><td>nmod </td><td>NA</td><td>NA                            </td><td>verhaftung</td><td>verhaft </td></tr>\n",
              "\t<tr><th scope=row>4</th><td>prozess</td><td>1</td><td>1</td><td>Der Prozess by Franz Kafka Aligned by : bilingual-texts.com ( fully reviewed ) Der Prozess Franz Kafka 1 Verhaftung , Gespräch mit Frau Grubach , dann Fräulein Brüstner Jemand mußte Josef K. verleumdet haben , denn ohne daß er etwas Böses getan hätte , wurde er eines Morgens verhaftet . Die Köchin der Frau Grubach , seiner Zimmervermieterin , die ihm jeden Tag gegen acht Uhr früh das Frühstück brachte , kam diesmal nicht . Das war noch niemals geschehen . K. wartete noch ein Weilchen , sah von seinem Kopfkissen aus die alte Frau , die ihm gegenüber wohnte und die ihn mit einer an ihr ganz ungewöhnlichen Neugierde beobachtete , dann aber , gleichzeitig befremdet und hungrig , läutete er . Sofort klopfte es und ein Mann , den er in dieser Wohnung noch niemals gesehen hatte , trat ein . Er war schlank und doch fest gebaut , er trug ein anliegendes schwarzes Kleid , das , ähnlich den Reiseanzügen , mit verschiedenen Falten , Taschen , Schnallen , Knöpfen und einem Gürtel versehen war und infolgedessen , ohne daß man sich darüber klar wurde , wozu es dienen sollte , besonders praktisch erschien . » Wer sind Sie ? « fragte K. und saß gleich halb aufrecht im Bett . Der Mann aber ging über die Frage hinweg , als müsse man seine Erscheinung hinnehmen , und sagte bloß seinerseits : » Sie haben geläutet ? « » Anna soll mir das Frühstück bringen « , sagte K. und versuchte , zunächst stillschweigend , durch Aufmerksamkeit und Überlegung festzustellen , wer der Mann eigentlich war . Aber dieser setzte sich nicht allzulange seinen Blicken aus , sondern wandte sich zur Tür , die er ein wenig öffnete , um jemandem , der offenbar knapp hinter der Tür stand , zu sagen : » Er will , daß Anna ihm das Frühstück bringt . « Ein kleines Gelächter im Nebenzimmer folgte , es war nach dem Klang nicht sicher , ob nicht mehrere Personen daran beteiligt waren . Obwohl der fremde Mann dadurch nichts erfahren haben konnte , was er nicht schon früher gewußt hätte , sagte er nun doch zu K. im Tone einer Meldung : » Es ist unmöglich . « » Das wäre neu « , sagte K. , sprang aus dem Bett und zog rasch seine Hosen an . » Ich will doch sehen ,</td><td>21</td><td>Gespräch  </td><td>gespräch  </td><td>NOUN </td><td>NN</td><td>Case=Dat|Gender=Neut|Number=Sing</td><td>19</td><td>appos</td><td>NA</td><td>NA                            </td><td>gespräch  </td><td>gesprach</td></tr>\n",
              "\t<tr><th scope=row>5</th><td>prozess</td><td>1</td><td>1</td><td>Der Prozess by Franz Kafka Aligned by : bilingual-texts.com ( fully reviewed ) Der Prozess Franz Kafka 1 Verhaftung , Gespräch mit Frau Grubach , dann Fräulein Brüstner Jemand mußte Josef K. verleumdet haben , denn ohne daß er etwas Böses getan hätte , wurde er eines Morgens verhaftet . Die Köchin der Frau Grubach , seiner Zimmervermieterin , die ihm jeden Tag gegen acht Uhr früh das Frühstück brachte , kam diesmal nicht . Das war noch niemals geschehen . K. wartete noch ein Weilchen , sah von seinem Kopfkissen aus die alte Frau , die ihm gegenüber wohnte und die ihn mit einer an ihr ganz ungewöhnlichen Neugierde beobachtete , dann aber , gleichzeitig befremdet und hungrig , läutete er . Sofort klopfte es und ein Mann , den er in dieser Wohnung noch niemals gesehen hatte , trat ein . Er war schlank und doch fest gebaut , er trug ein anliegendes schwarzes Kleid , das , ähnlich den Reiseanzügen , mit verschiedenen Falten , Taschen , Schnallen , Knöpfen und einem Gürtel versehen war und infolgedessen , ohne daß man sich darüber klar wurde , wozu es dienen sollte , besonders praktisch erschien . » Wer sind Sie ? « fragte K. und saß gleich halb aufrecht im Bett . Der Mann aber ging über die Frage hinweg , als müsse man seine Erscheinung hinnehmen , und sagte bloß seinerseits : » Sie haben geläutet ? « » Anna soll mir das Frühstück bringen « , sagte K. und versuchte , zunächst stillschweigend , durch Aufmerksamkeit und Überlegung festzustellen , wer der Mann eigentlich war . Aber dieser setzte sich nicht allzulange seinen Blicken aus , sondern wandte sich zur Tür , die er ein wenig öffnete , um jemandem , der offenbar knapp hinter der Tür stand , zu sagen : » Er will , daß Anna ihm das Frühstück bringt . « Ein kleines Gelächter im Nebenzimmer folgte , es war nach dem Klang nicht sicher , ob nicht mehrere Personen daran beteiligt waren . Obwohl der fremde Mann dadurch nichts erfahren haben konnte , was er nicht schon früher gewußt hätte , sagte er nun doch zu K. im Tone einer Meldung : » Es ist unmöglich . « » Das wäre neu « , sagte K. , sprang aus dem Bett und zog rasch seine Hosen an . » Ich will doch sehen ,</td><td>23</td><td>Frau      </td><td>frau      </td><td>NOUN </td><td>NN</td><td>Case=Dat|Gender=Fem|Number=Sing </td><td>21</td><td>nmod </td><td>NA</td><td>NA                            </td><td>frau      </td><td>frau    </td></tr>\n",
              "\t<tr><th scope=row>6</th><td>prozess</td><td>1</td><td>1</td><td>Der Prozess by Franz Kafka Aligned by : bilingual-texts.com ( fully reviewed ) Der Prozess Franz Kafka 1 Verhaftung , Gespräch mit Frau Grubach , dann Fräulein Brüstner Jemand mußte Josef K. verleumdet haben , denn ohne daß er etwas Böses getan hätte , wurde er eines Morgens verhaftet . Die Köchin der Frau Grubach , seiner Zimmervermieterin , die ihm jeden Tag gegen acht Uhr früh das Frühstück brachte , kam diesmal nicht . Das war noch niemals geschehen . K. wartete noch ein Weilchen , sah von seinem Kopfkissen aus die alte Frau , die ihm gegenüber wohnte und die ihn mit einer an ihr ganz ungewöhnlichen Neugierde beobachtete , dann aber , gleichzeitig befremdet und hungrig , läutete er . Sofort klopfte es und ein Mann , den er in dieser Wohnung noch niemals gesehen hatte , trat ein . Er war schlank und doch fest gebaut , er trug ein anliegendes schwarzes Kleid , das , ähnlich den Reiseanzügen , mit verschiedenen Falten , Taschen , Schnallen , Knöpfen und einem Gürtel versehen war und infolgedessen , ohne daß man sich darüber klar wurde , wozu es dienen sollte , besonders praktisch erschien . » Wer sind Sie ? « fragte K. und saß gleich halb aufrecht im Bett . Der Mann aber ging über die Frage hinweg , als müsse man seine Erscheinung hinnehmen , und sagte bloß seinerseits : » Sie haben geläutet ? « » Anna soll mir das Frühstück bringen « , sagte K. und versuchte , zunächst stillschweigend , durch Aufmerksamkeit und Überlegung festzustellen , wer der Mann eigentlich war . Aber dieser setzte sich nicht allzulange seinen Blicken aus , sondern wandte sich zur Tür , die er ein wenig öffnete , um jemandem , der offenbar knapp hinter der Tür stand , zu sagen : » Er will , daß Anna ihm das Frühstück bringt . « Ein kleines Gelächter im Nebenzimmer folgte , es war nach dem Klang nicht sicher , ob nicht mehrere Personen daran beteiligt waren . Obwohl der fremde Mann dadurch nichts erfahren haben konnte , was er nicht schon früher gewußt hätte , sagte er nun doch zu K. im Tone einer Meldung : » Es ist unmöglich . « » Das wäre neu « , sagte K. , sprang aus dem Bett und zog rasch seine Hosen an . » Ich will doch sehen ,</td><td>24</td><td>Grubach   </td><td>grubach   </td><td>PROPN</td><td>NN</td><td>Case=Dat|Gender=Neut|Number=Sing</td><td>23</td><td>appos</td><td>NA</td><td>NA                            </td><td>grubach   </td><td>grubach </td></tr>\n",
              "</tbody>\n",
              "</table>\n"
            ]
          },
          "metadata": {
            "tags": []
          }
        }
      ]
    },
    {
      "cell_type": "markdown",
      "metadata": {
        "id": "SUDeHIuSjoqy"
      },
      "source": [
        "Nun stehen uns die Lemma- und Stammformen zur Verfügung. Der Unterschied zwischen den jeweiligen Formen sollte (meist) Wortbildungsmorpheme (Suffixe) ergeben.\n",
        "\n",
        "Um Unterschiede zwischen den in den Spalten \"lemma\" und \"stamm\" gespeicherten Wortformen zu bestimmen, wollen wir ein spezielles Programm verwenden: *library(vectsets)*.\n",
        "\n",
        "Dann folgen einige Korrekturen mit *str_remove()*, *str_remove_all()*, *str_replace()* und *str_replace_all()*, damit in der Spalte \"diffs\" möglichst nur Wortbildungssuffixe vorkommen.\n",
        "\n",
        "Mit *str_remove()* beseitigen wir ein Zeichen einmal, mit *str_remove_all()* so oft, wie es in einer Tabellenspalte vorkommt.\n",
        "Mit *str_replace()* wandeln wir ein Zeichen einmal in ein anderes um, mit *str_replace_all()* so oft, wie es in einer Tabellenspalte vorkommt.\n"
      ]
    },
    {
      "cell_type": "code",
      "metadata": {
        "id": "ex3PAqONjoqz"
      },
      "source": [
        "library(vecsets)\n",
        "novels_full_words = novels_words %>% \n",
        "  mutate(diffs = as.character(mapply(vsetdiff, strsplit(lemma, split = \"\"),\n",
        "                            strsplit(stamm, split = \"\")))) %>% \n",
        "  mutate(diffs = str_remove(diffs, \"c\\\\(\"),\n",
        "         diffs = str_remove(diffs, \"\\\\)\"),\n",
        "         diffs = str_remove_all(diffs, '\\\\\"'),\n",
        "         diffs = str_remove_all(diffs, \", \"), \n",
        "         diffs = str_replace(diffs, \"character\\\\(0\", \"\"),\n",
        "         diffs = str_replace(diffs, \"ß\", \"\"),\n",
        "         diffs = str_replace_all(diffs, \"ä\", \"\"),\n",
        "         diffs = str_replace_all(diffs, \"ö\", \"\"),\n",
        "         diffs = str_replace_all(diffs, \"ü\", \"\"))\n"
      ],
      "execution_count": null,
      "outputs": []
    },
    {
      "cell_type": "markdown",
      "metadata": {
        "id": "cqtKmeWkjoqz"
      },
      "source": [
        "Das Ergebnis ist nicht perfekt, aber für bestimmte Wortbildungssuffixe brauchbar.\n",
        "\n"
      ]
    },
    {
      "cell_type": "code",
      "metadata": {
        "colab": {
          "base_uri": "https://localhost:8080/",
          "height": 412
        },
        "id": "XC45TuJTjoqz",
        "outputId": "835d3c14-a6f7-4a95-b14b-39700cc3b462"
      },
      "source": [
        "novels_full_words %>% \n",
        "  select(doc_id, lemma, stamm, diffs) %>% \n",
        "head(10) %>% paged_table()\n"
      ],
      "execution_count": null,
      "outputs": [
        {
          "output_type": "display_data",
          "data": {
            "text/plain": [
              "   doc_id  lemma      stamm    diffs\n",
              "1  prozess prozeß     prozess       \n",
              "2  prozess prozeß     prozess       \n",
              "3  prozess verhaftung verhaft  ung  \n",
              "4  prozess gespräch   gesprach      \n",
              "5  prozess frau       frau          \n",
              "6  prozess grubach    grubach       \n",
              "7  prozess fräulein   fraulein      \n",
              "8  prozess brüstner   brustn   er   \n",
              "9  prozess jemand     jemand        \n",
              "10 prozess müssen     muss     en   "
            ],
            "text/latex": "A paged\\_df: 10 × 4\n\\begin{tabular}{r|llll}\n  & doc\\_id & lemma & stamm & diffs\\\\\n  & <chr> & <chr> & <chr> & <chr>\\\\\n\\hline\n\t1 & prozess & prozeß     & prozess  &    \\\\\n\t2 & prozess & prozeß     & prozess  &    \\\\\n\t3 & prozess & verhaftung & verhaft  & ung\\\\\n\t4 & prozess & gespräch   & gesprach &    \\\\\n\t5 & prozess & frau       & frau     &    \\\\\n\t6 & prozess & grubach    & grubach  &    \\\\\n\t7 & prozess & fräulein   & fraulein &    \\\\\n\t8 & prozess & brüstner   & brustn   & er \\\\\n\t9 & prozess & jemand     & jemand   &    \\\\\n\t10 & prozess & müssen     & muss     & en \\\\\n\\end{tabular}\n",
            "text/markdown": "\nA paged_df: 10 × 4\n\n| <!--/--> | doc_id &lt;chr&gt; | lemma &lt;chr&gt; | stamm &lt;chr&gt; | diffs &lt;chr&gt; |\n|---|---|---|---|---|\n| 1 | prozess | prozeß     | prozess  | <!----> |\n| 2 | prozess | prozeß     | prozess  | <!----> |\n| 3 | prozess | verhaftung | verhaft  | ung |\n| 4 | prozess | gespräch   | gesprach | <!----> |\n| 5 | prozess | frau       | frau     | <!----> |\n| 6 | prozess | grubach    | grubach  | <!----> |\n| 7 | prozess | fräulein   | fraulein | <!----> |\n| 8 | prozess | brüstner   | brustn   | er  |\n| 9 | prozess | jemand     | jemand   | <!----> |\n| 10 | prozess | müssen     | muss     | en  |\n\n",
            "text/html": [
              "<table class=\"dataframe\">\n",
              "<caption>A paged_df: 10 × 4</caption>\n",
              "<thead>\n",
              "\t<tr><th></th><th scope=col>doc_id</th><th scope=col>lemma</th><th scope=col>stamm</th><th scope=col>diffs</th></tr>\n",
              "\t<tr><th></th><th scope=col>&lt;chr&gt;</th><th scope=col>&lt;chr&gt;</th><th scope=col>&lt;chr&gt;</th><th scope=col>&lt;chr&gt;</th></tr>\n",
              "</thead>\n",
              "<tbody>\n",
              "\t<tr><th scope=row>1</th><td>prozess</td><td>prozeß    </td><td>prozess </td><td>   </td></tr>\n",
              "\t<tr><th scope=row>2</th><td>prozess</td><td>prozeß    </td><td>prozess </td><td>   </td></tr>\n",
              "\t<tr><th scope=row>3</th><td>prozess</td><td>verhaftung</td><td>verhaft </td><td>ung</td></tr>\n",
              "\t<tr><th scope=row>4</th><td>prozess</td><td>gespräch  </td><td>gesprach</td><td>   </td></tr>\n",
              "\t<tr><th scope=row>5</th><td>prozess</td><td>frau      </td><td>frau    </td><td>   </td></tr>\n",
              "\t<tr><th scope=row>6</th><td>prozess</td><td>grubach   </td><td>grubach </td><td>   </td></tr>\n",
              "\t<tr><th scope=row>7</th><td>prozess</td><td>fräulein  </td><td>fraulein</td><td>   </td></tr>\n",
              "\t<tr><th scope=row>8</th><td>prozess</td><td>brüstner  </td><td>brustn  </td><td>er </td></tr>\n",
              "\t<tr><th scope=row>9</th><td>prozess</td><td>jemand    </td><td>jemand  </td><td>   </td></tr>\n",
              "\t<tr><th scope=row>10</th><td>prozess</td><td>müssen    </td><td>muss    </td><td>en </td></tr>\n",
              "</tbody>\n",
              "</table>\n"
            ]
          },
          "metadata": {
            "tags": []
          }
        }
      ]
    },
    {
      "cell_type": "markdown",
      "metadata": {
        "id": "8d3uMXLjjoqz"
      },
      "source": [
        "Wir speichern die Tabelle für spätere Analysen. Möglich sind verschiedene Formate, z.B. \"rds\"-Dateien, die man mit R/Rstudio öffnen kann, und \"csv\"-Dateien, die man mit beliebigen Programmen öffnen kann. \n",
        "Aber wir speichern die Tabelle hier nur als Excel-Datei ab, weil die Tabellenzeilen nicht zu lang sind.\n"
      ]
    },
    {
      "cell_type": "code",
      "metadata": {
        "id": "EuRD6LdLjoq0"
      },
      "source": [
        "# write_rds(novels_full_words, \"data/novels_full_words.rds\")\n",
        "# write_csv(novels_full_words, \"data/novels_full_words.csv\")\n",
        "# writexl::write_xlsx(novels_full_words, \"data/novels_full_words.xlsx\")\n"
      ],
      "execution_count": null,
      "outputs": []
    },
    {
      "cell_type": "markdown",
      "metadata": {
        "id": "89wW0GRSjoq0"
      },
      "source": [
        "# 4. Wortbildungsanalyse\n",
        "\n",
        "Um am nächsten Tag nicht alle vorherigen Schritte noch einmal machen zu müssen, können wir an dieser Stelle die zuvor gespeicherte Tabelle öffnen.\n"
      ]
    },
    {
      "cell_type": "code",
      "metadata": {
        "id": "6a7uJZEMjoq0"
      },
      "source": [
        "# novels_full_words = readxl::read_xlsx(\"data/novels_full_words.xlsx\")\n",
        "\n"
      ],
      "execution_count": null,
      "outputs": []
    },
    {
      "cell_type": "markdown",
      "metadata": {
        "id": "YjJVJ5nWjoq1"
      },
      "source": [
        "Wir beginnen unsere Wortbildungsanalyse mit dem Abzählen von verschiedenen Endungen, die von unserem Programm identifiziert wurden.\n",
        "\n",
        "Wir wählen mit *select()* nur ein paar Tabellenspalten aus, damit wir die Übersicht behalten.\n",
        "Die Ergebnisse sollen nach dem Romantitel gruppiert werden, was man mit *group_by()* bewerkstelligt.\n",
        "Mit *filter()* werden leere Zeilen in der Tabellenspalte \"diffs\" herausgefiltert.\n",
        "Dann zählen wir die verschiedenen Kategorien in der Tabellenspalte, und zwar mit *count()*.\n",
        "Zuletzt verändern wir mit *pivot_wider()* das Tabellenformat, so dass die Romantitel als Spaltennamen erscheinen und die Endungen als Tabellenzeilen. Die Spalten \"prozess\" und \"tom\" enthalten nun die Häufigkeitswerte für die einzelnen Endungen.\n"
      ]
    },
    {
      "cell_type": "code",
      "metadata": {
        "colab": {
          "base_uri": "https://localhost:8080/",
          "height": 1000
        },
        "id": "H44fk71_joq1",
        "outputId": "425dd437-e69d-453c-cc4e-b0970c482ba8"
      },
      "source": [
        "novels_full_words %>% \n",
        "  select(doc_id, lemma, stamm, diffs) %>%\n",
        "  group_by(doc_id) %>% \n",
        "  filter(diffs != \"\") %>%\n",
        "  count(diffs) %>% \n",
        "  pivot_wider(names_from = doc_id, values_from = n) %>% \n",
        "  paged_table()\n"
      ],
      "execution_count": null,
      "outputs": [
        {
          "output_type": "display_data",
          "data": {
            "text/plain": [
              "   diffs    prozess tom \n",
              "1  e         2047   2587\n",
              "2  em         108     36\n",
              "3  en       10570   9914\n",
              "4  end        157    184\n",
              "5  ende         9     10\n",
              "6  endem        1     NA\n",
              "7  enden       12      8\n",
              "8  ender        3     NA\n",
              "9  ends         2     NA\n",
              "10 ene          8     22\n",
              "11 enen         9      8\n",
              "12 ener        72      5\n",
              "13 enheit      78     60\n",
              "14 ens        109     48\n",
              "15 er        1736   1656\n",
              "16 ere         24     16\n",
              "17 eren       110    196\n",
              "18 erer         3      1\n",
              "19 erheit       5      6\n",
              "20 erlich      34     22\n",
              "21 ern        195    187\n",
              "22 ers         72     29\n",
              "23 es          45     61\n",
              "24 est         20     40\n",
              "25 heit        29     25\n",
              "26 ig         423    279\n",
              "27 ige         13     16\n",
              "28 igem         3      6\n",
              "29 igen       140     47\n",
              "30 igend       19     13\n",
              "⋮  ⋮        ⋮       ⋮   \n",
              "48 se         1       2 \n",
              "49 ßig        2      NA \n",
              "50 st       106     152 \n",
              "51 ste        3       1 \n",
              "52 stem       1      NA \n",
              "53 sten       1      NA \n",
              "54 ster       7      10 \n",
              "55 ung      516     304 \n",
              "56 ungen      1      NA \n",
              "57 endern    NA       2 \n",
              "58 enheiten  NA       1 \n",
              "59 eres      NA       2 \n",
              "60 este      NA       1 \n",
              "61 esten     NA       1 \n",
              "62 ester     NA       1 \n",
              "63 et        NA       1 \n",
              "64 heiten    NA       1 \n",
              "65 heits     NA       1 \n",
              "66 igere     NA       1 \n",
              "67 igt       NA       4 \n",
              "68 ische     NA       1 \n",
              "69 ischem    NA       1 \n",
              "70 liche     NA       2 \n",
              "71 licher    NA       1 \n",
              "72 lichter   NA       1 \n",
              "73 ße        NA       1 \n",
              "74 t         NA       1 \n",
              "75 unge      NA       1 \n",
              "76 ungeren   NA       1 \n",
              "77 ungs      NA       1 "
            ],
            "text/latex": "A paged\\_df: 77 × 3\n\\begin{tabular}{lll}\n diffs & prozess & tom\\\\\n <chr> & <int> & <int>\\\\\n\\hline\n\t e      &  2047 & 2587\\\\\n\t em     &   108 &   36\\\\\n\t en     & 10570 & 9914\\\\\n\t end    &   157 &  184\\\\\n\t ende   &     9 &   10\\\\\n\t endem  &     1 &   NA\\\\\n\t enden  &    12 &    8\\\\\n\t ender  &     3 &   NA\\\\\n\t ends   &     2 &   NA\\\\\n\t ene    &     8 &   22\\\\\n\t enen   &     9 &    8\\\\\n\t ener   &    72 &    5\\\\\n\t enheit &    78 &   60\\\\\n\t ens    &   109 &   48\\\\\n\t er     &  1736 & 1656\\\\\n\t ere    &    24 &   16\\\\\n\t eren   &   110 &  196\\\\\n\t erer   &     3 &    1\\\\\n\t erheit &     5 &    6\\\\\n\t erlich &    34 &   22\\\\\n\t ern    &   195 &  187\\\\\n\t ers    &    72 &   29\\\\\n\t es     &    45 &   61\\\\\n\t est    &    20 &   40\\\\\n\t heit   &    29 &   25\\\\\n\t ig     &   423 &  279\\\\\n\t ige    &    13 &   16\\\\\n\t igem   &     3 &    6\\\\\n\t igen   &   140 &   47\\\\\n\t igend  &    19 &   13\\\\\n\t ⋮ & ⋮ & ⋮\\\\\n\t se       &   1 &   2\\\\\n\t ßig      &   2 &  NA\\\\\n\t st       & 106 & 152\\\\\n\t ste      &   3 &   1\\\\\n\t stem     &   1 &  NA\\\\\n\t sten     &   1 &  NA\\\\\n\t ster     &   7 &  10\\\\\n\t ung      & 516 & 304\\\\\n\t ungen    &   1 &  NA\\\\\n\t endern   &  NA &   2\\\\\n\t enheiten &  NA &   1\\\\\n\t eres     &  NA &   2\\\\\n\t este     &  NA &   1\\\\\n\t esten    &  NA &   1\\\\\n\t ester    &  NA &   1\\\\\n\t et       &  NA &   1\\\\\n\t heiten   &  NA &   1\\\\\n\t heits    &  NA &   1\\\\\n\t igere    &  NA &   1\\\\\n\t igt      &  NA &   4\\\\\n\t ische    &  NA &   1\\\\\n\t ischem   &  NA &   1\\\\\n\t liche    &  NA &   2\\\\\n\t licher   &  NA &   1\\\\\n\t lichter  &  NA &   1\\\\\n\t ße       &  NA &   1\\\\\n\t t        &  NA &   1\\\\\n\t unge     &  NA &   1\\\\\n\t ungeren  &  NA &   1\\\\\n\t ungs     &  NA &   1\\\\\n\\end{tabular}\n",
            "text/markdown": "\nA paged_df: 77 × 3\n\n| diffs &lt;chr&gt; | prozess &lt;int&gt; | tom &lt;int&gt; |\n|---|---|---|\n| e      |  2047 | 2587 |\n| em     |   108 |   36 |\n| en     | 10570 | 9914 |\n| end    |   157 |  184 |\n| ende   |     9 |   10 |\n| endem  |     1 |   NA |\n| enden  |    12 |    8 |\n| ender  |     3 |   NA |\n| ends   |     2 |   NA |\n| ene    |     8 |   22 |\n| enen   |     9 |    8 |\n| ener   |    72 |    5 |\n| enheit |    78 |   60 |\n| ens    |   109 |   48 |\n| er     |  1736 | 1656 |\n| ere    |    24 |   16 |\n| eren   |   110 |  196 |\n| erer   |     3 |    1 |\n| erheit |     5 |    6 |\n| erlich |    34 |   22 |\n| ern    |   195 |  187 |\n| ers    |    72 |   29 |\n| es     |    45 |   61 |\n| est    |    20 |   40 |\n| heit   |    29 |   25 |\n| ig     |   423 |  279 |\n| ige    |    13 |   16 |\n| igem   |     3 |    6 |\n| igen   |   140 |   47 |\n| igend  |    19 |   13 |\n| ⋮ | ⋮ | ⋮ |\n| se       |   1 |   2 |\n| ßig      |   2 |  NA |\n| st       | 106 | 152 |\n| ste      |   3 |   1 |\n| stem     |   1 |  NA |\n| sten     |   1 |  NA |\n| ster     |   7 |  10 |\n| ung      | 516 | 304 |\n| ungen    |   1 |  NA |\n| endern   |  NA |   2 |\n| enheiten |  NA |   1 |\n| eres     |  NA |   2 |\n| este     |  NA |   1 |\n| esten    |  NA |   1 |\n| ester    |  NA |   1 |\n| et       |  NA |   1 |\n| heiten   |  NA |   1 |\n| heits    |  NA |   1 |\n| igere    |  NA |   1 |\n| igt      |  NA |   4 |\n| ische    |  NA |   1 |\n| ischem   |  NA |   1 |\n| liche    |  NA |   2 |\n| licher   |  NA |   1 |\n| lichter  |  NA |   1 |\n| ße       |  NA |   1 |\n| t        |  NA |   1 |\n| unge     |  NA |   1 |\n| ungeren  |  NA |   1 |\n| ungs     |  NA |   1 |\n\n",
            "text/html": [
              "<table class=\"dataframe\">\n",
              "<caption>A paged_df: 77 × 3</caption>\n",
              "<thead>\n",
              "\t<tr><th scope=col>diffs</th><th scope=col>prozess</th><th scope=col>tom</th></tr>\n",
              "\t<tr><th scope=col>&lt;chr&gt;</th><th scope=col>&lt;int&gt;</th><th scope=col>&lt;int&gt;</th></tr>\n",
              "</thead>\n",
              "<tbody>\n",
              "\t<tr><td>e     </td><td> 2047</td><td>2587</td></tr>\n",
              "\t<tr><td>em    </td><td>  108</td><td>  36</td></tr>\n",
              "\t<tr><td>en    </td><td>10570</td><td>9914</td></tr>\n",
              "\t<tr><td>end   </td><td>  157</td><td> 184</td></tr>\n",
              "\t<tr><td>ende  </td><td>    9</td><td>  10</td></tr>\n",
              "\t<tr><td>endem </td><td>    1</td><td>  NA</td></tr>\n",
              "\t<tr><td>enden </td><td>   12</td><td>   8</td></tr>\n",
              "\t<tr><td>ender </td><td>    3</td><td>  NA</td></tr>\n",
              "\t<tr><td>ends  </td><td>    2</td><td>  NA</td></tr>\n",
              "\t<tr><td>ene   </td><td>    8</td><td>  22</td></tr>\n",
              "\t<tr><td>enen  </td><td>    9</td><td>   8</td></tr>\n",
              "\t<tr><td>ener  </td><td>   72</td><td>   5</td></tr>\n",
              "\t<tr><td>enheit</td><td>   78</td><td>  60</td></tr>\n",
              "\t<tr><td>ens   </td><td>  109</td><td>  48</td></tr>\n",
              "\t<tr><td>er    </td><td> 1736</td><td>1656</td></tr>\n",
              "\t<tr><td>ere   </td><td>   24</td><td>  16</td></tr>\n",
              "\t<tr><td>eren  </td><td>  110</td><td> 196</td></tr>\n",
              "\t<tr><td>erer  </td><td>    3</td><td>   1</td></tr>\n",
              "\t<tr><td>erheit</td><td>    5</td><td>   6</td></tr>\n",
              "\t<tr><td>erlich</td><td>   34</td><td>  22</td></tr>\n",
              "\t<tr><td>ern   </td><td>  195</td><td> 187</td></tr>\n",
              "\t<tr><td>ers   </td><td>   72</td><td>  29</td></tr>\n",
              "\t<tr><td>es    </td><td>   45</td><td>  61</td></tr>\n",
              "\t<tr><td>est   </td><td>   20</td><td>  40</td></tr>\n",
              "\t<tr><td>heit  </td><td>   29</td><td>  25</td></tr>\n",
              "\t<tr><td>ig    </td><td>  423</td><td> 279</td></tr>\n",
              "\t<tr><td>ige   </td><td>   13</td><td>  16</td></tr>\n",
              "\t<tr><td>igem  </td><td>    3</td><td>   6</td></tr>\n",
              "\t<tr><td>igen  </td><td>  140</td><td>  47</td></tr>\n",
              "\t<tr><td>igend </td><td>   19</td><td>  13</td></tr>\n",
              "\t<tr><td>⋮</td><td>⋮</td><td>⋮</td></tr>\n",
              "\t<tr><td>se      </td><td>  1</td><td>  2</td></tr>\n",
              "\t<tr><td>ßig     </td><td>  2</td><td> NA</td></tr>\n",
              "\t<tr><td>st      </td><td>106</td><td>152</td></tr>\n",
              "\t<tr><td>ste     </td><td>  3</td><td>  1</td></tr>\n",
              "\t<tr><td>stem    </td><td>  1</td><td> NA</td></tr>\n",
              "\t<tr><td>sten    </td><td>  1</td><td> NA</td></tr>\n",
              "\t<tr><td>ster    </td><td>  7</td><td> 10</td></tr>\n",
              "\t<tr><td>ung     </td><td>516</td><td>304</td></tr>\n",
              "\t<tr><td>ungen   </td><td>  1</td><td> NA</td></tr>\n",
              "\t<tr><td>endern  </td><td> NA</td><td>  2</td></tr>\n",
              "\t<tr><td>enheiten</td><td> NA</td><td>  1</td></tr>\n",
              "\t<tr><td>eres    </td><td> NA</td><td>  2</td></tr>\n",
              "\t<tr><td>este    </td><td> NA</td><td>  1</td></tr>\n",
              "\t<tr><td>esten   </td><td> NA</td><td>  1</td></tr>\n",
              "\t<tr><td>ester   </td><td> NA</td><td>  1</td></tr>\n",
              "\t<tr><td>et      </td><td> NA</td><td>  1</td></tr>\n",
              "\t<tr><td>heiten  </td><td> NA</td><td>  1</td></tr>\n",
              "\t<tr><td>heits   </td><td> NA</td><td>  1</td></tr>\n",
              "\t<tr><td>igere   </td><td> NA</td><td>  1</td></tr>\n",
              "\t<tr><td>igt     </td><td> NA</td><td>  4</td></tr>\n",
              "\t<tr><td>ische   </td><td> NA</td><td>  1</td></tr>\n",
              "\t<tr><td>ischem  </td><td> NA</td><td>  1</td></tr>\n",
              "\t<tr><td>liche   </td><td> NA</td><td>  2</td></tr>\n",
              "\t<tr><td>licher  </td><td> NA</td><td>  1</td></tr>\n",
              "\t<tr><td>lichter </td><td> NA</td><td>  1</td></tr>\n",
              "\t<tr><td>ße      </td><td> NA</td><td>  1</td></tr>\n",
              "\t<tr><td>t       </td><td> NA</td><td>  1</td></tr>\n",
              "\t<tr><td>unge    </td><td> NA</td><td>  1</td></tr>\n",
              "\t<tr><td>ungeren </td><td> NA</td><td>  1</td></tr>\n",
              "\t<tr><td>ungs    </td><td> NA</td><td>  1</td></tr>\n",
              "</tbody>\n",
              "</table>\n"
            ]
          },
          "metadata": {
            "tags": []
          }
        }
      ]
    },
    {
      "cell_type": "markdown",
      "metadata": {
        "id": "JUH7VX05joq1"
      },
      "source": [
        "Wir erweitern unsere Häufigkeitstabelle mit Prozentzahlen und geben ihr einen Namen (\"novels_diffs\").\n",
        "\n"
      ]
    },
    {
      "cell_type": "code",
      "metadata": {
        "colab": {
          "base_uri": "https://localhost:8080/",
          "height": 286
        },
        "id": "7HTYjZ7Ojoq1",
        "outputId": "7e68df96-a39d-486a-9a8a-13e7c5ef6742"
      },
      "source": [
        "novels_diffs = novels_full_words %>% \n",
        "  select(doc_id, lemma, stamm, diffs) %>%\n",
        "  group_by(doc_id) %>% \n",
        "  filter(diffs != \"\") %>%\n",
        "  count(diffs) %>% \n",
        "  pivot_wider(names_from = doc_id, values_from = n) %>% \n",
        "  mutate(prozess_total = sum(prozess, na.rm = TRUE),\n",
        "         tom_total = sum(tom, na.rm = TRUE)) %>% \n",
        "  mutate(prozess_pct = prozess/prozess_total,\n",
        "         tom_pct = tom/tom_total,) %>% \n",
        "  select(-prozess_total, -tom_total)\n",
        "\n",
        "head(novels_diffs) %>% paged_table()\n"
      ],
      "execution_count": null,
      "outputs": [
        {
          "output_type": "display_data",
          "data": {
            "text/plain": [
              "  diffs prozess tom  prozess_pct  tom_pct     \n",
              "1 e      2047   2587 1.150646e-01 0.1541808213\n",
              "2 em      108     36 6.070826e-03 0.0021455391\n",
              "3 en    10570   9914 5.941540e-01 0.5908576196\n",
              "4 end     157    184 8.825183e-03 0.0109660886\n",
              "5 ende      9     10 5.059022e-04 0.0005959831\n",
              "6 endem     1     NA 5.621135e-05           NA"
            ],
            "text/latex": "A paged\\_df: 6 × 5\n\\begin{tabular}{lllll}\n diffs & prozess & tom & prozess\\_pct & tom\\_pct\\\\\n <chr> & <int> & <int> & <dbl> & <dbl>\\\\\n\\hline\n\t e     &  2047 & 2587 & 1.150646e-01 & 0.1541808213\\\\\n\t em    &   108 &   36 & 6.070826e-03 & 0.0021455391\\\\\n\t en    & 10570 & 9914 & 5.941540e-01 & 0.5908576196\\\\\n\t end   &   157 &  184 & 8.825183e-03 & 0.0109660886\\\\\n\t ende  &     9 &   10 & 5.059022e-04 & 0.0005959831\\\\\n\t endem &     1 &   NA & 5.621135e-05 &           NA\\\\\n\\end{tabular}\n",
            "text/markdown": "\nA paged_df: 6 × 5\n\n| diffs &lt;chr&gt; | prozess &lt;int&gt; | tom &lt;int&gt; | prozess_pct &lt;dbl&gt; | tom_pct &lt;dbl&gt; |\n|---|---|---|---|---|\n| e     |  2047 | 2587 | 1.150646e-01 | 0.1541808213 |\n| em    |   108 |   36 | 6.070826e-03 | 0.0021455391 |\n| en    | 10570 | 9914 | 5.941540e-01 | 0.5908576196 |\n| end   |   157 |  184 | 8.825183e-03 | 0.0109660886 |\n| ende  |     9 |   10 | 5.059022e-04 | 0.0005959831 |\n| endem |     1 |   NA | 5.621135e-05 |           NA |\n\n",
            "text/html": [
              "<table class=\"dataframe\">\n",
              "<caption>A paged_df: 6 × 5</caption>\n",
              "<thead>\n",
              "\t<tr><th scope=col>diffs</th><th scope=col>prozess</th><th scope=col>tom</th><th scope=col>prozess_pct</th><th scope=col>tom_pct</th></tr>\n",
              "\t<tr><th scope=col>&lt;chr&gt;</th><th scope=col>&lt;int&gt;</th><th scope=col>&lt;int&gt;</th><th scope=col>&lt;dbl&gt;</th><th scope=col>&lt;dbl&gt;</th></tr>\n",
              "</thead>\n",
              "<tbody>\n",
              "\t<tr><td>e    </td><td> 2047</td><td>2587</td><td>1.150646e-01</td><td>0.1541808213</td></tr>\n",
              "\t<tr><td>em   </td><td>  108</td><td>  36</td><td>6.070826e-03</td><td>0.0021455391</td></tr>\n",
              "\t<tr><td>en   </td><td>10570</td><td>9914</td><td>5.941540e-01</td><td>0.5908576196</td></tr>\n",
              "\t<tr><td>end  </td><td>  157</td><td> 184</td><td>8.825183e-03</td><td>0.0109660886</td></tr>\n",
              "\t<tr><td>ende </td><td>    9</td><td>  10</td><td>5.059022e-04</td><td>0.0005959831</td></tr>\n",
              "\t<tr><td>endem</td><td>    1</td><td>  NA</td><td>5.621135e-05</td><td>          NA</td></tr>\n",
              "</tbody>\n",
              "</table>\n"
            ]
          },
          "metadata": {
            "tags": []
          }
        }
      ]
    },
    {
      "cell_type": "markdown",
      "metadata": {
        "id": "FtbiVcF6joq1"
      },
      "source": [
        "Noch eine graphische Darstellung der Häufigkeitswerte, für die wir die Tabelle umformen, und zwar mit *pivot_longer()* und verkürzen (durch Filtervorgänge): wir wollen nur Endungen mit einer Häufigkeit von mehr als 0,5% (0.005) beibehalten. Mit *fct_lump()* kann man die Anzahl der Kategorien reduzieren (die Restkategorie heißt hier \"Other\"). Mit *fct_reorder()* sorgen wir dafür, dass die häufigeren Endungen im Diagramm oben erscheinen. Die Funktion *facet_wrap()* ermöglicht die getrennte Darstellung der Romane.\n",
        "\n"
      ]
    },
    {
      "cell_type": "code",
      "metadata": {
        "colab": {
          "base_uri": "https://localhost:8080/",
          "height": 437
        },
        "id": "8KRll1LZjoq2",
        "outputId": "8ed9c11e-249b-405d-df42-3e5796a4ea19"
      },
      "source": [
        "library(scales)\n",
        "\n",
        "novels_diffs %>% \n",
        "  pivot_longer(cols = prozess_pct:tom_pct, names_to = \"title\", values_to = \"prozent\") %>% \n",
        "  filter(!is.na(prozent)) %>% \n",
        "  filter(prozent > 0.005) %>% \n",
        "  mutate(diffs = fct_lump(diffs, 10)) %>% \n",
        "  mutate(diffs = fct_reorder(diffs, prozent)) %>% \n",
        "  ggplot(aes(prozent, diffs, fill = title)) +\n",
        "  geom_col() +\n",
        "  theme(legend.position = \"none\") +\n",
        "  scale_x_continuous(labels = percent) +\n",
        "  labs(x = \"\", y = \"Endungen\") +\n",
        "  facet_wrap(~ title, scales = \"free\")\n"
      ],
      "execution_count": null,
      "outputs": [
        {
          "output_type": "display_data",
          "data": {
            "image/png": "[encoded data removed]",
            "text/plain": [
              "plot without title"
            ]
          },
          "metadata": {
            "tags": [],
            "image/png": {
              "width": 420,
              "height": 420
            }
          }
        }
      ]
    },
    {
      "cell_type": "markdown",
      "metadata": {
        "id": "T4vVcTnfjoq2"
      },
      "source": [
        "Vergleichen wir mal die Häufigkeit der Endung \"-lich\" in den Romanen! Da dieses Wortbildungssuffix mit adjektivischen Stämmen verknüpft wird, filtern die entsprechende Wortklasse heraus.\n",
        "\n"
      ]
    },
    {
      "cell_type": "code",
      "metadata": {
        "colab": {
          "base_uri": "https://localhost:8080/",
          "height": 161
        },
        "id": "0Gf-1BO8joq3",
        "outputId": "64cba2ad-a0e6-43af-cc91-a20c68c40c80"
      },
      "source": [
        "(lich_tab = novels_full_words %>% \n",
        "  group_by(doc_id) %>% \n",
        "  filter(upos == \"ADJ\") %>% \n",
        "  count(diffs == \"lich\") %>%\n",
        "  rename(lich = `diffs == \"lich\"`) %>% \n",
        "  filter(!is.na(lich)) %>% \n",
        "  pivot_wider(names_from = doc_id, values_from = n)\n",
        ")\n"
      ],
      "execution_count": null,
      "outputs": [
        {
          "output_type": "display_data",
          "data": {
            "text/plain": [
              "  lich  prozess tom \n",
              "1 FALSE 4785    5204\n",
              "2  TRUE  386     213"
            ],
            "text/latex": "A tibble: 2 × 3\n\\begin{tabular}{lll}\n lich & prozess & tom\\\\\n <lgl> & <int> & <int>\\\\\n\\hline\n\t FALSE & 4785 & 5204\\\\\n\t  TRUE &  386 &  213\\\\\n\\end{tabular}\n",
            "text/markdown": "\nA tibble: 2 × 3\n\n| lich &lt;lgl&gt; | prozess &lt;int&gt; | tom &lt;int&gt; |\n|---|---|---|\n| FALSE | 4785 | 5204 |\n|  TRUE |  386 |  213 |\n\n",
            "text/html": [
              "<table class=\"dataframe\">\n",
              "<caption>A tibble: 2 × 3</caption>\n",
              "<thead>\n",
              "\t<tr><th scope=col>lich</th><th scope=col>prozess</th><th scope=col>tom</th></tr>\n",
              "\t<tr><th scope=col>&lt;lgl&gt;</th><th scope=col>&lt;int&gt;</th><th scope=col>&lt;int&gt;</th></tr>\n",
              "</thead>\n",
              "<tbody>\n",
              "\t<tr><td>FALSE</td><td>4785</td><td>5204</td></tr>\n",
              "\t<tr><td> TRUE</td><td> 386</td><td> 213</td></tr>\n",
              "</tbody>\n",
              "</table>\n"
            ]
          },
          "metadata": {
            "tags": []
          }
        }
      ]
    },
    {
      "cell_type": "markdown",
      "metadata": {
        "id": "qgZ7hzpbjoq3"
      },
      "source": [
        "Ist der Unterschied zwischen den Romanen statistisch signifikant? Das überprüfen wir mit dem Chi-Quadrat-Test. Die erste Spalte enthält keine Zahlen, daher müssen wir sie beim Testen entfernen, und zwar mit *[, -1]*: alle Zeilen übernehmen, aber die este Tabellenspalte nicht.\n",
        "\n"
      ]
    },
    {
      "cell_type": "code",
      "metadata": {
        "colab": {
          "base_uri": "https://localhost:8080/",
          "height": 109
        },
        "id": "uIbC6JrWjoq3",
        "outputId": "a9af42d9-2612-4fe6-c919-fbbce50070a2"
      },
      "source": [
        "chisq.test(lich_tab[,-1])\n",
        "\n"
      ],
      "execution_count": null,
      "outputs": [
        {
          "output_type": "display_data",
          "data": {
            "text/plain": [
              "\n",
              "\tPearson's Chi-squared test with Yates' continuity correction\n",
              "\n",
              "data:  lich_tab[, -1]\n",
              "X-squared = 61.198, df = 1, p-value = 5.161e-15\n"
            ]
          },
          "metadata": {
            "tags": []
          }
        }
      ]
    },
    {
      "cell_type": "markdown",
      "metadata": {
        "id": "e5SRpBHljoq3"
      },
      "source": [
        "Der Chi-Quadrat-Test hat lediglich einen signifikanten Unterschied zwischen den beiden Stichproben \"prozess\" und \"tom\" bestätigt, sagt uns aber nicht, in welcher Stichprobe, das Suffix \"-lich\" verhältnismäßig häufiger vorkommt. Bei dieser Beurteilung helfen uns Prozentzahlen.\n",
        "\n"
      ]
    },
    {
      "cell_type": "code",
      "metadata": {
        "colab": {
          "base_uri": "https://localhost:8080/",
          "height": 161
        },
        "id": "EMDJZG4ojoq3",
        "outputId": "90929aae-2a06-4d21-ea00-5fe2d1836c34"
      },
      "source": [
        "lichtab2 = novels_full_words %>% \n",
        "  group_by(doc_id) %>% \n",
        "  filter(upos == \"ADJ\") %>% \n",
        "  count(diffs == \"lich\") %>% \n",
        "  rename(lich = `diffs == \"lich\"`) %>% \n",
        "  filter(!is.na(lich)) %>% \n",
        "  pivot_wider(names_from = doc_id, values_from = n) %>% \n",
        "  mutate(prozess_total = sum(prozess, na.rm = TRUE),\n",
        "         tom_total = sum(tom, na.rm = TRUE)) %>% \n",
        "  mutate(prozess_pct = prozess/prozess_total,\n",
        "         tom_pct = tom/tom_total,) %>% \n",
        "  select(-prozess_total, -tom_total)\n",
        "\n",
        "lichtab2 %>% paged_table()\n"
      ],
      "execution_count": null,
      "outputs": [
        {
          "output_type": "display_data",
          "data": {
            "text/plain": [
              "  lich  prozess tom  prozess_pct tom_pct   \n",
              "1 FALSE 4785    5204 0.92535293  0.96067934\n",
              "2  TRUE  386     213 0.07464707  0.03932066"
            ],
            "text/latex": "A paged\\_df: 2 × 5\n\\begin{tabular}{lllll}\n lich & prozess & tom & prozess\\_pct & tom\\_pct\\\\\n <lgl> & <int> & <int> & <dbl> & <dbl>\\\\\n\\hline\n\t FALSE & 4785 & 5204 & 0.92535293 & 0.96067934\\\\\n\t  TRUE &  386 &  213 & 0.07464707 & 0.03932066\\\\\n\\end{tabular}\n",
            "text/markdown": "\nA paged_df: 2 × 5\n\n| lich &lt;lgl&gt; | prozess &lt;int&gt; | tom &lt;int&gt; | prozess_pct &lt;dbl&gt; | tom_pct &lt;dbl&gt; |\n|---|---|---|---|---|\n| FALSE | 4785 | 5204 | 0.92535293 | 0.96067934 |\n|  TRUE |  386 |  213 | 0.07464707 | 0.03932066 |\n\n",
            "text/html": [
              "<table class=\"dataframe\">\n",
              "<caption>A paged_df: 2 × 5</caption>\n",
              "<thead>\n",
              "\t<tr><th scope=col>lich</th><th scope=col>prozess</th><th scope=col>tom</th><th scope=col>prozess_pct</th><th scope=col>tom_pct</th></tr>\n",
              "\t<tr><th scope=col>&lt;lgl&gt;</th><th scope=col>&lt;int&gt;</th><th scope=col>&lt;int&gt;</th><th scope=col>&lt;dbl&gt;</th><th scope=col>&lt;dbl&gt;</th></tr>\n",
              "</thead>\n",
              "<tbody>\n",
              "\t<tr><td>FALSE</td><td>4785</td><td>5204</td><td>0.92535293</td><td>0.96067934</td></tr>\n",
              "\t<tr><td> TRUE</td><td> 386</td><td> 213</td><td>0.07464707</td><td>0.03932066</td></tr>\n",
              "</tbody>\n",
              "</table>\n"
            ]
          },
          "metadata": {
            "tags": []
          }
        }
      ]
    },
    {
      "cell_type": "markdown",
      "metadata": {
        "id": "qJ2WP6-qjoq4"
      },
      "source": [
        "Etwa 21,5% der als Adjektiv identifizierten Lemmas im Roman \"prozess\" enden mit dem Suffix \"-lich\", im Roman \"tom sawyer\" sind es etwa 15,2%. Der Unterschied ist auch in der graphischen Darstellung zu sehen.\n",
        "\n"
      ]
    },
    {
      "cell_type": "code",
      "metadata": {
        "colab": {
          "base_uri": "https://localhost:8080/",
          "height": 437
        },
        "id": "l_YBqm5Ijoq4",
        "outputId": "a3add5c6-ae28-4334-8edd-e0f3bf5e3665"
      },
      "source": [
        "lichtab2 %>% \n",
        "  pivot_longer(prozess_pct:tom_pct, names_to = \"title\", values_to = \"pct\") %>% \n",
        "  ggplot(aes(title, pct, fill = lich)) +\n",
        "  geom_col()\n"
      ],
      "execution_count": null,
      "outputs": [
        {
          "output_type": "display_data",
          "data": {
            "image/png": "[encoded data removed]",
            "text/plain": [
              "plot without title"
            ]
          },
          "metadata": {
            "tags": [],
            "image/png": {
              "width": 420,
              "height": 420
            }
          }
        }
      ]
    },
    {
      "cell_type": "markdown",
      "metadata": {
        "id": "qvFNHKmAjoq4"
      },
      "source": [
        "Das Suffix \"-lich\" gehört zu den produktiven Wortbildungsmitteln im Deutschen. Warum sind im \"prozess\" mehr davon zu finden als im anderen Roman? Zur Klärung dieser Frage müssten wir zuerst mehr über die semantischen Eigenschaften und Verknüpfungsmöglichkeiten (oder -einschränkungen) mit verschiedenen Wortstämmen erfahren.\n",
        "\n"
      ]
    },
    {
      "cell_type": "code",
      "metadata": {
        "colab": {
          "base_uri": "https://localhost:8080/",
          "height": 1000
        },
        "id": "6tHf7uh3joq4",
        "outputId": "8b51e4a0-ce37-4f0c-cf57-899e90f33f1a"
      },
      "source": [
        "novels_full_words %>% \n",
        "  select(doc_id, lemma, word, upos, diffs) %>%\n",
        "  group_by(doc_id, lemma, word) %>% \n",
        "  filter(upos == \"ADJ\") %>% \n",
        "  filter(diffs == \"lich\") %>% \n",
        "  paged_table()\n"
      ],
      "execution_count": null,
      "outputs": [
        {
          "output_type": "display_data",
          "data": {
            "text/plain": [
              "    doc_id  lemma              word               upos diffs\n",
              "1   prozess ungewöhnlich       ungewöhnlichen     ADJ  lich \n",
              "2   prozess eigentlich         eigentlich         ADJ  lich \n",
              "3   prozess unmöglich          unmöglich          ADJ  lich \n",
              "4   prozess freundschaftlich   freundschaftlich   ADJ  lich \n",
              "5   prozess zuversichtlich     zuversichtlich     ADJ  lich \n",
              "6   prozess freundschaftlich   freundschaftlich   ADJ  lich \n",
              "7   prozess natürlich          natürlich          ADJ  lich \n",
              "8   prozess unähnlich          unähnlich          ADJ  lich \n",
              "9   prozess wahrscheinlich     wahrscheinlich     ADJ  lich \n",
              "10  prozess wahrscheinlich     wahrscheinlich     ADJ  lich \n",
              "11  prozess unverständlich     unverständlichen   ADJ  lich \n",
              "12  prozess begreiflich        begreiflich        ADJ  lich \n",
              "13  prozess unvergleichlich    unvergleichlich    ADJ  lich \n",
              "14  prozess natürlich          natürliche         ADJ  lich \n",
              "15  prozess zuversichtlich     zuversichtlich     ADJ  lich \n",
              "16  prozess begreiflich        begreiflich        ADJ  lich \n",
              "17  prozess unwahrscheinlich   unwahrscheinlichen ADJ  lich \n",
              "18  prozess selbstverständlich selbstverständlich ADJ  lich \n",
              "19  prozess natürlich          natürlich          ADJ  lich \n",
              "20  prozess nebensächlich      nebensächlich      ADJ  lich \n",
              "21  prozess nebensächlich      nebensächlich      ADJ  lich \n",
              "22  prozess angeblich          angeblich          ADJ  lich \n",
              "23  prozess versöhnlich        versöhnlichen      ADJ  lich \n",
              "24  prozess versöhnlich        versöhnlichen      ADJ  lich \n",
              "25  prozess tatsächlich        tatsächlich        ADJ  lich \n",
              "26  prozess unausstehlich      unausstehlichen    ADJ  lich \n",
              "27  prozess ausdrücklich       ausdrücklich       ADJ  lich \n",
              "28  prozess absichtlich        absichtlich        ADJ  lich \n",
              "29  prozess offensichtlich     offensichtlich     ADJ  lich \n",
              "30  prozess unwillkürlich      unwillkürlich      ADJ  lich \n",
              "⋮   ⋮       ⋮                  ⋮                  ⋮    ⋮    \n",
              "570 tom     unmöglich          unmöglich          ADJ  lich \n",
              "571 tom     zuversichtlich     zuversichtlich     ADJ  lich \n",
              "572 tom     zuversichtlich     zuversichtlich     ADJ  lich \n",
              "573 tom     nachdenklich       nachdenklich       ADJ  lich \n",
              "574 tom     allmählich         allmählich         ADJ  lich \n",
              "575 tom     totenähnlich       totenähnlichem     ADJ  lich \n",
              "576 tom     augenscheinlich    augenscheinlich    ADJ  lich \n",
              "577 tom     allmählich         allmählich         ADJ  lich \n",
              "578 tom     unkenntlich        unkenntlich        ADJ  lich \n",
              "579 tom     öffentlich         öffentliche        ADJ  lich \n",
              "580 tom     vergeblich         vergebliche        ADJ  lich \n",
              "581 tom     natürlich          natürliche         ADJ  lich \n",
              "582 tom     unmöglich          unmöglich          ADJ  lich \n",
              "583 tom     gewöhnlich         gewöhnlich         ADJ  lich \n",
              "584 tom     undenklich         undenkliche        ADJ  lich \n",
              "585 tom     gewöhnlich         gewöhnlichen       ADJ  lich \n",
              "586 tom     unwillkürlich      unwillkürlich      ADJ  lich \n",
              "587 tom     eigentlich         eigentlich         ADJ  lich \n",
              "588 tom     befindlich         befindlichen       ADJ  lich \n",
              "589 tom     natürlich          natürliche         ADJ  lich \n",
              "590 tom     ordentlich         ordentliche        ADJ  lich \n",
              "591 tom     ordentlich         ordentlich         ADJ  lich \n",
              "592 tom     vermeintlich       vermeintlichen     ADJ  lich \n",
              "593 tom     unglaublich        unglaublich        ADJ  lich \n",
              "594 tom     gewöhnlich         gewöhnlich         ADJ  lich \n",
              "595 tom     wöchentlich        wöchentlich        ADJ  lich \n",
              "596 tom     gewöhnlich         gewöhnlicher       ADJ  lich \n",
              "597 tom     gemütlich          gemütlich          ADJ  lich \n",
              "598 tom     gewöhnlich         gewöhnlich         ADJ  lich \n",
              "599 tom     natürlich          natürlich          ADJ  lich "
            ],
            "text/latex": "A paged\\_df: 599 × 5\n\\begin{tabular}{lllll}\n doc\\_id & lemma & word & upos & diffs\\\\\n <chr> & <chr> & <chr> & <chr> & <chr>\\\\\n\\hline\n\t prozess & ungewöhnlich       & ungewöhnlichen     & ADJ & lich\\\\\n\t prozess & eigentlich         & eigentlich         & ADJ & lich\\\\\n\t prozess & unmöglich          & unmöglich          & ADJ & lich\\\\\n\t prozess & freundschaftlich   & freundschaftlich   & ADJ & lich\\\\\n\t prozess & zuversichtlich     & zuversichtlich     & ADJ & lich\\\\\n\t prozess & freundschaftlich   & freundschaftlich   & ADJ & lich\\\\\n\t prozess & natürlich          & natürlich          & ADJ & lich\\\\\n\t prozess & unähnlich          & unähnlich          & ADJ & lich\\\\\n\t prozess & wahrscheinlich     & wahrscheinlich     & ADJ & lich\\\\\n\t prozess & wahrscheinlich     & wahrscheinlich     & ADJ & lich\\\\\n\t prozess & unverständlich     & unverständlichen   & ADJ & lich\\\\\n\t prozess & begreiflich        & begreiflich        & ADJ & lich\\\\\n\t prozess & unvergleichlich    & unvergleichlich    & ADJ & lich\\\\\n\t prozess & natürlich          & natürliche         & ADJ & lich\\\\\n\t prozess & zuversichtlich     & zuversichtlich     & ADJ & lich\\\\\n\t prozess & begreiflich        & begreiflich        & ADJ & lich\\\\\n\t prozess & unwahrscheinlich   & unwahrscheinlichen & ADJ & lich\\\\\n\t prozess & selbstverständlich & selbstverständlich & ADJ & lich\\\\\n\t prozess & natürlich          & natürlich          & ADJ & lich\\\\\n\t prozess & nebensächlich      & nebensächlich      & ADJ & lich\\\\\n\t prozess & nebensächlich      & nebensächlich      & ADJ & lich\\\\\n\t prozess & angeblich          & angeblich          & ADJ & lich\\\\\n\t prozess & versöhnlich        & versöhnlichen      & ADJ & lich\\\\\n\t prozess & versöhnlich        & versöhnlichen      & ADJ & lich\\\\\n\t prozess & tatsächlich        & tatsächlich        & ADJ & lich\\\\\n\t prozess & unausstehlich      & unausstehlichen    & ADJ & lich\\\\\n\t prozess & ausdrücklich       & ausdrücklich       & ADJ & lich\\\\\n\t prozess & absichtlich        & absichtlich        & ADJ & lich\\\\\n\t prozess & offensichtlich     & offensichtlich     & ADJ & lich\\\\\n\t prozess & unwillkürlich      & unwillkürlich      & ADJ & lich\\\\\n\t ⋮ & ⋮ & ⋮ & ⋮ & ⋮\\\\\n\t tom & unmöglich       & unmöglich       & ADJ & lich\\\\\n\t tom & zuversichtlich  & zuversichtlich  & ADJ & lich\\\\\n\t tom & zuversichtlich  & zuversichtlich  & ADJ & lich\\\\\n\t tom & nachdenklich    & nachdenklich    & ADJ & lich\\\\\n\t tom & allmählich      & allmählich      & ADJ & lich\\\\\n\t tom & totenähnlich    & totenähnlichem  & ADJ & lich\\\\\n\t tom & augenscheinlich & augenscheinlich & ADJ & lich\\\\\n\t tom & allmählich      & allmählich      & ADJ & lich\\\\\n\t tom & unkenntlich     & unkenntlich     & ADJ & lich\\\\\n\t tom & öffentlich      & öffentliche     & ADJ & lich\\\\\n\t tom & vergeblich      & vergebliche     & ADJ & lich\\\\\n\t tom & natürlich       & natürliche      & ADJ & lich\\\\\n\t tom & unmöglich       & unmöglich       & ADJ & lich\\\\\n\t tom & gewöhnlich      & gewöhnlich      & ADJ & lich\\\\\n\t tom & undenklich      & undenkliche     & ADJ & lich\\\\\n\t tom & gewöhnlich      & gewöhnlichen    & ADJ & lich\\\\\n\t tom & unwillkürlich   & unwillkürlich   & ADJ & lich\\\\\n\t tom & eigentlich      & eigentlich      & ADJ & lich\\\\\n\t tom & befindlich      & befindlichen    & ADJ & lich\\\\\n\t tom & natürlich       & natürliche      & ADJ & lich\\\\\n\t tom & ordentlich      & ordentliche     & ADJ & lich\\\\\n\t tom & ordentlich      & ordentlich      & ADJ & lich\\\\\n\t tom & vermeintlich    & vermeintlichen  & ADJ & lich\\\\\n\t tom & unglaublich     & unglaublich     & ADJ & lich\\\\\n\t tom & gewöhnlich      & gewöhnlich      & ADJ & lich\\\\\n\t tom & wöchentlich     & wöchentlich     & ADJ & lich\\\\\n\t tom & gewöhnlich      & gewöhnlicher    & ADJ & lich\\\\\n\t tom & gemütlich       & gemütlich       & ADJ & lich\\\\\n\t tom & gewöhnlich      & gewöhnlich      & ADJ & lich\\\\\n\t tom & natürlich       & natürlich       & ADJ & lich\\\\\n\\end{tabular}\n",
            "text/markdown": "\nA paged_df: 599 × 5\n\n| doc_id &lt;chr&gt; | lemma &lt;chr&gt; | word &lt;chr&gt; | upos &lt;chr&gt; | diffs &lt;chr&gt; |\n|---|---|---|---|---|\n| prozess | ungewöhnlich       | ungewöhnlichen     | ADJ | lich |\n| prozess | eigentlich         | eigentlich         | ADJ | lich |\n| prozess | unmöglich          | unmöglich          | ADJ | lich |\n| prozess | freundschaftlich   | freundschaftlich   | ADJ | lich |\n| prozess | zuversichtlich     | zuversichtlich     | ADJ | lich |\n| prozess | freundschaftlich   | freundschaftlich   | ADJ | lich |\n| prozess | natürlich          | natürlich          | ADJ | lich |\n| prozess | unähnlich          | unähnlich          | ADJ | lich |\n| prozess | wahrscheinlich     | wahrscheinlich     | ADJ | lich |\n| prozess | wahrscheinlich     | wahrscheinlich     | ADJ | lich |\n| prozess | unverständlich     | unverständlichen   | ADJ | lich |\n| prozess | begreiflich        | begreiflich        | ADJ | lich |\n| prozess | unvergleichlich    | unvergleichlich    | ADJ | lich |\n| prozess | natürlich          | natürliche         | ADJ | lich |\n| prozess | zuversichtlich     | zuversichtlich     | ADJ | lich |\n| prozess | begreiflich        | begreiflich        | ADJ | lich |\n| prozess | unwahrscheinlich   | unwahrscheinlichen | ADJ | lich |\n| prozess | selbstverständlich | selbstverständlich | ADJ | lich |\n| prozess | natürlich          | natürlich          | ADJ | lich |\n| prozess | nebensächlich      | nebensächlich      | ADJ | lich |\n| prozess | nebensächlich      | nebensächlich      | ADJ | lich |\n| prozess | angeblich          | angeblich          | ADJ | lich |\n| prozess | versöhnlich        | versöhnlichen      | ADJ | lich |\n| prozess | versöhnlich        | versöhnlichen      | ADJ | lich |\n| prozess | tatsächlich        | tatsächlich        | ADJ | lich |\n| prozess | unausstehlich      | unausstehlichen    | ADJ | lich |\n| prozess | ausdrücklich       | ausdrücklich       | ADJ | lich |\n| prozess | absichtlich        | absichtlich        | ADJ | lich |\n| prozess | offensichtlich     | offensichtlich     | ADJ | lich |\n| prozess | unwillkürlich      | unwillkürlich      | ADJ | lich |\n| ⋮ | ⋮ | ⋮ | ⋮ | ⋮ |\n| tom | unmöglich       | unmöglich       | ADJ | lich |\n| tom | zuversichtlich  | zuversichtlich  | ADJ | lich |\n| tom | zuversichtlich  | zuversichtlich  | ADJ | lich |\n| tom | nachdenklich    | nachdenklich    | ADJ | lich |\n| tom | allmählich      | allmählich      | ADJ | lich |\n| tom | totenähnlich    | totenähnlichem  | ADJ | lich |\n| tom | augenscheinlich | augenscheinlich | ADJ | lich |\n| tom | allmählich      | allmählich      | ADJ | lich |\n| tom | unkenntlich     | unkenntlich     | ADJ | lich |\n| tom | öffentlich      | öffentliche     | ADJ | lich |\n| tom | vergeblich      | vergebliche     | ADJ | lich |\n| tom | natürlich       | natürliche      | ADJ | lich |\n| tom | unmöglich       | unmöglich       | ADJ | lich |\n| tom | gewöhnlich      | gewöhnlich      | ADJ | lich |\n| tom | undenklich      | undenkliche     | ADJ | lich |\n| tom | gewöhnlich      | gewöhnlichen    | ADJ | lich |\n| tom | unwillkürlich   | unwillkürlich   | ADJ | lich |\n| tom | eigentlich      | eigentlich      | ADJ | lich |\n| tom | befindlich      | befindlichen    | ADJ | lich |\n| tom | natürlich       | natürliche      | ADJ | lich |\n| tom | ordentlich      | ordentliche     | ADJ | lich |\n| tom | ordentlich      | ordentlich      | ADJ | lich |\n| tom | vermeintlich    | vermeintlichen  | ADJ | lich |\n| tom | unglaublich     | unglaublich     | ADJ | lich |\n| tom | gewöhnlich      | gewöhnlich      | ADJ | lich |\n| tom | wöchentlich     | wöchentlich     | ADJ | lich |\n| tom | gewöhnlich      | gewöhnlicher    | ADJ | lich |\n| tom | gemütlich       | gemütlich       | ADJ | lich |\n| tom | gewöhnlich      | gewöhnlich      | ADJ | lich |\n| tom | natürlich       | natürlich       | ADJ | lich |\n\n",
            "text/html": [
              "<table class=\"dataframe\">\n",
              "<caption>A paged_df: 599 × 5</caption>\n",
              "<thead>\n",
              "\t<tr><th scope=col>doc_id</th><th scope=col>lemma</th><th scope=col>word</th><th scope=col>upos</th><th scope=col>diffs</th></tr>\n",
              "\t<tr><th scope=col>&lt;chr&gt;</th><th scope=col>&lt;chr&gt;</th><th scope=col>&lt;chr&gt;</th><th scope=col>&lt;chr&gt;</th><th scope=col>&lt;chr&gt;</th></tr>\n",
              "</thead>\n",
              "<tbody>\n",
              "\t<tr><td>prozess</td><td>ungewöhnlich      </td><td>ungewöhnlichen    </td><td>ADJ</td><td>lich</td></tr>\n",
              "\t<tr><td>prozess</td><td>eigentlich        </td><td>eigentlich        </td><td>ADJ</td><td>lich</td></tr>\n",
              "\t<tr><td>prozess</td><td>unmöglich         </td><td>unmöglich         </td><td>ADJ</td><td>lich</td></tr>\n",
              "\t<tr><td>prozess</td><td>freundschaftlich  </td><td>freundschaftlich  </td><td>ADJ</td><td>lich</td></tr>\n",
              "\t<tr><td>prozess</td><td>zuversichtlich    </td><td>zuversichtlich    </td><td>ADJ</td><td>lich</td></tr>\n",
              "\t<tr><td>prozess</td><td>freundschaftlich  </td><td>freundschaftlich  </td><td>ADJ</td><td>lich</td></tr>\n",
              "\t<tr><td>prozess</td><td>natürlich         </td><td>natürlich         </td><td>ADJ</td><td>lich</td></tr>\n",
              "\t<tr><td>prozess</td><td>unähnlich         </td><td>unähnlich         </td><td>ADJ</td><td>lich</td></tr>\n",
              "\t<tr><td>prozess</td><td>wahrscheinlich    </td><td>wahrscheinlich    </td><td>ADJ</td><td>lich</td></tr>\n",
              "\t<tr><td>prozess</td><td>wahrscheinlich    </td><td>wahrscheinlich    </td><td>ADJ</td><td>lich</td></tr>\n",
              "\t<tr><td>prozess</td><td>unverständlich    </td><td>unverständlichen  </td><td>ADJ</td><td>lich</td></tr>\n",
              "\t<tr><td>prozess</td><td>begreiflich       </td><td>begreiflich       </td><td>ADJ</td><td>lich</td></tr>\n",
              "\t<tr><td>prozess</td><td>unvergleichlich   </td><td>unvergleichlich   </td><td>ADJ</td><td>lich</td></tr>\n",
              "\t<tr><td>prozess</td><td>natürlich         </td><td>natürliche        </td><td>ADJ</td><td>lich</td></tr>\n",
              "\t<tr><td>prozess</td><td>zuversichtlich    </td><td>zuversichtlich    </td><td>ADJ</td><td>lich</td></tr>\n",
              "\t<tr><td>prozess</td><td>begreiflich       </td><td>begreiflich       </td><td>ADJ</td><td>lich</td></tr>\n",
              "\t<tr><td>prozess</td><td>unwahrscheinlich  </td><td>unwahrscheinlichen</td><td>ADJ</td><td>lich</td></tr>\n",
              "\t<tr><td>prozess</td><td>selbstverständlich</td><td>selbstverständlich</td><td>ADJ</td><td>lich</td></tr>\n",
              "\t<tr><td>prozess</td><td>natürlich         </td><td>natürlich         </td><td>ADJ</td><td>lich</td></tr>\n",
              "\t<tr><td>prozess</td><td>nebensächlich     </td><td>nebensächlich     </td><td>ADJ</td><td>lich</td></tr>\n",
              "\t<tr><td>prozess</td><td>nebensächlich     </td><td>nebensächlich     </td><td>ADJ</td><td>lich</td></tr>\n",
              "\t<tr><td>prozess</td><td>angeblich         </td><td>angeblich         </td><td>ADJ</td><td>lich</td></tr>\n",
              "\t<tr><td>prozess</td><td>versöhnlich       </td><td>versöhnlichen     </td><td>ADJ</td><td>lich</td></tr>\n",
              "\t<tr><td>prozess</td><td>versöhnlich       </td><td>versöhnlichen     </td><td>ADJ</td><td>lich</td></tr>\n",
              "\t<tr><td>prozess</td><td>tatsächlich       </td><td>tatsächlich       </td><td>ADJ</td><td>lich</td></tr>\n",
              "\t<tr><td>prozess</td><td>unausstehlich     </td><td>unausstehlichen   </td><td>ADJ</td><td>lich</td></tr>\n",
              "\t<tr><td>prozess</td><td>ausdrücklich      </td><td>ausdrücklich      </td><td>ADJ</td><td>lich</td></tr>\n",
              "\t<tr><td>prozess</td><td>absichtlich       </td><td>absichtlich       </td><td>ADJ</td><td>lich</td></tr>\n",
              "\t<tr><td>prozess</td><td>offensichtlich    </td><td>offensichtlich    </td><td>ADJ</td><td>lich</td></tr>\n",
              "\t<tr><td>prozess</td><td>unwillkürlich     </td><td>unwillkürlich     </td><td>ADJ</td><td>lich</td></tr>\n",
              "\t<tr><td>⋮</td><td>⋮</td><td>⋮</td><td>⋮</td><td>⋮</td></tr>\n",
              "\t<tr><td>tom</td><td>unmöglich      </td><td>unmöglich      </td><td>ADJ</td><td>lich</td></tr>\n",
              "\t<tr><td>tom</td><td>zuversichtlich </td><td>zuversichtlich </td><td>ADJ</td><td>lich</td></tr>\n",
              "\t<tr><td>tom</td><td>zuversichtlich </td><td>zuversichtlich </td><td>ADJ</td><td>lich</td></tr>\n",
              "\t<tr><td>tom</td><td>nachdenklich   </td><td>nachdenklich   </td><td>ADJ</td><td>lich</td></tr>\n",
              "\t<tr><td>tom</td><td>allmählich     </td><td>allmählich     </td><td>ADJ</td><td>lich</td></tr>\n",
              "\t<tr><td>tom</td><td>totenähnlich   </td><td>totenähnlichem </td><td>ADJ</td><td>lich</td></tr>\n",
              "\t<tr><td>tom</td><td>augenscheinlich</td><td>augenscheinlich</td><td>ADJ</td><td>lich</td></tr>\n",
              "\t<tr><td>tom</td><td>allmählich     </td><td>allmählich     </td><td>ADJ</td><td>lich</td></tr>\n",
              "\t<tr><td>tom</td><td>unkenntlich    </td><td>unkenntlich    </td><td>ADJ</td><td>lich</td></tr>\n",
              "\t<tr><td>tom</td><td>öffentlich     </td><td>öffentliche    </td><td>ADJ</td><td>lich</td></tr>\n",
              "\t<tr><td>tom</td><td>vergeblich     </td><td>vergebliche    </td><td>ADJ</td><td>lich</td></tr>\n",
              "\t<tr><td>tom</td><td>natürlich      </td><td>natürliche     </td><td>ADJ</td><td>lich</td></tr>\n",
              "\t<tr><td>tom</td><td>unmöglich      </td><td>unmöglich      </td><td>ADJ</td><td>lich</td></tr>\n",
              "\t<tr><td>tom</td><td>gewöhnlich     </td><td>gewöhnlich     </td><td>ADJ</td><td>lich</td></tr>\n",
              "\t<tr><td>tom</td><td>undenklich     </td><td>undenkliche    </td><td>ADJ</td><td>lich</td></tr>\n",
              "\t<tr><td>tom</td><td>gewöhnlich     </td><td>gewöhnlichen   </td><td>ADJ</td><td>lich</td></tr>\n",
              "\t<tr><td>tom</td><td>unwillkürlich  </td><td>unwillkürlich  </td><td>ADJ</td><td>lich</td></tr>\n",
              "\t<tr><td>tom</td><td>eigentlich     </td><td>eigentlich     </td><td>ADJ</td><td>lich</td></tr>\n",
              "\t<tr><td>tom</td><td>befindlich     </td><td>befindlichen   </td><td>ADJ</td><td>lich</td></tr>\n",
              "\t<tr><td>tom</td><td>natürlich      </td><td>natürliche     </td><td>ADJ</td><td>lich</td></tr>\n",
              "\t<tr><td>tom</td><td>ordentlich     </td><td>ordentliche    </td><td>ADJ</td><td>lich</td></tr>\n",
              "\t<tr><td>tom</td><td>ordentlich     </td><td>ordentlich     </td><td>ADJ</td><td>lich</td></tr>\n",
              "\t<tr><td>tom</td><td>vermeintlich   </td><td>vermeintlichen </td><td>ADJ</td><td>lich</td></tr>\n",
              "\t<tr><td>tom</td><td>unglaublich    </td><td>unglaublich    </td><td>ADJ</td><td>lich</td></tr>\n",
              "\t<tr><td>tom</td><td>gewöhnlich     </td><td>gewöhnlich     </td><td>ADJ</td><td>lich</td></tr>\n",
              "\t<tr><td>tom</td><td>wöchentlich    </td><td>wöchentlich    </td><td>ADJ</td><td>lich</td></tr>\n",
              "\t<tr><td>tom</td><td>gewöhnlich     </td><td>gewöhnlicher   </td><td>ADJ</td><td>lich</td></tr>\n",
              "\t<tr><td>tom</td><td>gemütlich      </td><td>gemütlich      </td><td>ADJ</td><td>lich</td></tr>\n",
              "\t<tr><td>tom</td><td>gewöhnlich     </td><td>gewöhnlich     </td><td>ADJ</td><td>lich</td></tr>\n",
              "\t<tr><td>tom</td><td>natürlich      </td><td>natürlich      </td><td>ADJ</td><td>lich</td></tr>\n",
              "</tbody>\n",
              "</table>\n"
            ]
          },
          "metadata": {
            "tags": []
          }
        }
      ]
    },
    {
      "cell_type": "markdown",
      "metadata": {
        "id": "szjKuwvIjoq5"
      },
      "source": [
        "Vergleichen wir die Häufigkeit von mehreren adjektivischen Suffixen in unserem Romankorpus!\n",
        "\n"
      ]
    },
    {
      "cell_type": "code",
      "metadata": {
        "colab": {
          "base_uri": "https://localhost:8080/",
          "height": 1000
        },
        "id": "wzDsQsVBjoq5",
        "outputId": "da12de63-557b-4af9-efe0-4f17a2883ba4"
      },
      "source": [
        "novels_full_words %>% \n",
        "  select(doc_id, lemma, word, upos, diffs) %>% # Auswahl von hier relevanten Spalten\n",
        "  group_by(doc_id, lemma, word) %>% # Gruppierung nach diesen Merkmalen (Spalten)\n",
        "  filter(upos == \"ADJ\") %>% # Auswahl der Wortklasse\n",
        "  filter(diffs == \"lich\" | \n",
        "           diffs == \"erlich\" | \n",
        "           diffs == \"isch\" | \n",
        "           diffs == \"ig\") %>% # Suffixauswahl\n",
        "  paged_table()\n"
      ],
      "execution_count": null,
      "outputs": [
        {
          "output_type": "display_data",
          "data": {
            "text/plain": [
              "     doc_id  lemma            word               upos diffs \n",
              "1    prozess ungewöhnlich     ungewöhnlichen     ADJ  lich  \n",
              "2    prozess gleichzeitig     gleichzeitig       ADJ  ig    \n",
              "3    prozess eigentlich       eigentlich         ADJ  lich  \n",
              "4    prozess unmöglich        unmöglich          ADJ  lich  \n",
              "5    prozess freiwillig       freiwillig         ADJ  ig    \n",
              "6    prozess freundschaftlich freundschaftlich   ADJ  lich  \n",
              "7    prozess zuversichtlich   zuversichtlich     ADJ  lich  \n",
              "8    prozess gleichzeitig     gleichzeitig       ADJ  ig    \n",
              "9    prozess derartig         derartige          ADJ  ig    \n",
              "10   prozess freundschaftlich freundschaftlich   ADJ  lich  \n",
              "11   prozess natürlich        natürlich          ADJ  lich  \n",
              "12   prozess unähnlich        unähnlich          ADJ  lich  \n",
              "13   prozess unvorsichtig     unvorsichtig       ADJ  ig    \n",
              "14   prozess vernünftig       vernünftig         ADJ  ig    \n",
              "15   prozess geringfügig      geringfügig        ADJ  ig    \n",
              "16   prozess vorsichtig       vorsichtig         ADJ  ig    \n",
              "17   prozess wahrscheinlich   wahrscheinlich     ADJ  lich  \n",
              "18   prozess wahrscheinlich   wahrscheinlich     ADJ  lich  \n",
              "19   prozess unverständlich   unverständlichen   ADJ  lich  \n",
              "20   prozess gleichzeitig     gleichzeitig       ADJ  ig    \n",
              "21   prozess begreiflich      begreiflich        ADJ  lich  \n",
              "22   prozess ebenbürtig       ebenbürtigen       ADJ  ig    \n",
              "23   prozess unvergleichlich  unvergleichlich    ADJ  lich  \n",
              "24   prozess natürlich        natürliche         ADJ  lich  \n",
              "25   prozess zuversichtlich   zuversichtlich     ADJ  lich  \n",
              "26   prozess verhältnismäßig  verhältnismäßig    ADJ  ig    \n",
              "27   prozess begreiflich      begreiflich        ADJ  lich  \n",
              "28   prozess unwahrscheinlich unwahrscheinlichen ADJ  lich  \n",
              "29   prozess derartig         derartig           ADJ  ig    \n",
              "30   prozess militärisch      militärische       ADJ  isch  \n",
              "⋮    ⋮       ⋮                ⋮                  ⋮    ⋮     \n",
              "1341 tom     beliebig         beliebigen         ADJ  ig    \n",
              "1342 tom     großartig        großartig          ADJ  ig    \n",
              "1343 tom     unwillkürlich    unwillkürlich      ADJ  lich  \n",
              "1344 tom     eigentlich       eigentlich         ADJ  lich  \n",
              "1345 tom     befindlich       befindlichen       ADJ  lich  \n",
              "1346 tom     natürlich        natürliche         ADJ  lich  \n",
              "1347 tom     vorsichtig       vorsichtig         ADJ  ig    \n",
              "1348 tom     ordentlich       ordentliche        ADJ  lich  \n",
              "1349 tom     unschuldig       unschuldig         ADJ  ig    \n",
              "1350 tom     ordentlich       ordentlich         ADJ  lich  \n",
              "1351 tom     sorgfältig       sorgfältige        ADJ  ig    \n",
              "1352 tom     anständig        anständiges        ADJ  ig    \n",
              "1353 tom     vermeintlich     vermeintlichen     ADJ  lich  \n",
              "1354 tom     unglaublich      unglaublich        ADJ  lich  \n",
              "1355 tom     unromantisch     unromantische      ADJ  isch  \n",
              "1356 tom     biographisch     biographische      ADJ  isch  \n",
              "1357 tom     gewöhnlich       gewöhnlich         ADJ  lich  \n",
              "1358 tom     wöchentlich      wöchentlich        ADJ  lich  \n",
              "1359 tom     gewöhnlich       gewöhnlicher       ADJ  lich  \n",
              "1360 tom     großmütig        großmütige         ADJ  ig    \n",
              "1361 tom     großartig        großartig          ADJ  ig    \n",
              "1362 tom     manierlich       manierlich         ADJ  erlich\n",
              "1363 tom     achtundvierzig   achtundvierzig     ADJ  ig    \n",
              "1364 tom     gemütlich        gemütlich          ADJ  lich  \n",
              "1365 tom     langweilig       langweiligen       ADJ  ig    \n",
              "1366 tom     regelmäßig       regelmäßig         ADJ  ig    \n",
              "1367 tom     unanständig      unanständig        ADJ  ig    \n",
              "1368 tom     gewöhnlich       gewöhnlich         ADJ  lich  \n",
              "1369 tom     großartig        großartig          ADJ  ig    \n",
              "1370 tom     natürlich        natürlich          ADJ  lich  "
            ],
            "text/latex": "A paged\\_df: 1370 × 5\n\\begin{tabular}{lllll}\n doc\\_id & lemma & word & upos & diffs\\\\\n <chr> & <chr> & <chr> & <chr> & <chr>\\\\\n\\hline\n\t prozess & ungewöhnlich     & ungewöhnlichen     & ADJ & lich\\\\\n\t prozess & gleichzeitig     & gleichzeitig       & ADJ & ig  \\\\\n\t prozess & eigentlich       & eigentlich         & ADJ & lich\\\\\n\t prozess & unmöglich        & unmöglich          & ADJ & lich\\\\\n\t prozess & freiwillig       & freiwillig         & ADJ & ig  \\\\\n\t prozess & freundschaftlich & freundschaftlich   & ADJ & lich\\\\\n\t prozess & zuversichtlich   & zuversichtlich     & ADJ & lich\\\\\n\t prozess & gleichzeitig     & gleichzeitig       & ADJ & ig  \\\\\n\t prozess & derartig         & derartige          & ADJ & ig  \\\\\n\t prozess & freundschaftlich & freundschaftlich   & ADJ & lich\\\\\n\t prozess & natürlich        & natürlich          & ADJ & lich\\\\\n\t prozess & unähnlich        & unähnlich          & ADJ & lich\\\\\n\t prozess & unvorsichtig     & unvorsichtig       & ADJ & ig  \\\\\n\t prozess & vernünftig       & vernünftig         & ADJ & ig  \\\\\n\t prozess & geringfügig      & geringfügig        & ADJ & ig  \\\\\n\t prozess & vorsichtig       & vorsichtig         & ADJ & ig  \\\\\n\t prozess & wahrscheinlich   & wahrscheinlich     & ADJ & lich\\\\\n\t prozess & wahrscheinlich   & wahrscheinlich     & ADJ & lich\\\\\n\t prozess & unverständlich   & unverständlichen   & ADJ & lich\\\\\n\t prozess & gleichzeitig     & gleichzeitig       & ADJ & ig  \\\\\n\t prozess & begreiflich      & begreiflich        & ADJ & lich\\\\\n\t prozess & ebenbürtig       & ebenbürtigen       & ADJ & ig  \\\\\n\t prozess & unvergleichlich  & unvergleichlich    & ADJ & lich\\\\\n\t prozess & natürlich        & natürliche         & ADJ & lich\\\\\n\t prozess & zuversichtlich   & zuversichtlich     & ADJ & lich\\\\\n\t prozess & verhältnismäßig  & verhältnismäßig    & ADJ & ig  \\\\\n\t prozess & begreiflich      & begreiflich        & ADJ & lich\\\\\n\t prozess & unwahrscheinlich & unwahrscheinlichen & ADJ & lich\\\\\n\t prozess & derartig         & derartig           & ADJ & ig  \\\\\n\t prozess & militärisch      & militärische       & ADJ & isch\\\\\n\t ⋮ & ⋮ & ⋮ & ⋮ & ⋮\\\\\n\t tom & beliebig       & beliebigen     & ADJ & ig    \\\\\n\t tom & großartig      & großartig      & ADJ & ig    \\\\\n\t tom & unwillkürlich  & unwillkürlich  & ADJ & lich  \\\\\n\t tom & eigentlich     & eigentlich     & ADJ & lich  \\\\\n\t tom & befindlich     & befindlichen   & ADJ & lich  \\\\\n\t tom & natürlich      & natürliche     & ADJ & lich  \\\\\n\t tom & vorsichtig     & vorsichtig     & ADJ & ig    \\\\\n\t tom & ordentlich     & ordentliche    & ADJ & lich  \\\\\n\t tom & unschuldig     & unschuldig     & ADJ & ig    \\\\\n\t tom & ordentlich     & ordentlich     & ADJ & lich  \\\\\n\t tom & sorgfältig     & sorgfältige    & ADJ & ig    \\\\\n\t tom & anständig      & anständiges    & ADJ & ig    \\\\\n\t tom & vermeintlich   & vermeintlichen & ADJ & lich  \\\\\n\t tom & unglaublich    & unglaublich    & ADJ & lich  \\\\\n\t tom & unromantisch   & unromantische  & ADJ & isch  \\\\\n\t tom & biographisch   & biographische  & ADJ & isch  \\\\\n\t tom & gewöhnlich     & gewöhnlich     & ADJ & lich  \\\\\n\t tom & wöchentlich    & wöchentlich    & ADJ & lich  \\\\\n\t tom & gewöhnlich     & gewöhnlicher   & ADJ & lich  \\\\\n\t tom & großmütig      & großmütige     & ADJ & ig    \\\\\n\t tom & großartig      & großartig      & ADJ & ig    \\\\\n\t tom & manierlich     & manierlich     & ADJ & erlich\\\\\n\t tom & achtundvierzig & achtundvierzig & ADJ & ig    \\\\\n\t tom & gemütlich      & gemütlich      & ADJ & lich  \\\\\n\t tom & langweilig     & langweiligen   & ADJ & ig    \\\\\n\t tom & regelmäßig     & regelmäßig     & ADJ & ig    \\\\\n\t tom & unanständig    & unanständig    & ADJ & ig    \\\\\n\t tom & gewöhnlich     & gewöhnlich     & ADJ & lich  \\\\\n\t tom & großartig      & großartig      & ADJ & ig    \\\\\n\t tom & natürlich      & natürlich      & ADJ & lich  \\\\\n\\end{tabular}\n",
            "text/markdown": "\nA paged_df: 1370 × 5\n\n| doc_id &lt;chr&gt; | lemma &lt;chr&gt; | word &lt;chr&gt; | upos &lt;chr&gt; | diffs &lt;chr&gt; |\n|---|---|---|---|---|\n| prozess | ungewöhnlich     | ungewöhnlichen     | ADJ | lich |\n| prozess | gleichzeitig     | gleichzeitig       | ADJ | ig   |\n| prozess | eigentlich       | eigentlich         | ADJ | lich |\n| prozess | unmöglich        | unmöglich          | ADJ | lich |\n| prozess | freiwillig       | freiwillig         | ADJ | ig   |\n| prozess | freundschaftlich | freundschaftlich   | ADJ | lich |\n| prozess | zuversichtlich   | zuversichtlich     | ADJ | lich |\n| prozess | gleichzeitig     | gleichzeitig       | ADJ | ig   |\n| prozess | derartig         | derartige          | ADJ | ig   |\n| prozess | freundschaftlich | freundschaftlich   | ADJ | lich |\n| prozess | natürlich        | natürlich          | ADJ | lich |\n| prozess | unähnlich        | unähnlich          | ADJ | lich |\n| prozess | unvorsichtig     | unvorsichtig       | ADJ | ig   |\n| prozess | vernünftig       | vernünftig         | ADJ | ig   |\n| prozess | geringfügig      | geringfügig        | ADJ | ig   |\n| prozess | vorsichtig       | vorsichtig         | ADJ | ig   |\n| prozess | wahrscheinlich   | wahrscheinlich     | ADJ | lich |\n| prozess | wahrscheinlich   | wahrscheinlich     | ADJ | lich |\n| prozess | unverständlich   | unverständlichen   | ADJ | lich |\n| prozess | gleichzeitig     | gleichzeitig       | ADJ | ig   |\n| prozess | begreiflich      | begreiflich        | ADJ | lich |\n| prozess | ebenbürtig       | ebenbürtigen       | ADJ | ig   |\n| prozess | unvergleichlich  | unvergleichlich    | ADJ | lich |\n| prozess | natürlich        | natürliche         | ADJ | lich |\n| prozess | zuversichtlich   | zuversichtlich     | ADJ | lich |\n| prozess | verhältnismäßig  | verhältnismäßig    | ADJ | ig   |\n| prozess | begreiflich      | begreiflich        | ADJ | lich |\n| prozess | unwahrscheinlich | unwahrscheinlichen | ADJ | lich |\n| prozess | derartig         | derartig           | ADJ | ig   |\n| prozess | militärisch      | militärische       | ADJ | isch |\n| ⋮ | ⋮ | ⋮ | ⋮ | ⋮ |\n| tom | beliebig       | beliebigen     | ADJ | ig     |\n| tom | großartig      | großartig      | ADJ | ig     |\n| tom | unwillkürlich  | unwillkürlich  | ADJ | lich   |\n| tom | eigentlich     | eigentlich     | ADJ | lich   |\n| tom | befindlich     | befindlichen   | ADJ | lich   |\n| tom | natürlich      | natürliche     | ADJ | lich   |\n| tom | vorsichtig     | vorsichtig     | ADJ | ig     |\n| tom | ordentlich     | ordentliche    | ADJ | lich   |\n| tom | unschuldig     | unschuldig     | ADJ | ig     |\n| tom | ordentlich     | ordentlich     | ADJ | lich   |\n| tom | sorgfältig     | sorgfältige    | ADJ | ig     |\n| tom | anständig      | anständiges    | ADJ | ig     |\n| tom | vermeintlich   | vermeintlichen | ADJ | lich   |\n| tom | unglaublich    | unglaublich    | ADJ | lich   |\n| tom | unromantisch   | unromantische  | ADJ | isch   |\n| tom | biographisch   | biographische  | ADJ | isch   |\n| tom | gewöhnlich     | gewöhnlich     | ADJ | lich   |\n| tom | wöchentlich    | wöchentlich    | ADJ | lich   |\n| tom | gewöhnlich     | gewöhnlicher   | ADJ | lich   |\n| tom | großmütig      | großmütige     | ADJ | ig     |\n| tom | großartig      | großartig      | ADJ | ig     |\n| tom | manierlich     | manierlich     | ADJ | erlich |\n| tom | achtundvierzig | achtundvierzig | ADJ | ig     |\n| tom | gemütlich      | gemütlich      | ADJ | lich   |\n| tom | langweilig     | langweiligen   | ADJ | ig     |\n| tom | regelmäßig     | regelmäßig     | ADJ | ig     |\n| tom | unanständig    | unanständig    | ADJ | ig     |\n| tom | gewöhnlich     | gewöhnlich     | ADJ | lich   |\n| tom | großartig      | großartig      | ADJ | ig     |\n| tom | natürlich      | natürlich      | ADJ | lich   |\n\n",
            "text/html": [
              "<table class=\"dataframe\">\n",
              "<caption>A paged_df: 1370 × 5</caption>\n",
              "<thead>\n",
              "\t<tr><th scope=col>doc_id</th><th scope=col>lemma</th><th scope=col>word</th><th scope=col>upos</th><th scope=col>diffs</th></tr>\n",
              "\t<tr><th scope=col>&lt;chr&gt;</th><th scope=col>&lt;chr&gt;</th><th scope=col>&lt;chr&gt;</th><th scope=col>&lt;chr&gt;</th><th scope=col>&lt;chr&gt;</th></tr>\n",
              "</thead>\n",
              "<tbody>\n",
              "\t<tr><td>prozess</td><td>ungewöhnlich    </td><td>ungewöhnlichen    </td><td>ADJ</td><td>lich</td></tr>\n",
              "\t<tr><td>prozess</td><td>gleichzeitig    </td><td>gleichzeitig      </td><td>ADJ</td><td>ig  </td></tr>\n",
              "\t<tr><td>prozess</td><td>eigentlich      </td><td>eigentlich        </td><td>ADJ</td><td>lich</td></tr>\n",
              "\t<tr><td>prozess</td><td>unmöglich       </td><td>unmöglich         </td><td>ADJ</td><td>lich</td></tr>\n",
              "\t<tr><td>prozess</td><td>freiwillig      </td><td>freiwillig        </td><td>ADJ</td><td>ig  </td></tr>\n",
              "\t<tr><td>prozess</td><td>freundschaftlich</td><td>freundschaftlich  </td><td>ADJ</td><td>lich</td></tr>\n",
              "\t<tr><td>prozess</td><td>zuversichtlich  </td><td>zuversichtlich    </td><td>ADJ</td><td>lich</td></tr>\n",
              "\t<tr><td>prozess</td><td>gleichzeitig    </td><td>gleichzeitig      </td><td>ADJ</td><td>ig  </td></tr>\n",
              "\t<tr><td>prozess</td><td>derartig        </td><td>derartige         </td><td>ADJ</td><td>ig  </td></tr>\n",
              "\t<tr><td>prozess</td><td>freundschaftlich</td><td>freundschaftlich  </td><td>ADJ</td><td>lich</td></tr>\n",
              "\t<tr><td>prozess</td><td>natürlich       </td><td>natürlich         </td><td>ADJ</td><td>lich</td></tr>\n",
              "\t<tr><td>prozess</td><td>unähnlich       </td><td>unähnlich         </td><td>ADJ</td><td>lich</td></tr>\n",
              "\t<tr><td>prozess</td><td>unvorsichtig    </td><td>unvorsichtig      </td><td>ADJ</td><td>ig  </td></tr>\n",
              "\t<tr><td>prozess</td><td>vernünftig      </td><td>vernünftig        </td><td>ADJ</td><td>ig  </td></tr>\n",
              "\t<tr><td>prozess</td><td>geringfügig     </td><td>geringfügig       </td><td>ADJ</td><td>ig  </td></tr>\n",
              "\t<tr><td>prozess</td><td>vorsichtig      </td><td>vorsichtig        </td><td>ADJ</td><td>ig  </td></tr>\n",
              "\t<tr><td>prozess</td><td>wahrscheinlich  </td><td>wahrscheinlich    </td><td>ADJ</td><td>lich</td></tr>\n",
              "\t<tr><td>prozess</td><td>wahrscheinlich  </td><td>wahrscheinlich    </td><td>ADJ</td><td>lich</td></tr>\n",
              "\t<tr><td>prozess</td><td>unverständlich  </td><td>unverständlichen  </td><td>ADJ</td><td>lich</td></tr>\n",
              "\t<tr><td>prozess</td><td>gleichzeitig    </td><td>gleichzeitig      </td><td>ADJ</td><td>ig  </td></tr>\n",
              "\t<tr><td>prozess</td><td>begreiflich     </td><td>begreiflich       </td><td>ADJ</td><td>lich</td></tr>\n",
              "\t<tr><td>prozess</td><td>ebenbürtig      </td><td>ebenbürtigen      </td><td>ADJ</td><td>ig  </td></tr>\n",
              "\t<tr><td>prozess</td><td>unvergleichlich </td><td>unvergleichlich   </td><td>ADJ</td><td>lich</td></tr>\n",
              "\t<tr><td>prozess</td><td>natürlich       </td><td>natürliche        </td><td>ADJ</td><td>lich</td></tr>\n",
              "\t<tr><td>prozess</td><td>zuversichtlich  </td><td>zuversichtlich    </td><td>ADJ</td><td>lich</td></tr>\n",
              "\t<tr><td>prozess</td><td>verhältnismäßig </td><td>verhältnismäßig   </td><td>ADJ</td><td>ig  </td></tr>\n",
              "\t<tr><td>prozess</td><td>begreiflich     </td><td>begreiflich       </td><td>ADJ</td><td>lich</td></tr>\n",
              "\t<tr><td>prozess</td><td>unwahrscheinlich</td><td>unwahrscheinlichen</td><td>ADJ</td><td>lich</td></tr>\n",
              "\t<tr><td>prozess</td><td>derartig        </td><td>derartig          </td><td>ADJ</td><td>ig  </td></tr>\n",
              "\t<tr><td>prozess</td><td>militärisch     </td><td>militärische      </td><td>ADJ</td><td>isch</td></tr>\n",
              "\t<tr><td>⋮</td><td>⋮</td><td>⋮</td><td>⋮</td><td>⋮</td></tr>\n",
              "\t<tr><td>tom</td><td>beliebig      </td><td>beliebigen    </td><td>ADJ</td><td>ig    </td></tr>\n",
              "\t<tr><td>tom</td><td>großartig     </td><td>großartig     </td><td>ADJ</td><td>ig    </td></tr>\n",
              "\t<tr><td>tom</td><td>unwillkürlich </td><td>unwillkürlich </td><td>ADJ</td><td>lich  </td></tr>\n",
              "\t<tr><td>tom</td><td>eigentlich    </td><td>eigentlich    </td><td>ADJ</td><td>lich  </td></tr>\n",
              "\t<tr><td>tom</td><td>befindlich    </td><td>befindlichen  </td><td>ADJ</td><td>lich  </td></tr>\n",
              "\t<tr><td>tom</td><td>natürlich     </td><td>natürliche    </td><td>ADJ</td><td>lich  </td></tr>\n",
              "\t<tr><td>tom</td><td>vorsichtig    </td><td>vorsichtig    </td><td>ADJ</td><td>ig    </td></tr>\n",
              "\t<tr><td>tom</td><td>ordentlich    </td><td>ordentliche   </td><td>ADJ</td><td>lich  </td></tr>\n",
              "\t<tr><td>tom</td><td>unschuldig    </td><td>unschuldig    </td><td>ADJ</td><td>ig    </td></tr>\n",
              "\t<tr><td>tom</td><td>ordentlich    </td><td>ordentlich    </td><td>ADJ</td><td>lich  </td></tr>\n",
              "\t<tr><td>tom</td><td>sorgfältig    </td><td>sorgfältige   </td><td>ADJ</td><td>ig    </td></tr>\n",
              "\t<tr><td>tom</td><td>anständig     </td><td>anständiges   </td><td>ADJ</td><td>ig    </td></tr>\n",
              "\t<tr><td>tom</td><td>vermeintlich  </td><td>vermeintlichen</td><td>ADJ</td><td>lich  </td></tr>\n",
              "\t<tr><td>tom</td><td>unglaublich   </td><td>unglaublich   </td><td>ADJ</td><td>lich  </td></tr>\n",
              "\t<tr><td>tom</td><td>unromantisch  </td><td>unromantische </td><td>ADJ</td><td>isch  </td></tr>\n",
              "\t<tr><td>tom</td><td>biographisch  </td><td>biographische </td><td>ADJ</td><td>isch  </td></tr>\n",
              "\t<tr><td>tom</td><td>gewöhnlich    </td><td>gewöhnlich    </td><td>ADJ</td><td>lich  </td></tr>\n",
              "\t<tr><td>tom</td><td>wöchentlich   </td><td>wöchentlich   </td><td>ADJ</td><td>lich  </td></tr>\n",
              "\t<tr><td>tom</td><td>gewöhnlich    </td><td>gewöhnlicher  </td><td>ADJ</td><td>lich  </td></tr>\n",
              "\t<tr><td>tom</td><td>großmütig     </td><td>großmütige    </td><td>ADJ</td><td>ig    </td></tr>\n",
              "\t<tr><td>tom</td><td>großartig     </td><td>großartig     </td><td>ADJ</td><td>ig    </td></tr>\n",
              "\t<tr><td>tom</td><td>manierlich    </td><td>manierlich    </td><td>ADJ</td><td>erlich</td></tr>\n",
              "\t<tr><td>tom</td><td>achtundvierzig</td><td>achtundvierzig</td><td>ADJ</td><td>ig    </td></tr>\n",
              "\t<tr><td>tom</td><td>gemütlich     </td><td>gemütlich     </td><td>ADJ</td><td>lich  </td></tr>\n",
              "\t<tr><td>tom</td><td>langweilig    </td><td>langweiligen  </td><td>ADJ</td><td>ig    </td></tr>\n",
              "\t<tr><td>tom</td><td>regelmäßig    </td><td>regelmäßig    </td><td>ADJ</td><td>ig    </td></tr>\n",
              "\t<tr><td>tom</td><td>unanständig   </td><td>unanständig   </td><td>ADJ</td><td>ig    </td></tr>\n",
              "\t<tr><td>tom</td><td>gewöhnlich    </td><td>gewöhnlich    </td><td>ADJ</td><td>lich  </td></tr>\n",
              "\t<tr><td>tom</td><td>großartig     </td><td>großartig     </td><td>ADJ</td><td>ig    </td></tr>\n",
              "\t<tr><td>tom</td><td>natürlich     </td><td>natürlich     </td><td>ADJ</td><td>lich  </td></tr>\n",
              "</tbody>\n",
              "</table>\n"
            ]
          },
          "metadata": {
            "tags": []
          }
        }
      ]
    },
    {
      "cell_type": "markdown",
      "metadata": {
        "id": "Wlg1vCltjoq5"
      },
      "source": [
        "Von den insgesamt 1370 als (suffigiertes) Adjektiv identifizierten Wortformen (tokens) kommen 847 im \"prozess\" und 523 in \"tom sawyer\" vor. Der Anteil der Zustandsbeschreibungen mit Hilfe von suffigierten Adjektiven scheint im ersten Werk größer zu sein als im zuletzt genannten (was wir aber an dieser Stelle nicht mit einem Chi-Quadrat-Test überprüfen wollen).\n",
        "\n"
      ]
    },
    {
      "cell_type": "code",
      "metadata": {
        "colab": {
          "base_uri": "https://localhost:8080/",
          "height": 224
        },
        "id": "QUr_axEHjoq5",
        "outputId": "c2597dd1-8fac-4e24-a987-3a0e12a93cb7"
      },
      "source": [
        "adj_tab = novels_full_words %>% \n",
        "  select(doc_id, lemma, upos, diffs) %>%\n",
        "  group_by(doc_id) %>% \n",
        "  filter(upos == \"ADJ\") %>% \n",
        "  filter(diffs == \"lich\" | diffs == \"erlich\" | diffs == \"isch\" | diffs == \"ig\") %>% \n",
        "  count(diffs) %>% \n",
        "  pivot_wider(names_from = doc_id, values_from = n) %>% \n",
        "  mutate(prozess_total = sum(prozess, na.rm = TRUE),\n",
        "         tom_total = sum(tom, na.rm = TRUE)) %>% \n",
        "  mutate(prozess_pct = prozess/prozess_total,\n",
        "         tom_pct = tom/tom_total)\n",
        "\n",
        "adj_tab %>% paged_table()\n"
      ],
      "execution_count": null,
      "outputs": [
        {
          "output_type": "display_data",
          "data": {
            "text/plain": [
              "  diffs  prozess tom prozess_total tom_total prozess_pct tom_pct   \n",
              "1 erlich  32      21 847           523       0.03778040  0.04015296\n",
              "2 ig     395     254 847           523       0.46635183  0.48565966\n",
              "3 isch    34      35 847           523       0.04014168  0.06692161\n",
              "4 lich   386     213 847           523       0.45572609  0.40726577"
            ],
            "text/latex": "A paged\\_df: 4 × 7\n\\begin{tabular}{lllllll}\n diffs & prozess & tom & prozess\\_total & tom\\_total & prozess\\_pct & tom\\_pct\\\\\n <chr> & <int> & <int> & <int> & <int> & <dbl> & <dbl>\\\\\n\\hline\n\t erlich &  32 &  21 & 847 & 523 & 0.03778040 & 0.04015296\\\\\n\t ig     & 395 & 254 & 847 & 523 & 0.46635183 & 0.48565966\\\\\n\t isch   &  34 &  35 & 847 & 523 & 0.04014168 & 0.06692161\\\\\n\t lich   & 386 & 213 & 847 & 523 & 0.45572609 & 0.40726577\\\\\n\\end{tabular}\n",
            "text/markdown": "\nA paged_df: 4 × 7\n\n| diffs &lt;chr&gt; | prozess &lt;int&gt; | tom &lt;int&gt; | prozess_total &lt;int&gt; | tom_total &lt;int&gt; | prozess_pct &lt;dbl&gt; | tom_pct &lt;dbl&gt; |\n|---|---|---|---|---|---|---|\n| erlich |  32 |  21 | 847 | 523 | 0.03778040 | 0.04015296 |\n| ig     | 395 | 254 | 847 | 523 | 0.46635183 | 0.48565966 |\n| isch   |  34 |  35 | 847 | 523 | 0.04014168 | 0.06692161 |\n| lich   | 386 | 213 | 847 | 523 | 0.45572609 | 0.40726577 |\n\n",
            "text/html": [
              "<table class=\"dataframe\">\n",
              "<caption>A paged_df: 4 × 7</caption>\n",
              "<thead>\n",
              "\t<tr><th scope=col>diffs</th><th scope=col>prozess</th><th scope=col>tom</th><th scope=col>prozess_total</th><th scope=col>tom_total</th><th scope=col>prozess_pct</th><th scope=col>tom_pct</th></tr>\n",
              "\t<tr><th scope=col>&lt;chr&gt;</th><th scope=col>&lt;int&gt;</th><th scope=col>&lt;int&gt;</th><th scope=col>&lt;int&gt;</th><th scope=col>&lt;int&gt;</th><th scope=col>&lt;dbl&gt;</th><th scope=col>&lt;dbl&gt;</th></tr>\n",
              "</thead>\n",
              "<tbody>\n",
              "\t<tr><td>erlich</td><td> 32</td><td> 21</td><td>847</td><td>523</td><td>0.03778040</td><td>0.04015296</td></tr>\n",
              "\t<tr><td>ig    </td><td>395</td><td>254</td><td>847</td><td>523</td><td>0.46635183</td><td>0.48565966</td></tr>\n",
              "\t<tr><td>isch  </td><td> 34</td><td> 35</td><td>847</td><td>523</td><td>0.04014168</td><td>0.06692161</td></tr>\n",
              "\t<tr><td>lich  </td><td>386</td><td>213</td><td>847</td><td>523</td><td>0.45572609</td><td>0.40726577</td></tr>\n",
              "</tbody>\n",
              "</table>\n"
            ]
          },
          "metadata": {
            "tags": []
          }
        }
      ]
    },
    {
      "cell_type": "markdown",
      "metadata": {
        "id": "_1gIieiNjoq5"
      },
      "source": [
        "\n",
        "\n"
      ]
    },
    {
      "cell_type": "code",
      "metadata": {
        "colab": {
          "base_uri": "https://localhost:8080/",
          "height": 437
        },
        "id": "gmWd1gabjoq5",
        "outputId": "77ac903e-d419-474d-8fda-bd7e2bc8cd93"
      },
      "source": [
        "library(scales)\n",
        "\n",
        "adj_tab %>% \n",
        "  pivot_longer(prozess_pct:tom_pct, names_to = \"title\", values_to = \"pct\") %>% \n",
        "  mutate(diffs = fct_reorder(diffs, pct)) %>% \n",
        "  ggplot(aes(pct, diffs, fill = title)) +\n",
        "  geom_col(position = \"dodge\") +\n",
        "  scale_x_continuous(labels = percent) +\n",
        "  theme(legend.position = \"top\")\n"
      ],
      "execution_count": null,
      "outputs": [
        {
          "output_type": "display_data",
          "data": {
            "image/png": "[encoded data removed]",
            "text/plain": [
              "plot without title"
            ]
          },
          "metadata": {
            "tags": [],
            "image/png": {
              "width": 420,
              "height": 420
            }
          }
        }
      ]
    },
    {
      "cell_type": "markdown",
      "metadata": {
        "id": "dkW7vrmkjoq6"
      },
      "source": [
        "# Nicht verwendete Tabelle\n",
        "\n"
      ]
    },
    {
      "cell_type": "code",
      "metadata": {
        "id": "YddCy1FSjoq6"
      },
      "source": [
        "novels_full_words %>% \n",
        "  select(doc_id, lemma, stamm, diffs) %>%\n",
        "  group_by(doc_id) %>% \n",
        "  filter(diffs != \"\") %>%\n",
        "  add_count(doc_id, name = \"total\") %>% \n",
        "  add_count(diffs) %>% \n",
        "  mutate(pct = n/total) %>%\n",
        "  pivot_wider(names_from = doc_id, values_from = n, names_repair = \"unique\") %>% \n",
        "  unnest(c(prozess, tom)) %>% \n",
        "  paged_table()\n"
      ],
      "execution_count": null,
      "outputs": []
    },
    {
      "cell_type": "markdown",
      "metadata": {
        "id": "fH5bFQ9tjoq6"
      },
      "source": [
        "\n"
      ]
    }
  ]
}