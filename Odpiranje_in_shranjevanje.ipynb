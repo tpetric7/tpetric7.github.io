{
    "cells": [
        {
            "cell_type": "markdown",
            "metadata": {},
            "source": "\n"
        },
        {
            "cell_type": "code",
            "execution_count": null,
            "metadata": {},
            "outputs": [],
            "source": [
                "knitr::opts_chunk$set(echo = TRUE)\n",
                "\n"
            ]
        },
        {
            "cell_type": "markdown",
            "metadata": {},
            "source": [
                "# 0. Programi\n",
                "\n"
            ]
        },
        {
            "cell_type": "code",
            "execution_count": null,
            "metadata": {},
            "outputs": [],
            "source": [
                "library(readtext)\n",
                "library(quanteda)\n",
                "library(tidyverse)\n",
                "library(readxl)\n",
                "library(writexl)\n"
            ]
        },
        {
            "cell_type": "markdown",
            "metadata": {},
            "source": [
                "Načinov za odpiranje in shranjevanje datotek je veliko. Tule bom pokazal nekaj preprostih:\n",
                "\n",
                "\n",
                "# 1. Odpiranje enega besedila\n",
                "\n",
                "Funkcija *read_lines()*: odpremo besedilo v izbrani mapi in ga shranimo v spremenljivki (npr. \"besedilo\").\n",
                "\n",
                "Odpiranje besedila s spletnega naslova (url) je možen.\n"
            ]
        },
        {
            "cell_type": "code",
            "execution_count": null,
            "metadata": {},
            "outputs": [],
            "source": [
                "library(tidyverse)\n",
                "besedilo = read_lines(\"data/books/tom.txt\")\n"
            ]
        },
        {
            "cell_type": "markdown",
            "metadata": {},
            "source": [
                "# 2. Odpiranje več besedil\n",
                "\n",
                "Funkcija *readtext()*: če namesto imena datotek navedemo samo zvezdico + pripono datotek (npr. *.txt) v izbrani mapi (npr. \"data/books/\"), potem bo program odprl vse besedilne datoteke s to pripono in to zbirko shranil v spremenljivki (npr. \"besedila\"). Program ustvari tabelo odprtih besedil.\n",
                "\n",
                "readtext() odpira različne besedila z različnimi priponami: txt, csv, docx, pdf, xml, ...\n",
                "\n",
                "Odpiranje besedila s spletnega naslova (url) je možen.\n"
            ]
        },
        {
            "cell_type": "code",
            "execution_count": null,
            "metadata": {},
            "outputs": [],
            "source": [
                "library(readtext)\n",
                "besedila = readtext(\"data/books/*.txt\", encoding = \"UTF-8\")\n",
                "besedila\n"
            ]
        },
        {
            "cell_type": "markdown",
            "metadata": {},
            "source": [
                "# 3. Odpiranje tabele\n",
                "\n",
                "Funkcija *read_csv()* ali *read_csv2()* sta le dve izmed številnih funkcij za odpiranje preglednice s pripono \"csv\". \n",
                "\n",
                "Odpiranje besedila s spletnega naslova (url) je možen.\n"
            ]
        },
        {
            "cell_type": "code",
            "execution_count": null,
            "metadata": {},
            "outputs": [],
            "source": [
                "library(tidyverse)\n",
                "tabela = read_csv2(\"data/plural_Subj_sum.csv\")\n",
                "head(tabela)\n"
            ]
        },
        {
            "cell_type": "markdown",
            "metadata": {},
            "source": [
                "# 4. Odpiranje Excelove tabele\n",
                "\n",
                "Funkcija *read_xlsx()* ali *read_excel()* omogoča odpiranje Excelove preglednice s pripono \"xlsx\". \n"
            ]
        },
        {
            "cell_type": "code",
            "execution_count": null,
            "metadata": {},
            "outputs": [],
            "source": [
                "library(readxl)\n",
                "excel = read_xlsx(\"data/S03_Vokalformanten_Diagramme.xlsx\", sheet = \"A1-4_alle\")\n",
                "head(excel)\n"
            ]
        },
        {
            "cell_type": "markdown",
            "metadata": {},
            "source": [
                "# 5. Shranjevanje\n",
                "\n",
                "Privzeto spodnji programi shranjujejo v obliki (codepage) encoding = \"UTF-8\" / fileEncoding = \"UTF-8\".\n"
            ]
        },
        {
            "cell_type": "code",
            "execution_count": null,
            "metadata": {},
            "outputs": [],
            "source": [
                "library(tidyverse)\n",
                "\n",
                "# shranjevanje posamičnega besedila\n",
                "write_lines(besedilo, \"moje_besedilo.txt\")\n",
                "\n",
                "# shranjevanje tabele, v kateri je zbirka besedil\n",
                "write_csv2(besedila, \"moja_tabela_z_besedili.csv\")\n",
                "\n",
                "library(writexl)\n",
                "# shranjevanje preglednice\n",
                "write_xlsx(tabela, \"moja_tabela.xlsx\")\n",
                "\n",
                "# shranjevanje tabele, v kateri je zibrka besedil\n",
                "# Excel dovoljuje do 32767 znakov.\n",
                "# ta zbirko presega to mejo, zato je ne moremo shraniti v Excelovi preglednici\n",
                "\n",
                "# write_xlsx(besedila, \"moja_tabela_z_besedili.xlsx\")\n"
            ]
        },
        {
            "cell_type": "markdown",
            "metadata": {},
            "source": "\n"
        }
    ],
    "metadata": {
        "anaconda-cloud": "",
        "kernelspec": {
            "display_name": "R",
            "langauge": "R",
            "name": "ir"
        },
        "language_info": {
            "codemirror_mode": "r",
            "file_extension": ".r",
            "mimetype": "text/x-r-source",
            "name": "R",
            "pygments_lexer": "r",
            "version": "3.4.1"
        }
    },
    "nbformat": 4,
    "nbformat_minor": 1
}
