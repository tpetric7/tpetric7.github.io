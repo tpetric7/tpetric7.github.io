{
    "cells": [
        {
            "cell_type": "markdown",
            "metadata": {},
            "source": "\n"
        },
        {
            "cell_type": "code",
            "execution_count": null,
            "metadata": {},
            "outputs": [],
            "source": [
                "knitr::opts_chunk$set(echo = TRUE)\n",
                "\n"
            ]
        },
        {
            "cell_type": "markdown",
            "metadata": {},
            "source": [
                "# 0. Packages\n",
                "\n"
            ]
        },
        {
            "cell_type": "code",
            "execution_count": null,
            "metadata": {},
            "outputs": [],
            "source": [
                "library(tidyverse)\n",
                "library(scales)\n",
                "library(janitor)\n",
                "library(readxl)\n"
            ]
        },
        {
            "cell_type": "markdown",
            "metadata": {},
            "source": [
                "# 1. Datei laden\n",
                "\n",
                "Gigafida: \n",
                "Gebrauchsfrequenzen (Tokenfrequenzen) der Modalkonstruktionen \n",
                "- \"morati + Infinitiv\" und \n",
                "- \"biti + treba + Infinitive\".\n"
            ]
        },
        {
            "cell_type": "code",
            "execution_count": null,
            "metadata": {},
            "outputs": [],
            "source": [
                "naklonska <- read_xlsx(\"data/morati_treba.xlsx\") %>% clean_names()\n",
                "naklonska\n"
            ]
        },
        {
            "cell_type": "markdown",
            "metadata": {},
            "source": [
                "Die zweite Tabelle zeigt die Distribution der beiden Modalkonstruktionen in fünf Funktionalstilen.\n",
                "\n"
            ]
        },
        {
            "cell_type": "code",
            "execution_count": null,
            "metadata": {},
            "outputs": [],
            "source": [
                "naklonska2 <- read_xlsx(\"data/morati_treba.xlsx\", sheet = \"List2\") %>% clean_names()\n",
                "naklonska2\n"
            ]
        },
        {
            "cell_type": "markdown",
            "metadata": {},
            "source": [
                "Die Modalkonstruktion \"morati + Infinitiv\" wird ca. dreimal so häufig verwendet wie \"biti + treba + Infinitiv\".\n",
                "\n",
                "\n",
                "# 2. Graphische Darstellung\n",
                "\n",
                "Die graphischen Darstellungen zeigen eher geringe Distributionsunterschiede. \n"
            ]
        },
        {
            "cell_type": "code",
            "execution_count": null,
            "metadata": {},
            "outputs": [],
            "source": [
                "naklonska %>%\n",
                "  pivot_longer(treba:morati, names_to = \"konstruktion\", values_to = \"freq\") %>% \n",
                "  ggplot(aes(konstruktion, freq, fill = vrsta_besedila)) +\n",
                "  geom_col(position = \"fill\") +\n",
                "  scale_y_continuous(labels = percent_format()) +\n",
                "  labs(x = \"Modalkonstruktion\", y = \"Gebrauchsfrequenz\", fill = \"Vrsta besedila\")\n"
            ]
        },
        {
            "cell_type": "markdown",
            "metadata": {},
            "source": [
                "Die Modalkonstruktion \"morati + Infinitiv\" scheint in den alltagssprachlich näherstehenden Funktionalstilen Belletristik (leposlovje), Internet und Sachtexten (stvarna besedila) etwas häufiger belegt zu sein als die Modalkonstruktion \"biti + treba + Infinitiv\", dafür aber in Zeitungen (Časopisi) etwas seltener. \n",
                "\n"
            ]
        },
        {
            "cell_type": "code",
            "execution_count": null,
            "metadata": {},
            "outputs": [],
            "source": [
                "naklonska2 %>%\n",
                "  pivot_longer(treba:morati, names_to = \"konstruktion\", values_to = \"freq\") %>% \n",
                "  ggplot(aes(konstruktion, freq, fill = vrsta_besedila)) +\n",
                "  geom_col(position = \"fill\") +\n",
                "  scale_y_continuous(labels = percent_format()) +\n",
                "  labs(x = \"Modalkonstruktion\", y = \"Gebrauchsfrequenz\", fill = \"Vrsta besedila\")\n"
            ]
        },
        {
            "cell_type": "markdown",
            "metadata": {},
            "source": [
                "# 3. Chi-Quadrat-Test\n",
                "\n",
                "Annahme: Die Modalkonstruktion \"morati + Infinitiv\" ist weniger markiert als die Modalkonstruktion \"biti + treba + Infinitiv\". Formael und semantische Begründungen: ...\n",
                "H0: Die beiden Modalkonstruktionen kommen in denselben Funktionalstilen vor.\n",
                "H1: Die beiden Modalkonstruktionen kommen nicht in denselben Funktionalstilen vor.\n",
                "\n",
                "Der erste Chi-Quadrat-Test zeigt, dass die beiden Stichproben (morati vs. treba) unabhängig voneinander sind (p < 0,001). Damit können wir die Nullhypothese (H0) verwerfen und die alternative Hypothese (H1) akzeptieren. Die beiden Modalkonstruktionen kommen demnach nicht im gleichen Maße in denselben Funktionalstilen vor.\n"
            ]
        },
        {
            "cell_type": "code",
            "execution_count": null,
            "metadata": {},
            "outputs": [],
            "source": [
                "chisq.test(naklonska[ , -1])\n",
                "\n"
            ]
        },
        {
            "cell_type": "markdown",
            "metadata": {},
            "source": [
                "Der zweite Chi-Quadrat bestätigt Hypothese H1. Die Distribution der beiden Modalkonstruktionen unterscheidet sich. Die graphische Darstellung deutet an, dass dies vor allem am vergleichsweise selteneren Gebrauch der Modalkonstruktion \"morati + Infinitiv\" in  publizistischen Texten liegen könnte. Nach unser Annahme wird die Modalkonstruktion \"biti + treba + Infinitiv\" häufiger in Texten mit dem Merkmal [+Distanz] eingesetzt. \n",
                "\n"
            ]
        },
        {
            "cell_type": "code",
            "execution_count": null,
            "metadata": {},
            "outputs": [],
            "source": [
                "chisq.test(naklonska2[ , -1])\n",
                "\n"
            ]
        },
        {
            "cell_type": "markdown",
            "metadata": {},
            "source": "\n"
        }
    ],
    "metadata": {
        "anaconda-cloud": "",
        "kernelspec": {
            "display_name": "R",
            "langauge": "R",
            "name": "ir"
        },
        "language_info": {
            "codemirror_mode": "r",
            "file_extension": ".r",
            "mimetype": "text/x-r-source",
            "name": "R",
            "pygments_lexer": "r",
            "version": "3.4.1"
        }
    },
    "nbformat": 4,
    "nbformat_minor": 1
}
