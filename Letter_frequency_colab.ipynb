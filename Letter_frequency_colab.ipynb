{
  "nbformat": 4,
  "nbformat_minor": 2,
  "metadata": {
    "anaconda-cloud": "",
    "kernelspec": {
      "display_name": "R",
      "langauge": "R",
      "name": "ir"
    },
    "language_info": {
      "codemirror_mode": "r",
      "file_extension": ".r",
      "mimetype": "text/x-r-source",
      "name": "R",
      "pygments_lexer": "r",
      "version": "3.4.1"
    },
    "colab": {
      "name": "Letter_frequency.ipynb",
      "provenance": []
    }
  },
  "cells": [
    {
      "cell_type": "markdown",
      "source": [
        "\n"
      ],
      "metadata": {
        "id": "AUp4oEl0iZ9z"
      }
    },
    {
      "cell_type": "markdown",
      "source": [
        "<a href=\"https://colab.research.google.com/github/tpetric7/tpetric7.github.io/blob/main/Letter_frequency.ipynb\" target=\"_parent\"><img src=\"https://colab.research.google.com/assets/colab-badge.svg\" alt=\"Open In Colab\"/></a>"
      ],
      "metadata": {
        "id": "RALj5Bc2vBzm"
      }
    },
    {
      "cell_type": "markdown",
      "source": [],
      "metadata": {}
    },
    {
      "cell_type": "code",
      "execution_count": null,
      "source": [
        "knitr::opts_chunk$set(echo = TRUE)\r\n",
        "\r\n"
      ],
      "outputs": [],
      "metadata": {
        "id": "CeNgQE7CiZ92"
      }
    },
    {
      "cell_type": "markdown",
      "source": [
        "# 0. Packages\n",
        "\n"
      ],
      "metadata": {
        "id": "JU5vRnxdiZ95"
      }
    },
    {
      "cell_type": "code",
      "execution_count": 2,
      "source": [
        "install.packages(c(\"tidytext\",\"scales\",\"rmarkdown\",\"janitor\",\"quanteda\",\"readtext\"))"
      ],
      "outputs": [
        {
          "output_type": "stream",
          "name": "stderr",
          "text": [
            "Installing packages into ‘/usr/local/lib/R/site-library’\n",
            "(as ‘lib’ is unspecified)\n",
            "\n",
            "also installing the dependencies ‘bitops’, ‘ISOcodes’, ‘qpdf’, ‘RCurl’, ‘rjson’, ‘ndjson’, ‘hunspell’, ‘tokenizers’, ‘janeaustenr’, ‘snakecase’, ‘fastmatch’, ‘RcppParallel’, ‘SnowballC’, ‘stopwords’, ‘RcppArmadillo’, ‘antiword’, ‘pdftools’, ‘readODS’, ‘streamR’, ‘striprtf’\n",
            "\n",
            "\n",
            "Warning message in install.packages(c(\"tidytext\", \"scales\", \"rmarkdown\", \"janitor\", :\n",
            "“installation of package ‘pdftools’ had non-zero exit status”\n",
            "Warning message in install.packages(c(\"tidytext\", \"scales\", \"rmarkdown\", \"janitor\", :\n",
            "“installation of package ‘readtext’ had non-zero exit status”\n"
          ]
        }
      ],
      "metadata": {
        "colab": {
          "base_uri": "https://localhost:8080/"
        },
        "id": "QFyRpuQli2Mx",
        "outputId": "35b99468-9625-4081-fa06-4dcb891a9567"
      }
    },
    {
      "cell_type": "code",
      "execution_count": null,
      "source": [
        "library(tidyverse)\r\n",
        "library(tidytext)\r\n",
        "library(scales)\r\n",
        "# library(readtext)\r\n",
        "library(rmarkdown)\r\n",
        "library(janitor)\r\n",
        "# library(qdap) # syllable_count and syllable_sum\r\n",
        "# library(quanteda) # nsyllable(tokens(txt))\r\n"
      ],
      "outputs": [],
      "metadata": {
        "id": "4qf_rUZGiZ96"
      }
    },
    {
      "cell_type": "markdown",
      "source": [
        "# 1. Datensatz lesen\n",
        "\n",
        "Die *readtext()*-Funktion erlaubt Einlesen von mehreren Dateien auf einfache Art und Weise.\n",
        "Mit *docvarsfrom* erhalten wird eine neue Spalte in der Tabelle, die wir mit der Funktion *rename()* umbenennen.\n",
        "Mit *encoding = \"UTF-8\"* teilen wir dem Programm mit, wie der Text kodiert ist (Code Page).\n"
      ],
      "metadata": {
        "id": "pTMupg-7iZ97"
      }
    },
    {
      "cell_type": "code",
      "execution_count": null,
      "source": [
        "# novels_txt = readtext(\"data/books/*.txt\", docvarsfrom = \"filenames\", encoding = \"UTF-8\") %>% \n",
        "#   rename(title = docvar1)\n",
        "# novels_txt\n"
      ],
      "outputs": [],
      "metadata": {
        "id": "qK3aGHEciZ97"
      }
    },
    {
      "cell_type": "code",
      "execution_count": 38,
      "source": [
        "github = \"https://raw.githubusercontent.com/tpetric7/tpetric7.github.io/main/data/books/\"\n",
        "prozess = read_lines(paste0(github, \"prozess.txt\"))\n",
        "tom = read_lines(paste0(github, \"tom.txt\"))"
      ],
      "outputs": [],
      "metadata": {
        "id": "w-rj5MI-lr6F"
      }
    },
    {
      "cell_type": "markdown",
      "source": [
        "Wir wandeln die Texte in Datensätze um."
      ],
      "metadata": {
        "id": "x2346hYhmEVX"
      }
    },
    {
      "cell_type": "code",
      "execution_count": 39,
      "source": [
        "prozess = as_tibble(prozess) %>% rename(text = value) %>% mutate(doc_id = \"prozess\") %>% mutate(title = \"prozess\")\n",
        "tom = as_tibble(tom) %>% rename(text = value) %>% mutate(doc_id = \"tom\") %>% mutate(title = \"tom\")\n",
        "novels = rbind(prozess, tom)"
      ],
      "outputs": [],
      "metadata": {
        "id": "louGkxDEmPNV"
      }
    },
    {
      "cell_type": "markdown",
      "source": [
        "# 2. Buchstaben extrahieren\n",
        "\n",
        "## aus Liste\n",
        "\n",
        "Der reguläre Ausdruck *[a-zA-Z]* extrahiert nur Buchstaben des englischen Alphabets, *[:alpha:]* extrahiert dagegen auch nicht-englische Buchstaben, z.B. deutsche oder slowenische Sonderzeichen. Zahlen und andere spezielle Zeichen (z.B. Interpunktion) werden auf diese Weise nicht extrahiert.\n",
        "\n",
        "Regex *{1}* (= default) extrahiert Einzelbuchstaben. Bei Verwendung von *{2}* werden jeweils zwei aufeinander folgende Buchstaben extrahiert.\n",
        "\n",
        "Die Funktion *tolower()* sorgt dafür, dass Großbuchstaben in Kleinbuchstaben umgewandelt werden. Falls zwischen großen und kleinen Buchstaben unterschieden werden soll, entfernen wir diese Funktion aus dem Programmkode.\n"
      ],
      "metadata": {
        "id": "iDfDgP04iZ98"
      }
    },
    {
      "cell_type": "code",
      "execution_count": 41,
      "source": [
        "# letters = tolower(novels_txt$text) %>% str_extract_all(pattern = \"[:alpha:]{1}\")\n",
        "letters = as.character(tolower(novels$text)) %>% str_extract_all(pattern = \"[:alpha:]{1}\")\n",
        "letters[[1]][1:10]\n",
        "letters[[2]][1:9]\n"
      ],
      "outputs": [
        {
          "output_type": "display_data",
          "data": {
            "text/plain": [
              " [1] \"d\" \"e\" \"r\" \"p\" \"r\" \"o\" \"z\" \"e\" \"s\" \"s\""
            ],
            "text/markdown": [
              "1. 'd'\n",
              "2. 'e'\n",
              "3. 'r'\n",
              "4. 'p'\n",
              "5. 'r'\n",
              "6. 'o'\n",
              "7. 'z'\n",
              "8. 'e'\n",
              "9. 's'\n",
              "10. 's'\n",
              "\n",
              "\n"
            ],
            "text/latex": [
              "\\begin{enumerate*}\n",
              "\\item 'd'\n",
              "\\item 'e'\n",
              "\\item 'r'\n",
              "\\item 'p'\n",
              "\\item 'r'\n",
              "\\item 'o'\n",
              "\\item 'z'\n",
              "\\item 'e'\n",
              "\\item 's'\n",
              "\\item 's'\n",
              "\\end{enumerate*}\n"
            ],
            "text/html": [
              "<style>\n",
              ".list-inline {list-style: none; margin:0; padding: 0}\n",
              ".list-inline>li {display: inline-block}\n",
              ".list-inline>li:not(:last-child)::after {content: \"\\00b7\"; padding: 0 .5ex}\n",
              "</style>\n",
              "<ol class=list-inline><li>'d'</li><li>'e'</li><li>'r'</li><li>'p'</li><li>'r'</li><li>'o'</li><li>'z'</li><li>'e'</li><li>'s'</li><li>'s'</li></ol>\n"
            ]
          },
          "metadata": {
            "tags": []
          }
        },
        {
          "output_type": "display_data",
          "data": {
            "text/plain": [
              "[1] \"t\" \"o\" \"m\" \"s\" \"a\" \"w\" \"y\" \"e\" \"r\""
            ],
            "text/markdown": [
              "1. 't'\n",
              "2. 'o'\n",
              "3. 'm'\n",
              "4. 's'\n",
              "5. 'a'\n",
              "6. 'w'\n",
              "7. 'y'\n",
              "8. 'e'\n",
              "9. 'r'\n",
              "\n",
              "\n"
            ],
            "text/latex": [
              "\\begin{enumerate*}\n",
              "\\item 't'\n",
              "\\item 'o'\n",
              "\\item 'm'\n",
              "\\item 's'\n",
              "\\item 'a'\n",
              "\\item 'w'\n",
              "\\item 'y'\n",
              "\\item 'e'\n",
              "\\item 'r'\n",
              "\\end{enumerate*}\n"
            ],
            "text/html": [
              "<style>\n",
              ".list-inline {list-style: none; margin:0; padding: 0}\n",
              ".list-inline>li {display: inline-block}\n",
              ".list-inline>li:not(:last-child)::after {content: \"\\00b7\"; padding: 0 .5ex}\n",
              "</style>\n",
              "<ol class=list-inline><li>'t'</li><li>'o'</li><li>'m'</li><li>'s'</li><li>'a'</li><li>'w'</li><li>'y'</li><li>'e'</li><li>'r'</li></ol>\n"
            ]
          },
          "metadata": {
            "tags": []
          }
        }
      ],
      "metadata": {
        "colab": {
          "base_uri": "https://localhost:8080/",
          "height": 52
        },
        "id": "9ayLaJR9iZ98",
        "outputId": "b833fa3f-48ea-46ee-f352-0e88a946629c"
      }
    },
    {
      "cell_type": "markdown",
      "source": [
        "## aus Datensatz\n",
        "\n",
        "Tabellen und Graphiken erstellen ist leichter, wenn wir die Texte in Datensätze umwandeln, und zwar mit der Funktion *as.data.frame()*.\n"
      ],
      "metadata": {
        "id": "8_vaUtv6iZ99"
      }
    },
    {
      "cell_type": "code",
      "execution_count": null,
      "source": [
        "# novels = as.data.frame(novels_txt)\n",
        "\n"
      ],
      "outputs": [],
      "metadata": {
        "id": "9F_YD896iZ9-"
      }
    },
    {
      "cell_type": "markdown",
      "source": [
        "Mit der Funktion *unnest_tokens()* können wir auch Buchstaben isolieren und anschließend auszählen.\n",
        "\n"
      ],
      "metadata": {
        "id": "PMAeeVofiZ9_"
      }
    },
    {
      "cell_type": "code",
      "execution_count": 42,
      "source": [
        "library(tidytext)\n",
        "\n",
        "novels_character <- novels %>%\n",
        "  unnest_tokens(character, text, token = \"characters\", to_lower = TRUE, drop = T)\n",
        "\n",
        "head(novels_character)\n"
      ],
      "outputs": [
        {
          "output_type": "display_data",
          "data": {
            "text/plain": [
              "  doc_id  title   character\n",
              "1 prozess prozess d        \n",
              "2 prozess prozess e        \n",
              "3 prozess prozess r        \n",
              "4 prozess prozess p        \n",
              "5 prozess prozess r        \n",
              "6 prozess prozess o        "
            ],
            "text/markdown": [
              "\n",
              "A tibble: 6 × 3\n",
              "\n",
              "| doc_id &lt;chr&gt; | title &lt;chr&gt; | character &lt;chr&gt; |\n",
              "|---|---|---|\n",
              "| prozess | prozess | d |\n",
              "| prozess | prozess | e |\n",
              "| prozess | prozess | r |\n",
              "| prozess | prozess | p |\n",
              "| prozess | prozess | r |\n",
              "| prozess | prozess | o |\n",
              "\n"
            ],
            "text/latex": [
              "A tibble: 6 × 3\n",
              "\\begin{tabular}{lll}\n",
              " doc\\_id & title & character\\\\\n",
              " <chr> & <chr> & <chr>\\\\\n",
              "\\hline\n",
              "\t prozess & prozess & d\\\\\n",
              "\t prozess & prozess & e\\\\\n",
              "\t prozess & prozess & r\\\\\n",
              "\t prozess & prozess & p\\\\\n",
              "\t prozess & prozess & r\\\\\n",
              "\t prozess & prozess & o\\\\\n",
              "\\end{tabular}\n"
            ],
            "text/html": [
              "<table class=\"dataframe\">\n",
              "<caption>A tibble: 6 × 3</caption>\n",
              "<thead>\n",
              "\t<tr><th scope=col>doc_id</th><th scope=col>title</th><th scope=col>character</th></tr>\n",
              "\t<tr><th scope=col>&lt;chr&gt;</th><th scope=col>&lt;chr&gt;</th><th scope=col>&lt;chr&gt;</th></tr>\n",
              "</thead>\n",
              "<tbody>\n",
              "\t<tr><td>prozess</td><td>prozess</td><td>d</td></tr>\n",
              "\t<tr><td>prozess</td><td>prozess</td><td>e</td></tr>\n",
              "\t<tr><td>prozess</td><td>prozess</td><td>r</td></tr>\n",
              "\t<tr><td>prozess</td><td>prozess</td><td>p</td></tr>\n",
              "\t<tr><td>prozess</td><td>prozess</td><td>r</td></tr>\n",
              "\t<tr><td>prozess</td><td>prozess</td><td>o</td></tr>\n",
              "</tbody>\n",
              "</table>\n"
            ]
          },
          "metadata": {
            "tags": []
          }
        }
      ],
      "metadata": {
        "colab": {
          "base_uri": "https://localhost:8080/",
          "height": 286
        },
        "id": "3v70Ep7WiZ-A",
        "outputId": "a8c2d1c3-2cf9-4318-91af-caf695b461d4"
      }
    },
    {
      "cell_type": "markdown",
      "source": [
        "# 3. Buchstaben zählen\n",
        "\n",
        "Mit *count()* können wir die Häufigkeit einer Variable (hier: der Buchstaben) auszählen.\n"
      ],
      "metadata": {
        "id": "9LMrs1EeiZ-A"
      }
    },
    {
      "cell_type": "code",
      "execution_count": 43,
      "source": [
        "novels_character %>% \n",
        "  count(character, sort = TRUE) %>% \n",
        "  paged_table()\n"
      ],
      "outputs": [
        {
          "output_type": "display_data",
          "data": {
            "text/plain": [
              "   character n     \n",
              "1  e         114769\n",
              "2  n          70151\n",
              "3  i          52767\n",
              "4  r          47937\n",
              "5  s          42610\n",
              "6  t          42057\n",
              "7  a          39825\n",
              "8  h          38600\n",
              "9  d          33683\n",
              "10 u          26309\n",
              "11 c          24770\n",
              "12 l          24434\n",
              "13 g          21247\n",
              "14 m          18532\n",
              "15 o          15270\n",
              "16 b          13261\n",
              "17 w          13068\n",
              "18 f          11021\n",
              "19 k          10054\n",
              "20 z           8725\n",
              "21 ü           5224\n",
              "22 v           5003\n",
              "23 ä           3801\n",
              "24 ß           3594\n",
              "25 p           3584\n",
              "26 ö           2045\n",
              "27 j           1757\n",
              "28 y            347\n",
              "29 q             67\n",
              "30 x             44\n",
              "31 1              5\n",
              "32 0              4\n",
              "33 4              4\n",
              "34 7              4\n",
              "35 2              3\n",
              "36 5              3\n",
              "37 6              2\n",
              "38 8              2\n",
              "39 é              2\n",
              "40 3              1\n",
              "41 9              1\n",
              "42 á              1"
            ],
            "text/markdown": [
              "\n",
              "A paged_df: 42 × 2\n",
              "\n",
              "| character &lt;chr&gt; | n &lt;int&gt; |\n",
              "|---|---|\n",
              "| e | 114769 |\n",
              "| n |  70151 |\n",
              "| i |  52767 |\n",
              "| r |  47937 |\n",
              "| s |  42610 |\n",
              "| t |  42057 |\n",
              "| a |  39825 |\n",
              "| h |  38600 |\n",
              "| d |  33683 |\n",
              "| u |  26309 |\n",
              "| c |  24770 |\n",
              "| l |  24434 |\n",
              "| g |  21247 |\n",
              "| m |  18532 |\n",
              "| o |  15270 |\n",
              "| b |  13261 |\n",
              "| w |  13068 |\n",
              "| f |  11021 |\n",
              "| k |  10054 |\n",
              "| z |   8725 |\n",
              "| ü |   5224 |\n",
              "| v |   5003 |\n",
              "| ä |   3801 |\n",
              "| ß |   3594 |\n",
              "| p |   3584 |\n",
              "| ö |   2045 |\n",
              "| j |   1757 |\n",
              "| y |    347 |\n",
              "| q |     67 |\n",
              "| x |     44 |\n",
              "| 1 |      5 |\n",
              "| 0 |      4 |\n",
              "| 4 |      4 |\n",
              "| 7 |      4 |\n",
              "| 2 |      3 |\n",
              "| 5 |      3 |\n",
              "| 6 |      2 |\n",
              "| 8 |      2 |\n",
              "| é |      2 |\n",
              "| 3 |      1 |\n",
              "| 9 |      1 |\n",
              "| á |      1 |\n",
              "\n"
            ],
            "text/latex": [
              "A paged\\_df: 42 × 2\n",
              "\\begin{tabular}{ll}\n",
              " character & n\\\\\n",
              " <chr> & <int>\\\\\n",
              "\\hline\n",
              "\t e & 114769\\\\\n",
              "\t n &  70151\\\\\n",
              "\t i &  52767\\\\\n",
              "\t r &  47937\\\\\n",
              "\t s &  42610\\\\\n",
              "\t t &  42057\\\\\n",
              "\t a &  39825\\\\\n",
              "\t h &  38600\\\\\n",
              "\t d &  33683\\\\\n",
              "\t u &  26309\\\\\n",
              "\t c &  24770\\\\\n",
              "\t l &  24434\\\\\n",
              "\t g &  21247\\\\\n",
              "\t m &  18532\\\\\n",
              "\t o &  15270\\\\\n",
              "\t b &  13261\\\\\n",
              "\t w &  13068\\\\\n",
              "\t f &  11021\\\\\n",
              "\t k &  10054\\\\\n",
              "\t z &   8725\\\\\n",
              "\t ü &   5224\\\\\n",
              "\t v &   5003\\\\\n",
              "\t ä &   3801\\\\\n",
              "\t ß &   3594\\\\\n",
              "\t p &   3584\\\\\n",
              "\t ö &   2045\\\\\n",
              "\t j &   1757\\\\\n",
              "\t y &    347\\\\\n",
              "\t q &     67\\\\\n",
              "\t x &     44\\\\\n",
              "\t 1 &      5\\\\\n",
              "\t 0 &      4\\\\\n",
              "\t 4 &      4\\\\\n",
              "\t 7 &      4\\\\\n",
              "\t 2 &      3\\\\\n",
              "\t 5 &      3\\\\\n",
              "\t 6 &      2\\\\\n",
              "\t 8 &      2\\\\\n",
              "\t é &      2\\\\\n",
              "\t 3 &      1\\\\\n",
              "\t 9 &      1\\\\\n",
              "\t á &      1\\\\\n",
              "\\end{tabular}\n"
            ],
            "text/html": [
              "<table class=\"dataframe\">\n",
              "<caption>A paged_df: 42 × 2</caption>\n",
              "<thead>\n",
              "\t<tr><th scope=col>character</th><th scope=col>n</th></tr>\n",
              "\t<tr><th scope=col>&lt;chr&gt;</th><th scope=col>&lt;int&gt;</th></tr>\n",
              "</thead>\n",
              "<tbody>\n",
              "\t<tr><td>e</td><td>114769</td></tr>\n",
              "\t<tr><td>n</td><td> 70151</td></tr>\n",
              "\t<tr><td>i</td><td> 52767</td></tr>\n",
              "\t<tr><td>r</td><td> 47937</td></tr>\n",
              "\t<tr><td>s</td><td> 42610</td></tr>\n",
              "\t<tr><td>t</td><td> 42057</td></tr>\n",
              "\t<tr><td>a</td><td> 39825</td></tr>\n",
              "\t<tr><td>h</td><td> 38600</td></tr>\n",
              "\t<tr><td>d</td><td> 33683</td></tr>\n",
              "\t<tr><td>u</td><td> 26309</td></tr>\n",
              "\t<tr><td>c</td><td> 24770</td></tr>\n",
              "\t<tr><td>l</td><td> 24434</td></tr>\n",
              "\t<tr><td>g</td><td> 21247</td></tr>\n",
              "\t<tr><td>m</td><td> 18532</td></tr>\n",
              "\t<tr><td>o</td><td> 15270</td></tr>\n",
              "\t<tr><td>b</td><td> 13261</td></tr>\n",
              "\t<tr><td>w</td><td> 13068</td></tr>\n",
              "\t<tr><td>f</td><td> 11021</td></tr>\n",
              "\t<tr><td>k</td><td> 10054</td></tr>\n",
              "\t<tr><td>z</td><td>  8725</td></tr>\n",
              "\t<tr><td>ü</td><td>  5224</td></tr>\n",
              "\t<tr><td>v</td><td>  5003</td></tr>\n",
              "\t<tr><td>ä</td><td>  3801</td></tr>\n",
              "\t<tr><td>ß</td><td>  3594</td></tr>\n",
              "\t<tr><td>p</td><td>  3584</td></tr>\n",
              "\t<tr><td>ö</td><td>  2045</td></tr>\n",
              "\t<tr><td>j</td><td>  1757</td></tr>\n",
              "\t<tr><td>y</td><td>   347</td></tr>\n",
              "\t<tr><td>q</td><td>    67</td></tr>\n",
              "\t<tr><td>x</td><td>    44</td></tr>\n",
              "\t<tr><td>1</td><td>     5</td></tr>\n",
              "\t<tr><td>0</td><td>     4</td></tr>\n",
              "\t<tr><td>4</td><td>     4</td></tr>\n",
              "\t<tr><td>7</td><td>     4</td></tr>\n",
              "\t<tr><td>2</td><td>     3</td></tr>\n",
              "\t<tr><td>5</td><td>     3</td></tr>\n",
              "\t<tr><td>6</td><td>     2</td></tr>\n",
              "\t<tr><td>8</td><td>     2</td></tr>\n",
              "\t<tr><td>é</td><td>     2</td></tr>\n",
              "\t<tr><td>3</td><td>     1</td></tr>\n",
              "\t<tr><td>9</td><td>     1</td></tr>\n",
              "\t<tr><td>á</td><td>     1</td></tr>\n",
              "</tbody>\n",
              "</table>\n"
            ]
          },
          "metadata": {
            "tags": []
          }
        }
      ],
      "metadata": {
        "colab": {
          "base_uri": "https://localhost:8080/",
          "height": 1000
        },
        "id": "rtV8WpssiZ-A",
        "outputId": "b825ac3c-de2a-4ac2-e70d-825a9950f0f7"
      }
    },
    {
      "cell_type": "markdown",
      "source": [
        "Der tidytext-Tokenizer hat nicht nur Buchstaben, sondern auch Zahlen extrahiert. Da wir nur an der Häufigkeit von Buchstaben interessiert sind, filtern wir die Zahlen und andere Zeichen heraus. Dazu verwenden wir die Funktionen *filter()* und zusätzlich *str_detect()*, da wir für diese Aufgabe einen regulären Ausdruck nutzen wollen.\n",
        "\n"
      ],
      "metadata": {
        "id": "znE_VSlDiZ-B"
      }
    },
    {
      "cell_type": "code",
      "execution_count": 44,
      "source": [
        "novels_character %>% \n",
        "  filter(str_detect(character, \"[:alpha:]\")) %>% \n",
        "  count(character, sort = T) %>% \n",
        "  paged_table()\n"
      ],
      "outputs": [
        {
          "output_type": "display_data",
          "data": {
            "text/plain": [
              "   character n     \n",
              "1  e         114769\n",
              "2  n          70151\n",
              "3  i          52767\n",
              "4  r          47937\n",
              "5  s          42610\n",
              "6  t          42057\n",
              "7  a          39825\n",
              "8  h          38600\n",
              "9  d          33683\n",
              "10 u          26309\n",
              "11 c          24770\n",
              "12 l          24434\n",
              "13 g          21247\n",
              "14 m          18532\n",
              "15 o          15270\n",
              "16 b          13261\n",
              "17 w          13068\n",
              "18 f          11021\n",
              "19 k          10054\n",
              "20 z           8725\n",
              "21 ü           5224\n",
              "22 v           5003\n",
              "23 ä           3801\n",
              "24 ß           3594\n",
              "25 p           3584\n",
              "26 ö           2045\n",
              "27 j           1757\n",
              "28 y            347\n",
              "29 q             67\n",
              "30 x             44\n",
              "31 é              2\n",
              "32 á              1"
            ],
            "text/markdown": [
              "\n",
              "A paged_df: 32 × 2\n",
              "\n",
              "| character &lt;chr&gt; | n &lt;int&gt; |\n",
              "|---|---|\n",
              "| e | 114769 |\n",
              "| n |  70151 |\n",
              "| i |  52767 |\n",
              "| r |  47937 |\n",
              "| s |  42610 |\n",
              "| t |  42057 |\n",
              "| a |  39825 |\n",
              "| h |  38600 |\n",
              "| d |  33683 |\n",
              "| u |  26309 |\n",
              "| c |  24770 |\n",
              "| l |  24434 |\n",
              "| g |  21247 |\n",
              "| m |  18532 |\n",
              "| o |  15270 |\n",
              "| b |  13261 |\n",
              "| w |  13068 |\n",
              "| f |  11021 |\n",
              "| k |  10054 |\n",
              "| z |   8725 |\n",
              "| ü |   5224 |\n",
              "| v |   5003 |\n",
              "| ä |   3801 |\n",
              "| ß |   3594 |\n",
              "| p |   3584 |\n",
              "| ö |   2045 |\n",
              "| j |   1757 |\n",
              "| y |    347 |\n",
              "| q |     67 |\n",
              "| x |     44 |\n",
              "| é |      2 |\n",
              "| á |      1 |\n",
              "\n"
            ],
            "text/latex": [
              "A paged\\_df: 32 × 2\n",
              "\\begin{tabular}{ll}\n",
              " character & n\\\\\n",
              " <chr> & <int>\\\\\n",
              "\\hline\n",
              "\t e & 114769\\\\\n",
              "\t n &  70151\\\\\n",
              "\t i &  52767\\\\\n",
              "\t r &  47937\\\\\n",
              "\t s &  42610\\\\\n",
              "\t t &  42057\\\\\n",
              "\t a &  39825\\\\\n",
              "\t h &  38600\\\\\n",
              "\t d &  33683\\\\\n",
              "\t u &  26309\\\\\n",
              "\t c &  24770\\\\\n",
              "\t l &  24434\\\\\n",
              "\t g &  21247\\\\\n",
              "\t m &  18532\\\\\n",
              "\t o &  15270\\\\\n",
              "\t b &  13261\\\\\n",
              "\t w &  13068\\\\\n",
              "\t f &  11021\\\\\n",
              "\t k &  10054\\\\\n",
              "\t z &   8725\\\\\n",
              "\t ü &   5224\\\\\n",
              "\t v &   5003\\\\\n",
              "\t ä &   3801\\\\\n",
              "\t ß &   3594\\\\\n",
              "\t p &   3584\\\\\n",
              "\t ö &   2045\\\\\n",
              "\t j &   1757\\\\\n",
              "\t y &    347\\\\\n",
              "\t q &     67\\\\\n",
              "\t x &     44\\\\\n",
              "\t é &      2\\\\\n",
              "\t á &      1\\\\\n",
              "\\end{tabular}\n"
            ],
            "text/html": [
              "<table class=\"dataframe\">\n",
              "<caption>A paged_df: 32 × 2</caption>\n",
              "<thead>\n",
              "\t<tr><th scope=col>character</th><th scope=col>n</th></tr>\n",
              "\t<tr><th scope=col>&lt;chr&gt;</th><th scope=col>&lt;int&gt;</th></tr>\n",
              "</thead>\n",
              "<tbody>\n",
              "\t<tr><td>e</td><td>114769</td></tr>\n",
              "\t<tr><td>n</td><td> 70151</td></tr>\n",
              "\t<tr><td>i</td><td> 52767</td></tr>\n",
              "\t<tr><td>r</td><td> 47937</td></tr>\n",
              "\t<tr><td>s</td><td> 42610</td></tr>\n",
              "\t<tr><td>t</td><td> 42057</td></tr>\n",
              "\t<tr><td>a</td><td> 39825</td></tr>\n",
              "\t<tr><td>h</td><td> 38600</td></tr>\n",
              "\t<tr><td>d</td><td> 33683</td></tr>\n",
              "\t<tr><td>u</td><td> 26309</td></tr>\n",
              "\t<tr><td>c</td><td> 24770</td></tr>\n",
              "\t<tr><td>l</td><td> 24434</td></tr>\n",
              "\t<tr><td>g</td><td> 21247</td></tr>\n",
              "\t<tr><td>m</td><td> 18532</td></tr>\n",
              "\t<tr><td>o</td><td> 15270</td></tr>\n",
              "\t<tr><td>b</td><td> 13261</td></tr>\n",
              "\t<tr><td>w</td><td> 13068</td></tr>\n",
              "\t<tr><td>f</td><td> 11021</td></tr>\n",
              "\t<tr><td>k</td><td> 10054</td></tr>\n",
              "\t<tr><td>z</td><td>  8725</td></tr>\n",
              "\t<tr><td>ü</td><td>  5224</td></tr>\n",
              "\t<tr><td>v</td><td>  5003</td></tr>\n",
              "\t<tr><td>ä</td><td>  3801</td></tr>\n",
              "\t<tr><td>ß</td><td>  3594</td></tr>\n",
              "\t<tr><td>p</td><td>  3584</td></tr>\n",
              "\t<tr><td>ö</td><td>  2045</td></tr>\n",
              "\t<tr><td>j</td><td>  1757</td></tr>\n",
              "\t<tr><td>y</td><td>   347</td></tr>\n",
              "\t<tr><td>q</td><td>    67</td></tr>\n",
              "\t<tr><td>x</td><td>    44</td></tr>\n",
              "\t<tr><td>é</td><td>     2</td></tr>\n",
              "\t<tr><td>á</td><td>     1</td></tr>\n",
              "</tbody>\n",
              "</table>\n"
            ]
          },
          "metadata": {
            "tags": []
          }
        }
      ],
      "metadata": {
        "colab": {
          "base_uri": "https://localhost:8080/",
          "height": 1000
        },
        "id": "tZA0RdE7iZ-B",
        "outputId": "7f86896c-ea3e-481e-c5e4-144e1b2abf22"
      }
    },
    {
      "cell_type": "markdown",
      "source": [
        "Ein paar Zeichen, die nicht zum deutschen Alphabet gehören und mit dem vorherigen Programm-Schritt nicht herausfiltern konnten, werden im nächsten Schritt ebenfalls herausgefiltert.\n",
        "\n",
        "Wir speichern das Ergebnis als neue Tabelle mit dem Namen \"char_freq\".\n"
      ],
      "metadata": {
        "id": "QNrrc79tiZ-B"
      }
    },
    {
      "cell_type": "code",
      "execution_count": 45,
      "source": [
        "char_freq = novels_character %>% \n",
        "  filter(str_detect(character, \"[:alpha:]\")) %>% \n",
        "  filter(!str_detect(character, \"é|á\")) %>% \n",
        "  count(character, sort = T)\n",
        "\n",
        "char_freq %>% paged_table()\n"
      ],
      "outputs": [
        {
          "output_type": "display_data",
          "data": {
            "text/plain": [
              "   character n     \n",
              "1  e         114769\n",
              "2  n          70151\n",
              "3  i          52767\n",
              "4  r          47937\n",
              "5  s          42610\n",
              "6  t          42057\n",
              "7  a          39825\n",
              "8  h          38600\n",
              "9  d          33683\n",
              "10 u          26309\n",
              "11 c          24770\n",
              "12 l          24434\n",
              "13 g          21247\n",
              "14 m          18532\n",
              "15 o          15270\n",
              "16 b          13261\n",
              "17 w          13068\n",
              "18 f          11021\n",
              "19 k          10054\n",
              "20 z           8725\n",
              "21 ü           5224\n",
              "22 v           5003\n",
              "23 ä           3801\n",
              "24 ß           3594\n",
              "25 p           3584\n",
              "26 ö           2045\n",
              "27 j           1757\n",
              "28 y            347\n",
              "29 q             67\n",
              "30 x             44"
            ],
            "text/markdown": [
              "\n",
              "A paged_df: 30 × 2\n",
              "\n",
              "| character &lt;chr&gt; | n &lt;int&gt; |\n",
              "|---|---|\n",
              "| e | 114769 |\n",
              "| n |  70151 |\n",
              "| i |  52767 |\n",
              "| r |  47937 |\n",
              "| s |  42610 |\n",
              "| t |  42057 |\n",
              "| a |  39825 |\n",
              "| h |  38600 |\n",
              "| d |  33683 |\n",
              "| u |  26309 |\n",
              "| c |  24770 |\n",
              "| l |  24434 |\n",
              "| g |  21247 |\n",
              "| m |  18532 |\n",
              "| o |  15270 |\n",
              "| b |  13261 |\n",
              "| w |  13068 |\n",
              "| f |  11021 |\n",
              "| k |  10054 |\n",
              "| z |   8725 |\n",
              "| ü |   5224 |\n",
              "| v |   5003 |\n",
              "| ä |   3801 |\n",
              "| ß |   3594 |\n",
              "| p |   3584 |\n",
              "| ö |   2045 |\n",
              "| j |   1757 |\n",
              "| y |    347 |\n",
              "| q |     67 |\n",
              "| x |     44 |\n",
              "\n"
            ],
            "text/latex": [
              "A paged\\_df: 30 × 2\n",
              "\\begin{tabular}{ll}\n",
              " character & n\\\\\n",
              " <chr> & <int>\\\\\n",
              "\\hline\n",
              "\t e & 114769\\\\\n",
              "\t n &  70151\\\\\n",
              "\t i &  52767\\\\\n",
              "\t r &  47937\\\\\n",
              "\t s &  42610\\\\\n",
              "\t t &  42057\\\\\n",
              "\t a &  39825\\\\\n",
              "\t h &  38600\\\\\n",
              "\t d &  33683\\\\\n",
              "\t u &  26309\\\\\n",
              "\t c &  24770\\\\\n",
              "\t l &  24434\\\\\n",
              "\t g &  21247\\\\\n",
              "\t m &  18532\\\\\n",
              "\t o &  15270\\\\\n",
              "\t b &  13261\\\\\n",
              "\t w &  13068\\\\\n",
              "\t f &  11021\\\\\n",
              "\t k &  10054\\\\\n",
              "\t z &   8725\\\\\n",
              "\t ü &   5224\\\\\n",
              "\t v &   5003\\\\\n",
              "\t ä &   3801\\\\\n",
              "\t ß &   3594\\\\\n",
              "\t p &   3584\\\\\n",
              "\t ö &   2045\\\\\n",
              "\t j &   1757\\\\\n",
              "\t y &    347\\\\\n",
              "\t q &     67\\\\\n",
              "\t x &     44\\\\\n",
              "\\end{tabular}\n"
            ],
            "text/html": [
              "<table class=\"dataframe\">\n",
              "<caption>A paged_df: 30 × 2</caption>\n",
              "<thead>\n",
              "\t<tr><th scope=col>character</th><th scope=col>n</th></tr>\n",
              "\t<tr><th scope=col>&lt;chr&gt;</th><th scope=col>&lt;int&gt;</th></tr>\n",
              "</thead>\n",
              "<tbody>\n",
              "\t<tr><td>e</td><td>114769</td></tr>\n",
              "\t<tr><td>n</td><td> 70151</td></tr>\n",
              "\t<tr><td>i</td><td> 52767</td></tr>\n",
              "\t<tr><td>r</td><td> 47937</td></tr>\n",
              "\t<tr><td>s</td><td> 42610</td></tr>\n",
              "\t<tr><td>t</td><td> 42057</td></tr>\n",
              "\t<tr><td>a</td><td> 39825</td></tr>\n",
              "\t<tr><td>h</td><td> 38600</td></tr>\n",
              "\t<tr><td>d</td><td> 33683</td></tr>\n",
              "\t<tr><td>u</td><td> 26309</td></tr>\n",
              "\t<tr><td>c</td><td> 24770</td></tr>\n",
              "\t<tr><td>l</td><td> 24434</td></tr>\n",
              "\t<tr><td>g</td><td> 21247</td></tr>\n",
              "\t<tr><td>m</td><td> 18532</td></tr>\n",
              "\t<tr><td>o</td><td> 15270</td></tr>\n",
              "\t<tr><td>b</td><td> 13261</td></tr>\n",
              "\t<tr><td>w</td><td> 13068</td></tr>\n",
              "\t<tr><td>f</td><td> 11021</td></tr>\n",
              "\t<tr><td>k</td><td> 10054</td></tr>\n",
              "\t<tr><td>z</td><td>  8725</td></tr>\n",
              "\t<tr><td>ü</td><td>  5224</td></tr>\n",
              "\t<tr><td>v</td><td>  5003</td></tr>\n",
              "\t<tr><td>ä</td><td>  3801</td></tr>\n",
              "\t<tr><td>ß</td><td>  3594</td></tr>\n",
              "\t<tr><td>p</td><td>  3584</td></tr>\n",
              "\t<tr><td>ö</td><td>  2045</td></tr>\n",
              "\t<tr><td>j</td><td>  1757</td></tr>\n",
              "\t<tr><td>y</td><td>   347</td></tr>\n",
              "\t<tr><td>q</td><td>    67</td></tr>\n",
              "\t<tr><td>x</td><td>    44</td></tr>\n",
              "</tbody>\n",
              "</table>\n"
            ]
          },
          "metadata": {
            "tags": []
          }
        }
      ],
      "metadata": {
        "colab": {
          "base_uri": "https://localhost:8080/",
          "height": 1000
        },
        "id": "irrgfu8QiZ-C",
        "outputId": "1115ca40-f484-4dc1-8209-cad28116a904"
      }
    },
    {
      "cell_type": "markdown",
      "source": [
        "Insgesamt haben wir 30 Buchstaben des deutschen Alphabets in den Romanen unterschieden.\n",
        "Aus wie vielen Buchstaben des deutschen Alphabets bestehen die Romane? Die Summe erhalten wir mit der Funktion *summarise()* - fast 700 Tausend.\n"
      ],
      "metadata": {
        "id": "P_IaTsIeiZ-C"
      }
    },
    {
      "cell_type": "code",
      "execution_count": 46,
      "source": [
        "char_freq %>% \n",
        "  summarise(total = sum(n))\n"
      ],
      "outputs": [
        {
          "output_type": "display_data",
          "data": {
            "text/plain": [
              "  total \n",
              "1 694556"
            ],
            "text/markdown": [
              "\n",
              "A tibble: 1 × 1\n",
              "\n",
              "| total &lt;int&gt; |\n",
              "|---|\n",
              "| 694556 |\n",
              "\n"
            ],
            "text/latex": [
              "A tibble: 1 × 1\n",
              "\\begin{tabular}{l}\n",
              " total\\\\\n",
              " <int>\\\\\n",
              "\\hline\n",
              "\t 694556\\\\\n",
              "\\end{tabular}\n"
            ],
            "text/html": [
              "<table class=\"dataframe\">\n",
              "<caption>A tibble: 1 × 1</caption>\n",
              "<thead>\n",
              "\t<tr><th scope=col>total</th></tr>\n",
              "\t<tr><th scope=col>&lt;int&gt;</th></tr>\n",
              "</thead>\n",
              "<tbody>\n",
              "\t<tr><td>694556</td></tr>\n",
              "</tbody>\n",
              "</table>\n"
            ]
          },
          "metadata": {
            "tags": []
          }
        }
      ],
      "metadata": {
        "colab": {
          "base_uri": "https://localhost:8080/",
          "height": 147
        },
        "id": "QDc6rW9oiZ-C",
        "outputId": "657661f6-e9ee-427d-cb5e-c00e38cd486b"
      }
    },
    {
      "cell_type": "markdown",
      "source": [
        "Es ist nun wirklich Zeit, mal ein Bild zu malen! \n",
        "Dazu verwenden wir das Programm (library) *ggplot2*, das im Programmbündel *tidyverse* enthalten ist.\n",
        "\n",
        "Das Diagramm zeigt sehr deutlich, dass gewaltige Häufigkeitsunterschiede im deutschen Alphabet bestehen.\n"
      ],
      "metadata": {
        "id": "hz6lmPWYiZ-C"
      }
    },
    {
      "cell_type": "code",
      "execution_count": 47,
      "source": [
        "char_freq %>% \n",
        "  mutate(character = fct_reorder(character, n)) %>% # Sortieren nach Frequenz\n",
        "  ggplot(aes(n, character, fill = character)) +\n",
        "  geom_col() +\n",
        "  theme(legend.position = \"none\")\n"
      ],
      "outputs": [
        {
          "output_type": "display_data",
          "data": {
            "text/plain": [
              "plot without title"
            ],
            "image/png": "[encoded data removed]"
          },
          "metadata": {
            "tags": [],
            "image/png": {
              "width": 420,
              "height": 420
            }
          }
        }
      ],
      "metadata": {
        "colab": {
          "base_uri": "https://localhost:8080/",
          "height": 437
        },
        "id": "MZ_QTigViZ-D",
        "outputId": "da6eb930-3a37-4238-93f8-0083c8c6a4f7"
      }
    },
    {
      "cell_type": "markdown",
      "source": [
        "Eine bessere Vorstellung von den Zahlenverhältnissen erhalten wir, wenn wir die mehrstelligen Zahlenwerte in Prozente umwandeln.\n",
        "\n"
      ],
      "metadata": {
        "id": "wXvFZBotiZ-D"
      }
    },
    {
      "cell_type": "code",
      "execution_count": 48,
      "source": [
        "library(scales)\n",
        "char_freq %>% \n",
        "  mutate(Prozent = n / sum(n)) %>% # Umwandlung in Prozente\n",
        "  ungroup() %>% \n",
        "  mutate(character = fct_reorder(character, Prozent)) %>% # Sortieren nach Prozenten\n",
        "  ggplot(aes(Prozent, character, fill = character)) +\n",
        "  geom_col() +\n",
        "  theme(legend.position = \"none\") +\n",
        "  scale_x_continuous(labels = percent) # Prozent-Format\n"
      ],
      "outputs": [
        {
          "output_type": "display_data",
          "data": {
            "text/plain": [
              "plot without title"
            ],
            "image/png": "[encoded data removed]"
          },
          "metadata": {
            "tags": [],
            "image/png": {
              "width": 420,
              "height": 420
            }
          }
        }
      ],
      "metadata": {
        "colab": {
          "base_uri": "https://localhost:8080/",
          "height": 437
        },
        "id": "IX3PgnLpiZ-D",
        "outputId": "990bf6a6-94a5-4ece-ce53-8cc786ab6e6d"
      }
    },
    {
      "cell_type": "markdown",
      "source": [
        "Getrennte tabellarische Darstellung für die Texte:\n",
        "\n"
      ],
      "metadata": {
        "id": "zAHvMQGsiZ-E"
      }
    },
    {
      "cell_type": "code",
      "execution_count": 49,
      "source": [
        "novels_character %>% \n",
        "  group_by(doc_id) %>% \n",
        "  count(character, sort = TRUE) %>% \n",
        "  pivot_wider(names_from = doc_id, values_from = n) %>% \n",
        "  paged_table()\n"
      ],
      "outputs": [
        {
          "output_type": "display_data",
          "data": {
            "text/plain": [
              "   character prozess tom  \n",
              "1  e         60978   53791\n",
              "2  n         36237   33914\n",
              "3  i         28426   24341\n",
              "4  r         25884   22053\n",
              "5  t         21751   20306\n",
              "6  s         21690   20920\n",
              "7  a         20817   19008\n",
              "8  h         20095   18505\n",
              "9  d         17247   16436\n",
              "10 u         12636   13673\n",
              "11 c         12691   12079\n",
              "12 l         12463   11971\n",
              "13 g         11563    9684\n",
              "14 m          9252    9280\n",
              "15 o          7426    7844\n",
              "16 b          6936    6325\n",
              "17 w          6398    6670\n",
              "18 f          5882    5139\n",
              "19 k          5576    4478\n",
              "20 z          4552    4173\n",
              "21 ü          2983    2241\n",
              "22 v          2862    2141\n",
              "23 ä          2119    1682\n",
              "24 p          1635    1949\n",
              "25 ß          1894    1700\n",
              "26 ö          1009    1036\n",
              "27 j           734    1023\n",
              "28 y             8     339\n",
              "29 q            26      41\n",
              "30 x             6      38\n",
              "31 0             1       3\n",
              "32 1             2       3\n",
              "33 4             1       3\n",
              "34 7             1       3\n",
              "35 2             1       2\n",
              "36 5             1       2\n",
              "37 3             1      NA\n",
              "38 6             1       1\n",
              "39 8             1       1\n",
              "40 9             1      NA\n",
              "41 é             1       1\n",
              "42 á            NA       1"
            ],
            "text/markdown": [
              "\n",
              "A paged_df: 42 × 3\n",
              "\n",
              "| character &lt;chr&gt; | prozess &lt;int&gt; | tom &lt;int&gt; |\n",
              "|---|---|---|\n",
              "| e | 60978 | 53791 |\n",
              "| n | 36237 | 33914 |\n",
              "| i | 28426 | 24341 |\n",
              "| r | 25884 | 22053 |\n",
              "| t | 21751 | 20306 |\n",
              "| s | 21690 | 20920 |\n",
              "| a | 20817 | 19008 |\n",
              "| h | 20095 | 18505 |\n",
              "| d | 17247 | 16436 |\n",
              "| u | 12636 | 13673 |\n",
              "| c | 12691 | 12079 |\n",
              "| l | 12463 | 11971 |\n",
              "| g | 11563 |  9684 |\n",
              "| m |  9252 |  9280 |\n",
              "| o |  7426 |  7844 |\n",
              "| b |  6936 |  6325 |\n",
              "| w |  6398 |  6670 |\n",
              "| f |  5882 |  5139 |\n",
              "| k |  5576 |  4478 |\n",
              "| z |  4552 |  4173 |\n",
              "| ü |  2983 |  2241 |\n",
              "| v |  2862 |  2141 |\n",
              "| ä |  2119 |  1682 |\n",
              "| p |  1635 |  1949 |\n",
              "| ß |  1894 |  1700 |\n",
              "| ö |  1009 |  1036 |\n",
              "| j |   734 |  1023 |\n",
              "| y |     8 |   339 |\n",
              "| q |    26 |    41 |\n",
              "| x |     6 |    38 |\n",
              "| 0 |     1 |     3 |\n",
              "| 1 |     2 |     3 |\n",
              "| 4 |     1 |     3 |\n",
              "| 7 |     1 |     3 |\n",
              "| 2 |     1 |     2 |\n",
              "| 5 |     1 |     2 |\n",
              "| 3 |     1 |    NA |\n",
              "| 6 |     1 |     1 |\n",
              "| 8 |     1 |     1 |\n",
              "| 9 |     1 |    NA |\n",
              "| é |     1 |     1 |\n",
              "| á |    NA |     1 |\n",
              "\n"
            ],
            "text/latex": [
              "A paged\\_df: 42 × 3\n",
              "\\begin{tabular}{lll}\n",
              " character & prozess & tom\\\\\n",
              " <chr> & <int> & <int>\\\\\n",
              "\\hline\n",
              "\t e & 60978 & 53791\\\\\n",
              "\t n & 36237 & 33914\\\\\n",
              "\t i & 28426 & 24341\\\\\n",
              "\t r & 25884 & 22053\\\\\n",
              "\t t & 21751 & 20306\\\\\n",
              "\t s & 21690 & 20920\\\\\n",
              "\t a & 20817 & 19008\\\\\n",
              "\t h & 20095 & 18505\\\\\n",
              "\t d & 17247 & 16436\\\\\n",
              "\t u & 12636 & 13673\\\\\n",
              "\t c & 12691 & 12079\\\\\n",
              "\t l & 12463 & 11971\\\\\n",
              "\t g & 11563 &  9684\\\\\n",
              "\t m &  9252 &  9280\\\\\n",
              "\t o &  7426 &  7844\\\\\n",
              "\t b &  6936 &  6325\\\\\n",
              "\t w &  6398 &  6670\\\\\n",
              "\t f &  5882 &  5139\\\\\n",
              "\t k &  5576 &  4478\\\\\n",
              "\t z &  4552 &  4173\\\\\n",
              "\t ü &  2983 &  2241\\\\\n",
              "\t v &  2862 &  2141\\\\\n",
              "\t ä &  2119 &  1682\\\\\n",
              "\t p &  1635 &  1949\\\\\n",
              "\t ß &  1894 &  1700\\\\\n",
              "\t ö &  1009 &  1036\\\\\n",
              "\t j &   734 &  1023\\\\\n",
              "\t y &     8 &   339\\\\\n",
              "\t q &    26 &    41\\\\\n",
              "\t x &     6 &    38\\\\\n",
              "\t 0 &     1 &     3\\\\\n",
              "\t 1 &     2 &     3\\\\\n",
              "\t 4 &     1 &     3\\\\\n",
              "\t 7 &     1 &     3\\\\\n",
              "\t 2 &     1 &     2\\\\\n",
              "\t 5 &     1 &     2\\\\\n",
              "\t 3 &     1 &    NA\\\\\n",
              "\t 6 &     1 &     1\\\\\n",
              "\t 8 &     1 &     1\\\\\n",
              "\t 9 &     1 &    NA\\\\\n",
              "\t é &     1 &     1\\\\\n",
              "\t á &    NA &     1\\\\\n",
              "\\end{tabular}\n"
            ],
            "text/html": [
              "<table class=\"dataframe\">\n",
              "<caption>A paged_df: 42 × 3</caption>\n",
              "<thead>\n",
              "\t<tr><th scope=col>character</th><th scope=col>prozess</th><th scope=col>tom</th></tr>\n",
              "\t<tr><th scope=col>&lt;chr&gt;</th><th scope=col>&lt;int&gt;</th><th scope=col>&lt;int&gt;</th></tr>\n",
              "</thead>\n",
              "<tbody>\n",
              "\t<tr><td>e</td><td>60978</td><td>53791</td></tr>\n",
              "\t<tr><td>n</td><td>36237</td><td>33914</td></tr>\n",
              "\t<tr><td>i</td><td>28426</td><td>24341</td></tr>\n",
              "\t<tr><td>r</td><td>25884</td><td>22053</td></tr>\n",
              "\t<tr><td>t</td><td>21751</td><td>20306</td></tr>\n",
              "\t<tr><td>s</td><td>21690</td><td>20920</td></tr>\n",
              "\t<tr><td>a</td><td>20817</td><td>19008</td></tr>\n",
              "\t<tr><td>h</td><td>20095</td><td>18505</td></tr>\n",
              "\t<tr><td>d</td><td>17247</td><td>16436</td></tr>\n",
              "\t<tr><td>u</td><td>12636</td><td>13673</td></tr>\n",
              "\t<tr><td>c</td><td>12691</td><td>12079</td></tr>\n",
              "\t<tr><td>l</td><td>12463</td><td>11971</td></tr>\n",
              "\t<tr><td>g</td><td>11563</td><td> 9684</td></tr>\n",
              "\t<tr><td>m</td><td> 9252</td><td> 9280</td></tr>\n",
              "\t<tr><td>o</td><td> 7426</td><td> 7844</td></tr>\n",
              "\t<tr><td>b</td><td> 6936</td><td> 6325</td></tr>\n",
              "\t<tr><td>w</td><td> 6398</td><td> 6670</td></tr>\n",
              "\t<tr><td>f</td><td> 5882</td><td> 5139</td></tr>\n",
              "\t<tr><td>k</td><td> 5576</td><td> 4478</td></tr>\n",
              "\t<tr><td>z</td><td> 4552</td><td> 4173</td></tr>\n",
              "\t<tr><td>ü</td><td> 2983</td><td> 2241</td></tr>\n",
              "\t<tr><td>v</td><td> 2862</td><td> 2141</td></tr>\n",
              "\t<tr><td>ä</td><td> 2119</td><td> 1682</td></tr>\n",
              "\t<tr><td>p</td><td> 1635</td><td> 1949</td></tr>\n",
              "\t<tr><td>ß</td><td> 1894</td><td> 1700</td></tr>\n",
              "\t<tr><td>ö</td><td> 1009</td><td> 1036</td></tr>\n",
              "\t<tr><td>j</td><td>  734</td><td> 1023</td></tr>\n",
              "\t<tr><td>y</td><td>    8</td><td>  339</td></tr>\n",
              "\t<tr><td>q</td><td>   26</td><td>   41</td></tr>\n",
              "\t<tr><td>x</td><td>    6</td><td>   38</td></tr>\n",
              "\t<tr><td>0</td><td>    1</td><td>    3</td></tr>\n",
              "\t<tr><td>1</td><td>    2</td><td>    3</td></tr>\n",
              "\t<tr><td>4</td><td>    1</td><td>    3</td></tr>\n",
              "\t<tr><td>7</td><td>    1</td><td>    3</td></tr>\n",
              "\t<tr><td>2</td><td>    1</td><td>    2</td></tr>\n",
              "\t<tr><td>5</td><td>    1</td><td>    2</td></tr>\n",
              "\t<tr><td>3</td><td>    1</td><td>   NA</td></tr>\n",
              "\t<tr><td>6</td><td>    1</td><td>    1</td></tr>\n",
              "\t<tr><td>8</td><td>    1</td><td>    1</td></tr>\n",
              "\t<tr><td>9</td><td>    1</td><td>   NA</td></tr>\n",
              "\t<tr><td>é</td><td>    1</td><td>    1</td></tr>\n",
              "\t<tr><td>á</td><td>   NA</td><td>    1</td></tr>\n",
              "</tbody>\n",
              "</table>\n"
            ]
          },
          "metadata": {
            "tags": []
          }
        }
      ],
      "metadata": {
        "colab": {
          "base_uri": "https://localhost:8080/",
          "height": 1000
        },
        "id": "_tMIJFboiZ-E",
        "outputId": "0c23e4e0-9e55-4a66-c711-0826c06f597d"
      }
    },
    {
      "cell_type": "markdown",
      "source": [
        "Getrennte graphische Darstellung für die Texte:\n",
        "\n"
      ],
      "metadata": {
        "id": "g6DNHq6DiZ-E"
      }
    },
    {
      "cell_type": "code",
      "execution_count": 50,
      "source": [
        "library(scales)\n",
        "novels_character %>% \n",
        "  group_by(doc_id) %>% \n",
        "  count(character, sort = TRUE) %>% \n",
        "  mutate(Prozent = n / sum(n)) %>% # Umwandlung in Prozente\n",
        "  ungroup() %>% \n",
        "  mutate(character = fct_reorder(character, Prozent)) %>% # Sortieren nach Prozenten\n",
        "  filter(Prozent > 0.0001) %>% \n",
        "  ggplot(aes(Prozent, character, fill = character)) +\n",
        "  geom_col() +\n",
        "  theme(legend.position = \"none\") +\n",
        "  facet_wrap(~ doc_id, scales = \"free\")\n",
        "  scale_x_continuous(labels = percent) # Prozent-Format\n"
      ],
      "outputs": [
        {
          "output_type": "display_data",
          "data": {
            "text/plain": [
              "<ScaleContinuousPosition>\n",
              " Range:  \n",
              " Limits:    0 --    1"
            ]
          },
          "metadata": {
            "tags": []
          }
        },
        {
          "output_type": "display_data",
          "data": {
            "text/plain": [
              "plot without title"
            ],
            "image/png": "[encoded data removed]"
          },
          "metadata": {
            "tags": [],
            "image/png": {
              "width": 420,
              "height": 420
            }
          }
        }
      ],
      "metadata": {
        "colab": {
          "base_uri": "https://localhost:8080/",
          "height": 492
        },
        "id": "XIlzn8YriZ-E",
        "outputId": "5c25505f-21ea-4db9-8ab0-ba1a8b729378"
      }
    },
    {
      "cell_type": "markdown",
      "source": [
        "# 4. Vokale\n",
        "\n",
        "Betrachten wir zunächst nur die Buchstaben, die Vokale symbolisieren!\n",
        "Zu diesem Zweck bilden wir eine Vokalliste. Zwischen den Vokalen setzen wir das \"oder\"-Zeichen ein: den *logischen Operator* \"|\".\n"
      ],
      "metadata": {
        "id": "hxnt8941iZ-F"
      }
    },
    {
      "cell_type": "code",
      "execution_count": 51,
      "source": [
        "vokale = \"a|e|i|o|u|ä|ö|ü|y\"\n",
        "\n"
      ],
      "outputs": [],
      "metadata": {
        "id": "ODbs_Gw3iZ-F"
      }
    },
    {
      "cell_type": "markdown",
      "source": [
        "Die Vokalliste \"vokale\" verwenden wir mit den Funktionen *filter()* und *str_detect()*.\n",
        "\n"
      ],
      "metadata": {
        "id": "0L_W0dLXiZ-F"
      }
    },
    {
      "cell_type": "code",
      "execution_count": 52,
      "source": [
        "library(scales)\n",
        "char_freq %>% \n",
        "  filter(str_detect(character, vokale)) %>% \n",
        "  mutate(Prozent = n / sum(n)) %>% # Umwandlung in Prozente\n",
        "  ungroup() %>% \n",
        "  mutate(character = fct_reorder(character, Prozent)) %>% # Sortieren nach Prozenten\n",
        "  ggplot(aes(Prozent, character, fill = character)) +\n",
        "  geom_col() +\n",
        "  theme(legend.position = \"none\") +\n",
        "  labs(y = \"Vokale\", x = \"Häufigkeit in Romanen\") +\n",
        "  scale_x_continuous(labels = percent, breaks = seq(0, 0.50, 0.05)) # Prozent-Format\n"
      ],
      "outputs": [
        {
          "output_type": "display_data",
          "data": {
            "text/plain": [
              "plot without title"
            ],
            "image/png": "[encoded data removed]"
          },
          "metadata": {
            "tags": [],
            "image/png": {
              "width": 420,
              "height": 420
            }
          }
        }
      ],
      "metadata": {
        "colab": {
          "base_uri": "https://localhost:8080/",
          "height": 437
        },
        "id": "I10FfRJ7iZ-H",
        "outputId": "9cf9dc45-e400-40fc-d99f-1ac3f2f60a7e"
      }
    },
    {
      "cell_type": "markdown",
      "source": [
        "Am häufigsten kommt der Buchstabe \"e\" in den Romanen vor (fast 45%-iger Anteil unter den Vokalen!), am seltensten \"y\", welches im Wesentlichen in Fremd- und Lehnwörtern auftritt.\n",
        "\n",
        "\n",
        "# 5. Konsonanten\n",
        "\n",
        "Welche Buchstaben, die Konsonanten symbolisieren, kommen am häufigsten vor?\n",
        "Zum Filtern verwenden wir wiederum die Vokalliste, dieses Mal allerdings mit Negationszeichen \"!\".\n"
      ],
      "metadata": {
        "id": "OzDdazAQiZ-H"
      }
    },
    {
      "cell_type": "code",
      "execution_count": 53,
      "source": [
        "library(scales)\n",
        "char_freq %>% \n",
        "  filter(!str_detect(character, vokale)) %>% # Negationszeichen, daher Konsonanten beibehalten\n",
        "  mutate(Prozent = n / sum(n)) %>% # Umwandlung in Prozente\n",
        "  ungroup() %>% \n",
        "  mutate(character = fct_reorder(character, Prozent)) %>% # Sortieren nach Prozenten\n",
        "  ggplot(aes(Prozent, character, fill = character)) +\n",
        "  geom_col() +\n",
        "  theme(legend.position = \"none\") +\n",
        "  labs(y = \"Konsonanten\", x = \"Häufigkeit in Romanen\") +\n",
        "  scale_x_continuous(labels = percent, breaks = seq(0, 0.50, 0.02)) # Prozent-Format und Einheiten\n"
      ],
      "outputs": [
        {
          "output_type": "display_data",
          "data": {
            "text/plain": [
              "plot without title"
            ],
            "image/png": "[encoded data removed]"
          },
          "metadata": {
            "tags": [],
            "image/png": {
              "width": 420,
              "height": 420
            }
          }
        }
      ],
      "metadata": {
        "colab": {
          "base_uri": "https://localhost:8080/",
          "height": 437
        },
        "id": "8Q-Se-57iZ-H",
        "outputId": "f853f934-6b12-4b40-d983-250982f5d617"
      }
    },
    {
      "cell_type": "markdown",
      "source": [
        "Der Buchstabe \"n\" kommt in den Romanen am häufigsten vor, gefolgt von den Buchstaben: \"r, s, t, h, d\".\n",
        "Selten sind die Buchstaben: \"x, q, p, ß, v\".\n",
        "\n",
        "\n",
        "# 6. Vokal-Konsonant-Verhältnis\n",
        "\n",
        "Welches Zahlenverhältnis besteht zwischen den Vokalen und Konsonanten?\n",
        "\n",
        "21 konsonantische Buchstaben und 9 vokalische Buchstaben. Pro Silbe sind in den deutschen Texten 1 Vokal und ungefähr 2 Konsonanten zu erwarten, also Silbenstrukturen wie z.B. KVK, KKV, VKK.\n"
      ],
      "metadata": {
        "id": "uhIPJetWiZ-I"
      }
    },
    {
      "cell_type": "code",
      "execution_count": 54,
      "source": [
        "char_freq %>% \n",
        "  mutate(buchstabe = ifelse(str_detect(character, vokale), \"Vokal\", \"Konsonant\")) %>% \n",
        "  count(buchstabe)\n"
      ],
      "outputs": [
        {
          "output_type": "display_data",
          "data": {
            "text/plain": [
              "  buchstabe n \n",
              "1 Konsonant 21\n",
              "2 Vokal      9"
            ],
            "text/markdown": [
              "\n",
              "A tibble: 2 × 2\n",
              "\n",
              "| buchstabe &lt;chr&gt; | n &lt;int&gt; |\n",
              "|---|---|\n",
              "| Konsonant | 21 |\n",
              "| Vokal     |  9 |\n",
              "\n"
            ],
            "text/latex": [
              "A tibble: 2 × 2\n",
              "\\begin{tabular}{ll}\n",
              " buchstabe & n\\\\\n",
              " <chr> & <int>\\\\\n",
              "\\hline\n",
              "\t Konsonant & 21\\\\\n",
              "\t Vokal     &  9\\\\\n",
              "\\end{tabular}\n"
            ],
            "text/html": [
              "<table class=\"dataframe\">\n",
              "<caption>A tibble: 2 × 2</caption>\n",
              "<thead>\n",
              "\t<tr><th scope=col>buchstabe</th><th scope=col>n</th></tr>\n",
              "\t<tr><th scope=col>&lt;chr&gt;</th><th scope=col>&lt;int&gt;</th></tr>\n",
              "</thead>\n",
              "<tbody>\n",
              "\t<tr><td>Konsonant</td><td>21</td></tr>\n",
              "\t<tr><td>Vokal    </td><td> 9</td></tr>\n",
              "</tbody>\n",
              "</table>\n"
            ]
          },
          "metadata": {
            "tags": []
          }
        }
      ],
      "metadata": {
        "colab": {
          "base_uri": "https://localhost:8080/",
          "height": 161
        },
        "id": "B9nkKDMTiZ-I",
        "outputId": "e8f6de6d-eb31-4073-b957-369e4716e0b2"
      }
    },
    {
      "cell_type": "markdown",
      "source": [
        "Der höhere Anteil der Konsonanten entspricht der größeren Konsonantenmenge.\n",
        "\n"
      ],
      "metadata": {
        "id": "n_1HXkSYiZ-I"
      }
    },
    {
      "cell_type": "code",
      "execution_count": 55,
      "source": [
        "char_freq %>% \n",
        "  mutate(buchstabe = ifelse(str_detect(character, vokale), \"Vokal\", \"Konsonant\")) %>% \n",
        "  mutate(Prozent = n / sum(n)) %>% \n",
        "  group_by(buchstabe) %>% \n",
        "  summarise(Avg_Prozent = sum(Prozent))\n"
      ],
      "outputs": [
        {
          "output_type": "display_data",
          "data": {
            "text/plain": [
              "  buchstabe Avg_Prozent\n",
              "1 Konsonant 0.6251461  \n",
              "2 Vokal     0.3748539  "
            ],
            "text/markdown": [
              "\n",
              "A tibble: 2 × 2\n",
              "\n",
              "| buchstabe &lt;chr&gt; | Avg_Prozent &lt;dbl&gt; |\n",
              "|---|---|\n",
              "| Konsonant | 0.6251461 |\n",
              "| Vokal     | 0.3748539 |\n",
              "\n"
            ],
            "text/latex": [
              "A tibble: 2 × 2\n",
              "\\begin{tabular}{ll}\n",
              " buchstabe & Avg\\_Prozent\\\\\n",
              " <chr> & <dbl>\\\\\n",
              "\\hline\n",
              "\t Konsonant & 0.6251461\\\\\n",
              "\t Vokal     & 0.3748539\\\\\n",
              "\\end{tabular}\n"
            ],
            "text/html": [
              "<table class=\"dataframe\">\n",
              "<caption>A tibble: 2 × 2</caption>\n",
              "<thead>\n",
              "\t<tr><th scope=col>buchstabe</th><th scope=col>Avg_Prozent</th></tr>\n",
              "\t<tr><th scope=col>&lt;chr&gt;</th><th scope=col>&lt;dbl&gt;</th></tr>\n",
              "</thead>\n",
              "<tbody>\n",
              "\t<tr><td>Konsonant</td><td>0.6251461</td></tr>\n",
              "\t<tr><td>Vokal    </td><td>0.3748539</td></tr>\n",
              "</tbody>\n",
              "</table>\n"
            ]
          },
          "metadata": {
            "tags": []
          }
        }
      ],
      "metadata": {
        "colab": {
          "base_uri": "https://localhost:8080/",
          "height": 161
        },
        "id": "TBHbyqmUiZ-I",
        "outputId": "a8b343b0-196f-45e1-db53-aaa56e22e6a6"
      }
    },
    {
      "cell_type": "markdown",
      "source": [
        "\n",
        "\n"
      ],
      "metadata": {
        "id": "7pM-ljMQiZ-J"
      }
    },
    {
      "cell_type": "code",
      "execution_count": 56,
      "source": [
        "char_freq %>% \n",
        "  mutate(buchstabe = ifelse(str_detect(character, vokale), \"Vokal\", \"Konsonant\")) %>% \n",
        "  mutate(Prozent = n / sum(n)) %>% \n",
        "  group_by(buchstabe) %>% \n",
        "  summarise(Avg_Prozent = sum(Prozent)) %>% \n",
        "  ggplot(aes(Avg_Prozent, buchstabe, fill = buchstabe)) +\n",
        "  geom_col() +\n",
        "  theme(legend.position = \"none\") +\n",
        "  labs(y = \"Vokale / Konsonanten\", x = \"Häufigkeit in Romanen\") +\n",
        "  scale_x_continuous(labels = percent, breaks = seq(0, 0.75, 0.1)) # Prozent-Format und Einheiten\n"
      ],
      "outputs": [
        {
          "output_type": "display_data",
          "data": {
            "text/plain": [
              "plot without title"
            ],
            "image/png": "[encoded data removed]"
          },
          "metadata": {
            "tags": [],
            "image/png": {
              "width": 420,
              "height": 420
            }
          }
        }
      ],
      "metadata": {
        "colab": {
          "base_uri": "https://localhost:8080/",
          "height": 437
        },
        "id": "ruDCFIryiZ-J",
        "outputId": "9cf23aba-a132-4a9f-d0d2-f7f87bc2246f"
      }
    },
    {
      "cell_type": "markdown",
      "source": [
        "Diese Zahlenwerte und -verhältnisse bilden einen möglichen Ausgangspunkt für intra- oder interlinguale Vergleiche. \n",
        "\n",
        "\n",
        "# 7. Anzahl der Silben\n",
        "\n",
        "Wie viele Silben kommen in den Romanen schätzungsweise vor und wie viele Buchstaben pro Silbe? Die genaue Bestimmung der Silbenanzahl für eine bestimmte Sprache kann aufgrund zahlreicher Besonderheiten ziemlich kompliziert sein. Die Anzahl der Silben schätzen wir daher mit einer Funktion des Programms *nsyllable* (Alternatives Programm: *qdap*). \n",
        "\n",
        "Da wir die Silbenzählfunktion nur ein einziges Mal bemühen, rufen wir sie in der unten sichtbaren Form auf: *nsyllable::nsyllable(buchstabenfolge)*.\n"
      ],
      "metadata": {
        "id": "1MwRs5INiZ-J"
      }
    },
    {
      "cell_type": "code",
      "execution_count": null,
      "source": [
        "install.packages(\"nsyllable\")"
      ],
      "outputs": [],
      "metadata": {
        "id": "kWdolZ4DoL1r"
      }
    },
    {
      "cell_type": "code",
      "execution_count": 26,
      "source": [
        "novels_words = novels %>%\n",
        "  unnest_tokens(word, text, token = \"words\", to_lower = TRUE, drop = T) %>% \n",
        "  mutate(syllables = nsyllable::nsyllable(as.character(word), language = \"en\")) %>% \n",
        "  mutate(letters = nchar(word))\n",
        "  \n",
        "head(novels_words) %>% paged_table()\n"
      ],
      "outputs": [
        {
          "output_type": "display_data",
          "data": {
            "text/plain": [
              "  doc_id  word    syllables letters\n",
              "1 prozess der     1         3      \n",
              "2 prozess prozess 2         7      \n",
              "3 prozess by      1         2      \n",
              "4 prozess franz   1         5      \n",
              "5 prozess kafka   2         5      \n",
              "6 prozess aligned 2         7      "
            ],
            "text/markdown": [
              "\n",
              "A paged_df: 6 × 4\n",
              "\n",
              "| doc_id &lt;chr&gt; | word &lt;chr&gt; | syllables &lt;int&gt; | letters &lt;int&gt; |\n",
              "|---|---|---|---|\n",
              "| prozess | der     | 1 | 3 |\n",
              "| prozess | prozess | 2 | 7 |\n",
              "| prozess | by      | 1 | 2 |\n",
              "| prozess | franz   | 1 | 5 |\n",
              "| prozess | kafka   | 2 | 5 |\n",
              "| prozess | aligned | 2 | 7 |\n",
              "\n"
            ],
            "text/latex": [
              "A paged\\_df: 6 × 4\n",
              "\\begin{tabular}{llll}\n",
              " doc\\_id & word & syllables & letters\\\\\n",
              " <chr> & <chr> & <int> & <int>\\\\\n",
              "\\hline\n",
              "\t prozess & der     & 1 & 3\\\\\n",
              "\t prozess & prozess & 2 & 7\\\\\n",
              "\t prozess & by      & 1 & 2\\\\\n",
              "\t prozess & franz   & 1 & 5\\\\\n",
              "\t prozess & kafka   & 2 & 5\\\\\n",
              "\t prozess & aligned & 2 & 7\\\\\n",
              "\\end{tabular}\n"
            ],
            "text/html": [
              "<table class=\"dataframe\">\n",
              "<caption>A paged_df: 6 × 4</caption>\n",
              "<thead>\n",
              "\t<tr><th scope=col>doc_id</th><th scope=col>word</th><th scope=col>syllables</th><th scope=col>letters</th></tr>\n",
              "\t<tr><th scope=col>&lt;chr&gt;</th><th scope=col>&lt;chr&gt;</th><th scope=col>&lt;int&gt;</th><th scope=col>&lt;int&gt;</th></tr>\n",
              "</thead>\n",
              "<tbody>\n",
              "\t<tr><td>prozess</td><td>der    </td><td>1</td><td>3</td></tr>\n",
              "\t<tr><td>prozess</td><td>prozess</td><td>2</td><td>7</td></tr>\n",
              "\t<tr><td>prozess</td><td>by     </td><td>1</td><td>2</td></tr>\n",
              "\t<tr><td>prozess</td><td>franz  </td><td>1</td><td>5</td></tr>\n",
              "\t<tr><td>prozess</td><td>kafka  </td><td>2</td><td>5</td></tr>\n",
              "\t<tr><td>prozess</td><td>aligned</td><td>2</td><td>7</td></tr>\n",
              "</tbody>\n",
              "</table>\n"
            ]
          },
          "metadata": {
            "tags": []
          }
        }
      ],
      "metadata": {
        "colab": {
          "base_uri": "https://localhost:8080/",
          "height": 286
        },
        "id": "FXs-tgbpiZ-J",
        "outputId": "e7410d34-690a-46d8-93d6-50dde9523d1a"
      }
    },
    {
      "cell_type": "markdown",
      "source": [
        "Insgesamt (d.h. kumulativ gesehen) fast 139 Tausend Silben in den Romanen. Diese Zahl bietet einen möglichen Ausgangspunkt für Textvergleiche.\n",
        "\n"
      ],
      "metadata": {
        "id": "y2BvP8XViZ-K"
      }
    },
    {
      "cell_type": "code",
      "execution_count": 57,
      "source": [
        "novels_words %>% \n",
        "  count(syllables) %>% \n",
        "  summarise(Silben = sum(n))\n"
      ],
      "outputs": [
        {
          "output_type": "display_data",
          "data": {
            "text/plain": [
              "  Silben\n",
              "1 138811"
            ],
            "text/markdown": [
              "\n",
              "A tibble: 1 × 1\n",
              "\n",
              "| Silben &lt;int&gt; |\n",
              "|---|\n",
              "| 138811 |\n",
              "\n"
            ],
            "text/latex": [
              "A tibble: 1 × 1\n",
              "\\begin{tabular}{l}\n",
              " Silben\\\\\n",
              " <int>\\\\\n",
              "\\hline\n",
              "\t 138811\\\\\n",
              "\\end{tabular}\n"
            ],
            "text/html": [
              "<table class=\"dataframe\">\n",
              "<caption>A tibble: 1 × 1</caption>\n",
              "<thead>\n",
              "\t<tr><th scope=col>Silben</th></tr>\n",
              "\t<tr><th scope=col>&lt;int&gt;</th></tr>\n",
              "</thead>\n",
              "<tbody>\n",
              "\t<tr><td>138811</td></tr>\n",
              "</tbody>\n",
              "</table>\n"
            ]
          },
          "metadata": {
            "tags": []
          }
        }
      ],
      "metadata": {
        "colab": {
          "base_uri": "https://localhost:8080/",
          "height": 147
        },
        "id": "GVdCArkPiZ-K",
        "outputId": "96de1828-f626-4e23-a955-9f29f0f17cf6"
      }
    },
    {
      "cell_type": "markdown",
      "source": [
        "Die meisten Wortformen in den Romanen bestehen aus einer Silbe (fast 60%) oder zwei Silben (fast 30%). Das ist typisch für deutsche Texte. Kurze Funktionswörter (meist eine Silbe) kommen wesentlich häufiger vor als andere Wortklassen (Substantive, Verben, Adjektive, Adverbien).\n",
        "\n"
      ],
      "metadata": {
        "id": "uwi7gCfriZ-K"
      }
    },
    {
      "cell_type": "code",
      "execution_count": 58,
      "source": [
        "novels_words %>% \n",
        "  count(syllables) %>% \n",
        "  mutate(Prozent = n / sum(n)) %>% \n",
        "  ggplot(aes(syllables, Prozent, fill = factor(syllables))) +\n",
        "  geom_col() +\n",
        "  theme(legend.position = \"none\") +\n",
        "  labs(x = \"Silben\") +\n",
        "  scale_y_continuous(labels = percent, breaks = seq(0, 0.75, 0.1)) # Prozent-Format und Einheiten\n"
      ],
      "outputs": [
        {
          "output_type": "stream",
          "name": "stderr",
          "text": [
            "Warning message:\n",
            "“Removed 1 rows containing missing values (position_stack).”\n"
          ]
        },
        {
          "output_type": "display_data",
          "data": {
            "text/plain": [
              "plot without title"
            ],
            "image/png": "[encoded data removed]"
          },
          "metadata": {
            "tags": [],
            "image/png": {
              "width": 420,
              "height": 420
            }
          }
        }
      ],
      "metadata": {
        "colab": {
          "base_uri": "https://localhost:8080/",
          "height": 474
        },
        "id": "yurWUTBxiZ-K",
        "outputId": "5fce0382-fd30-4fb9-ac07-2f02e56ac587"
      }
    },
    {
      "cell_type": "markdown",
      "source": [
        "Berücksichtig man lediglich distinktive Wortformen (also keine Wortwiederholungen), dann ergibt sich die folgende Verteilung, in der die Zweisilber (mehr als 30%) und Dreisilber (fast 30%) den größten Anteil haben.\n",
        "\n"
      ],
      "metadata": {
        "id": "mShURM7RiZ-K"
      }
    },
    {
      "cell_type": "code",
      "execution_count": 59,
      "source": [
        "novels_words %>% \n",
        "  distinct(word, .keep_all = T) %>%\n",
        "  count(syllables) %>% \n",
        "  mutate(Prozent = n / sum(n)) %>% \n",
        "  ggplot(aes(syllables, Prozent, fill = factor(syllables))) +\n",
        "  geom_col() +\n",
        "  theme(legend.position = \"none\") +\n",
        "  labs(x = \"Silben\") +\n",
        "  scale_y_continuous(labels = percent, breaks = seq(0, 0.75, 0.1)) # Prozent-Format und Einheiten\n"
      ],
      "outputs": [
        {
          "output_type": "stream",
          "name": "stderr",
          "text": [
            "Warning message:\n",
            "“Removed 1 rows containing missing values (position_stack).”\n"
          ]
        },
        {
          "output_type": "display_data",
          "data": {
            "text/plain": [
              "plot without title"
            ],
            "image/png": "[encoded data removed]"
          },
          "metadata": {
            "tags": [],
            "image/png": {
              "width": 420,
              "height": 420
            }
          }
        }
      ],
      "metadata": {
        "colab": {
          "base_uri": "https://localhost:8080/",
          "height": 474
        },
        "id": "XIDsr9EbiZ-L",
        "outputId": "5885ff9f-36f7-47e7-ae51-fa8ce3091fdc"
      }
    },
    {
      "cell_type": "markdown",
      "source": [
        "# 8. Mittlere Wortlänge\n",
        "\n",
        "Wir können die Wortlänge in geschriebenen Texten auf zumindest zwei grundlegende Arten messen:\n",
        "- die Anzahl der Silben pro Wort(form),\n",
        "- die Anzahl der Buchstaben pro Wort(form).\n",
        "\n",
        "Die durchschnittliche Anzahl der Silben und Buchstaben pro Wort (distinkte Wortformen !) in den Romanen ist in der folgenden Tabelle zu sehen: \n",
        "- neben den Mittelwerten (Avg_Silben, Avg_Buchstaben) \n",
        "- auch die  Standardabweichungen vom entsprechenden Mittelwert (Stdev_Silben, Stdev_Buchstaben). \n",
        "Die Mittelwerte oder arithmetischen Mittel können mit der Programmfunktion *mean()* berechnet werden, die Standardabweichungen mit der Funktion *sd()*.\n",
        "Die Standardabweichungen sind notwendig zur Feststellung nicht-zufälliger Unterschiede zwischen den Stichproben (d.h. den Romanen).\n",
        "Bei der Berechnung der Mittelwerte und Standardabweichungen geben wir dem Programm auch die Instruktion, etwaige leere Datenzeilen (*NA*) herauszufiltern, und zwar mit Hilfe von *na.rm = TRUE*. Wird dies unterlassen, kann dies dazu führen, dass ein Mittelwert bzw. Standardabweichung nicht berechnet werden kann. \n",
        "\n",
        "In der folgenden Tabelle werden nur distinktive Wortformen (Types) berücksichtigt, d.h. als ob jede Wortform nur einmal pro Roman vorkommt.\n"
      ],
      "metadata": {
        "id": "1oYNpJMeiZ-L"
      }
    },
    {
      "cell_type": "code",
      "execution_count": 61,
      "source": [
        "novels_words %>% \n",
        "  group_by(doc_id) %>% \n",
        "  distinct(word, .keep_all = T) %>%\n",
        "  add_count(word) %>% \n",
        "  summarise(Avg_Silben = mean(syllables, na.rm = TRUE),\n",
        "            Stdev_Silben = sd(syllables, na.rm = TRUE),\n",
        "            Avg_Buchstaben = mean(letters, na.rm = TRUE),\n",
        "            Stdev_Buchstaben = sd(letters, na.rm = TRUE)) %>% \n",
        "  paged_table()\n"
      ],
      "outputs": [
        {
          "output_type": "display_data",
          "data": {
            "text/plain": [
              "  doc_id  Avg_Silben Stdev_Silben Avg_Buchstaben Stdev_Buchstaben\n",
              "1 prozess 2.598953   1.115207     8.753136       3.165985        \n",
              "2 tom     2.440148   1.072319     8.325600       3.039245        "
            ],
            "text/markdown": [
              "\n",
              "A paged_df: 2 × 5\n",
              "\n",
              "| doc_id &lt;chr&gt; | Avg_Silben &lt;dbl&gt; | Stdev_Silben &lt;dbl&gt; | Avg_Buchstaben &lt;dbl&gt; | Stdev_Buchstaben &lt;dbl&gt; |\n",
              "|---|---|---|---|---|\n",
              "| prozess | 2.598953 | 1.115207 | 8.753136 | 3.165985 |\n",
              "| tom     | 2.440148 | 1.072319 | 8.325600 | 3.039245 |\n",
              "\n"
            ],
            "text/latex": [
              "A paged\\_df: 2 × 5\n",
              "\\begin{tabular}{lllll}\n",
              " doc\\_id & Avg\\_Silben & Stdev\\_Silben & Avg\\_Buchstaben & Stdev\\_Buchstaben\\\\\n",
              " <chr> & <dbl> & <dbl> & <dbl> & <dbl>\\\\\n",
              "\\hline\n",
              "\t prozess & 2.598953 & 1.115207 & 8.753136 & 3.165985\\\\\n",
              "\t tom     & 2.440148 & 1.072319 & 8.325600 & 3.039245\\\\\n",
              "\\end{tabular}\n"
            ],
            "text/html": [
              "<table class=\"dataframe\">\n",
              "<caption>A paged_df: 2 × 5</caption>\n",
              "<thead>\n",
              "\t<tr><th scope=col>doc_id</th><th scope=col>Avg_Silben</th><th scope=col>Stdev_Silben</th><th scope=col>Avg_Buchstaben</th><th scope=col>Stdev_Buchstaben</th></tr>\n",
              "\t<tr><th scope=col>&lt;chr&gt;</th><th scope=col>&lt;dbl&gt;</th><th scope=col>&lt;dbl&gt;</th><th scope=col>&lt;dbl&gt;</th><th scope=col>&lt;dbl&gt;</th></tr>\n",
              "</thead>\n",
              "<tbody>\n",
              "\t<tr><td>prozess</td><td>2.598953</td><td>1.115207</td><td>8.753136</td><td>3.165985</td></tr>\n",
              "\t<tr><td>tom    </td><td>2.440148</td><td>1.072319</td><td>8.325600</td><td>3.039245</td></tr>\n",
              "</tbody>\n",
              "</table>\n"
            ]
          },
          "metadata": {
            "tags": []
          }
        }
      ],
      "metadata": {
        "colab": {
          "base_uri": "https://localhost:8080/",
          "height": 161
        },
        "id": "ri95_gT9iZ-L",
        "outputId": "aa4a2f17-c0d8-4615-cbae-f921e9edb83b"
      }
    },
    {
      "cell_type": "markdown",
      "source": [
        "Die durchschnittliche Anzahl der Silben und Buchstaben pro Wortform (Token), bei Berücksichtigung von Wortwiederholungen in den Romanen, ist in der folgenden Tabelle zu sehen. \n",
        "\n"
      ],
      "metadata": {
        "id": "geO-5u-2iZ-N"
      }
    },
    {
      "cell_type": "code",
      "execution_count": 62,
      "source": [
        "novels_words %>% \n",
        "  group_by(doc_id) %>% \n",
        "  summarise(Avg_Silben = mean(syllables, na.rm = TRUE),\n",
        "            Stdev_Silben = sd(syllables, na.rm = TRUE),\n",
        "            Avg_Buchstaben = mean(letters, na.rm = TRUE),\n",
        "            Stdev_Buchstaben = sd(letters, na.rm = TRUE)) %>% \n",
        "  paged_table()\n"
      ],
      "outputs": [
        {
          "output_type": "display_data",
          "data": {
            "text/plain": [
              "  doc_id  Avg_Silben Stdev_Silben Avg_Buchstaben Stdev_Buchstaben\n",
              "1 prozess 1.613350   0.8752739    5.048860       2.818319        \n",
              "2 tom     1.561307   0.8176069    4.975304       2.634651        "
            ],
            "text/markdown": [
              "\n",
              "A paged_df: 2 × 5\n",
              "\n",
              "| doc_id &lt;chr&gt; | Avg_Silben &lt;dbl&gt; | Stdev_Silben &lt;dbl&gt; | Avg_Buchstaben &lt;dbl&gt; | Stdev_Buchstaben &lt;dbl&gt; |\n",
              "|---|---|---|---|---|\n",
              "| prozess | 1.613350 | 0.8752739 | 5.048860 | 2.818319 |\n",
              "| tom     | 1.561307 | 0.8176069 | 4.975304 | 2.634651 |\n",
              "\n"
            ],
            "text/latex": [
              "A paged\\_df: 2 × 5\n",
              "\\begin{tabular}{lllll}\n",
              " doc\\_id & Avg\\_Silben & Stdev\\_Silben & Avg\\_Buchstaben & Stdev\\_Buchstaben\\\\\n",
              " <chr> & <dbl> & <dbl> & <dbl> & <dbl>\\\\\n",
              "\\hline\n",
              "\t prozess & 1.613350 & 0.8752739 & 5.048860 & 2.818319\\\\\n",
              "\t tom     & 1.561307 & 0.8176069 & 4.975304 & 2.634651\\\\\n",
              "\\end{tabular}\n"
            ],
            "text/html": [
              "<table class=\"dataframe\">\n",
              "<caption>A paged_df: 2 × 5</caption>\n",
              "<thead>\n",
              "\t<tr><th scope=col>doc_id</th><th scope=col>Avg_Silben</th><th scope=col>Stdev_Silben</th><th scope=col>Avg_Buchstaben</th><th scope=col>Stdev_Buchstaben</th></tr>\n",
              "\t<tr><th scope=col>&lt;chr&gt;</th><th scope=col>&lt;dbl&gt;</th><th scope=col>&lt;dbl&gt;</th><th scope=col>&lt;dbl&gt;</th><th scope=col>&lt;dbl&gt;</th></tr>\n",
              "</thead>\n",
              "<tbody>\n",
              "\t<tr><td>prozess</td><td>1.613350</td><td>0.8752739</td><td>5.048860</td><td>2.818319</td></tr>\n",
              "\t<tr><td>tom    </td><td>1.561307</td><td>0.8176069</td><td>4.975304</td><td>2.634651</td></tr>\n",
              "</tbody>\n",
              "</table>\n"
            ]
          },
          "metadata": {
            "tags": []
          }
        }
      ],
      "metadata": {
        "colab": {
          "base_uri": "https://localhost:8080/",
          "height": 161
        },
        "id": "Tm0RQ6RziZ-N",
        "outputId": "850ad4e6-94f8-4915-f3f8-7ee7decb34fe"
      }
    },
    {
      "cell_type": "markdown",
      "source": [
        "# 9. Testen von Mittelwertunterschieden\n",
        "\n",
        "## t-Test\n",
        "\n",
        "Sind die berechneten Unterschiede zwischen den Mittelwerten relevant bzw. nicht-zufällig? Um diese Frage zu klären, kann man einen statistischen Test bemühen. Da wir lediglich zwei Samples (zwei Romanen) vergleichen wollen, kann uns ein parametrischer Test wie z.B. der t-Test Klarheit verschaffen. Wir verwenden die Programmfunktion *t.test()*.\n",
        "Der t-Test bestätigt, dass \"Der Prozess\" im Durchschnitt etwas längere Wörter aufweist (2,59 Silben pro Wort gegenüber 2,44 Silben pro Wort in \"Tom Sawyer\") - wenn Anzahl distinktiver Wortformen verwendet.\n"
      ],
      "metadata": {
        "id": "pT5-QD4DiZ-N"
      }
    },
    {
      "cell_type": "code",
      "execution_count": 63,
      "source": [
        "syls = novels_words %>% \n",
        "  group_by(doc_id) %>% \n",
        "  distinct(word, .keep_all = T) %>%\n",
        "  add_count(word) %>% \n",
        "  drop_na() %>% \n",
        "  select(doc_id, word, syllables) %>% \n",
        "  pivot_wider(names_from = doc_id, values_from = syllables)\n",
        "\n",
        "t.test(syls$prozess, syls$tom) # significant\n"
      ],
      "outputs": [
        {
          "output_type": "display_data",
          "data": {
            "text/plain": [
              "\n",
              "\tWelch Two Sample t-test\n",
              "\n",
              "data:  syls$prozess and syls$tom\n",
              "t = 9.5409, df = 16477, p-value < 2.2e-16\n",
              "alternative hypothesis: true difference in means is not equal to 0\n",
              "95 percent confidence interval:\n",
              " 0.1261795 0.1914303\n",
              "sample estimates:\n",
              "mean of x mean of y \n",
              " 2.598953  2.440148 \n"
            ]
          },
          "metadata": {
            "tags": []
          }
        }
      ],
      "metadata": {
        "colab": {
          "base_uri": "https://localhost:8080/",
          "height": 219
        },
        "id": "uWnZi6KaiZ-N",
        "outputId": "3012367e-639a-490a-9d58-32affad9b3d2"
      }
    },
    {
      "cell_type": "markdown",
      "source": [
        "Wenn die Wiederholung von Wortformen berücksichtigt wird, bestätigt der t-Test ebenfalls einen signifikanten Unterschied zwischen den beiden Texten. Die durchschnittliche Anzahl der Wortsilben ist niedriger, da kürzere Wortformen (solche von Konjunktionen, Präpositionen, Artikeln und anderen Funktionswörtern) häufig vorkommen.\n",
        "\n",
        "Schnelle Form des t-Tests:\n"
      ],
      "metadata": {
        "id": "8EC8axzMiZ-O"
      }
    },
    {
      "cell_type": "code",
      "execution_count": 65,
      "source": [
        "t.test(syllables ~ doc_id, data = novels_words)\n",
        "\n"
      ],
      "outputs": [
        {
          "output_type": "display_data",
          "data": {
            "text/plain": [
              "\n",
              "\tWelch Two Sample t-test\n",
              "\n",
              "data:  syllables by doc_id\n",
              "t = 11.395, df = 137402, p-value < 2.2e-16\n",
              "alternative hypothesis: true difference in means between group prozess and group tom is not equal to 0\n",
              "95 percent confidence interval:\n",
              " 0.04309115 0.06099339\n",
              "sample estimates:\n",
              "mean in group prozess     mean in group tom \n",
              "             1.613350              1.561307 \n"
            ]
          },
          "metadata": {
            "tags": []
          }
        }
      ],
      "metadata": {
        "colab": {
          "base_uri": "https://localhost:8080/",
          "height": 219
        },
        "id": "cUUf0jIliZ-O",
        "outputId": "6d9d562d-9c15-42ea-98b0-7c0f697b63ee"
      }
    },
    {
      "cell_type": "markdown",
      "source": [
        "Dasselbe Ergebnis, aber aufwendiger zu programmieren, um den Datensatz in die entsprechende Form zu bringen:\n",
        "\n"
      ],
      "metadata": {
        "id": "UBt2IqdjiZ-O"
      }
    },
    {
      "cell_type": "code",
      "execution_count": 67,
      "source": [
        "prozess_syl <- novels_words %>% \n",
        "  filter(doc_id == \"prozess\") %>% \n",
        "  select(syllables) %>% \n",
        "  rename(prozess = syllables)\n",
        "tom_syl <- novels_words %>% \n",
        "  filter(doc_id == \"tom\") %>% \n",
        "  select(syllables) %>% \n",
        "  rename(prozess = syllables)\n",
        "  \n",
        "t.test(prozess_syl, tom_syl) # significant\n"
      ],
      "outputs": [
        {
          "output_type": "display_data",
          "data": {
            "text/plain": [
              "\n",
              "\tWelch Two Sample t-test\n",
              "\n",
              "data:  prozess_syl and tom_syl\n",
              "t = 11.395, df = 137402, p-value < 2.2e-16\n",
              "alternative hypothesis: true difference in means is not equal to 0\n",
              "95 percent confidence interval:\n",
              " 0.04309115 0.06099339\n",
              "sample estimates:\n",
              "mean of x mean of y \n",
              " 1.613350  1.561307 \n"
            ]
          },
          "metadata": {
            "tags": []
          }
        }
      ],
      "metadata": {
        "colab": {
          "base_uri": "https://localhost:8080/",
          "height": 219
        },
        "id": "AM5ezvu0iZ-P",
        "outputId": "101236c0-ebb5-49cf-ec89-bdb10e06ae6e"
      }
    },
    {
      "cell_type": "markdown",
      "source": [
        "Der nächste t-Test bestätigt ebenfalls, dass \"Der Prozess\" im Durchschnitt längere Wörter aufweist (8,79 Buchstaben pro Wort gegenüber 8.36 Buchstaben pro Wort in \"Tom Sawyer\".) Berücksichtigt wurden distinkte Wortformen (keine wiederholten Wortformen).\n",
        "\n"
      ],
      "metadata": {
        "id": "5ce0uFSWiZ-P"
      }
    },
    {
      "cell_type": "code",
      "execution_count": 68,
      "source": [
        "lets = novels_words %>% \n",
        "  group_by(doc_id) %>% \n",
        "  distinct(word, .keep_all = T) %>%\n",
        "  add_count(word) %>% \n",
        "  drop_na() %>% \n",
        "  select(doc_id, word, letters) %>% \n",
        "  pivot_wider(names_from = doc_id, values_from = letters)\n",
        "\n",
        "t.test(lets$prozess, lets$tom) # significant\n"
      ],
      "outputs": [
        {
          "output_type": "display_data",
          "data": {
            "text/plain": [
              "\n",
              "\tWelch Two Sample t-test\n",
              "\n",
              "data:  lets$prozess and lets$tom\n",
              "t = 8.993, df = 16472, p-value < 2.2e-16\n",
              "alternative hypothesis: true difference in means is not equal to 0\n",
              "95 percent confidence interval:\n",
              " 0.3306128 0.5148998\n",
              "sample estimates:\n",
              "mean of x mean of y \n",
              " 8.785878  8.363122 \n"
            ]
          },
          "metadata": {
            "tags": []
          }
        }
      ],
      "metadata": {
        "colab": {
          "base_uri": "https://localhost:8080/",
          "height": 219
        },
        "id": "hMQBQAA2iZ-P",
        "outputId": "b816fd56-b9fb-4113-e75e-9999fd805b0a"
      }
    },
    {
      "cell_type": "markdown",
      "source": [
        "Wenn die Wiederholung von Wortformen berücksichtigt wird, bestätigt der t-Test wiederum einen signifikanten Unterschied zwischen den beiden Texten. Die durchschnittliche Anzahl der Buchstaben pro Wort ist niedriger, da kürzere Wortformen (solche von Konjunktionen, Präpositionen, Artikeln und anderen Funktionswörtern) häufig vorkommen.\n",
        "\n",
        "Schnelle Form des t-Tests:\n"
      ],
      "metadata": {
        "id": "Gea42G1ziZ-P"
      }
    },
    {
      "cell_type": "code",
      "execution_count": 69,
      "source": [
        "t.test(letters ~ doc_id, data = novels_words)\n",
        "\n"
      ],
      "outputs": [
        {
          "output_type": "display_data",
          "data": {
            "text/plain": [
              "\n",
              "\tWelch Two Sample t-test\n",
              "\n",
              "data:  letters by doc_id\n",
              "t = 5.0257, df = 138808, p-value = 5.022e-07\n",
              "alternative hypothesis: true difference in means between group prozess and group tom is not equal to 0\n",
              "95 percent confidence interval:\n",
              " 0.04486967 0.10224210\n",
              "sample estimates:\n",
              "mean in group prozess     mean in group tom \n",
              "             5.048860              4.975304 \n"
            ]
          },
          "metadata": {
            "tags": []
          }
        }
      ],
      "metadata": {
        "colab": {
          "base_uri": "https://localhost:8080/",
          "height": 219
        },
        "id": "RgtFSfraiZ-P",
        "outputId": "1681983e-7de1-4c91-8898-c2afa5839d8c"
      }
    },
    {
      "cell_type": "markdown",
      "source": [
        "Dasselbe Ergebnis, aber aufwendiger zu programmieren, um den Datensatz in die entsprechende Form zu bringen:\n",
        "\n"
      ],
      "metadata": {
        "id": "VAPzLi9OiZ-Q"
      }
    },
    {
      "cell_type": "code",
      "execution_count": 70,
      "source": [
        "prozess_let <- novels_words %>% \n",
        "  filter(doc_id == \"prozess\") %>% \n",
        "  select(letters) %>% \n",
        "  rename(prozess = letters)\n",
        "tom_let <- novels_words %>% \n",
        "  filter(doc_id == \"tom\") %>% \n",
        "  select(letters) %>% \n",
        "  rename(prozess = letters)\n",
        "  \n",
        "t.test(prozess_let, tom_let) # significant\n"
      ],
      "outputs": [
        {
          "output_type": "display_data",
          "data": {
            "text/plain": [
              "\n",
              "\tWelch Two Sample t-test\n",
              "\n",
              "data:  prozess_let and tom_let\n",
              "t = 5.0257, df = 138808, p-value = 5.022e-07\n",
              "alternative hypothesis: true difference in means is not equal to 0\n",
              "95 percent confidence interval:\n",
              " 0.04486967 0.10224210\n",
              "sample estimates:\n",
              "mean of x mean of y \n",
              " 5.048860  4.975304 \n"
            ]
          },
          "metadata": {
            "tags": []
          }
        }
      ],
      "metadata": {
        "colab": {
          "base_uri": "https://localhost:8080/",
          "height": 219
        },
        "id": "L_PNcqmiiZ-Q",
        "outputId": "2cd48c31-994d-42df-8cf9-e3ec51f1ab7e"
      }
    },
    {
      "cell_type": "markdown",
      "source": [
        "## Lineare Regression\n",
        "\n",
        "Hat man mehr als zwei Stichproben zu vergleichen, kann man eine lineare Regression durchführen, die auch das Testen von mehreren Einflussgrößen (Prädiktoren) erlaubt. \n",
        "\n",
        "Hier folgt eine Demonstration anhand des bereits gehabten Datensatzes mit zwei Stichproben (Romanen).\n",
        "Die Ordinate im Koordinatensystem (Intercept, also der y-Abschnitt mit x = 0) ist bei zwei Stichproben gleich dem Mittelwert der ersten Stichprobe (title = \"prozess\"), d.h. 1,613350. Der geschätzte Mittelwert (Estimate) der zweiten Stichprobe (title = \"tom\") ist um den Wert 0,052042 niedriger, d.h. 1,613350 - 0,052042 = 1,561308 (Dezimalkommas statt Dezimalpunkte!).\n",
        "\n",
        "Der R-Quadrat-Wert (R-squared) ist allerdings sehr klein, d.h. dass der Prädiktor \"title\" (Roman) nur einen Bruchteil der festgestellten Mittelwertvarianz (Veränderungen der Mittelwerte) zu erklären vermag. Möglicherweise gibt es andere Prädiktoren, die die Mittelwertvarianz besser erklären. \n"
      ],
      "metadata": {
        "id": "j8bvl4NuiZ-Q"
      }
    },
    {
      "cell_type": "code",
      "execution_count": 71,
      "source": [
        "m <- lm(syllables ~ doc_id, data = novels_words)\n",
        "summary(m)\n",
        "anova(m)\n"
      ],
      "outputs": [
        {
          "output_type": "display_data",
          "data": {
            "text/plain": [
              "\n",
              "Call:\n",
              "lm(formula = syllables ~ doc_id, data = novels_words)\n",
              "\n",
              "Residuals:\n",
              "    Min      1Q  Median      3Q     Max \n",
              "-0.6133 -0.6133 -0.5613  0.4387  6.3867 \n",
              "\n",
              "Coefficients:\n",
              "             Estimate Std. Error t value Pr(>|t|)    \n",
              "(Intercept)  1.613350   0.003183  506.85   <2e-16 ***\n",
              "doc_idtom   -0.052042   0.004577  -11.37   <2e-16 ***\n",
              "---\n",
              "Signif. codes:  0 ‘***’ 0.001 ‘**’ 0.01 ‘*’ 0.05 ‘.’ 0.1 ‘ ’ 1\n",
              "\n",
              "Residual standard error: 0.8479 on 137403 degrees of freedom\n",
              "  (1406 observations deleted due to missingness)\n",
              "Multiple R-squared:  0.00094,\tAdjusted R-squared:  0.0009327 \n",
              "F-statistic: 129.3 on 1 and 137403 DF,  p-value: < 2.2e-16\n"
            ]
          },
          "metadata": {
            "tags": []
          }
        },
        {
          "output_type": "display_data",
          "data": {
            "text/plain": [
              "          Df     Sum Sq      Mean Sq    F value  Pr(>F)     \n",
              "doc_id         1    92.93703 92.9370289 129.2782 6.07959e-30\n",
              "Residuals 137403 98777.86879  0.7188916       NA          NA"
            ],
            "text/markdown": [
              "\n",
              "A anova: 2 × 5\n",
              "\n",
              "| <!--/--> | Df &lt;int&gt; | Sum Sq &lt;dbl&gt; | Mean Sq &lt;dbl&gt; | F value &lt;dbl&gt; | Pr(&gt;F) &lt;dbl&gt; |\n",
              "|---|---|---|---|---|---|\n",
              "| doc_id |      1 |    92.93703 | 92.9370289 | 129.2782 | 6.07959e-30 |\n",
              "| Residuals | 137403 | 98777.86879 |  0.7188916 |       NA |          NA |\n",
              "\n"
            ],
            "text/latex": [
              "A anova: 2 × 5\n",
              "\\begin{tabular}{r|lllll}\n",
              "  & Df & Sum Sq & Mean Sq & F value & Pr(>F)\\\\\n",
              "  & <int> & <dbl> & <dbl> & <dbl> & <dbl>\\\\\n",
              "\\hline\n",
              "\tdoc\\_id &      1 &    92.93703 & 92.9370289 & 129.2782 & 6.07959e-30\\\\\n",
              "\tResiduals & 137403 & 98777.86879 &  0.7188916 &       NA &          NA\\\\\n",
              "\\end{tabular}\n"
            ],
            "text/html": [
              "<table class=\"dataframe\">\n",
              "<caption>A anova: 2 × 5</caption>\n",
              "<thead>\n",
              "\t<tr><th></th><th scope=col>Df</th><th scope=col>Sum Sq</th><th scope=col>Mean Sq</th><th scope=col>F value</th><th scope=col>Pr(&gt;F)</th></tr>\n",
              "\t<tr><th></th><th scope=col>&lt;int&gt;</th><th scope=col>&lt;dbl&gt;</th><th scope=col>&lt;dbl&gt;</th><th scope=col>&lt;dbl&gt;</th><th scope=col>&lt;dbl&gt;</th></tr>\n",
              "</thead>\n",
              "<tbody>\n",
              "\t<tr><th scope=row>doc_id</th><td>     1</td><td>   92.93703</td><td>92.9370289</td><td>129.2782</td><td>6.07959e-30</td></tr>\n",
              "\t<tr><th scope=row>Residuals</th><td>137403</td><td>98777.86879</td><td> 0.7188916</td><td>      NA</td><td>         NA</td></tr>\n",
              "</tbody>\n",
              "</table>\n"
            ]
          },
          "metadata": {
            "tags": []
          }
        }
      ],
      "metadata": {
        "colab": {
          "base_uri": "https://localhost:8080/",
          "height": 510
        },
        "id": "SvX14avXiZ-Q",
        "outputId": "d4089406-74ce-4e95-a44d-361bcf5a4bd9"
      }
    },
    {
      "cell_type": "markdown",
      "source": [
        "Graphische Darstellung: der Mittelwertunterschied ist gering (nur 0,05 Silben), aber aufgrund der großen Stichproben statistisch signifikant. Der Faktor \"title\" bzw. \"doc_id\" erklärt nur einen verschwinded kleinen Bruchteil der Mittelwertunterschiede.\n",
        "\n"
      ],
      "metadata": {
        "id": "0bOLovMEiZ-Q"
      }
    },
    {
      "cell_type": "code",
      "execution_count": 72,
      "source": [
        "install.packages(\"effects\")"
      ],
      "outputs": [
        {
          "output_type": "stream",
          "name": "stderr",
          "text": [
            "Installing package into ‘/usr/local/lib/R/site-library’\n",
            "(as ‘lib’ is unspecified)\n",
            "\n",
            "also installing the dependencies ‘minqa’, ‘nloptr’, ‘RcppEigen’, ‘numDeriv’, ‘mitools’, ‘carData’, ‘lme4’, ‘survey’, ‘estimability’, ‘insight’\n",
            "\n",
            "\n"
          ]
        }
      ],
      "metadata": {
        "colab": {
          "base_uri": "https://localhost:8080/"
        },
        "id": "fg21LIROrVm5",
        "outputId": "ab8e7825-1b6a-4a0b-842e-a3b81185bb70"
      }
    },
    {
      "cell_type": "code",
      "execution_count": 73,
      "source": [
        "library(effects)\n",
        "allEffects(m)\n",
        "plot(allEffects(m))\n"
      ],
      "outputs": [
        {
          "output_type": "stream",
          "name": "stderr",
          "text": [
            "Loading required package: carData\n",
            "\n",
            "lattice theme set by effectsTheme()\n",
            "See ?effectsTheme for details.\n",
            "\n"
          ]
        },
        {
          "output_type": "display_data",
          "data": {
            "text/plain": [
              " model: syllables ~ doc_id\n",
              "\n",
              " doc_id effect\n",
              "doc_id\n",
              " prozess      tom \n",
              "1.613350 1.561307 "
            ]
          },
          "metadata": {
            "tags": []
          }
        },
        {
          "output_type": "display_data",
          "data": {
            "text/plain": [
              "plot without title"
            ],
            "image/png": "[encoded data removed]"
          },
          "metadata": {
            "tags": [],
            "image/png": {
              "width": 420,
              "height": 420
            }
          }
        }
      ],
      "metadata": {
        "colab": {
          "base_uri": "https://localhost:8080/",
          "height": 639
        },
        "id": "HcDHr6wuiZ-R",
        "outputId": "003aa938-9d6a-47b0-c589-11ca2678e102"
      }
    },
    {
      "cell_type": "markdown",
      "source": [
        "Ergebnisse in Tabellenform:\n",
        "\n"
      ],
      "metadata": {
        "id": "Nu2xW63DiZ-R"
      }
    },
    {
      "cell_type": "code",
      "execution_count": 77,
      "source": [
        "summary(lm(syllables ~ doc_id, data = novels_words)) %>% \n",
        "  tidy() %>% paged_table()\n"
      ],
      "outputs": [
        {
          "output_type": "display_data",
          "data": {
            "text/plain": [
              "  term        estimate    std.error   statistic p.value    \n",
              "1 (Intercept)  1.61334968 0.003183071 506.85317 0.00000e+00\n",
              "2 doc_idtom   -0.05204227 0.004577133 -11.37006 6.07959e-30"
            ],
            "text/markdown": [
              "\n",
              "A paged_df: 2 × 5\n",
              "\n",
              "| term &lt;chr&gt; | estimate &lt;dbl&gt; | std.error &lt;dbl&gt; | statistic &lt;dbl&gt; | p.value &lt;dbl&gt; |\n",
              "|---|---|---|---|---|\n",
              "| (Intercept) |  1.61334968 | 0.003183071 | 506.85317 | 0.00000e+00 |\n",
              "| doc_idtom   | -0.05204227 | 0.004577133 | -11.37006 | 6.07959e-30 |\n",
              "\n"
            ],
            "text/latex": [
              "A paged\\_df: 2 × 5\n",
              "\\begin{tabular}{lllll}\n",
              " term & estimate & std.error & statistic & p.value\\\\\n",
              " <chr> & <dbl> & <dbl> & <dbl> & <dbl>\\\\\n",
              "\\hline\n",
              "\t (Intercept) &  1.61334968 & 0.003183071 & 506.85317 & 0.00000e+00\\\\\n",
              "\t doc\\_idtom   & -0.05204227 & 0.004577133 & -11.37006 & 6.07959e-30\\\\\n",
              "\\end{tabular}\n"
            ],
            "text/html": [
              "<table class=\"dataframe\">\n",
              "<caption>A paged_df: 2 × 5</caption>\n",
              "<thead>\n",
              "\t<tr><th scope=col>term</th><th scope=col>estimate</th><th scope=col>std.error</th><th scope=col>statistic</th><th scope=col>p.value</th></tr>\n",
              "\t<tr><th scope=col>&lt;chr&gt;</th><th scope=col>&lt;dbl&gt;</th><th scope=col>&lt;dbl&gt;</th><th scope=col>&lt;dbl&gt;</th><th scope=col>&lt;dbl&gt;</th></tr>\n",
              "</thead>\n",
              "<tbody>\n",
              "\t<tr><td>(Intercept)</td><td> 1.61334968</td><td>0.003183071</td><td>506.85317</td><td>0.00000e+00</td></tr>\n",
              "\t<tr><td>doc_idtom  </td><td>-0.05204227</td><td>0.004577133</td><td>-11.37006</td><td>6.07959e-30</td></tr>\n",
              "</tbody>\n",
              "</table>\n"
            ]
          },
          "metadata": {
            "tags": []
          }
        }
      ],
      "metadata": {
        "colab": {
          "base_uri": "https://localhost:8080/",
          "height": 161
        },
        "id": "3IFSNFrriZ-R",
        "outputId": "54122732-3b9e-4913-84ce-84a68d96fd64"
      }
    },
    {
      "cell_type": "markdown",
      "source": [
        "Boxplot mit Jitterplot anhand des vollen Datensatzes: der Mittelwert ist hier der Median *median()* (d.h. ein Wert, der genau in der Mitte jeder Stichprobe liegt), das arithmetische Mittel / der Durchschnitt wird hier mit einem roten Quadrat symbolisiert. Der Median liegt in beiden Stichproben beim Wert 1, also weit unter dem jeweiligen Durchschnittswert. Dies zeigt, dass die Wortlängen nicht normalverteilt sind. Der Jitterplot veranschaulicht, dass der \"Prozess\" über mehr Wortformen mit 6, 7 oder 8 Silben verfügt.\n",
        "\n"
      ],
      "metadata": {
        "id": "DqmzvhLliZ-R"
      }
    },
    {
      "cell_type": "code",
      "execution_count": 79,
      "source": [
        "novels_words %>% \n",
        "  group_by(doc_id) %>% \n",
        "  ggplot(aes(doc_id, syllables, fill = doc_id, group = doc_id)) +\n",
        "  geom_jitter(width = 0.4, alpha = 0.5, color = \"gray70\") +\n",
        "  geom_boxplot(notch = FALSE, width = 0.8) +\n",
        "  stat_summary(fun=\"mean\", color = \"red\", shape = 15)+\n",
        "  expand_limits(y = -1) +\n",
        "  scale_y_continuous(breaks = seq(-1, 8, 1)) +\n",
        "  theme(legend.position = \"none\") +\n",
        "  labs(y = \"Mittlere Wortlänge (in Silben)\", x = \"Roman\")\n"
      ],
      "outputs": [
        {
          "output_type": "stream",
          "name": "stderr",
          "text": [
            "Warning message:\n",
            "“Removed 1406 rows containing non-finite values (stat_boxplot).”\n",
            "Warning message:\n",
            "“Removed 1406 rows containing non-finite values (stat_summary).”\n",
            "Warning message:\n",
            "“Removed 1406 rows containing missing values (geom_point).”\n",
            "Warning message:\n",
            "“Removed 2 rows containing missing values (geom_segment).”\n"
          ]
        },
        {
          "output_type": "display_data",
          "data": {
            "text/plain": [
              "plot without title"
            ],
            "image/png": "[encoded data removed]"
          },
          "metadata": {
            "tags": [],
            "image/png": {
              "width": 420,
              "height": 420
            }
          }
        }
      ],
      "metadata": {
        "colab": {
          "base_uri": "https://localhost:8080/",
          "height": 584
        },
        "id": "xtulI4JNiZ-R",
        "outputId": "3a04c47a-2ca0-4aec-a40b-06f41b6e96fd"
      }
    },
    {
      "cell_type": "markdown",
      "source": [
        "Boxplot anhand der zusammengefassten Daten (Durchschnitt, Standardabweichung):\n",
        "\n"
      ],
      "metadata": {
        "id": "9TaVkuZmiZ-R"
      }
    },
    {
      "cell_type": "code",
      "execution_count": 80,
      "source": [
        "df = novels_words %>% \n",
        "  group_by(doc_id) %>% \n",
        "  summarise(Avg_Silben = mean(syllables, na.rm = TRUE),\n",
        "            Stdev_Silben = sd(syllables, na.rm = TRUE),\n",
        "            Avg_Buchstaben = mean(letters, na.rm = TRUE),\n",
        "            Stdev_Buchstaben = sd(letters, na.rm = TRUE))\n",
        "\n",
        "df %>% ggplot(aes(doc_id, Avg_Silben, fill = doc_id, group = doc_id)) +\n",
        "  geom_pointrange(aes(ymin = Avg_Silben - Stdev_Silben, ymax = Avg_Silben + Stdev_Silben),\n",
        "               stat=\"identity\") +\n",
        "  theme(legend.position = \"none\") +\n",
        "  labs(y = \"Mittlere Wortlänge (in Silben)\")\n",
        "\n",
        "df %>% ggplot(aes(doc_id, fill = doc_id, group = doc_id)) +\n",
        "  geom_boxplot(aes(lower = Avg_Silben - Stdev_Silben, upper = Avg_Silben + Stdev_Silben,\n",
        "                   middle = Avg_Silben,\n",
        "                   ymin = Avg_Silben - 3*Stdev_Silben, ymax = Avg_Silben + 3*Stdev_Silben),\n",
        "               stat=\"identity\") +\n",
        "  theme(legend.position = \"none\") +\n",
        "  labs(y = \"Mittlere Wortlänge (in Silben)\")\n"
      ],
      "outputs": [
        {
          "output_type": "display_data",
          "data": {
            "text/plain": [
              "plot without title"
            ],
            "image/png": "[encoded data removed]"
          },
          "metadata": {
            "tags": [],
            "image/png": {
              "width": 420,
              "height": 420
            }
          }
        },
        {
          "output_type": "display_data",
          "data": {
            "text/plain": [
              "plot without title"
            ],
            "image/png": "[encoded data removed]"
          },
          "metadata": {
            "tags": [],
            "image/png": {
              "width": 420,
              "height": 420
            }
          }
        }
      ],
      "metadata": {
        "colab": {
          "base_uri": "https://localhost:8080/",
          "height": 857
        },
        "id": "SddnFDTciZ-S",
        "outputId": "179fc299-3883-4f7d-fca2-d851a6655ff7"
      }
    },
    {
      "cell_type": "markdown",
      "source": [
        "# 10. Quanteda-Funktionen\n",
        "\n",
        "Eine alternative Berechnung der Anzahl der Buchstaben pro Wort mit *quanteda* (ohne t-Test). \n",
        "\n",
        "Die Durchschnittswerte, die uns quanteda liefert, sind etwas höher als die tidyverse-Werte. Aber auch hier ist der Mittelwert für den \"Prozess\" höher als für \"Tom Sawyer\".\n"
      ],
      "metadata": {
        "id": "XO3m-gPEiZ-S"
      }
    },
    {
      "cell_type": "code",
      "execution_count": 82,
      "source": [
        "install.packages(\"quanteda.textstats\")"
      ],
      "outputs": [
        {
          "output_type": "stream",
          "name": "stderr",
          "text": [
            "Installing package into ‘/usr/local/lib/R/site-library’\n",
            "(as ‘lib’ is unspecified)\n",
            "\n",
            "also installing the dependency ‘proxyC’\n",
            "\n",
            "\n"
          ]
        }
      ],
      "metadata": {
        "colab": {
          "base_uri": "https://localhost:8080/"
        },
        "id": "mAkLVMJ2tP9X",
        "outputId": "4bc245ad-5241-47e1-cb7b-edc3f112ceeb"
      }
    },
    {
      "cell_type": "code",
      "execution_count": 90,
      "source": [
        "library(quanteda)\n",
        "library(quanteda.textstats)\n",
        "corp = corpus(novels, text_field = \"text\")\n",
        "stats = textstat_summary(corp)\n",
        "\n",
        "stats %>% paged_table()\n",
        "\n",
        "stats %>% \n",
        "  group_by(document) %>% \n",
        "  transmute(buchstaben = (chars-puncts)/tokens) %>% paged_table()\n"
      ],
      "outputs": [
        {
          "output_type": "display_data",
          "data": {
            "text/plain": [
              "  document chars  sents tokens types puncts numbers symbols urls tags emojis\n",
              "1 prozess  482722 3845  88010  7907  16380  10      0       0    0    0     \n",
              "2 tom      460249 4652  85841  9860  18785   9      0       0    0    0     "
            ],
            "text/markdown": [
              "\n",
              "A paged_df: 2 × 11\n",
              "\n",
              "| <!--/--> | document &lt;chr&gt; | chars &lt;int&gt; | sents &lt;int&gt; | tokens &lt;int&gt; | types &lt;int&gt; | puncts &lt;int&gt; | numbers &lt;int&gt; | symbols &lt;int&gt; | urls &lt;int&gt; | tags &lt;int&gt; | emojis &lt;int&gt; |\n",
              "|---|---|---|---|---|---|---|---|---|---|---|---|\n",
              "| 1 | prozess | 482722 | 3845 | 88010 | 7907 | 16380 | 10 | 0 | 0 | 0 | 0 |\n",
              "| 2 | tom     | 460249 | 4652 | 85841 | 9860 | 18785 |  9 | 0 | 0 | 0 | 0 |\n",
              "\n"
            ],
            "text/latex": [
              "A paged\\_df: 2 × 11\n",
              "\\begin{tabular}{r|lllllllllll}\n",
              "  & document & chars & sents & tokens & types & puncts & numbers & symbols & urls & tags & emojis\\\\\n",
              "  & <chr> & <int> & <int> & <int> & <int> & <int> & <int> & <int> & <int> & <int> & <int>\\\\\n",
              "\\hline\n",
              "\t1 & prozess & 482722 & 3845 & 88010 & 7907 & 16380 & 10 & 0 & 0 & 0 & 0\\\\\n",
              "\t2 & tom     & 460249 & 4652 & 85841 & 9860 & 18785 &  9 & 0 & 0 & 0 & 0\\\\\n",
              "\\end{tabular}\n"
            ],
            "text/html": [
              "<table class=\"dataframe\">\n",
              "<caption>A paged_df: 2 × 11</caption>\n",
              "<thead>\n",
              "\t<tr><th></th><th scope=col>document</th><th scope=col>chars</th><th scope=col>sents</th><th scope=col>tokens</th><th scope=col>types</th><th scope=col>puncts</th><th scope=col>numbers</th><th scope=col>symbols</th><th scope=col>urls</th><th scope=col>tags</th><th scope=col>emojis</th></tr>\n",
              "\t<tr><th></th><th scope=col>&lt;chr&gt;</th><th scope=col>&lt;int&gt;</th><th scope=col>&lt;int&gt;</th><th scope=col>&lt;int&gt;</th><th scope=col>&lt;int&gt;</th><th scope=col>&lt;int&gt;</th><th scope=col>&lt;int&gt;</th><th scope=col>&lt;int&gt;</th><th scope=col>&lt;int&gt;</th><th scope=col>&lt;int&gt;</th><th scope=col>&lt;int&gt;</th></tr>\n",
              "</thead>\n",
              "<tbody>\n",
              "\t<tr><th scope=row>1</th><td>prozess</td><td>482722</td><td>3845</td><td>88010</td><td>7907</td><td>16380</td><td>10</td><td>0</td><td>0</td><td>0</td><td>0</td></tr>\n",
              "\t<tr><th scope=row>2</th><td>tom    </td><td>460249</td><td>4652</td><td>85841</td><td>9860</td><td>18785</td><td> 9</td><td>0</td><td>0</td><td>0</td><td>0</td></tr>\n",
              "</tbody>\n",
              "</table>\n"
            ]
          },
          "metadata": {
            "tags": []
          }
        },
        {
          "output_type": "display_data",
          "data": {
            "text/plain": [
              "  document buchstaben\n",
              "1 prozess  5.298739  \n",
              "2 tom      5.142811  "
            ],
            "text/markdown": [
              "\n",
              "A paged_df: 2 × 2\n",
              "\n",
              "| document &lt;chr&gt; | buchstaben &lt;dbl&gt; |\n",
              "|---|---|\n",
              "| prozess | 5.298739 |\n",
              "| tom     | 5.142811 |\n",
              "\n"
            ],
            "text/latex": [
              "A paged\\_df: 2 × 2\n",
              "\\begin{tabular}{ll}\n",
              " document & buchstaben\\\\\n",
              " <chr> & <dbl>\\\\\n",
              "\\hline\n",
              "\t prozess & 5.298739\\\\\n",
              "\t tom     & 5.142811\\\\\n",
              "\\end{tabular}\n"
            ],
            "text/html": [
              "<table class=\"dataframe\">\n",
              "<caption>A paged_df: 2 × 2</caption>\n",
              "<thead>\n",
              "\t<tr><th scope=col>document</th><th scope=col>buchstaben</th></tr>\n",
              "\t<tr><th scope=col>&lt;chr&gt;</th><th scope=col>&lt;dbl&gt;</th></tr>\n",
              "</thead>\n",
              "<tbody>\n",
              "\t<tr><td>prozess</td><td>5.298739</td></tr>\n",
              "\t<tr><td>tom    </td><td>5.142811</td></tr>\n",
              "</tbody>\n",
              "</table>\n"
            ]
          },
          "metadata": {
            "tags": []
          }
        }
      ],
      "metadata": {
        "colab": {
          "base_uri": "https://localhost:8080/",
          "height": 305
        },
        "id": "ypuRYilOiZ-S",
        "outputId": "d9dc738c-b8aa-4961-c8cf-d2325e8e0626"
      }
    },
    {
      "cell_type": "markdown",
      "source": [
        "Die Durchschnittswerte unterscheiden sich in den Berechnungen (tidyverse vs. quanteda), was mit der verschiedenen Art der Tokenisierung und der Aussonderung von nicht relevanten Tokens und leeren Datenzeilen (NA) zu tun hat. \n",
        "\n",
        "\n",
        "# 11. Konsonantenverbindungen\n",
        "\n",
        "Welche Konsonantenverbindungen (Buchstabenverbindungen) kommen häufiger vor in den Texten?\n",
        "Wir zerlegen die Texte im Korpus in kleinere Einheiten (mittels *tokens*()), aber dieses Mal in alphanumerische Zeichen (Buchstaben). \n",
        "Anschließend wenden wir *char_ngrams()*-Funktion an, mit der man Verknüpfungen von Zeichen feststellen kann.\n"
      ],
      "metadata": {
        "id": "TDTPi-ZeiZ-T"
      }
    },
    {
      "cell_type": "code",
      "execution_count": 91,
      "source": [
        "tok_ch = tokens(corp, what = \"character\", remove_punct = TRUE, remove_symbols = T, remove_numbers = T, remove_url = T, remove_separators = T)\n",
        "\n",
        "ngrams_ch = char_ngrams(as.character(tok_ch), n = c(2,3,4), concatenator = \"\")\n"
      ],
      "outputs": [],
      "metadata": {
        "id": "A6d2FolfiZ-T"
      }
    },
    {
      "cell_type": "markdown",
      "source": [
        "Wir wandeln die ngram-Liste in einen Datensatz um (mittels *tibble()*), was das Zählen mit einer *tidyverse*-Funktion ermöglicht.\n",
        "\n"
      ],
      "metadata": {
        "id": "hzAELx9FiZ-T"
      }
    },
    {
      "cell_type": "code",
      "execution_count": 92,
      "source": [
        "ngrams_char = ngrams_ch %>% \n",
        "  as_tibble() %>% \n",
        "  rename(cluster = value)\n",
        "\n",
        "ngrams_char %>% \n",
        "  count(cluster, sort = TRUE) %>% \n",
        "  head(10) %>% \n",
        "  paged_table()\n"
      ],
      "outputs": [
        {
          "output_type": "display_data",
          "data": {
            "text/plain": [
              "   cluster n    \n",
              "1  en      26084\n",
              "2  er      23737\n",
              "3  ch      22570\n",
              "4  te      15489\n",
              "5  ei      14106\n",
              "6  nd      12972\n",
              "7  de      12831\n",
              "8  ie      11753\n",
              "9  in      11525\n",
              "10 ic      10119"
            ],
            "text/markdown": [
              "\n",
              "A paged_df: 10 × 2\n",
              "\n",
              "| cluster &lt;chr&gt; | n &lt;int&gt; |\n",
              "|---|---|\n",
              "| en | 26084 |\n",
              "| er | 23737 |\n",
              "| ch | 22570 |\n",
              "| te | 15489 |\n",
              "| ei | 14106 |\n",
              "| nd | 12972 |\n",
              "| de | 12831 |\n",
              "| ie | 11753 |\n",
              "| in | 11525 |\n",
              "| ic | 10119 |\n",
              "\n"
            ],
            "text/latex": [
              "A paged\\_df: 10 × 2\n",
              "\\begin{tabular}{ll}\n",
              " cluster & n\\\\\n",
              " <chr> & <int>\\\\\n",
              "\\hline\n",
              "\t en & 26084\\\\\n",
              "\t er & 23737\\\\\n",
              "\t ch & 22570\\\\\n",
              "\t te & 15489\\\\\n",
              "\t ei & 14106\\\\\n",
              "\t nd & 12972\\\\\n",
              "\t de & 12831\\\\\n",
              "\t ie & 11753\\\\\n",
              "\t in & 11525\\\\\n",
              "\t ic & 10119\\\\\n",
              "\\end{tabular}\n"
            ],
            "text/html": [
              "<table class=\"dataframe\">\n",
              "<caption>A paged_df: 10 × 2</caption>\n",
              "<thead>\n",
              "\t<tr><th scope=col>cluster</th><th scope=col>n</th></tr>\n",
              "\t<tr><th scope=col>&lt;chr&gt;</th><th scope=col>&lt;int&gt;</th></tr>\n",
              "</thead>\n",
              "<tbody>\n",
              "\t<tr><td>en</td><td>26084</td></tr>\n",
              "\t<tr><td>er</td><td>23737</td></tr>\n",
              "\t<tr><td>ch</td><td>22570</td></tr>\n",
              "\t<tr><td>te</td><td>15489</td></tr>\n",
              "\t<tr><td>ei</td><td>14106</td></tr>\n",
              "\t<tr><td>nd</td><td>12972</td></tr>\n",
              "\t<tr><td>de</td><td>12831</td></tr>\n",
              "\t<tr><td>ie</td><td>11753</td></tr>\n",
              "\t<tr><td>in</td><td>11525</td></tr>\n",
              "\t<tr><td>ic</td><td>10119</td></tr>\n",
              "</tbody>\n",
              "</table>\n"
            ]
          },
          "metadata": {
            "tags": []
          }
        }
      ],
      "metadata": {
        "colab": {
          "base_uri": "https://localhost:8080/",
          "height": 412
        },
        "id": "gJ5Z6_QiiZ-T",
        "outputId": "b3ea4883-aeb1-4e89-84b5-0cd345e44129"
      }
    },
    {
      "cell_type": "markdown",
      "source": [
        "to be continued ...\n",
        "\n",
        "\n",
        "# 12. Datensatz-Variante\n"
      ],
      "metadata": {
        "id": "pD4c64MsiZ-U"
      }
    },
    {
      "cell_type": "code",
      "execution_count": null,
      "source": [
        "novels_words_char <- novels %>%\n",
        "  unnest_tokens(word, text, token = \"words\", to_lower = TRUE, drop = T) %>% \n",
        "  mutate(Silben = nsyllable::nsyllable(as.character(word), language = \"en\")) %>% \n",
        "  unnest_tokens(character, word, token = \"characters\", to_lower = TRUE, drop = F) %>% \n",
        "  mutate(buchstabe = ifelse(str_detect(character, vokale), \"Vokal\", \"Konsonant\"))\n",
        "  \n",
        "head(novels_words_char) %>% head(10) %>% paged_table()\n"
      ],
      "outputs": [],
      "metadata": {
        "id": "gT4cYTqKiZ-U"
      }
    },
    {
      "cell_type": "markdown",
      "source": [
        "\n"
      ],
      "metadata": {
        "id": "KgwtH59OiZ-U"
      }
    }
  ]
}