{
    "cells": [
        {
            "cell_type": "markdown",
            "metadata": {},
            "source": [
                "\n",
                "\n"
            ]
        },
        {
            "cell_type": "code",
            "execution_count": null,
            "metadata": {},
            "outputs": [],
            "source": [
                "knitr::opts_chunk$set(echo = TRUE)\n",
                "knitr::opts_chunk$set(dev='cairo_pdf') # printing all ipa symbols\n",
                "\n",
                "# necessary lines for certain (german) IPA symbols (for <ö>) !!!\n",
                "Sys.setlocale(\"LC_ALL\", \"German\")\n",
                "options(encoding = \"UTF-8\")\n"
            ]
        },
        {
            "cell_type": "markdown",
            "metadata": {},
            "source": [
                "# Programme starten\n",
                "\n"
            ]
        },
        {
            "cell_type": "code",
            "execution_count": null,
            "metadata": {},
            "outputs": [],
            "source": [
                "library(tidyverse)\n",
                "library(scales)\n",
                "library(readxl)\n",
                "library(writexl)\n",
                "library(phonR)\n",
                "library(extrafont)\n"
            ]
        },
        {
            "cell_type": "markdown",
            "metadata": {},
            "source": [
                "# Daten laden\n",
                "\n"
            ]
        },
        {
            "cell_type": "code",
            "execution_count": null,
            "metadata": {},
            "outputs": [],
            "source": [
                "vokale <- read_xlsx(\"data/S03_Vokalformanten_Diagramme.xlsx\", sheet =\"A1-4_alle\") %>% \n",
                "  janitor::clean_names() %>% \n",
                "  select(-studierende) %>% \n",
                "  mutate(geschlecht = \"f\") %>% \n",
                "  select(sprecherin, geschlecht, vokal, f1, f2, dauer, lange, wort, phrase) %>% \n",
                "  mutate(l1_l2 = ifelse(sprecherin == \"Deutsche\", \"L1\", \"L2\")) %>% \n",
                "  mutate(vokal = str_replace(vokal, \"F:\", \"E:\")) %>% \n",
                "  mutate(vowel = vokal)\n",
                "head(vokale)\n",
                "\n",
                "vergleich <- read_xlsx(\"data/S03_Vokalformanten_Diagramme.xlsx\", sheet =\"A10_Vgl_L1_L2_tab\") %>% \n",
                "  janitor::clean_names() %>% \n",
                "  mutate(phonem = str_replace(phonem, \"EE\", \"E:\")) %>% \n",
                "  rename(f1_l1 = f1_in_hz,\n",
                "         f2_l1 = f2_in_hz,\n",
                "         dauer_l1 = dauer_in_ms,\n",
                "         vokal = phonem)\n",
                "head(vergleich)\n"
            ]
        },
        {
            "cell_type": "markdown",
            "metadata": {},
            "source": [
                "\n",
                "\n"
            ]
        },
        {
            "cell_type": "code",
            "execution_count": null,
            "metadata": {},
            "outputs": [],
            "source": [
                "df0 <- read.csv(\"data/Deutsche_formants.Table.csv\", stringsAsFactors = FALSE, fileEncoding = \"UTF-8\") \n",
                "df1a <- read.csv(\"data/Monika_I_formants.Table.csv\", stringsAsFactors = FALSE, fileEncoding = \"UTF-8\") \n",
                "df1b <- read.csv(\"data/Monika_II_formants.Table.csv\", stringsAsFactors = FALSE, fileEncoding = \"UTF-8\") \n",
                "df2 <- read.csv(\"data/Donna_formants.Table.csv\", stringsAsFactors = FALSE, fileEncoding = \"UTF-8\")\n",
                "df3 <- read.csv(\"data/Metka_formants.Table.csv\", stringsAsFactors = FALSE, fileEncoding = \"UTF-8\") \n",
                "df4 <- read.csv(\"data/Jasmina_formants.Table.csv\", stringsAsFactors = FALSE, fileEncoding = \"UTF-8\") \n",
                "df5 <- read.csv(\"data/Teodor_II_formants.Table.csv\", stringsAsFactors = FALSE, fileEncoding = \"UTF-8\") \n",
                "\n",
                "df0 <- df0 %>% mutate(speaker = \"Deutsche\")\n",
                "df1a <- df1a %>% mutate(speaker = \"Monika1\")\n",
                "df1b <- df1b %>% mutate(speaker = \"Monika2\")\n",
                "df2 <- df2 %>% mutate(speaker = \"Donna\")\n",
                "df3 <- df3 %>% mutate(speaker = \"Metka\")\n",
                "df4 <- df4 %>% mutate(speaker = \"Jasmina\")\n",
                "df5 <- df5 %>% mutate(speaker = \"Teodor\")\n",
                "\n",
                "df <- rbind(df0,df1a,df1b,df2,df3,df4,df5)\n",
                "head(df)\n"
            ]
        },
        {
            "cell_type": "markdown",
            "metadata": {},
            "source": [
                "# IPA syms\n",
                "\n"
            ]
        },
        {
            "cell_type": "code",
            "execution_count": null,
            "metadata": {},
            "outputs": [],
            "source": [
                "par(family='Helvetica')\n",
                "par(family = \"Charis SIL\")\n",
                "\n",
                "i = \"i:\"\n",
                "I = \"ɪ\"\n",
                "y = \"y:\"\n",
                "Y = \"ʏ\"\n",
                "e = \"e:\"\n",
                "E = \"ɛ\"\n",
                "EE = \"ɛ\\u02D0\"\n",
                "oe = \"ø:\"\n",
                "oe = \"ø\\u02D0\"\n",
                "# oe = \"\\u00F8\" # wird nicht gedruckt\n",
                "# oe = \"\\u00D8\" # ok, aber eigentlich ein anderes Phonem\n",
                "# oe = \"\\u2205\" # ok, aber eigentlich ein anderes Phonem\n",
                "# oe = \"&#248\" # wird nicht gedruckt\n",
                "OE = \"œ\"\n",
                "# OE = \"\\u0153\"\n",
                "# OE = \"&#339\"\n",
                "schwa = \"ə\"\n",
                "a = \"a\"\n",
                "A = \"a:\"\n",
                "o = \"o:\"\n",
                "O = \"ɔ\"\n",
                "u = \"u:\"\n",
                "U = \"ʊ\"\n",
                "\n",
                "ipavow = c(a,A,e,E,EE,I,i,O,o,U,u,Y,y,OE,oe, schwa) %>%  as_tibble() %>% rename(vowel = value)\n",
                "\n",
                "vergleich <- vergleich %>% cbind(ipavow) %>% select(-phonem_ipa_1, -phonem_ipa_2)\n"
            ]
        },
        {
            "cell_type": "markdown",
            "metadata": {},
            "source": [
                "\n",
                "\n"
            ]
        },
        {
            "cell_type": "code",
            "execution_count": null,
            "metadata": {},
            "outputs": [],
            "source": [
                "# Deutsche Vokale\n",
                "vowel_lookup =\n",
                "  c(\n",
                "    ii = \"i:\",\n",
                "    I = \"ɪ\",\n",
                "    yy = \"y:\",\n",
                "    Y = \"ʏ\",\n",
                "    ee = \"e:\",\n",
                "    E = \"ɛ\",\n",
                "    EE = \"ɛ\\u02D0\",\n",
                "    Ea = \"ɛa\",\n",
                "    oe = \"ø:\",\n",
                "    oe = \"ø\\u02D0\",\n",
                "    # oe = \"\\u00F8\" # wird nicht gedruckt\n",
                "    # oe = \"\\u00D8\" # ok, aber eigentlich ein anderes Phonem\n",
                "    # oe = \"\\u2205\" # ok, aber eigentlich ein anderes Phonem\n",
                "    # oe = \"&#248\" # wird nicht gedruckt\n",
                "    OE = \"œ\",\n",
                "    OOE = \"œ:\",\n",
                "    # OE = \"\\u0153\"\n",
                "    # OE = \"&#339\"\n",
                "    schwa = \"ə\",\n",
                "    a = \"a\",\n",
                "    AA = \"a:\",\n",
                "    oo = \"o:\",\n",
                "    O = \"ɔ\",\n",
                "    OO = \"ɔ:\",\n",
                "    uu = \"u:\",\n",
                "    U = \"ʊ\"\n",
                "    \n",
                "  )\n",
                "\n",
                "df$IPA <- vowel_lookup[df$vowel]\n"
            ]
        },
        {
            "cell_type": "markdown",
            "metadata": {},
            "source": [
                "# Vergleich mit IPA\n",
                "\n"
            ]
        },
        {
            "cell_type": "code",
            "execution_count": null,
            "metadata": {},
            "outputs": [],
            "source": [
                "vgl_pivot <- vergleich %>% \n",
                "  group_by(vokal) %>% \n",
                "  pivot_longer(f1_l1:dauer_l2, names_to = \"category\", values_to = \"value\") %>% \n",
                "  separate(category, into = c(\"category\", \"l1_l2\")) %>% \n",
                "  drop_na() %>% \n",
                "  pivot_wider(names_from = category, values_from = value)\n",
                "head(vgl_pivot)\n",
                "\n",
                "# par(family='Charis SIL')\n",
                "(graph4 <- vgl_pivot %>% \n",
                "  drop_na() %>% \n",
                "  group_by(vokal, l1_l2, lange) %>% \n",
                "  ggplot(aes(f2,f1, label = vowel)) +\n",
                "  geom_hex(alpha = 0.2, show.legend = F) +\n",
                "  theme(text=element_text(size=16)) + # family = \"Charis SIL\"\n",
                "  geom_text(aes(label = vowel, color = vowel), # family = \"Charis SIL\"\n",
                "            vjust = 1, hjust = 1, check_overlap = T, show.legend = F, size = 6) +\n",
                "  # geom_label(aes(x = mean(f2), y = mean(f1)), color = \"black\") + \n",
                "  # stat_ellipse() +\n",
                "  scale_y_reverse() +\n",
                "  scale_x_reverse(breaks = c(1000, 1250, 1500, 1750, 2000, 2250, 2500)) +\n",
                "  facet_wrap(~ lange + l1_l2) +\n",
                "  theme_light() + \n",
                "  labs(y = \"Formant F1: tief >> hoch\",\n",
                "       x = \"Formant F2: << vorne - hinten >>\") +\n",
                "  theme(#panel.grid.major=element_blank(),\n",
                "        #panel.grid.minor=element_blank(),\n",
                "        # text = element_text(family='Charis SIL'),\n",
                "        plot.title = element_text(hjust = 0.5),\n",
                "        legend.position = \"none\")\n",
                ")\n",
                "ggsave(\"pictures/vergleich_vokalformanten_lang_kurz_ipa.jpg\")\n",
                "\n",
                "library(plotly)\n",
                "ggplotly(graph4) %>% layout(showlegend = FALSE)\n"
            ]
        },
        {
            "cell_type": "markdown",
            "metadata": {},
            "source": [
                "\n",
                "\n"
            ]
        },
        {
            "cell_type": "code",
            "execution_count": null,
            "metadata": {},
            "outputs": [],
            "source": [
                "font = list(\n",
                "  # family = 'Charis SIL',\n",
                "  family = 'Arial',\n",
                "  size = 15,\n",
                "  color = \"black\"\n",
                ")\n",
                "\n",
                "label = list(\n",
                "  bgcolor = \"white\",\n",
                "  bordercolor = \"transparent\",\n",
                "  font = font\n",
                ")\n",
                "\n",
                "library(plotly)\n",
                "(graph4_interactive <- ggplotly(graph4, tooltip=c(\"x\", \"y\", \"text\")) %>% \n",
                "  style(hoverlabel = label) %>%\n",
                "  layout(showlegend = FALSE,\n",
                "         font = font,\n",
                "         yaxis = list(fixedrange = TRUE),\n",
                "         xaxis = list(fixedrange = TRUE)) %>%\n",
                "  config(displayModeBar = FALSE, showTips = T)\n",
                ")\n",
                "\n",
                "library(htmlwidgets)\n",
                "saveWidget(graph4_interactive, \"pictures/vokalformanten_interaktiv_l1_l2_lang_kurz.html\", \n",
                "           selfcontained = T)\n",
                "\n",
                "# Sys.setenv(\"plotly_username\"=\"dataslice\")\n",
                "# Sys.setenv(\"plotly_api_key\"=\"x\")\n",
                "# \n",
                "# api_create(space_times, \"Space Times\")\n",
                "\n",
                "# save it in html\n",
                "library(\"htmlwidgets\")\n",
                "saveWidget(graph4_interactive,\"tmp.html\", selfcontained = F)\n",
                "\n",
                "# and in pdf\n",
                "library(webshot)\n",
                "webshot(\"tmp.html\",\"pictures/vokalformanten_interaktiv_l1_l2_lang_kurz.png\", delay =5, vwidth = 1000, vheight=800)\n",
                "webshot(\"tmp.html\",\"pictures/vokalformanten_interaktiv_l1_l2_lang_kurz.pdf\", delay =5, vwidth = 800, vheight=600)\n"
            ]
        },
        {
            "cell_type": "markdown",
            "metadata": {},
            "source": [
                "\n",
                "\n"
            ]
        },
        {
            "cell_type": "code",
            "execution_count": null,
            "metadata": {},
            "outputs": [],
            "source": [
                "vgl_pivot <- vergleich %>% \n",
                "  group_by(vokal) %>% \n",
                "  pivot_longer(f1_l1:dauer_l2, names_to = \"category\", values_to = \"value\") %>% \n",
                "  separate(category, into = c(\"category\", \"l1_l2\")) %>% \n",
                "  drop_na() %>% \n",
                "  pivot_wider(names_from = category, values_from = value)\n",
                "head(vgl_pivot)\n",
                "\n",
                "(graph5 <- vgl_pivot %>% \n",
                "  drop_na() %>% \n",
                "  group_by(vokal, l1_l2, lange) %>% \n",
                "  ggplot(aes(f2,f1)) +\n",
                "  geom_hex(alpha = 0.2, show.legend = F) +\n",
                "  geom_text(aes(label = vowel, color = vowel), \n",
                "            vjust = 1, hjust = 1, check_overlap = T, show.legend = F, size = 6) +\n",
                "  scale_y_reverse() +\n",
                "  scale_x_reverse(breaks = c(1000, 1250, 1500, 1750, 2000, 2250, 2500)) +\n",
                "  facet_wrap(~ l1_l2) +\n",
                "  theme_light() + \n",
                "  labs(y = \"Formant F1: tief >> hoch\",\n",
                "       x = \"Formant F2: << vorne - hinten >>\")\n",
                ")\n",
                "ggsave(\"pictures/vergleich_vokalformanten_lang_kurz_ipa.jpg\")\n",
                "\n",
                "library(plotly)\n",
                "ggplotly(graph5) %>% layout(showlegend = FALSE)\n"
            ]
        },
        {
            "cell_type": "markdown",
            "metadata": {},
            "source": [
                "Messungen von TP mit Praat-Script (👉 Matt Winn: https://github.com/mwinn83)\n",
                "\n"
            ]
        },
        {
            "cell_type": "code",
            "execution_count": null,
            "metadata": {},
            "outputs": [],
            "source": [
                "library(ggrepel)\n",
                "\n",
                "(graph6 <- df %>% \n",
                "   filter(speaker != \"Monika1\") %>% \n",
                "    group_by(vowel, speaker, IPA) %>% \n",
                "  summarise(f1 = mean(F1),\n",
                "            f2 = mean(F2)) %>% \n",
                "  ggplot(aes(f2,f1)) +\n",
                "  geom_hex(alpha = 0.2, show.legend = F) +\n",
                "  geom_text(aes(label = IPA, color = IPA),\n",
                "            vjust = 1, hjust = 1, check_overlap = T, show.legend = F, size = 5) +\n",
                "  # geom_label_repel(aes(label = IPA, color = IPA),\n",
                "  #           vjust = 1, hjust = 1, check_overlap = T, show.legend = F, size = 5) +\n",
                "  scale_y_reverse() +\n",
                "  scale_x_reverse(breaks = c(1000, 1250, 1500, 1750, 2000, 2250, 2500)) +\n",
                "  facet_wrap(~ speaker) +\n",
                "  # theme_light() + \n",
                "  theme(axis.text.x = element_text(angle = 60, hjust = 1)) +\n",
                "  labs(y = \"Formant F1: tief >> hoch\",\n",
                "       x = \"Formant F2: << vorne - hinten >>\")\n",
                " )\n",
                "\n",
                "ggsave(\"pictures/messungen_tp_vokalformanten_ipa.jpg\", dpi = 100, width = 10, height = 10)\n",
                "\n",
                "library(plotly)\n",
                "ggplotly(graph6) %>% layout(showlegend = FALSE)\n"
            ]
        },
        {
            "cell_type": "markdown",
            "metadata": {},
            "source": [
                "\n",
                "\n"
            ]
        },
        {
            "cell_type": "code",
            "execution_count": null,
            "metadata": {},
            "outputs": [],
            "source": [
                "vowlist1 <- c(\"i:\",\"I\",\"ü:\",\"Ü\",\"e:\",\"E\",\"ö:\",\"Ö\",\"E:\",\"a:\",\"a\",\"o:\",\"O\",\"u:\",\"U\") # unsere Symbole\n",
                "vowlist2 = c(\"i:\",\"I\",\"ue:\",\"Ue\",\"e:\",\"E\",\"oe:\",\"Oe\",\"E:\",\"a:\",\"a\",\"o:\",\"O\",\"u:\",\"U\") # Umlautsymbole ersetzt\n",
                "vowlist3 = c(\"i:\",\"I\",\"y:\",\"Y\",\"e:\",\"E\",\"2:\",\"9\",\"E:\",\"a:\",\"a\",\"o:\",\"O\",\"u:\",\"U\") # Sampa\n",
                "vowlist4 = c(\"i:\",\"I\",\"ii:\",\"II\",\"e:\",\"E\",\"ee:\",\"EE\",\"E:\",\"a:\",\"a\",\"o:\",\"O\",\"u:\",\"U\") # Verdoppelung langer Vokale\n"
            ]
        },
        {
            "cell_type": "markdown",
            "metadata": {},
            "source": [
                "\n",
                "\n"
            ]
        },
        {
            "cell_type": "code",
            "execution_count": null,
            "metadata": {},
            "outputs": [],
            "source": [
                "vokale_agg <- vokale %>% \n",
                "  group_by(vokal, lange, l1_l2) %>% \n",
                "  summarise(f1_avg = mean(f1),\n",
                "            f2_avg = mean(f2),\n",
                "            dauer_avg = mean(dauer))\n",
                "\n",
                "ipavow2 = c(a,A,E,e,EE,I,i,O,OE,o,oe,U,Y,u,y) %>%  as_tibble() %>% rename(vowel = value)\n",
                "\n",
                "vokale_agg1 <- vokale_agg %>% filter(l1_l2 == \"L1\") %>% cbind(ipavow2)\n",
                "vokale_agg2 <- vokale_agg %>% filter(l1_l2 == \"L2\") %>% cbind(ipavow2)\n",
                "vokale_agg <- rbind(vokale_agg1, vokale_agg2) %>% as_tibble()\n",
                "head(vokale_agg)\n"
            ]
        },
        {
            "cell_type": "markdown",
            "metadata": {},
            "source": "\n"
        },
        {
            "cell_type": "code",
            "execution_count": null,
            "metadata": {},
            "outputs": [],
            "source": [
                "library(tidytext)\n",
                "library(ggrepel)\n",
                "\n",
                "(graph <- vokale %>% \n",
                "  group_by(vokal, l1_l2, color = vokal, label = vokal, fill = vokal, shape = vokal) %>% \n",
                "  ggplot(aes(f2,f1)) +\n",
                "  geom_hex(alpha = 0.2, show.legend = F) +\n",
                "  geom_label(data = vokale_agg, label = vokale_agg$vowel, aes(x = f2_avg, y = f1_avg), color = \"black\") + \n",
                "  stat_ellipse(level = 0.67, geom = \"polygon\", alpha = 0.2) +\n",
                "  scale_color_discrete(breaks = c(\"a\",\"a:\",\"e:\",\"E\",\"E:\",\"I\",\"i:\",\"O\",\"o:\",\"U\",\"u:\",\"Y\",\"y:\",\"Ö\",\"ö\")) +\n",
                "  # geom_text(aes(label = vokal, color = vokal), vjust = 1, hjust = 1, check_overlap = T, show.legend = F) +\n",
                "  scale_y_reverse() +\n",
                "  scale_x_reverse() +\n",
                "  facet_wrap(~ l1_l2) +\n",
                "  theme_light() + \n",
                "  guides(color = F) +\n",
                "  labs(y = \"Formant F1: tief >> hoch\",\n",
                "       x = \"Formant F2: << vorne - hinten >>\")\n",
                ")\n"
            ]
        },
        {
            "cell_type": "markdown",
            "metadata": {},
            "source": [
                "\n",
                "\n"
            ]
        },
        {
            "cell_type": "code",
            "execution_count": null,
            "metadata": {},
            "outputs": [],
            "source": [
                "(graph <- vokale_agg %>% \n",
                "  group_by(vokal, l1_l2, label = vowel) %>% \n",
                "  ggplot(aes(f2_avg,f1_avg)) +\n",
                "  geom_hex(alpha = 0.2, show.legend = F) +\n",
                "  geom_text(aes(label = vowel, color = vowel), \n",
                "            size = 6, vjust = 1, hjust = 1, check_overlap = T, show.legend = F) +\n",
                "  scale_y_reverse() +\n",
                "  scale_x_reverse() +\n",
                "  facet_wrap(~ l1_l2) +\n",
                "  theme_light() + \n",
                "  labs(y = \"Formant F1: tief >> hoch\",\n",
                "       x = \"Formant F2: << vorne - hinten >>\")\n",
                ")\n",
                "ggsave(\"pictures/vokalformanten.jpg\")\n",
                "\n",
                "library(plotly)\n",
                "ggplotly(graph) %>% layout(showlegend = FALSE)\n"
            ]
        },
        {
            "cell_type": "markdown",
            "metadata": {},
            "source": [
                "\n",
                "\n"
            ]
        },
        {
            "cell_type": "code",
            "execution_count": null,
            "metadata": {},
            "outputs": [],
            "source": [
                "vgl_pivot <- vergleich %>% \n",
                "  group_by(vokal) %>% \n",
                "  pivot_longer(f1_l1:dauer_l2, names_to = \"category\", values_to = \"value\") %>% \n",
                "  separate(category, into = c(\"category\", \"l1_l2\")) %>% \n",
                "  drop_na() %>% \n",
                "  pivot_wider(names_from = category, values_from = value)\n",
                "head(vgl_pivot)\n",
                "\n",
                "(graph2 <- vgl_pivot %>% \n",
                "  drop_na() %>% \n",
                "  group_by(vokal, l1_l2) %>% \n",
                "  ggplot(aes(f2,f1)) +\n",
                "  geom_hex(alpha = 0.2, show.legend = F) +\n",
                "  geom_text(aes(label = vowel, color = vowel), \n",
                "            size = 6, vjust = 1, hjust = 1, check_overlap = T, show.legend = F) +\n",
                "  scale_y_reverse() +\n",
                "  scale_x_reverse(breaks = c(1000, 1250, 1500, 1750, 2000, 2250, 2500)) +\n",
                "  facet_wrap(~ l1_l2) +\n",
                "  theme_light() + \n",
                "  labs(y = \"Formant F1: tief >> hoch\",\n",
                "       x = \"Formant F2: << vorne - hinten >>\")\n",
                ")\n",
                "ggsave(\"pictures/vergleich_vokalformanten.jpg\")\n",
                "\n",
                "library(plotly)\n",
                "ggplotly(graph2) %>% layout(showlegend = FALSE)\n"
            ]
        },
        {
            "cell_type": "markdown",
            "metadata": {},
            "source": [
                "\n",
                "\n"
            ]
        },
        {
            "cell_type": "code",
            "execution_count": null,
            "metadata": {},
            "outputs": [],
            "source": [
                "vgl_pivot <- vergleich %>% \n",
                "  group_by(vokal) %>% \n",
                "  pivot_longer(f1_l1:dauer_l2, names_to = \"category\", values_to = \"value\") %>% \n",
                "  separate(category, into = c(\"category\", \"l1_l2\")) %>% \n",
                "  drop_na() %>% \n",
                "  pivot_wider(names_from = category, values_from = value)\n",
                "head(vgl_pivot)\n",
                "\n",
                "(graph3 <- vgl_pivot %>% \n",
                "  drop_na() %>% \n",
                "  group_by(vokal, l1_l2, lange) %>% \n",
                "  ggplot(aes(f2,f1)) +\n",
                "  geom_hex(alpha = 0.2, show.legend = F) +\n",
                "  geom_text(aes(label = vowel, color = vowel), \n",
                "            size = 6, vjust = 1, hjust = 1, check_overlap = T, show.legend = F) +\n",
                "  scale_y_reverse() +\n",
                "  scale_x_reverse(breaks = c(1000, 1250, 1500, 1750, 2000, 2250, 2500)) +\n",
                "  facet_wrap(~ lange + l1_l2) +\n",
                "  theme_light() + \n",
                "  labs(y = \"Formant F1: tief >> hoch\",\n",
                "       x = \"Formant F2: << vorne - hinten >>\")\n",
                ")\n",
                "ggsave(\"pictures/vergleich_vokalformanten_lang_kurz.jpg\")\n",
                "\n",
                "library(plotly)\n",
                "ggplotly(graph2) %>% layout(showlegend = FALSE)\n"
            ]
        },
        {
            "cell_type": "markdown",
            "metadata": {},
            "source": "\n"
        },
        {
            "cell_type": "code",
            "execution_count": null,
            "metadata": {},
            "outputs": [],
            "source": [
                "library(phonR)\n",
                "\n",
                "par(mfrow = c(1, 1))\n",
                "with(vokale_agg, plotVowels(f1_avg, f2_avg, vowel, group = lange, pch.tokens = vowel, cex.tokens = 1.2, \n",
                "    alpha.tokens = 0.3, plot.means = TRUE, pch.means = vowel, cex.means = 2, var.col.by = vowel, \n",
                "    var.sty.by = lange, hull.fill = TRUE, hull.line = TRUE, fill.opacity = 0.1, \n",
                "    pretty = TRUE))\n",
                "\n",
                "# 1. Open jpeg file\n",
                "jpeg(\"pictures/phonR_vowel_space.jpg\", \n",
                "     width = 840, height = 535)\n",
                "# 2. Create the plot\n",
                "with(vokale_agg, plotVowels(f1_avg, f2_avg, vowel, group = lange, pch.tokens = vowel, cex.tokens = 1.2, \n",
                "    alpha.tokens = 0.3, plot.means = TRUE, pch.means = vowel, cex.means = 2, var.col.by = vowel, \n",
                "    var.sty.by = lange, hull.fill = TRUE, hull.line = TRUE, fill.opacity = 0.1, \n",
                "    pretty = TRUE))\n",
                "# 3. Close the file\n",
                "dev.off()\n"
            ]
        },
        {
            "cell_type": "markdown",
            "metadata": {},
            "source": [
                "\n",
                "\n"
            ]
        },
        {
            "cell_type": "code",
            "execution_count": null,
            "metadata": {},
            "outputs": [],
            "source": [
                "library(phonR)\n",
                "\n",
                "par(mfrow = c(1, 1))\n",
                "with(vokale, plotVowels(f1, f2, vokal, group = lange, pch.tokens = vokal, cex.tokens = 1.2, \n",
                "    alpha.tokens = 0.3, plot.means = TRUE, pch.means = vokal, cex.means = 2, var.col.by = lange, \n",
                "    var.sty.by = lange, hull.fill = TRUE, hull.line = TRUE, fill.opacity = 0.1, \n",
                "    pretty = TRUE))\n",
                "\n",
                "# 1. Open jpeg file\n",
                "jpeg(\"pictures/phonR_vowel_space2.jpg\", \n",
                "     width = 840, height = 535)\n",
                "# 2. Create the plot\n",
                "with(vokale, plotVowels(f1, f2, vokal, group = lange, pch.tokens = vokal, cex.tokens = 1.2, \n",
                "    alpha.tokens = 0.3, plot.means = TRUE, pch.means = vokal, cex.means = 2, var.col.by = lange, \n",
                "    var.sty.by = lange, hull.fill = TRUE, hull.line = TRUE, fill.opacity = 0.1, \n",
                "    pretty = TRUE))\n",
                "# 3. Close the file\n",
                "dev.off()\n"
            ]
        },
        {
            "cell_type": "markdown",
            "metadata": {},
            "source": [
                "\n",
                "\n"
            ]
        }
    ],
    "metadata": {
        "anaconda-cloud": "",
        "kernelspec": {
            "display_name": "R",
            "langauge": "R",
            "name": "ir"
        },
        "language_info": {
            "codemirror_mode": "r",
            "file_extension": ".r",
            "mimetype": "text/x-r-source",
            "name": "R",
            "pygments_lexer": "r",
            "version": "3.4.1"
        }
    },
    "nbformat": 4,
    "nbformat_minor": 1
}
