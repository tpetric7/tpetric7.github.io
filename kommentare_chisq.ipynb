{
    "cells": [
        {
            "cell_type": "markdown",
            "metadata": {},
            "source": "\n"
        },
        {
            "cell_type": "code",
            "execution_count": null,
            "metadata": {},
            "outputs": [],
            "source": [
                "knitr::opts_chunk$set(echo = TRUE)\n",
                "\n"
            ]
        },
        {
            "cell_type": "markdown",
            "metadata": {},
            "source": "\n"
        },
        {
            "cell_type": "code",
            "execution_count": null,
            "metadata": {},
            "outputs": [],
            "source": [
                "library(tidyverse)\n",
                "library(scales)\n",
                "library(janitor)\n"
            ]
        },
        {
            "cell_type": "markdown",
            "metadata": {},
            "source": [
                "# Datei laden\n",
                "\n",
                "Eine Lehrerin möchte wissen, ob es effektiver ist, wenn sie am Rand der Schüleressays kurze oder ausführlichere Kommentare zu den Fehlern der Schüler_innen notiert. Sie vergleicht somit zwei Schülergruppen (Schüler_innen mit kurzen vs. langen Kommentaren) und zwei Beurteilungskategorien (korrekte vs. inkorrekte Äußerungen in den Essays).\n"
            ]
        },
        {
            "cell_type": "code",
            "execution_count": null,
            "metadata": {},
            "outputs": [],
            "source": [
                "# von github laden\n",
                "kommentare = read.delim(\n",
                "  \"https://raw.githubusercontent.com/tpetric7/tpetric7.github.io/main/data/chisq_kommentare.txt\",\n",
                "  sep = \"\\t\", fileEncoding = \"UTF-8\")\n",
                "\n",
                "# Variablennamen konsequent schreiben\n",
                "kommentare = kommentare %>% \n",
                "  clean_names()\n",
                "\n",
                "# Von der Festplatte laden\n",
                "kommentare = read.delim(\"data/chisq_kommentare.txt\", sep = \"\\t\", fileEncoding = \"UTF-8\") %>% \n",
                "  clean_names()\n",
                "head(kommentare)\n"
            ]
        },
        {
            "cell_type": "markdown",
            "metadata": {},
            "source": [
                "# Chi-Quadrat-Test\n",
                "\n",
                "Stichproben: kurzer Kommentar vs. langer Kommentar\n",
                "\n",
                "H0: Zwischen den beiden Stichproben besteht kein signifikanter Unterschied (Unterschiede zufällig).\n",
                "H1: Zwischen den beiden Stichproben besteht ein signifikanter Unterschied (Unterschiede nicht zufällig).\n"
            ]
        },
        {
            "cell_type": "code",
            "execution_count": null,
            "metadata": {},
            "outputs": [],
            "source": [
                "chisq.test(kommentare[,-1])\n",
                "\n"
            ]
        },
        {
            "cell_type": "markdown",
            "metadata": {},
            "source": [
                "Wir verwerfen H0 und nehmen H1 an: zwischen kurzen und langen Kommentaren besteht ein nicht zufälliger Unterschied.\n",
                "\n",
                "\n",
                "# Graphische Darstellung\n"
            ]
        },
        {
            "cell_type": "code",
            "execution_count": null,
            "metadata": {},
            "outputs": [],
            "source": [
                "(kom_lang = kommentare %>% \n",
                "  as_tibble() %>% \n",
                "  pivot_longer(kurzer_kommentar:ausfuhrlicher_kommentar, \n",
                "               names_to = \"Kommentar\",\n",
                "               values_to = \"Fehler\") %>% \n",
                "  mutate(pct = Fehler/sum(Fehler))\n",
                ")\n",
                "\n",
                "kom_lang  %>%  ggplot(aes(Kommentar, pct, fill = neugeschriebener_satz)) +\n",
                "  geom_col(position = \"dodge\") +\n",
                "  scale_y_continuous(labels = percent_format()) +\n",
                "  labs(x = \"Neugeschriebener Satz\", y = \"\",\n",
                "       title = \"Wirksamkeit kurzer und langer Kommentare\")\n"
            ]
        },
        {
            "cell_type": "markdown",
            "metadata": {},
            "source": "\n"
        }
    ],
    "metadata": {
        "anaconda-cloud": "",
        "kernelspec": {
            "display_name": "R",
            "langauge": "R",
            "name": "ir"
        },
        "language_info": {
            "codemirror_mode": "r",
            "file_extension": ".r",
            "mimetype": "text/x-r-source",
            "name": "R",
            "pygments_lexer": "r",
            "version": "3.4.1"
        }
    },
    "nbformat": 4,
    "nbformat_minor": 1
}
