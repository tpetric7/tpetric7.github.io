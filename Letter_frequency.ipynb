{
    "cells": [
        {
            "cell_type": "markdown",
            "source": [
                "\n"
            ],
            "metadata": {}
        },
        {
            "cell_type": "code",
            "execution_count": null,
            "source": [
                "knitr::opts_chunk$set(echo = TRUE)\r\n",
                "\r\n"
            ],
            "outputs": [],
            "metadata": {}
        },
        {
            "cell_type": "markdown",
            "source": [
                "# 0. Packages\n",
                "\n"
            ],
            "metadata": {}
        },
        {
            "cell_type": "code",
            "execution_count": null,
            "source": [
                "library(tidyverse)\r\n",
                "library(tidytext)\r\n",
                "library(scales)\r\n",
                "library(readtext)\r\n",
                "# library(qdap) # syllable_count and syllable_sum\r\n",
                "# library(quanteda) # nsyllable(tokens(txt))\r\n"
            ],
            "outputs": [],
            "metadata": {}
        },
        {
            "cell_type": "markdown",
            "source": [
                "# 1. Datensatz lesen\n",
                "\n",
                "Die *readtext()*-Funktion erlaubt Einlesen von mehreren Dateien auf einfache Art und Weise.\n",
                "Mit *docvarsfrom* erhalten wird eine neue Spalte in der Tabelle, die wir mit der Funktion *rename()* umbenennen.\n",
                "Mit *encoding = \"UTF-8\"* teilen wir dem Programm mit, wie der Text kodiert ist (Code Page).\n"
            ],
            "metadata": {}
        },
        {
            "cell_type": "code",
            "execution_count": null,
            "source": [
                "novels_txt = readtext(\"data/books/*.txt\", docvarsfrom = \"filenames\", encoding = \"UTF-8\") %>% \r\n",
                "  rename(title = docvar1)\r\n",
                "novels_txt\r\n"
            ],
            "outputs": [],
            "metadata": {}
        },
        {
            "cell_type": "markdown",
            "source": [
                "# 2. Buchstaben extrahieren\n",
                "\n",
                "## aus Liste\n",
                "\n",
                "Der reguläre Ausdruck *[a-zA-Z]* extrahiert nur Buchstaben des englischen Alphabets, *[:alpha:]* extrahiert dagegen auch nicht-englische Buchstaben, z.B. deutsche oder slowenische Sonderzeichen. Zahlen und andere spezielle Zeichen (z.B. Interpunktion) werden auf diese Weise nicht extrahiert.\n",
                "\n",
                "Regex *{1}* (= default) extrahiert Einzelbuchstaben. Bei Verwendung von *{2}* werden jeweils zwei aufeinander folgende Buchstaben extrahiert.\n",
                "\n",
                "Die Funktion *tolower()* sorgt dafür, dass Großbuchstaben in Kleinbuchstaben umgewandelt werden. Falls zwischen großen und kleinen Buchstaben unterschieden werden soll, entfernen wir diese Funktion aus dem Programmkode.\n"
            ],
            "metadata": {}
        },
        {
            "cell_type": "code",
            "execution_count": null,
            "source": [
                "letters = tolower(novels_txt$text) %>% str_extract_all(pattern = \"[:alpha:]{1}\")\n",
                "letters[[1]][1:10]\n",
                "letters[[2]][1:9]\n"
            ],
            "outputs": [],
            "metadata": {}
        },
        {
            "cell_type": "markdown",
            "source": [
                "## aus Datensatz\n",
                "\n",
                "Tabellen und Graphiken erstellen ist leichter, wenn wir die Texte in Datensätze umwandeln, und zwar mit der Funktion *as.data.frame()*.\n"
            ],
            "metadata": {}
        },
        {
            "cell_type": "code",
            "execution_count": null,
            "source": [
                "novels = as.data.frame(novels_txt)\n",
                "\n"
            ],
            "outputs": [],
            "metadata": {}
        },
        {
            "cell_type": "markdown",
            "source": [
                "Mit der Funktion *unnest_tokens()* können wir auch Buchstaben isolieren und anschließend auszählen.\n",
                "\n"
            ],
            "metadata": {}
        },
        {
            "cell_type": "code",
            "execution_count": null,
            "source": [
                "library(tidytext)\n",
                "\n",
                "novels_character <- novels %>%\n",
                "  unnest_tokens(character, text, token = \"characters\", to_lower = TRUE, drop = T)\n",
                "\n",
                "head(novels_character)\n"
            ],
            "outputs": [],
            "metadata": {}
        },
        {
            "cell_type": "markdown",
            "source": [
                "# 3. Buchstaben zählen\n",
                "\n",
                "Mit *count()* können wir die Häufigkeit einer Variable (hier: der Buchstaben) auszählen.\n"
            ],
            "metadata": {}
        },
        {
            "cell_type": "code",
            "execution_count": null,
            "source": [
                "novels_character %>% \n",
                "  count(character, sort = TRUE)\n"
            ],
            "outputs": [],
            "metadata": {}
        },
        {
            "cell_type": "markdown",
            "source": [
                "Der tidytext-Tokenizer hat nicht nur Buchstaben, sondern auch Zahlen extrahiert. Da wir nur an der Häufigkeit von Buchstaben interessiert sind, filtern wir die Zahlen und andere Zeichen heraus. Dazu verwenden wir die Funktionen *filter()* und zusätzlich *str_detect()*, da wir für diese Aufgabe einen regulären Ausdruck nutzen wollen.\n",
                "\n"
            ],
            "metadata": {}
        },
        {
            "cell_type": "code",
            "execution_count": null,
            "source": [
                "novels_character %>% \n",
                "  filter(str_detect(character, \"[:alpha:]\")) %>% \n",
                "  count(character, sort = T)\n"
            ],
            "outputs": [],
            "metadata": {}
        },
        {
            "cell_type": "markdown",
            "source": [
                "Ein paar Zeichen, die nicht zum deutschen Alphabet gehören und mit dem vorherigen Programm-Schritt nicht herausfiltern konnten, werden im nächsten Schritt ebenfalls herausgefiltert.\n",
                "\n",
                "Wir speichern das Ergebnis als neue Tabelle mit dem Namen \"char_freq\".\n"
            ],
            "metadata": {}
        },
        {
            "cell_type": "code",
            "execution_count": null,
            "source": [
                "char_freq = novels_character %>% \n",
                "  filter(str_detect(character, \"[:alpha:]\")) %>% \n",
                "  filter(!str_detect(character, \"é|á\")) %>% \n",
                "  count(character, sort = T)\n",
                "\n",
                "char_freq\n"
            ],
            "outputs": [],
            "metadata": {}
        },
        {
            "cell_type": "markdown",
            "source": [
                "Insgesamt haben wir 30 Buchstaben des deutschen Alphabets in den Romanen unterschieden.\n",
                "Aus wie vielen Buchstaben des deutschen Alphabets bestehen die Romane? Die Summe erhalten wir mit der Funktion *summarise()* - fast 700 Tausend.\n"
            ],
            "metadata": {}
        },
        {
            "cell_type": "code",
            "execution_count": null,
            "source": [
                "char_freq %>% \n",
                "  summarise(total = sum(n))\n"
            ],
            "outputs": [],
            "metadata": {}
        },
        {
            "cell_type": "markdown",
            "source": [
                "Es ist nun wirklich Zeit, mal ein Bild zu malen! \n",
                "Dazu verwenden wir das Programm (library) *ggplot2*, das im Programmbündel *tidyverse* enthalten ist.\n",
                "\n",
                "Das Diagramm zeigt sehr deutlich, dass gewaltige Häufigkeitsunterschiede im deutschen Alphabet bestehen.\n"
            ],
            "metadata": {}
        },
        {
            "cell_type": "code",
            "execution_count": null,
            "source": [
                "char_freq %>% \n",
                "  mutate(character = fct_reorder(character, n)) %>% # Sortieren nach Frequenz\n",
                "  ggplot(aes(n, character, fill = character)) +\n",
                "  geom_col() +\n",
                "  theme(legend.position = \"none\")\n"
            ],
            "outputs": [],
            "metadata": {}
        },
        {
            "cell_type": "markdown",
            "source": [
                "Eine bessere Vorstellung von den Zahlenverhältnissen erhalten wir, wenn wir die mehrstelligen Zahlenwerte in Prozente umwandeln.\n",
                "\n"
            ],
            "metadata": {}
        },
        {
            "cell_type": "code",
            "execution_count": null,
            "source": [
                "library(scales)\n",
                "char_freq %>% \n",
                "  mutate(Prozent = n / sum(n)) %>% # Umwandlung in Prozente\n",
                "  ungroup() %>% \n",
                "  mutate(character = fct_reorder(character, Prozent)) %>% # Sortieren nach Prozenten\n",
                "  ggplot(aes(Prozent, character, fill = character)) +\n",
                "  geom_col() +\n",
                "  theme(legend.position = \"none\") +\n",
                "  scale_x_continuous(labels = percent) # Prozent-Format\n"
            ],
            "outputs": [],
            "metadata": {}
        },
        {
            "cell_type": "markdown",
            "source": [
                "# 4. Vokale\n",
                "\n",
                "Betrachten wir zunächst nur die Buchstaben, die Vokale symbolisieren!\n",
                "Zu diesem Zweck bilden wir eine Vokalliste. Zwischen den Vokalen setzen wir das \"oder\"-Zeichen ein: den *logischen Operator* \"|\".\n"
            ],
            "metadata": {}
        },
        {
            "cell_type": "code",
            "execution_count": null,
            "source": [
                "vokale = \"a|e|i|o|u|ä|ö|ü|y\"\n",
                "\n"
            ],
            "outputs": [],
            "metadata": {}
        },
        {
            "cell_type": "markdown",
            "source": [
                "Die Vokalliste \"vokale\" verwenden wir mit den Funktionen *filter()* und *str_detect()*.\n",
                "\n"
            ],
            "metadata": {}
        },
        {
            "cell_type": "code",
            "execution_count": null,
            "source": [
                "library(scales)\n",
                "char_freq %>% \n",
                "  filter(str_detect(character, vokale)) %>% \n",
                "  mutate(Prozent = n / sum(n)) %>% # Umwandlung in Prozente\n",
                "  ungroup() %>% \n",
                "  mutate(character = fct_reorder(character, Prozent)) %>% # Sortieren nach Prozenten\n",
                "  ggplot(aes(Prozent, character, fill = character)) +\n",
                "  geom_col() +\n",
                "  theme(legend.position = \"none\") +\n",
                "  labs(y = \"Vokale\", x = \"Häufigkeit in Romanen\") +\n",
                "  scale_x_continuous(labels = percent, breaks = seq(0, 0.50, 0.05)) # Prozent-Format\n"
            ],
            "outputs": [],
            "metadata": {}
        },
        {
            "cell_type": "markdown",
            "source": [
                "Am häufigsten kommt der Buchstabe \"e\" in den Romanen vor (fast 45%-iger Anteil unter den Vokalen!), am seltensten \"y\", welches im Wesentlichen in Fremd- und Lehnwörtern auftritt.\n",
                "\n",
                "\n",
                "# 5. Konsonanten\n",
                "\n",
                "Welche Buchstaben, die Konsonanten symbolisieren, kommen am häufigsten vor?\n",
                "Zum Filtern verwenden wir wiederum die Vokalliste, dieses Mal allerdings mit Negationszeichen \"!\".\n"
            ],
            "metadata": {}
        },
        {
            "cell_type": "code",
            "execution_count": null,
            "source": [
                "library(scales)\n",
                "char_freq %>% \n",
                "  filter(!str_detect(character, vokale)) %>% # Negationszeichen, daher Konsonanten beibehalten\n",
                "  mutate(Prozent = n / sum(n)) %>% # Umwandlung in Prozente\n",
                "  ungroup() %>% \n",
                "  mutate(character = fct_reorder(character, Prozent)) %>% # Sortieren nach Prozenten\n",
                "  ggplot(aes(Prozent, character, fill = character)) +\n",
                "  geom_col() +\n",
                "  theme(legend.position = \"none\") +\n",
                "  labs(y = \"Konsonanten\", x = \"Häufigkeit in Romanen\") +\n",
                "  scale_x_continuous(labels = percent, breaks = seq(0, 0.50, 0.02)) # Prozent-Format und Einheiten\n"
            ],
            "outputs": [],
            "metadata": {}
        },
        {
            "cell_type": "markdown",
            "source": [
                "Der Buchstabe \"n\" kommt in den Romanen am häufigsten vor, gefolgt von den Buchstaben: \"r, s, t, h, d\".\n",
                "Selten sind die Buchstaben: \"x, q, p, ß, v\".\n",
                "\n",
                "\n",
                "# 6. Vokal-Konsonant-Verhältnis\n",
                "\n",
                "Welches Zahlenverhältnis besteht zwischen den Vokalen und Konsonanten?\n",
                "\n",
                "21 konsonantische Buchstaben und 9 vokalische Buchstaben. Pro Silbe sind in den deutschen Texten 1 Vokal und ungefähr 2 Konsonanten zu erwarten, also Silbenstrukturen wie z.B. KVK, KKV, VKK.\n"
            ],
            "metadata": {}
        },
        {
            "cell_type": "code",
            "execution_count": null,
            "source": [
                "char_freq %>% \n",
                "  mutate(buchstabe = ifelse(str_detect(character, vokale), \"Vokal\", \"Konsonant\")) %>% \n",
                "  count(buchstabe)\n"
            ],
            "outputs": [],
            "metadata": {}
        },
        {
            "cell_type": "markdown",
            "source": [
                "Der höhere Anteil der Konsonanten entspricht der größeren Konsonantenmenge.\n",
                "\n"
            ],
            "metadata": {}
        },
        {
            "cell_type": "code",
            "execution_count": null,
            "source": [
                "char_freq %>% \n",
                "  mutate(buchstabe = ifelse(str_detect(character, vokale), \"Vokal\", \"Konsonant\")) %>% \n",
                "  mutate(Prozent = n / sum(n)) %>% \n",
                "  group_by(buchstabe) %>% \n",
                "  summarise(Avg_Prozent = sum(Prozent))\n"
            ],
            "outputs": [],
            "metadata": {}
        },
        {
            "cell_type": "markdown",
            "source": [
                "\n",
                "\n"
            ],
            "metadata": {}
        },
        {
            "cell_type": "code",
            "execution_count": null,
            "source": [
                "char_freq %>% \n",
                "  mutate(buchstabe = ifelse(str_detect(character, vokale), \"Vokal\", \"Konsonant\")) %>% \n",
                "  mutate(Prozent = n / sum(n)) %>% \n",
                "  group_by(buchstabe) %>% \n",
                "  summarise(Avg_Prozent = sum(Prozent)) %>% \n",
                "  ggplot(aes(Avg_Prozent, buchstabe, fill = buchstabe)) +\n",
                "  geom_col() +\n",
                "  theme(legend.position = \"none\") +\n",
                "  labs(y = \"Vokale / Konsonanten\", x = \"Häufigkeit in Romanen\") +\n",
                "  scale_x_continuous(labels = percent, breaks = seq(0, 0.75, 0.1)) # Prozent-Format und Einheiten\n"
            ],
            "outputs": [],
            "metadata": {}
        },
        {
            "cell_type": "markdown",
            "source": [
                "Diese Zahlenwerte und -verhältnisse bilden einen möglichen Ausgangspunkt für intra- oder interlinguale Vergleiche. \n",
                "\n",
                "\n",
                "# 7. Anzahl der Silben\n",
                "\n",
                "Wie viele Silben kommen in den Romanen schätzungsweise vor und wie viele Buchstaben pro Silbe? Die genaue Bestimmung der Silbenanzahl für eine bestimmte Sprache kann aufgrund zahlreicher Besonderheiten ziemlich kompliziert sein. Die Anzahl der Silben schätzen wir daher mit einer Funktion des Programms *nsyllable* (Alternatives Programm: *qdap*). \n",
                "\n",
                "Da wir die Silbenzählfunktion nur ein einziges Mal bemühen, rufen wir sie in der unten sichtbaren Form auf: *nsyllable::nsyllable(buchstabenfolge)*.\n"
            ],
            "metadata": {}
        },
        {
            "cell_type": "code",
            "execution_count": null,
            "source": [
                "novels_words <- novels %>%\n",
                "  unnest_tokens(word, text, token = \"words\", to_lower = TRUE, drop = T) %>% \n",
                "  mutate(syllables = nsyllable::nsyllable(as.character(word), language = \"en\")) %>% \n",
                "  mutate(letters = nchar(word))\n",
                "  \n",
                "head(novels_words)\n"
            ],
            "outputs": [],
            "metadata": {}
        },
        {
            "cell_type": "markdown",
            "source": [
                "Insgesamt (d.h. kumulativ gesehen) fast 139 Tausend Silben in den Romanen. Diese Zahl bietet einen möglichen Ausgangspunkt für Textvergleiche.\n",
                "\n"
            ],
            "metadata": {}
        },
        {
            "cell_type": "code",
            "execution_count": null,
            "source": [
                "novels_words %>% \n",
                "  count(syllables) %>% \n",
                "  summarise(Silben = sum(n))\n"
            ],
            "outputs": [],
            "metadata": {}
        },
        {
            "cell_type": "markdown",
            "source": [
                "Die meisten Wortformen in den Romanen bestehen aus einer Silbe (fast 60%) oder zwei Silben (fast 30%). Das ist typisch für deutsche Texte. Kurze Funktionswörter (meist eine Silbe) kommen wesentlich häufiger vor als andere Wortklassen (Substantive, Verben, Adjektive, Adverbien).\n",
                "\n"
            ],
            "metadata": {}
        },
        {
            "cell_type": "code",
            "execution_count": null,
            "source": [
                "novels_words %>% \n",
                "  count(syllables) %>% \n",
                "  mutate(Prozent = n / sum(n)) %>% \n",
                "  ggplot(aes(syllables, Prozent, fill = factor(syllables))) +\n",
                "  geom_col() +\n",
                "  theme(legend.position = \"none\") +\n",
                "  labs(x = \"Silben\") +\n",
                "  scale_y_continuous(labels = percent, breaks = seq(0, 0.75, 0.1)) # Prozent-Format und Einheiten\n"
            ],
            "outputs": [],
            "metadata": {}
        },
        {
            "cell_type": "markdown",
            "source": [
                "Berücksichtig man lediglich distinktive Wortformen (also keine Wortwiederholungen), dann ergibt sich die folgende Verteilung, in der die Zweisilber (mehr als 30%) und Dreisilber (fast 30%) den größten Anteil haben.\n",
                "\n"
            ],
            "metadata": {}
        },
        {
            "cell_type": "code",
            "execution_count": null,
            "source": [
                "novels_words %>% \n",
                "  distinct(word, .keep_all = T) %>%\n",
                "  count(syllables) %>% \n",
                "  mutate(Prozent = n / sum(n)) %>% \n",
                "  ggplot(aes(syllables, Prozent, fill = factor(syllables))) +\n",
                "  geom_col() +\n",
                "  theme(legend.position = \"none\") +\n",
                "  labs(x = \"Silben\") +\n",
                "  scale_y_continuous(labels = percent, breaks = seq(0, 0.75, 0.1)) # Prozent-Format und Einheiten\n"
            ],
            "outputs": [],
            "metadata": {}
        },
        {
            "cell_type": "markdown",
            "source": [
                "# 8. Mittlere Wortlänge\n",
                "\n",
                "Wir können die Wortlänge in geschriebenen Texten auf zumindest zwei grundlegende Arten messen:\n",
                "- die Anzahl der Silben pro Wort(form),\n",
                "- die Anzahl der Buchstaben pro Wort(form).\n",
                "\n",
                "Die durchschnittliche Anzahl der Silben und Buchstaben pro Wort (distinkte Wortformen !) in den Romanen ist in der folgenden Tabelle zu sehen: \n",
                "- neben den Mittelwerten (Avg_Silben, Avg_Buchstaben) \n",
                "- auch die  Standardabweichungen vom entsprechenden Mittelwert (Stdev_Silben, Stdev_Buchstaben). \n",
                "Die Mittelwerte oder arithmetischen Mittel können mit der Programmfunktion *mean()* berechnet werden, die Standardabweichungen mit der Funktion *sd()*.\n",
                "Die Standardabweichungen sind notwendig zur Feststellung nicht-zufälliger Unterschiede zwischen den Stichproben (d.h. den Romanen).\n",
                "Bei der Berechnung der Mittelwerte und Standardabweichungen geben wir dem Programm auch die Instruktion, etwaige leere Datenzeilen (*NA*) herauszufiltern, und zwar mit Hilfe von *na.rm = TRUE*. Wird dies unterlassen, kann dies dazu führen, dass ein Mittelwert bzw. Standardabweichung nicht berechnet werden kann. \n",
                "\n",
                "In der folgenden Tabelle werden nur distinktive Wortformen (Types) berücksichtigt, d.h. als ob jede Wortform nur einmal pro Roman vorkommt.\n"
            ],
            "metadata": {}
        },
        {
            "cell_type": "code",
            "execution_count": null,
            "source": [
                "novels_words %>% \n",
                "  group_by(title) %>% \n",
                "  distinct(word, .keep_all = T) %>%\n",
                "  add_count(word) %>% \n",
                "  summarise(Avg_Silben = mean(syllables, na.rm = TRUE),\n",
                "            Stdev_Silben = sd(syllables, na.rm = TRUE),\n",
                "            Avg_Buchstaben = mean(letters, na.rm = TRUE),\n",
                "            Stdev_Buchstaben = sd(letters, na.rm = TRUE))\n"
            ],
            "outputs": [],
            "metadata": {}
        },
        {
            "cell_type": "markdown",
            "source": [
                "Die durchschnittliche Anzahl der Silben und Buchstaben pro Wortform (Token), bei Berücksichtigung von Wortwiederholungen in den Romanen, ist in der folgenden Tabelle zu sehen. \n",
                "\n"
            ],
            "metadata": {}
        },
        {
            "cell_type": "code",
            "execution_count": null,
            "source": [
                "novels_words %>% \n",
                "  group_by(title) %>% \n",
                "  summarise(Avg_Silben = mean(syllables, na.rm = TRUE),\n",
                "            Stdev_Silben = sd(syllables, na.rm = TRUE),\n",
                "            Avg_Buchstaben = mean(letters, na.rm = TRUE),\n",
                "            Stdev_Buchstaben = sd(letters, na.rm = TRUE))\n"
            ],
            "outputs": [],
            "metadata": {}
        },
        {
            "cell_type": "markdown",
            "source": [
                "# 9. Testen von Mittelwertunterschieden\n",
                "\n",
                "## t-Test\n",
                "\n",
                "Sind die berechneten Unterschiede zwischen den Mittelwerten relevant bzw. nicht-zufällig? Um diese Frage zu klären, kann man einen statistischen Test bemühen. Da wir lediglich zwei Samples (zwei Romanen) vergleichen wollen, kann uns ein parametrischer Test wie z.B. der t-Test Klarheit verschaffen. Wir verwenden die Programmfunktion *t.test()*.\n",
                "Der t-Test bestätigt, dass \"Der Prozess\" im Durchschnitt etwas längere Wörter aufweist (2,59 Silben pro Wort gegenüber 2,44 Silben pro Wort in \"Tom Sawyer\") - wenn Anzahl distinktiver Wortformen verwendet.\n"
            ],
            "metadata": {}
        },
        {
            "cell_type": "code",
            "execution_count": null,
            "source": [
                "syls = novels_words %>% \n",
                "  group_by(title) %>% \n",
                "  distinct(word, .keep_all = T) %>%\n",
                "  add_count(word) %>% \n",
                "  drop_na() %>% \n",
                "  select(title, word, syllables) %>% \n",
                "  pivot_wider(names_from = title, values_from = syllables)\n",
                "\n",
                "t.test(syls$prozess, syls$tom) # significant\n"
            ],
            "outputs": [],
            "metadata": {}
        },
        {
            "cell_type": "markdown",
            "source": [
                "Wenn die Wiederholung von Wortformen berücksichtigt wird, bestätigt der t-Test ebenfalls einen signifikanten Unterschied zwischen den beiden Texten. Die durchschnittliche Anzahl der Wortsilben ist niedriger, da kürzere Wortformen (solche von Konjunktionen, Präpositionen, Artikeln und anderen Funktionswörtern) häufig vorkommen.\n",
                "\n",
                "Schnelle Form des t-Tests:\n"
            ],
            "metadata": {}
        },
        {
            "cell_type": "code",
            "execution_count": null,
            "source": [
                "t.test(syllables ~ title, data = novels_words)\n",
                "\n"
            ],
            "outputs": [],
            "metadata": {}
        },
        {
            "cell_type": "markdown",
            "source": [
                "Dasselbe Ergebnis, aber aufwendiger zu programmieren, um den Datensatz in die entsprechende Form zu bringen:\n",
                "\n"
            ],
            "metadata": {}
        },
        {
            "cell_type": "code",
            "execution_count": null,
            "source": [
                "prozess_syl <- novels_words %>% \n",
                "  filter(title == \"prozess\") %>% \n",
                "  select(syllables) %>% \n",
                "  rename(prozess = syllables)\n",
                "tom_syl <- novels_words %>% \n",
                "  filter(title == \"tom\") %>% \n",
                "  select(syllables) %>% \n",
                "  rename(prozess = syllables)\n",
                "  \n",
                "t.test(prozess_syl, tom_syl) # significant\n"
            ],
            "outputs": [],
            "metadata": {}
        },
        {
            "cell_type": "markdown",
            "source": [
                "Der nächste t-Test bestätigt ebenfalls, dass \"Der Prozess\" im Durchschnitt längere Wörter aufweist (8,79 Buchstaben pro Wort gegenüber 8.36 Buchstaben pro Wort in \"Tom Sawyer\".) Berücksichtigt wurden distinkte Wortformen (keine wiederholten Wortformen).\n",
                "\n"
            ],
            "metadata": {}
        },
        {
            "cell_type": "code",
            "execution_count": null,
            "source": [
                "lets = novels_words %>% \n",
                "  group_by(title) %>% \n",
                "  distinct(word, .keep_all = T) %>%\n",
                "  add_count(word) %>% \n",
                "  drop_na() %>% \n",
                "  select(title, word, letters) %>% \n",
                "  pivot_wider(names_from = title, values_from = letters)\n",
                "\n",
                "t.test(lets$prozess, lets$tom) # significant\n"
            ],
            "outputs": [],
            "metadata": {}
        },
        {
            "cell_type": "markdown",
            "source": [
                "Wenn die Wiederholung von Wortformen berücksichtigt wird, bestätigt der t-Test wiederum einen signifikanten Unterschied zwischen den beiden Texten. Die durchschnittliche Anzahl der Buchstaben pro Wort ist niedriger, da kürzere Wortformen (solche von Konjunktionen, Präpositionen, Artikeln und anderen Funktionswörtern) häufig vorkommen.\n",
                "\n",
                "Schnelle Form des t-Tests:\n"
            ],
            "metadata": {}
        },
        {
            "cell_type": "code",
            "execution_count": null,
            "source": [
                "t.test(letters ~ title, data = novels_words)\n",
                "\n"
            ],
            "outputs": [],
            "metadata": {}
        },
        {
            "cell_type": "markdown",
            "source": [
                "Dasselbe Ergebnis, aber aufwendiger zu programmieren, um den Datensatz in die entsprechende Form zu bringen:\n",
                "\n"
            ],
            "metadata": {}
        },
        {
            "cell_type": "code",
            "execution_count": null,
            "source": [
                "prozess_let <- novels_words %>% \n",
                "  filter(title == \"prozess\") %>% \n",
                "  select(letters) %>% \n",
                "  rename(prozess = letters)\n",
                "tom_let <- novels_words %>% \n",
                "  filter(title == \"tom\") %>% \n",
                "  select(letters) %>% \n",
                "  rename(prozess = letters)\n",
                "  \n",
                "t.test(prozess_let, tom_let) # significant\n"
            ],
            "outputs": [],
            "metadata": {}
        },
        {
            "cell_type": "markdown",
            "source": [
                "## Lineare Regression\n",
                "\n",
                "Hat man mehr als zwei Stichproben zu vergleichen, kann man eine lineare Regression durchführen, die auch das Testen von mehreren Einflussgrößen (Prädiktoren) erlaubt. \n",
                "\n",
                "Hier folgt eine Demonstration anhand des bereits gehabten Datensatzes mit zwei Stichproben (Romanen).\n",
                "Die Ordinate im Koordinatensystem (Intercept, also der y-Abschnitt mit x = 0) ist bei zwei Stichproben gleich dem Mittelwert der ersten Stichprobe (title = \"prozess\"), d.h. 1,613350. Der geschätzte Mittelwert (Estimate) der zweiten Stichprobe (title = \"tom\") ist um den Wert 0,052042 niedriger, d.h. 1,613350 - 0,052042 = 1,561308 (Dezimalkommas statt Dezimalpunkte!).\n",
                "\n",
                "Der R-Quadrat-Wert (R-squared) ist allerdings sehr klein, d.h. dass der Prädiktor \"title\" (Roman) nur einen Bruchteil der festgestellten Mittelwertvarianz (Veränderungen der Mittelwerte) zu erklären vermag. Möglicherweise gibt es andere Prädiktoren, die die Mittelwertvarianz besser erklären. \n"
            ],
            "metadata": {}
        },
        {
            "cell_type": "code",
            "execution_count": null,
            "source": [
                "m <- lm(syllables ~ title, data = novels_words)\n",
                "summary(m)\n",
                "anova(m)\n"
            ],
            "outputs": [],
            "metadata": {}
        },
        {
            "cell_type": "markdown",
            "source": [
                "Graphische Darstellung: der Mittelwertunterschied ist gering (nur 0,05 Silben), aber aufgrund der großen Stichproben statistisch signifikant. Der Faktor \"title\" erklärt nur einen verschwinded kleinen Bruchteil der Mittelwertunterschiede.\n",
                "\n"
            ],
            "metadata": {}
        },
        {
            "cell_type": "code",
            "execution_count": null,
            "source": [
                "library(effects)\n",
                "allEffects(m)\n",
                "plot(allEffects(m))\n"
            ],
            "outputs": [],
            "metadata": {}
        },
        {
            "cell_type": "markdown",
            "source": [
                "Ergebnisse in Tabellenform:\n",
                "\n"
            ],
            "metadata": {}
        },
        {
            "cell_type": "code",
            "execution_count": null,
            "source": [
                "summary(lm(syllables ~ title, data = novels_words)) %>% tidy()\n",
                "\n"
            ],
            "outputs": [],
            "metadata": {}
        },
        {
            "cell_type": "markdown",
            "source": [
                "Boxplot mit Jitterplot anhand des vollen Datensatzes: der Mittelwert ist hier der Median *median()* (d.h. ein Wert, der genau in der Mitte jeder Stichprobe liegt), das arithmetische Mittel / der Durchschnitt wird hier mit einem roten Quadrat symbolisiert. Der Median liegt in beiden Stichproben beim Wert 1, also weit unter dem jeweiligen Durchschnittswert. Dies zeigt, dass die Wortlängen nicht normalverteilt sind. Der Jitterplot veranschaulicht, dass der \"Prozess\" über mehr Wortformen mit 6, 7 oder 8 Silben verfügt.\n",
                "\n"
            ],
            "metadata": {}
        },
        {
            "cell_type": "code",
            "execution_count": null,
            "source": [
                "novels_words %>% \n",
                "  group_by(title) %>% \n",
                "  ggplot(aes(title, syllables, fill = title, group = title)) +\n",
                "  geom_jitter(width = 0.4, alpha = 0.5, color = \"gray70\") +\n",
                "  geom_boxplot(notch = FALSE, width = 0.8) +\n",
                "  stat_summary(fun.y=\"mean\", color = \"red\", shape = 15)+\n",
                "  expand_limits(y = -1) +\n",
                "  scale_y_continuous(breaks = seq(-1, 8, 1)) +\n",
                "  theme(legend.position = \"none\") +\n",
                "  labs(y = \"Mittlere Wortlänge (in Silben)\", x = \"Roman\")\n"
            ],
            "outputs": [],
            "metadata": {}
        },
        {
            "cell_type": "markdown",
            "source": [
                "Boxplot anhand der zusammengefassten Daten (Durchschnitt, Standardabweichung):\n",
                "\n"
            ],
            "metadata": {}
        },
        {
            "cell_type": "code",
            "execution_count": null,
            "source": [
                "df = novels_words %>% \n",
                "  group_by(title) %>% \n",
                "  summarise(Avg_Silben = mean(syllables, na.rm = TRUE),\n",
                "            Stdev_Silben = sd(syllables, na.rm = TRUE),\n",
                "            Avg_Buchstaben = mean(letters, na.rm = TRUE),\n",
                "            Stdev_Buchstaben = sd(letters, na.rm = TRUE))\n",
                "\n",
                "df %>% ggplot(aes(title, Avg_Silben, fill = title, group = title)) +\n",
                "  geom_pointrange(aes(ymin = Avg_Silben - Stdev_Silben, ymax = Avg_Silben + Stdev_Silben),\n",
                "               stat=\"identity\") +\n",
                "  theme(legend.position = \"none\") +\n",
                "  labs(y = \"Mittlere Wortlänge (in Silben)\")\n",
                "\n",
                "df %>% ggplot(aes(title, fill = title, group = title)) +\n",
                "  geom_boxplot(aes(lower = Avg_Silben - Stdev_Silben, upper = Avg_Silben + Stdev_Silben,\n",
                "                   middle = Avg_Silben,\n",
                "                   ymin = Avg_Silben - 3*Stdev_Silben, ymax = Avg_Silben + 3*Stdev_Silben),\n",
                "               stat=\"identity\") +\n",
                "  theme(legend.position = \"none\") +\n",
                "  labs(y = \"Mittlere Wortlänge (in Silben)\")\n"
            ],
            "outputs": [],
            "metadata": {}
        },
        {
            "cell_type": "markdown",
            "source": [
                "# 10. Quanteda-Funktionen\n",
                "\n",
                "Eine alternative Berechnung der Anzahl der Buchstaben pro Wort mit *quanteda* (ohne t-Test). \n",
                "\n",
                "Die Durchschnittswerte, die uns quanteda liefert, sind etwas höher als die tidyverse-Werte. Aber auch hier ist der Mittelwert für den \"Prozess\" höher als für \"Tom Sawyer\".\n"
            ],
            "metadata": {}
        },
        {
            "cell_type": "code",
            "execution_count": null,
            "source": [
                "library(quanteda)\n",
                "library(quanteda.textstats)\n",
                "corp <- corpus(novels_txt)\n",
                "stats <- textstat_summary(corp)\n",
                "stats\n",
                "\n",
                "stats %>% \n",
                "  group_by(document) %>% \n",
                "  transmute(buchstaben = (chars-puncts)/tokens)\n"
            ],
            "outputs": [],
            "metadata": {}
        },
        {
            "cell_type": "markdown",
            "source": [
                "Die Durchschnittswerte unterscheiden sich in den Berechnungen (tidyverse vs. quanteda), was mit der verschiedenen Art der Tokenisierung und der Aussonderung von nicht relevanten Tokens und leeren Datenzeilen (NA) zu tun hat. \n",
                "\n",
                "\n",
                "# 11. Datensatz-Variante\n"
            ],
            "metadata": {}
        },
        {
            "cell_type": "code",
            "execution_count": null,
            "source": [
                "novels_words_char <- novels %>%\n",
                "  unnest_tokens(word, text, token = \"words\", to_lower = TRUE, drop = T) %>% \n",
                "  mutate(Silben = nsyllable::nsyllable(as.character(word), language = \"en\")) %>% \n",
                "  unnest_tokens(character, word, token = \"characters\", to_lower = TRUE, drop = F) %>% \n",
                "  mutate(buchstabe = ifelse(str_detect(character, vokale), \"Vokal\", \"Konsonant\"))\n",
                "  \n",
                "head(novels_words_char)\n"
            ],
            "outputs": [],
            "metadata": {}
        },
        {
            "cell_type": "markdown",
            "source": [
                "\n"
            ],
            "metadata": {}
        }
    ],
    "metadata": {
        "anaconda-cloud": "",
        "kernelspec": {
            "display_name": "R",
            "langauge": "R",
            "name": "ir",
            "language": "R"
        },
        "language_info": {
            "codemirror_mode": "r",
            "file_extension": ".r",
            "mimetype": "text/x-r-source",
            "name": "R",
            "pygments_lexer": "r",
            "version": "3.4.1"
        }
    },
    "nbformat": 4,
    "nbformat_minor": 1
}