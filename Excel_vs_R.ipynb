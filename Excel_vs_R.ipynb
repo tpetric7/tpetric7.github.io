{
    "cells": [
        {
            "cell_type": "markdown",
            "metadata": {},
            "source": "\n"
        },
        {
            "cell_type": "code",
            "execution_count": null,
            "metadata": {},
            "outputs": [],
            "source": [
                "knitr::opts_chunk$set(echo = TRUE)\n",
                "\n"
            ]
        },
        {
            "cell_type": "markdown",
            "metadata": {},
            "source": [
                "# 0. Programi\n",
                "\n"
            ]
        },
        {
            "cell_type": "code",
            "execution_count": null,
            "metadata": {},
            "outputs": [],
            "source": [
                "library(tidyverse)\n",
                "library(scales)\n",
                "library(tidymodels)\n",
                "library(tidytext)\n",
                "library(readxl)\n"
            ]
        },
        {
            "cell_type": "markdown",
            "metadata": {},
            "source": [
                "# 1. Podatki\n",
                "\n",
                "Podatki in posamezne naloge za delo z Excelom so iz seminarja dr. Simone Sternad Zabukovšek in mag. Zdenka Deželaka (Univerza v Mariboru, 21.5.2021).\n",
                "\n",
                "Primerjamo z Excelom.\n",
                "\n",
                "R: \n",
                "Oba delovna lista iz datoteke \"Narocila.xlsx\") shranjujemo kot samostojni tabeli z imenoma \"orders\" in \"zaposleni\".\n"
            ]
        },
        {
            "cell_type": "code",
            "execution_count": null,
            "metadata": {},
            "outputs": [],
            "source": [
                "orders = read_xlsx(\"data/Narocilo.xlsx\", sheet = \"Orders\")\n",
                "zaposleni = read_xlsx(\"data/Narocilo.xlsx\", sheet = \"Zaposleni\")\n"
            ]
        },
        {
            "cell_type": "markdown",
            "metadata": {},
            "source": [
                "Poglejmo prve podatke:\n",
                "\n"
            ]
        },
        {
            "cell_type": "code",
            "execution_count": null,
            "metadata": {},
            "outputs": [],
            "source": [
                "head(orders)\n",
                "head(zaposleni)\n"
            ]
        },
        {
            "cell_type": "markdown",
            "metadata": {},
            "source": [
                "# 2. Število podatkov v nizu\n",
                "\n",
                "R:\n",
                "Načinov je več.\n"
            ]
        },
        {
            "cell_type": "code",
            "execution_count": null,
            "metadata": {},
            "outputs": [],
            "source": [
                "nrow(orders) # vrstice\n",
                "ncol(orders) # stolpci\n",
                "dim(orders) # vrstice x stolpci (dimenzije)\n"
            ]
        },
        {
            "cell_type": "markdown",
            "metadata": {},
            "source": [
                "# 3. Lookup (Excel)\n",
                "\n",
                "Excel (lookup): \n",
                "Na delovnem listu Zaposleni dodajte: \n",
                "- V celico P1 napišite besedilo »Vpišite številko ID«, v celici P2 vpišite besedilo »Telefonska številka«, v celico P3 pa »Datum zaposlitve«.\n",
                "- Nastavite, da se bo na podlagi vpisane ID številke v celici Q1, v celico Q2 izpisala telefonska številka (namig: Lookup).\n",
                "- Nastavite, da se bo na podlagi vpisane ID številke v celici Q1, v celico Q3 izpisal datum zaposlitve (namig: Lookup).\n",
                "\n",
                "R:\n"
            ]
        },
        {
            "cell_type": "code",
            "execution_count": null,
            "metadata": {},
            "outputs": [],
            "source": [
                "zaposleni %>% \n",
                "  select(EmployeeID, HomePhone, HireDate) %>% \n",
                "  filter(EmployeeID == 1)\n"
            ]
        },
        {
            "cell_type": "markdown",
            "metadata": {},
            "source": [
                "# 4. Vlookup, &, Concat\n",
                "\n",
                "Excel:\n",
                "Na delovnem listu Orders dodajte:\n",
                "o Stolpec Priimek, v katerem naj bo izpisan Priimek zaposlenega glede na ID zaposlenega (namig: Vlookup).\n",
                "o Stolpec Ime, katerem naj bo izpisan Ime zaposlenega glede na ID zaposlenega \n",
                "o Stolpec Ime in priimek (združite predhodna dva). Preverite različne možnosti:\n",
                "• Bliskovita zapolnitev. \n",
                "• Formula (=Stolpec1&\" \"&Stolpec2). \n",
                "• Funkcija (CONCAT). \n",
                "\n",
                "R: \n",
                "Podatkovna niza \"orders\" in \"zaposleni\" imata skupen stolpec \"EmployeeID\".\n",
                "Ta bo osnova za združevanje obeh podatkovnih nizov.\n",
                "Nadaljnje iskanje ali filtriranje bo tako enostavno.\n"
            ]
        },
        {
            "cell_type": "code",
            "execution_count": null,
            "metadata": {},
            "outputs": [],
            "source": [
                "(zdruzena = orders %>% \n",
                "  left_join(zaposleni, by = \"EmployeeID\", keep = FALSE)\n",
                ")\n"
            ]
        },
        {
            "cell_type": "markdown",
            "metadata": {},
            "source": [
                "Novo obliko tabele (gl. spodaj) bi lahko shranil pod novim imenom (npr. \"zdruzena_nova\").\n",
                "Prvotna tabela \"zdruzena\" ostane, kot jo vidite zgoraj.\n"
            ]
        },
        {
            "cell_type": "code",
            "execution_count": null,
            "metadata": {},
            "outputs": [],
            "source": [
                "zdruzena %>% \n",
                "  unite(EmployeeName, LastName:FirstName, sep = \" \")\n",
                "\n",
                "(zdruzena_nova = zdruzena %>% \n",
                "  unite(EmployeeName, c(FirstName, LastName), sep = \" \")\n",
                ")\n"
            ]
        },
        {
            "cell_type": "markdown",
            "metadata": {},
            "source": [
                "# 5. Transpose\n",
                "\n",
                "Excel:\n",
                "Na nov delovni list kopirajte območje A1:M10 iz delovnega lista Zaposleni tako, da zamenjate vrstice s stolpci. \n",
                "o Izbrišite prvo vrstico.\n",
                "o Preimenujte delovni list v Vir.\n",
                "\n",
                "R:\n",
                "Transponiranje tabele ni potrebno, ker smo prej že ustvarili združen podatkovni niz. \n",
                "Funkcija \"t()\" (tj. transpose) sicer deluje podobno kot v Excelu.\n"
            ]
        },
        {
            "cell_type": "code",
            "execution_count": null,
            "metadata": {},
            "outputs": [],
            "source": [
                "vir = as.data.frame(t(zaposleni))\n",
                "\n",
                "(vir = vir[-1,] %>% # izbrišemo prvo vrstico\n",
                "  rownames_to_column(var = \"Lastnosti\") # nov stolpec\n",
                ")\n"
            ]
        },
        {
            "cell_type": "markdown",
            "metadata": {},
            "source": [
                "# 6. Dvojniki, razdružitev\n",
                "\n",
                "Excel:\n",
                "Z delovnega lista Orders kopirajte na nov delovni list stolpec Ime in Priimek (kot vrednosti).\n",
                "o Preimenujte delovni list v Kontakt.\n",
                "o Odstranite dvojnike iz celotnega stolpca. \n",
                "o Razdružite ime in priimek v ločena stolpca.\n",
                "o V naslednji stolpec v prvo celico napišite Rojstni datum in v stolpcu s pomočjo funkcije vstavite rojstne datume zaposlenih s tabele delovnega lista Vir (namig: Hlookup). Nastavite kratko obliko datuma.\n",
                "o V naslednji stolpec v prvo celico napišite Telefon in v stolpcu s pomočjo funkcije vstavite še telefonske\n",
                "številke zaposlenih.\n",
                "\n",
                "R:\n"
            ]
        },
        {
            "cell_type": "code",
            "execution_count": null,
            "metadata": {},
            "outputs": [],
            "source": [
                "(kontakt = zdruzena_nova %>% \n",
                "  distinct(EmployeeName, .keep_all = T) %>% \n",
                "  separate(EmployeeName, into = c(\"Ime\", \"Priimek\")) %>% \n",
                "  select(Ime, Priimek, Title, BirthDate, HomePhone)\n",
                ")\n"
            ]
        },
        {
            "cell_type": "markdown",
            "metadata": {},
            "source": [
                "# 7. Xlookup\n",
                "\n",
                "Excel:\n",
                "Postavite se na delovni list Zaposleni.\n",
                "o V celico S1 napišite besedilo »Vpišite ime«, v celici S2 vpišite besedilo »Telefonska številka«, v celico S3 pa »Naslov«.\n",
                "o Nastavite, da se bo na podlagi vpisanega imena v celici T1, v celico T2 izpisala telefonska številka (namig: Xlookup).\n",
                "o Nastavite, da se bo na podlagi vpisanega imena v celici T1, v celico T3 izpisal celotni naslov – Adress, City, Region, PostalCode, Country) (namig: Xlookup). \n",
                "\n",
                "R:\n"
            ]
        },
        {
            "cell_type": "code",
            "execution_count": null,
            "metadata": {},
            "outputs": [],
            "source": [
                "zdruzena_nova %>% \n",
                "  filter(EmployeeName == \"Steven Buchanan\") %>% \n",
                "  select(EmployeeName, HomePhone, Address:Country) %>% \n",
                "  distinct() %>% \n",
                "  unite(Naslov, Address:Country, sep = \", \") %>% \n",
                "  rename(Telefon = HomePhone,\n",
                "         Zaposleni = EmployeeName)\n"
            ]
        },
        {
            "cell_type": "markdown",
            "metadata": {},
            "source": [
                "# 8. Index, Match\n",
                "\n",
                "Excel:\n",
                "Postavite se na delovni list Zaposleni v celico P6 in izpišite, kaj se vam nahaja v vrstici 5 in stolpcu 8 (namig: index). \n",
                "• V celico P7 izpišite številko vrstice, v kateri se nahaja priimek Fuller (namig: match). \n",
                "• Postavite se na delovni list Orders, v naslednji stolpec v prvo celico napišite Št. vrstice, ter na podlagi priimka poiščite v kateri vrstici se priimek nahaja v stolpcu Priimek v tabeli Zaposleni (namig: match). \n",
                "• Postavite se na delovni list Orders, v naslednji stolpec v prvo celico napišite Title, ter na podlagi stolpca Št. vrstice poiščite naziv zaposlenega iz tabele Zaposleni (stolpec Title; namig: index). \n",
                "• Postavite se na delovni list Orders, v naslednji stolpec v prvo celico napišite Title, ter na podlagi priimka s pomočjo funkcij Index in Match vstavite naziv zaposlenega s tabele delovnega lista Zaposleni.\n",
                "• V naslednji stolpec v prvo celico napišite Naslavljanje, ter na podlagi priimka s pomočjo funkcij Index in Match vstavite obliko naslavljanja zaposlenega s tabele delovnega lista Zaposleni. \n"
            ]
        },
        {
            "cell_type": "code",
            "execution_count": null,
            "metadata": {},
            "outputs": [],
            "source": [
                "zaposleni[5,8] # vrstica 5, stolpec 8\n",
                "\n",
                "zaposleni %>% \n",
                "  # add_rownames() %>% # opcionalen korak\n",
                "  filter(str_detect(LastName, \"Fuller\")) %>% \n",
                "  select(EmployeeID)\n",
                "\n",
                "zdruzena_nova %>% \n",
                "  filter(str_detect(EmployeeName, \"Fuller\"))\n",
                "\n",
                "kontakt %>% \n",
                "  filter(str_detect(Priimek, \"Fuller\"))\n"
            ]
        },
        {
            "cell_type": "markdown",
            "metadata": {},
            "source": [
                "# 9. Filtriranje\n",
                "\n",
                "Excel:\n",
                "Funkcionalnost Napredno filtriranje.\n",
                "• Dodajte nov list z imenom Napredno filtriranje.\n",
                "• V celico A1 napišite besedilo ID zaposlenega in v celico B1 zapiši številko ID zaposlenega (poljubna številka od 1 - 9).\n",
                "• V celico A2 napišite besedilo Število naročil in v celico B2 izpišite število naročil za ID zaposlenega iz celice B1 (namig: Countif). \n",
                "• Na delovnem listu Orders s filtriranjem preverite naročila zaposlenega, ki ste jih prešteli (osnovno filtriranje). \n",
                "• Izpisati želimo seznam naročil na podlagi ID zaposlenega (namig: napredno filtriranje). Seznam naj se izpiše v celico A10 na delovnem listu Napredno filtriranje.\n",
                "• Namesto naprednega filtriranja uporabite funkcionalnost tabele in razčlenjevalnike. \n",
                "\n",
                "R:\n"
            ]
        },
        {
            "cell_type": "code",
            "execution_count": null,
            "metadata": {},
            "outputs": [],
            "source": [
                "(seznam = zdruzena_nova %>% \n",
                "  count(EmployeeID, OrderID) %>% \n",
                "  filter(EmployeeID == 9)\n",
                ")\n",
                "\n",
                "(napredno_filtriranje = seznam %>% \n",
                "  summarise(Narocila = sum(n))\n",
                ")\n"
            ]
        },
        {
            "cell_type": "markdown",
            "metadata": {},
            "source": [
                "\n",
                "\n"
            ]
        },
        {
            "cell_type": "code",
            "execution_count": null,
            "metadata": {},
            "outputs": [],
            "source": [
                "zdruzena_nova %>%\n",
                "  count(EmployeeName) %>%\n",
                "  mutate(Procent = n / sum(n)) %>% \n",
                "  ungroup() %>% \n",
                "  mutate(EmployeeName = fct_reorder(EmployeeName, Procent)) %>% \n",
                "  ggplot(aes(Procent, EmployeeName, fill = EmployeeName)) +\n",
                "  geom_col(color = \"black\") +\n",
                "  scale_x_continuous(labels = percent_format()) +\n",
                "  theme(legend.position = \"none\") +\n",
                "  labs(x=\"\", y=\"\", title = \"Percentage of orders by employee\")\n"
            ]
        },
        {
            "cell_type": "markdown",
            "metadata": {},
            "source": "\n"
        }
    ],
    "metadata": {
        "anaconda-cloud": "",
        "kernelspec": {
            "display_name": "R",
            "langauge": "R",
            "name": "ir"
        },
        "language_info": {
            "codemirror_mode": "r",
            "file_extension": ".r",
            "mimetype": "text/x-r-source",
            "name": "R",
            "pygments_lexer": "r",
            "version": "3.4.1"
        }
    },
    "nbformat": 4,
    "nbformat_minor": 1
}
