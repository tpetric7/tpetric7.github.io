{
    "cells": [
        {
            "cell_type": "markdown",
            "metadata": {},
            "source": "\n"
        },
        {
            "cell_type": "code",
            "execution_count": null,
            "metadata": {},
            "outputs": [],
            "source": [
                "knitr::opts_chunk$set(echo = TRUE)\n",
                "\n"
            ]
        },
        {
            "cell_type": "markdown",
            "metadata": {},
            "source": [
                "# Programm aufrufen\n",
                "\n"
            ]
        },
        {
            "cell_type": "code",
            "execution_count": null,
            "metadata": {},
            "outputs": [],
            "source": [
                "# Install required packages\n",
                "# nur wenn noch nicht installiert\n",
                "# install.packages(\"tidyverse\")\n",
                " \n",
                "# Import required library\n",
                "library(tidyverse)\n"
            ]
        },
        {
            "cell_type": "markdown",
            "metadata": {},
            "source": [
                "# Datei laden\n",
                "\n"
            ]
        },
        {
            "cell_type": "code",
            "execution_count": null,
            "metadata": {},
            "outputs": [],
            "source": [
                "plural_subj1 = read.csv2(\"data/plural_Subj_sum.csv\")\n",
                "head(plural_subj1)\n"
            ]
        },
        {
            "cell_type": "markdown",
            "metadata": {},
            "source": [
                "# Ergebnisse summieren\n",
                "\n"
            ]
        },
        {
            "cell_type": "code",
            "execution_count": null,
            "metadata": {},
            "outputs": [],
            "source": [
                "(p <- plural_subj1 %>% \n",
                "  group_by(WordType) %>% \n",
                "  summarise(En = sum(En), E = sum (E))\n",
                ")\n"
            ]
        },
        {
            "cell_type": "markdown",
            "metadata": {},
            "source": [
                "# Chi-Quadrat-Test\n",
                "Falls p < 0,05: es gilt H1 (Stichproben unterscheiden sich).\n",
                "Falls p > 0,05: es gilt H0 (kein Unterschied zwischen Stichproben).\n"
            ]
        },
        {
            "cell_type": "code",
            "execution_count": null,
            "metadata": {},
            "outputs": [],
            "source": [
                "(chi <- chisq.test(p[,-1])\n",
                ")\n"
            ]
        },
        {
            "cell_type": "markdown",
            "metadata": {},
            "source": [
                "## Beobachtete / erwartete Werte\n",
                "\n"
            ]
        },
        {
            "cell_type": "code",
            "execution_count": null,
            "metadata": {},
            "outputs": [],
            "source": [
                "(tabelle <- as_tibble(cbind(chi$observed, chi$expected)) %>%\n",
                "   mutate(Wordtyp = unlist(p[,1])) %>% # Spalte wieder hinzufügen\n",
                "   mutate(Wordtyp = str_replace(Wordtyp, \"NoRhyme\", \"Nicht-Reimwort\"), # auf deutsch\n",
                "          Wordtyp = str_replace(Wordtyp, \"Rhyme\", \"Reimwort\")) %>% # auf deutsch\n",
                "   rename(En_erwartet = V3, E_erwartet = V4) %>%  # erwartete Werte, wenn H0 richtig ist\n",
                "   select(Wordtyp, En, E, En_erwartet, E_erwartet)) # Reihenfolge der Variablen verändern\n"
            ]
        },
        {
            "cell_type": "markdown",
            "metadata": {},
            "source": "\n"
        }
    ],
    "metadata": {
        "anaconda-cloud": "",
        "kernelspec": {
            "display_name": "R",
            "langauge": "R",
            "name": "ir"
        },
        "language_info": {
            "codemirror_mode": "r",
            "file_extension": ".r",
            "mimetype": "text/x-r-source",
            "name": "R",
            "pygments_lexer": "r",
            "version": "3.4.1"
        }
    },
    "nbformat": 4,
    "nbformat_minor": 1
}
