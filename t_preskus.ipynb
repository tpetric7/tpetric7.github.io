{
    "cells": [
        {
            "cell_type": "markdown",
            "metadata": {},
            "source": "\n"
        },
        {
            "cell_type": "code",
            "execution_count": null,
            "metadata": {},
            "outputs": [],
            "source": [
                "knitr::opts_chunk$set(echo = TRUE)\n",
                "\n"
            ]
        },
        {
            "cell_type": "markdown",
            "metadata": {},
            "source": [
                "Converted from R script to Rmd: [Ctrl + Shift + K] or [knitr::spin(\"t_preskus.R\")]\n",
                "\n",
                "\n",
                "# Data\n"
            ]
        },
        {
            "cell_type": "code",
            "execution_count": null,
            "metadata": {},
            "outputs": [],
            "source": [
                "# Two teaching methods and the scores in a language test.\n",
                "metode <- read.csv(\"data/ttest2a.csv\", dec=\",\")\n",
                "attach(metode)\n",
                "\n",
                "head(metode)\n"
            ]
        },
        {
            "cell_type": "markdown",
            "metadata": {},
            "source": "\n"
        },
        {
            "cell_type": "code",
            "execution_count": null,
            "metadata": {},
            "outputs": [],
            "source": [
                "##   Testpersonen Resultat Methode\n",
                "## 1            1       23       A\n",
                "## 2            2       34       A\n",
                "## 3            3       54       A\n",
                "## 4            4       33       A\n",
                "## 5            5       26       A\n",
                "## 6            6       27       A\n"
            ]
        },
        {
            "cell_type": "markdown",
            "metadata": {},
            "source": [
                "# Descriptive statistics\n",
                "\n",
                "Average scores of students\n"
            ]
        },
        {
            "cell_type": "code",
            "execution_count": null,
            "metadata": {},
            "outputs": [],
            "source": [
                "tapply(Resultat, list(Methode), mean)\n",
                "\n"
            ]
        },
        {
            "cell_type": "markdown",
            "metadata": {},
            "source": "\n"
        },
        {
            "cell_type": "code",
            "execution_count": null,
            "metadata": {},
            "outputs": [],
            "source": [
                "##     A     B \n",
                "## 32.65 31.55\n"
            ]
        },
        {
            "cell_type": "markdown",
            "metadata": {},
            "source": [
                "Standard deviations of averages\n",
                "\n"
            ]
        },
        {
            "cell_type": "code",
            "execution_count": null,
            "metadata": {},
            "outputs": [],
            "source": [
                "tapply(Resultat, list(Methode), sd)\n",
                "\n"
            ]
        },
        {
            "cell_type": "markdown",
            "metadata": {},
            "source": "\n"
        },
        {
            "cell_type": "code",
            "execution_count": null,
            "metadata": {},
            "outputs": [],
            "source": [
                "##        A        B \n",
                "## 9.906271 7.897201\n"
            ]
        },
        {
            "cell_type": "markdown",
            "metadata": {},
            "source": "\n"
        },
        {
            "cell_type": "code",
            "execution_count": null,
            "metadata": {},
            "outputs": [],
            "source": [
                "barplot(tapply(Resultat, list(Methode), mean), col=c(3:2))\n",
                "\n"
            ]
        },
        {
            "cell_type": "markdown",
            "metadata": {},
            "source": [
                "![plot of chunk unnamed-chunk-1](figure/unnamed-chunk-1-1.png)\n",
                "\n",
                "# Statistical test\n",
                "\n",
                "t test\n"
            ]
        },
        {
            "cell_type": "code",
            "execution_count": null,
            "metadata": {},
            "outputs": [],
            "source": [
                "# Do the means of the two samples differ significantly?\n",
                "# Hypothesis H0: they don't (if p > 0.05.\n",
                "# Hypothesis H1: they do (if p < 0.05.\n",
                "t.test(Resultat ~ Methode, data=metode, paired = F, var.equal = T)\n"
            ]
        },
        {
            "cell_type": "markdown",
            "metadata": {},
            "source": "\n"
        },
        {
            "cell_type": "code",
            "execution_count": null,
            "metadata": {},
            "outputs": [],
            "source": [
                "## \n",
                "## \tTwo Sample t-test\n",
                "## \n",
                "## data:  Resultat by Methode\n",
                "## t = 0.3883, df = 38, p-value = 0.7\n",
                "## alternative hypothesis: true difference in means is not equal to 0\n",
                "## 95 percent confidence interval:\n",
                "##  -4.634791  6.834791\n",
                "## sample estimates:\n",
                "## mean in group A mean in group B \n",
                "##           32.65           31.55\n"
            ]
        },
        {
            "cell_type": "markdown",
            "metadata": {},
            "source": [
                "Since we deal with only one predictor (\"Methode\"), the result of the linear regression will be the same as the result of the t test above.\n",
                "\n"
            ]
        },
        {
            "cell_type": "code",
            "execution_count": null,
            "metadata": {},
            "outputs": [],
            "source": [
                "# Check the same hypotheses with the linear regression method\n",
                "# Since there is only one predictor (\"Methode\"), we obtain the same result as with the t-test.\n",
                "# Since p > 0.05, the score means of the two methods do not differ significantly.\n",
                "m <- lm(Resultat ~ Methode, data=metode)\n",
                "summary(m)\n"
            ]
        },
        {
            "cell_type": "markdown",
            "metadata": {},
            "source": "\n"
        },
        {
            "cell_type": "code",
            "execution_count": null,
            "metadata": {},
            "outputs": [],
            "source": [
                "## \n",
                "## Call:\n",
                "## lm(formula = Resultat ~ Methode, data = metode)\n",
                "## \n",
                "## Residuals:\n",
                "##    Min     1Q Median     3Q    Max \n",
                "## -16.65  -6.65  -0.55   5.45  21.35 \n",
                "## \n",
                "## Coefficients:\n",
                "##             Estimate Std. Error t value Pr(>|t|)    \n",
                "## (Intercept)   32.650      2.003  16.300   <2e-16 ***\n",
                "## MethodeB      -1.100      2.833  -0.388      0.7    \n",
                "## ---\n",
                "## Signif. codes:  0 '***' 0.001 '**' 0.01 '*' 0.05 '.' 0.1 ' ' 1\n",
                "## \n",
                "## Residual standard error: 8.958 on 38 degrees of freedom\n",
                "## Multiple R-squared:  0.003952,\tAdjusted R-squared:  -0.02226 \n",
                "## F-statistic: 0.1508 on 1 and 38 DF,  p-value: 0.7\n"
            ]
        },
        {
            "cell_type": "markdown",
            "metadata": {},
            "source": "\n"
        },
        {
            "cell_type": "code",
            "execution_count": null,
            "metadata": {},
            "outputs": [],
            "source": [
                "library(effects)\n",
                "\n"
            ]
        },
        {
            "cell_type": "markdown",
            "metadata": {},
            "source": "\n"
        },
        {
            "cell_type": "code",
            "execution_count": null,
            "metadata": {},
            "outputs": [],
            "source": [
                "## Loading required package: carData\n",
                "\n"
            ]
        },
        {
            "cell_type": "markdown",
            "metadata": {},
            "source": "\n"
        },
        {
            "cell_type": "code",
            "execution_count": null,
            "metadata": {},
            "outputs": [],
            "source": [
                "## lattice theme set by effectsTheme()\n",
                "## See ?effectsTheme for details.\n"
            ]
        },
        {
            "cell_type": "markdown",
            "metadata": {},
            "source": [
                "Predicted scores\n",
                "\n"
            ]
        },
        {
            "cell_type": "code",
            "execution_count": null,
            "metadata": {},
            "outputs": [],
            "source": [
                "allEffects(m)\n",
                "\n"
            ]
        },
        {
            "cell_type": "markdown",
            "metadata": {},
            "source": "\n"
        },
        {
            "cell_type": "code",
            "execution_count": null,
            "metadata": {},
            "outputs": [],
            "source": [
                "##  model: Resultat ~ Methode\n",
                "## \n",
                "##  Methode effect\n",
                "## Methode\n",
                "##     A     B \n",
                "## 32.65 31.55\n"
            ]
        },
        {
            "cell_type": "markdown",
            "metadata": {},
            "source": "\n"
        },
        {
            "cell_type": "code",
            "execution_count": null,
            "metadata": {},
            "outputs": [],
            "source": [
                "plot(allEffects(m), multiline=TRUE, grid=TRUE, rug=FALSE, as.table=TRUE)\n",
                "\n"
            ]
        },
        {
            "cell_type": "markdown",
            "metadata": {},
            "source": [
                "![plot of chunk unnamed-chunk-1](figure/unnamed-chunk-1-2.png)\n",
                "\n"
            ]
        }
    ],
    "metadata": {
        "anaconda-cloud": "",
        "kernelspec": {
            "display_name": "R",
            "langauge": "R",
            "name": "ir"
        },
        "language_info": {
            "codemirror_mode": "r",
            "file_extension": ".r",
            "mimetype": "text/x-r-source",
            "name": "R",
            "pygments_lexer": "r",
            "version": "3.4.1"
        }
    },
    "nbformat": 4,
    "nbformat_minor": 1
}
